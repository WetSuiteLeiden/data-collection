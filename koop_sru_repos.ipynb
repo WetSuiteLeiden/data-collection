{
  "cells": [
    {
      "attachments": {},
      "cell_type": "markdown",
      "metadata": {
        "colab_type": "text",
        "id": "view-in-github"
      },
      "source": [
        "<a href=\"https://colab.research.google.com/github/WetSuiteLeiden/data-collection/blob/master/koop_sru_repos.ipynb\" target=\"_parent\"><img src=\"https://colab.research.google.com/assets/colab-badge.svg\" alt=\"Open In Colab\"/></a>"
      ]
    },
    {
      "attachments": {},
      "cell_type": "markdown",
      "metadata": {
        "id": "rCIrIWma5Omg"
      },
      "source": [
        "## This notebook's goal\n",
        "\n",
        "Showing you how to address KOOP's SRU repositories, to access BWB, CVDR, and some others,\n",
        "aiming to get machine-readable data and/or human-readable documents.\n",
        "\n",
        "Whether you will need this depends on your needs.\n",
        "- if finding the items via the respective website (wetten.overheid.nl and e.g. lokaleregelgeving.overheid.nl) then this adds nothing for you\n",
        "- if you need a multitude of results, then this may be much more effective than clicking 'save as' many times\n",
        "- if you want to do your own experiments with the text and/or metadata, you may wish to create partial or even whole copies, and this is one way to do that"
      ]
    },
    {
      "cell_type": "markdown",
      "metadata": {},
      "source": [
        "If you use something like colab you don't even need to install anything on your own computers.\n",
        "\n",
        "That does _not_ take away that this is on the low-level technical side, \n",
        "so you need to be comfortable with python, \n",
        "prepared to work with a new query language,\n",
        "and it can't hurt to think think about bulk requests and perhaps caching.\n",
        "\n",
        "This may be a little overwhelming, and if you were wanting to experiment with metadata/text,\n",
        "**you may well prefer to load datasets we made** (based on us previously doing a lot of fetching)."
      ]
    },
    {
      "cell_type": "code",
      "execution_count": null,
      "metadata": {
        "id": "c5Aiyiq2uHLV"
      },
      "outputs": [],
      "source": [
        "# For local installs you can install the wetsuite package once.  \n",
        "# In colab you get a disposable environment each time,  and will have to start with this install each time. \n",
        "!pip3 --quiet install -U https://github.com/WetSuiteLeiden/data-collection/archive/refs/heads/main.zip"
      ]
    },
    {
      "cell_type": "code",
      "execution_count": 8,
      "metadata": {
        "id": "ZfK62wjZnmxc"
      },
      "outputs": [],
      "source": [
        "# imports we'll be using\n",
        "import pprint, datetime, random\n",
        "\n",
        "import dateutil.parser\n",
        "\n",
        "import wetsuite.datasets\n",
        "import wetsuite.datacollect.koop_repositories\n",
        "import wetsuite.helpers.koop_parse\n",
        "import wetsuite.helpers.date"
      ]
    },
    {
      "attachments": {},
      "cell_type": "markdown",
      "metadata": {
        "id": "E5VTqCvUXvLJ"
      },
      "source": [
        "## On SRU\n",
        "\n",
        "SRU ([Search/Retrieval via URL](https://en.wikipedia.org/wiki/Search/Retrieve_via_URL)) was created as a search API with simpler and standard formats and interchange, so is easier to implement than specialized protocols. You could _almost_ use it without a library.\n",
        "\n",
        "It has just two operations:\n",
        "* `explain` - \"hello server, describe yourself\"\n",
        "* `searchRetrieve` - \"I would like the results for this query please\"\n",
        "\n",
        "Exactly how powerful/flexible any search is depends on the backend you are talking to - it varies how many metadata fields are exposed usefully (explain will tell you that) and which query operations are supported.\n",
        "\n",
        "We provide a basic class to interact with the repositories we are most interested in.\n",
        "We'll introduce its functions by example, and programmers may also care to read e.g. `help( wetsuite.datacollect.koop_repositories.BWB() )`."
      ]
    },
    {
      "attachments": {},
      "cell_type": "markdown",
      "metadata": {
        "id": "wooIWz6yc_a1"
      },
      "source": [
        "# Searching KOOP's repositories via their SRU API\n",
        "\n",
        "KOOP's repositories give access to the data behind wetten.overheid.nl, lokaleregelgeving.overheid.nl, and others."
      ]
    },
    {
      "attachments": {},
      "cell_type": "markdown",
      "metadata": {
        "id": "Z20UHIkjdKro"
      },
      "source": [
        "## Example: Query basics, on the BWB (Basis WettenBestand) \n",
        "\n",
        "KOOP's BWB repository can be seen as the data equivalent of https://wetten.overheid.nl\n",
        "\n",
        "There is some [technical intrduction to searching the BWB with SRU](https://www.overheid.nl/sites/default/files/wetten/Gebruikersdocumentatie%20BWB%20-%20Zoeken%20binnen%20het%20basiswettenbestand%20v1.3.1.pdf).\n",
        "Notably, this route to the BWB does not seem to allow searching the body text ([wetten.overheid.nl](https://wetten.overheid.nl/) does).\n",
        "As such, this may mainly be useful for [known-item searches](https://en.wikipedia.org/wiki/Known-item_search), date ranges, and such."
      ]
    },
    {
      "cell_type": "code",
      "execution_count": 9,
      "metadata": {
        "id": "upamRjU9ewwu"
      },
      "outputs": [],
      "source": [
        "sru_bwb = wetsuite.datacollect.koop_repositories.BWB()  # object that knows where to fetch from and how"
      ]
    },
    {
      "cell_type": "code",
      "execution_count": 10,
      "metadata": {
        "colab": {
          "base_uri": "https://localhost:8080/"
        },
        "id": "V1-XbI54W2A5",
        "outputId": "518634c4-3253-44ab-838c-904c4879af3a"
      },
      "outputs": [
        {
          "name": "stdout",
          "output_type": "stream",
          "text": [
            "{'database/numRecs': '135488',\n",
            " 'description': 'Gemeenschappelijke zoekdienst van overheid.nl voor BWB Online',\n",
            " 'explain_url': 'http://zoekservice.overheid.nl/sru/Search?&version=1.2&x-connection=BWB&operation=explain',\n",
            " 'extent': 'Dutch national legislation',\n",
            " 'host': 'zoekservice.overheid.nl',\n",
            " 'indices': [('dcterms', 'identifier'),\n",
            "             ('dcterms', 'modified'),\n",
            "             ('dcterms', 'type'),\n",
            "             ('overheid', 'authority'),\n",
            "             ('overheidbwb', 'rechtsgebied'),\n",
            "             ('overheidbwb', 'overheidsdomein'),\n",
            "             ('overheidbwb', 'onderwerpVerdrag'),\n",
            "             ('overheidbwb', 'titel'),\n",
            "             ('overheidbwb', 'afkorting'),\n",
            "             ('overheidbwb', 'wetsfamilie'),\n",
            "             ('overheidbwb', 'geldigheidsdatum'),\n",
            "             ('overheidbwb', 'zichtdatum'),\n",
            "             ('overheidbwb', 'bekendmaking'),\n",
            "             ('overheidbwb', 'dossiernummer')],\n",
            " 'port': '80',\n",
            " 'sets': [('dcterms',\n",
            "           'http://purl.org/dc/terms/',\n",
            "           'Indexes in the namespace \"http://purl.org/dc/terms/\"'),\n",
            "          ('overheid',\n",
            "           'http://standaarden.overheid.nl/owms/terms/',\n",
            "           'Indexes in the namespace '\n",
            "           '\"http://standaarden.overheid.nl/owms/terms/\"'),\n",
            "          ('overheidbwb',\n",
            "           'http://standaarden.overheid.nl/bwb/terms/',\n",
            "           'Indexes in the namespace '\n",
            "           '\"http://standaarden.overheid.nl/bwb/terms/\"')],\n",
            " 'title': 'Overheid.nl search and retrieval service'}\n"
          ]
        }
      ],
      "source": [
        "# Ask for a self-decripion of the API. \n",
        "# This is mainly useful to figure out the names of indices that you can search in (e.g. titel, modified, etc.)\n",
        "pprint.pprint( sru_bwb.explain_parsed() )"
      ]
    },
    {
      "attachments": {},
      "cell_type": "markdown",
      "metadata": {
        "id": "wmRLczjFbBdz"
      },
      "source": [
        "**The query syntax** is Common Query Language.\n",
        "\n",
        "You can get fairly far copying examples, or guessing variations based on them. \n",
        "\n",
        "For the more technically minded:\n",
        "- parts of a query are ***`indexname operator term`***, e.g. \n",
        "  - `overheidbwb.titel = kip` \n",
        "  - `dcterms.modified > 2022-01-01`\n",
        "  - `body any woning` \n",
        "  - use doublequotes when there's a space or one of `<>=/()` in the term, e.g. `dcterms.title = \"wet kip\"`\n",
        "- the operators supported vary per field and per server (some servers get fancy, many do not), so unless you stick to the very basics, then check its `explain`, and/or its documentation\n",
        "  - dates and numbers mostly have: `<` `<=` `>`, `>=` `=` \n",
        "  - text field often have most of:\n",
        "    - `any`:      you can see `body any \"foo bar\"`  as short for   `body any foo  OR  body any bar`\n",
        "    - `all`:      you can see `body all \"foo bar\"`  as short for   `body any foo  AND  body any bar`\n",
        "    - `==`:      exact match\n",
        "    - `exact`:    exact match\n",
        "    - `adj`       exact phrase search - these words should appear adjacent as specified\n",
        "    - `=`:        server choice, e.g. for text might be `==` or `adj` if present\n",
        "- you can combine multiple of those `index operator term` chunks, using AND and OR, and brackets, see e.g. the CVDR example below\n",
        "\n",
        "**Some details vary per server, and per repository in it**, e.g. \n",
        "  - which indexes (mostly named fields) are in searchable, and what they are called \n",
        "    - you can do an `explain` to find out.\n",
        "  - how search results actually point to the actual documents that they describe\n",
        "  - there may be shorthands for index names, e.g. BWB allows 'titel' meaning 'overheidbwb.titel'\n",
        "  - The more detailed question you have, the more you have to figure out repository details. We try to provide helper functions."
      ]
    },
    {
      "cell_type": "code",
      "execution_count": 13,
      "metadata": {
        "id": "XqqNqxMXdJh2"
      },
      "outputs": [],
      "source": [
        "# we will try a few queries, and repeat \"now print a brief summary of a result\", \n",
        "#  so let's define the following to reuse it:\n",
        "def print_bwb_results(records):\n",
        "    ' takes a list of etree object '\n",
        "    for i, record in enumerate( records ): \n",
        "        print('\\n***  Record %d of %d  ***'%(i+1, sru_bwb.num_records()))\n",
        "        # each record is an ElementTree style object - which is clunky whenever you just want to just pick out a few values to show\n",
        "        #   we provide functions that parse that into python data structures, in this case: \n",
        "        meta = wetsuite.helpers.koop_parse.bwb_searchresult_meta(record)\n",
        "        pprint.pprint(meta)"
      ]
    },
    {
      "attachments": {},
      "cell_type": "markdown",
      "metadata": {
        "id": "cfhIj33br9ZL"
      },
      "source": [
        "### Known-item search"
      ]
    },
    {
      "cell_type": "code",
      "execution_count": 14,
      "metadata": {
        "colab": {
          "base_uri": "https://localhost:8080/"
        },
        "id": "bCgOS-5frxqm",
        "outputId": "c91432d3-4700-43f2-e19e-da3953f88fb4"
      },
      "outputs": [
        {
          "name": "stdout",
          "output_type": "stream",
          "text": [
            "\n",
            "***  Record 1 of 4  ***\n",
            "{'authority': 'Binnenlandse Zaken en Koninkrijksrelaties',\n",
            " 'created': '2022-05-01',\n",
            " 'creator': 'Ministerie van Binnenlandse Zaken en Koninkrijksrelaties',\n",
            " 'geldigheidsperiode_einddatum': '2022-07-31',\n",
            " 'geldigheidsperiode_startdatum': '2022-05-01',\n",
            " 'identifier': 'BWBR0045754',\n",
            " 'language': 'nl',\n",
            " 'locatie_manifest': 'https://repository.officiele-overheidspublicaties.nl/bwb/BWBR0045754/manifest.xml',\n",
            " 'locatie_toestand': 'https://repository.officiele-overheidspublicaties.nl/bwb/BWBR0045754/2022-05-01_0/xml/BWBR0045754_2022-05-01_0.xml',\n",
            " 'locatie_wti': 'https://repository.officiele-overheidspublicaties.nl/bwb/BWBR0045754/BWBR0045754.WTI',\n",
            " 'modified': '2023-02-01',\n",
            " 'overheidsdomein': 'Overheid, bestuur en koninkrijk',\n",
            " 'rechtsgebied': 'Bestuursrecht',\n",
            " 'title': 'Wet open overheid',\n",
            " 'toestand': 'http://wetten.overheid.nl/id/BWBR0045754/2022-05-01/0',\n",
            " 'type': 'wet',\n",
            " 'zichtperiode_einddatum': '9999-12-31',\n",
            " 'zichtperiode_startdatum': '2022-05-01'}\n",
            "\n",
            "***  Record 2 of 4  ***\n",
            "{'authority': 'Binnenlandse Zaken en Koninkrijksrelaties',\n",
            " 'created': '2022-08-01',\n",
            " 'creator': 'Ministerie van Binnenlandse Zaken en Koninkrijksrelaties',\n",
            " 'geldigheidsperiode_einddatum': '2023-02-17',\n",
            " 'geldigheidsperiode_startdatum': '2022-08-01',\n",
            " 'identifier': 'BWBR0045754',\n",
            " 'language': 'nl',\n",
            " 'locatie_manifest': 'https://repository.officiele-overheidspublicaties.nl/bwb/BWBR0045754/manifest.xml',\n",
            " 'locatie_toestand': 'https://repository.officiele-overheidspublicaties.nl/bwb/BWBR0045754/2022-08-01_0/xml/BWBR0045754_2022-08-01_0.xml',\n",
            " 'locatie_wti': 'https://repository.officiele-overheidspublicaties.nl/bwb/BWBR0045754/BWBR0045754.WTI',\n",
            " 'modified': '2023-02-22',\n",
            " 'overheidsdomein': 'Overheid, bestuur en koninkrijk',\n",
            " 'rechtsgebied': 'Bestuursrecht',\n",
            " 'title': 'Wet open overheid',\n",
            " 'toestand': 'http://wetten.overheid.nl/id/BWBR0045754/2022-08-01/0',\n",
            " 'type': 'wet',\n",
            " 'zichtperiode_einddatum': '9999-12-31',\n",
            " 'zichtperiode_startdatum': '2022-08-01'}\n",
            "\n",
            "***  Record 3 of 4  ***\n",
            "{'authority': 'Binnenlandse Zaken en Koninkrijksrelaties',\n",
            " 'created': '2023-02-22',\n",
            " 'creator': 'Ministerie van Binnenlandse Zaken en Koninkrijksrelaties',\n",
            " 'geldigheidsperiode_einddatum': '2023-03-31',\n",
            " 'geldigheidsperiode_startdatum': '2023-02-18',\n",
            " 'identifier': 'BWBR0045754',\n",
            " 'language': 'nl',\n",
            " 'locatie_manifest': 'https://repository.officiele-overheidspublicaties.nl/bwb/BWBR0045754/manifest.xml',\n",
            " 'locatie_toestand': 'https://repository.officiele-overheidspublicaties.nl/bwb/BWBR0045754/2023-02-18_0/xml/BWBR0045754_2023-02-18_0.xml',\n",
            " 'locatie_wti': 'https://repository.officiele-overheidspublicaties.nl/bwb/BWBR0045754/BWBR0045754.WTI',\n",
            " 'modified': '2023-04-01',\n",
            " 'overheidsdomein': 'Overheid, bestuur en koninkrijk',\n",
            " 'rechtsgebied': 'Bestuursrecht',\n",
            " 'title': 'Wet open overheid',\n",
            " 'toestand': 'http://wetten.overheid.nl/id/BWBR0045754/2023-02-18/0',\n",
            " 'type': 'wet',\n",
            " 'zichtperiode_einddatum': '9999-12-31',\n",
            " 'zichtperiode_startdatum': '2023-02-18'}\n",
            "\n",
            "***  Record 4 of 4  ***\n",
            "{'authority': 'Binnenlandse Zaken en Koninkrijksrelaties',\n",
            " 'created': '2023-04-01',\n",
            " 'creator': 'Ministerie van Binnenlandse Zaken en Koninkrijksrelaties',\n",
            " 'geldigheidsperiode_einddatum': '9999-12-31',\n",
            " 'geldigheidsperiode_startdatum': '2023-04-01',\n",
            " 'identifier': 'BWBR0045754',\n",
            " 'language': 'nl',\n",
            " 'locatie_manifest': 'https://repository.officiele-overheidspublicaties.nl/bwb/BWBR0045754/manifest.xml',\n",
            " 'locatie_toestand': 'https://repository.officiele-overheidspublicaties.nl/bwb/BWBR0045754/2023-04-01_0/xml/BWBR0045754_2023-04-01_0.xml',\n",
            " 'locatie_wti': 'https://repository.officiele-overheidspublicaties.nl/bwb/BWBR0045754/BWBR0045754.WTI',\n",
            " 'modified': '2023-04-01',\n",
            " 'overheidsdomein': 'Overheid, bestuur en koninkrijk',\n",
            " 'rechtsgebied': 'Bestuursrecht',\n",
            " 'title': 'Wet open overheid',\n",
            " 'toestand': 'http://wetten.overheid.nl/id/BWBR0045754/2023-04-01/0',\n",
            " 'type': 'wet',\n",
            " 'zichtperiode_einddatum': '9999-12-31',\n",
            " 'zichtperiode_startdatum': '2023-04-01'}\n"
          ]
        }
      ],
      "source": [
        "#Other examples\n",
        "\n",
        "# Grondwet\n",
        "#sru_bwb.search_retrieve_many('dcterms.identifier==BWBR0001840', callback=bwb_callback)  \n",
        "\n",
        "# Reglement verkeersregels en verkeerstekens, e.g. if you wanted to see how images work\n",
        "#sru_bwb.search_retrieve_many('dcterms.identifier==BWBR0004825', callback=bwb_callback)  \n",
        "\n",
        "\n",
        "print_bwb_results( sru_bwb.search_retrieve_many( 'dcterms.identifier = BWBR0045754', up_to=5 ) ) \n",
        "# up_to=5:  if we happen to have a lot of results, don't fetch and print all\n"
      ]
    },
    {
      "attachments": {},
      "cell_type": "markdown",
      "metadata": {
        "id": "tDEAYMfRFCQJ"
      },
      "source": [
        "It turns out each version over time gets its own search result.\n",
        "\n",
        "Also meaning that, to get a current version, you might want to filter by things\n",
        "such as that `geldigheidsperiode_einddatum` (we do something similar in the CVDR example below) -- or perhaps do it yourself based on the metadata of the often just handful of results."
      ]
    },
    {
      "attachments": {},
      "cell_type": "markdown",
      "metadata": {
        "id": "Ww48kOJjsJHX"
      },
      "source": [
        "### Title search"
      ]
    },
    {
      "cell_type": "code",
      "execution_count": 15,
      "metadata": {
        "colab": {
          "base_uri": "https://localhost:8080/"
        },
        "id": "Q0g4_Xhar7DN",
        "outputId": "eb1504ea-498f-4c33-f0ac-aa3eb1c34e70"
      },
      "outputs": [
        {
          "name": "stdout",
          "output_type": "stream",
          "text": [
            "\n",
            "***  Record 1 of 6  ***\n",
            "{'authority': 'Volksgezondheid, Welzijn en Sport',\n",
            " 'created': '2015-07-02',\n",
            " 'creator': 'Ministerie van Binnenlandse Zaken en Koninkrijksrelaties',\n",
            " 'geldigheidsperiode_einddatum': '2022-04-13',\n",
            " 'geldigheidsperiode_startdatum': '2001-04-13',\n",
            " 'identifier': 'BWBR0012348',\n",
            " 'language': 'nl',\n",
            " 'locatie_manifest': 'https://repository.officiele-overheidspublicaties.nl/bwb/BWBR0012348/manifest.xml',\n",
            " 'locatie_toestand': 'https://repository.officiele-overheidspublicaties.nl/bwb/BWBR0012348/2001-04-13_0/xml/BWBR0012348_2001-04-13_0.xml',\n",
            " 'locatie_wti': 'https://repository.officiele-overheidspublicaties.nl/bwb/BWBR0012348/BWBR0012348.WTI',\n",
            " 'modified': '2022-04-15',\n",
            " 'overheidsdomein': 'Economie en ondernemen',\n",
            " 'rechtsgebied': 'Ondernemingspraktijk',\n",
            " 'title': 'Warenwetbesluit formaldehyde in textiel',\n",
            " 'toestand': 'http://wetten.overheid.nl/id/BWBR0012348/2001-04-13/0',\n",
            " 'type': 'AMvB',\n",
            " 'zichtperiode_einddatum': '9999-12-31',\n",
            " 'zichtperiode_startdatum': '2001-04-13'}\n",
            "\n",
            "***  Record 2 of 6  ***\n",
            "{'authority': 'Infrastructuur en Waterstaat',\n",
            " 'created': '2023-07-01',\n",
            " 'creator': 'Ministerie van Binnenlandse Zaken en Koninkrijksrelaties',\n",
            " 'geldigheidsperiode_einddatum': '9999-12-31',\n",
            " 'geldigheidsperiode_startdatum': '2023-07-01',\n",
            " 'identifier': 'BWBR0048093',\n",
            " 'language': 'nl',\n",
            " 'locatie_manifest': 'https://repository.officiele-overheidspublicaties.nl/bwb/BWBR0048093/manifest.xml',\n",
            " 'locatie_toestand': 'https://repository.officiele-overheidspublicaties.nl/bwb/BWBR0048093/2023-07-01_0/xml/BWBR0048093_2023-07-01_0.xml',\n",
            " 'locatie_wti': 'https://repository.officiele-overheidspublicaties.nl/bwb/BWBR0048093/BWBR0048093.WTI',\n",
            " 'modified': '2023-07-01',\n",
            " 'overheidsdomein': 'Milieu, ruimte en water',\n",
            " 'rechtsgebied': 'Milieurecht',\n",
            " 'title': 'Besluit uitgebreide producentenverantwoordelijkheid textiel',\n",
            " 'toestand': 'http://wetten.overheid.nl/id/BWBR0048093/2023-07-01/0',\n",
            " 'type': 'AMvB',\n",
            " 'zichtperiode_einddatum': '9999-12-31',\n",
            " 'zichtperiode_startdatum': '2023-07-01'}\n",
            "\n",
            "***  Record 3 of 6  ***\n",
            "{'authority': 'Infrastructuur en Waterstaat',\n",
            " 'created': '2023-07-01',\n",
            " 'creator': 'Ministerie van Binnenlandse Zaken en Koninkrijksrelaties',\n",
            " 'geldigheidsperiode_einddatum': '9999-12-31',\n",
            " 'geldigheidsperiode_startdatum': '2023-07-01',\n",
            " 'identifier': 'BWBR0048299',\n",
            " 'language': 'nl',\n",
            " 'locatie_manifest': 'https://repository.officiele-overheidspublicaties.nl/bwb/BWBR0048299/manifest.xml',\n",
            " 'locatie_toestand': 'https://repository.officiele-overheidspublicaties.nl/bwb/BWBR0048299/2023-07-01_0/xml/BWBR0048299_2023-07-01_0.xml',\n",
            " 'locatie_wti': 'https://repository.officiele-overheidspublicaties.nl/bwb/BWBR0048299/BWBR0048299.WTI',\n",
            " 'modified': '2023-07-01',\n",
            " 'overheidsdomein': 'Milieu, ruimte en water',\n",
            " 'rechtsgebied': 'Milieurecht',\n",
            " 'title': 'Regeling uitgebreide producentenverantwoordelijkheid textiel',\n",
            " 'toestand': 'http://wetten.overheid.nl/id/BWBR0048299/2023-07-01/0',\n",
            " 'type': 'ministeriele-regeling',\n",
            " 'zichtperiode_einddatum': '9999-12-31',\n",
            " 'zichtperiode_startdatum': '2023-07-01'}\n",
            "\n",
            "***  Record 4 of 6  ***\n",
            "{'authority': 'Volksgezondheid, Welzijn en Sport',\n",
            " 'created': '2021-10-15',\n",
            " 'creator': 'Ministerie van Binnenlandse Zaken en Koninkrijksrelaties',\n",
            " 'geldigheidsperiode_einddatum': '2023-11-30',\n",
            " 'geldigheidsperiode_startdatum': '2021-10-15',\n",
            " 'identifier': 'BWBR0045628',\n",
            " 'language': 'nl',\n",
            " 'locatie_manifest': 'https://repository.officiele-overheidspublicaties.nl/bwb/BWBR0045628/manifest.xml',\n",
            " 'locatie_toestand': 'https://repository.officiele-overheidspublicaties.nl/bwb/BWBR0045628/2021-10-15_0/xml/BWBR0045628_2021-10-15_0.xml',\n",
            " 'locatie_wti': 'https://repository.officiele-overheidspublicaties.nl/bwb/BWBR0045628/BWBR0045628.WTI',\n",
            " 'modified': '2023-12-08',\n",
            " 'overheidsdomein': 'Overheid, bestuur en koninkrijk',\n",
            " 'rechtsgebied': 'Bestuursrecht',\n",
            " 'title': 'Specifiek interventiebeleid NVWA Textiel (IB02-SPEC 60, versie 01)',\n",
            " 'toestand': 'http://wetten.overheid.nl/id/BWBR0045628/2021-10-15/0',\n",
            " 'type': 'beleidsregel',\n",
            " 'zichtperiode_einddatum': '9999-12-31',\n",
            " 'zichtperiode_startdatum': '2021-10-15'}\n",
            "\n",
            "***  Record 5 of 6  ***\n",
            "{'authority': 'Volksgezondheid, Welzijn en Sport',\n",
            " 'created': '2023-12-08',\n",
            " 'creator': 'Ministerie van Binnenlandse Zaken en Koninkrijksrelaties',\n",
            " 'geldigheidsperiode_einddatum': '2024-01-12',\n",
            " 'geldigheidsperiode_startdatum': '2023-12-01',\n",
            " 'identifier': 'BWBR0045628',\n",
            " 'language': 'nl',\n",
            " 'locatie_manifest': 'https://repository.officiele-overheidspublicaties.nl/bwb/BWBR0045628/manifest.xml',\n",
            " 'locatie_toestand': 'https://repository.officiele-overheidspublicaties.nl/bwb/BWBR0045628/2023-12-01_0/xml/BWBR0045628_2023-12-01_0.xml',\n",
            " 'locatie_wti': 'https://repository.officiele-overheidspublicaties.nl/bwb/BWBR0045628/BWBR0045628.WTI',\n",
            " 'modified': '2024-01-18',\n",
            " 'overheidsdomein': 'Overheid, bestuur en koninkrijk',\n",
            " 'rechtsgebied': 'Bestuursrecht',\n",
            " 'title': 'Specifiek interventiebeleid NVWA Textiel (IB02-SPEC 60, versie 01)',\n",
            " 'toestand': 'http://wetten.overheid.nl/id/BWBR0045628/2023-12-01/0',\n",
            " 'type': 'beleidsregel',\n",
            " 'zichtperiode_einddatum': '9999-12-31',\n",
            " 'zichtperiode_startdatum': '2023-12-01'}\n"
          ]
        }
      ],
      "source": [
        "print_bwb_results( sru_bwb.search_retrieve_many( 'overheidbwb.titel any textiel', up_to=5 ) )"
      ]
    },
    {
      "attachments": {},
      "cell_type": "markdown",
      "metadata": {
        "id": "wmLy-EY_sW8k"
      },
      "source": [
        "### Changes this year"
      ]
    },
    {
      "cell_type": "code",
      "execution_count": 18,
      "metadata": {
        "colab": {
          "base_uri": "https://localhost:8080/"
        },
        "id": "OjkyKv0nsXI8",
        "outputId": "9d406bd9-83c3-4b09-d632-bf6d3cbbdd98"
      },
      "outputs": [
        {
          "name": "stdout",
          "output_type": "stream",
          "text": [
            "dcterms.modified >= 2024-01-01\n",
            "\n",
            "***  Record 1 of 11534  ***\n",
            "{'authority': 'Veiligheid en Justitie',\n",
            " 'created': '2015-07-01',\n",
            " 'creator': 'Ministerie van Binnenlandse Zaken en Koninkrijksrelaties',\n",
            " 'geldigheidsperiode_einddatum': '2002-06-30',\n",
            " 'geldigheidsperiode_startdatum': '2002-01-01',\n",
            " 'identifier': 'BWBR0001827',\n",
            " 'language': 'nl',\n",
            " 'locatie_manifest': 'https://repository.officiele-overheidspublicaties.nl/bwb/BWBR0001827/manifest.xml',\n",
            " 'locatie_toestand': 'https://repository.officiele-overheidspublicaties.nl/bwb/BWBR0001827/2002-01-01_0/xml/BWBR0001827_2002-01-01_0.xml',\n",
            " 'locatie_wti': 'https://repository.officiele-overheidspublicaties.nl/bwb/BWBR0001827/BWBR0001827.WTI',\n",
            " 'modified': '2024-04-27',\n",
            " 'overheidsdomein': 'Rechtspraak',\n",
            " 'rechtsgebied': 'Burgerlijk procesrecht',\n",
            " 'title': 'Wetboek van Burgerlijke Rechtsvordering (geldt in geval van '\n",
            "          'digitaal procederen)',\n",
            " 'toestand': 'http://wetten.overheid.nl/id/BWBR0001827/2002-01-01/0',\n",
            " 'type': 'wet',\n",
            " 'zichtperiode_einddatum': '9999-12-31',\n",
            " 'zichtperiode_startdatum': '2002-01-01'}\n",
            "\n",
            "***  Record 2 of 11534  ***\n",
            "{'authority': 'Veiligheid en Justitie',\n",
            " 'created': '2015-07-01',\n",
            " 'creator': 'Ministerie van Binnenlandse Zaken en Koninkrijksrelaties',\n",
            " 'geldigheidsperiode_einddatum': '2002-08-31',\n",
            " 'geldigheidsperiode_startdatum': '2002-07-01',\n",
            " 'identifier': 'BWBR0001827',\n",
            " 'language': 'nl',\n",
            " 'locatie_manifest': 'https://repository.officiele-overheidspublicaties.nl/bwb/BWBR0001827/manifest.xml',\n",
            " 'locatie_toestand': 'https://repository.officiele-overheidspublicaties.nl/bwb/BWBR0001827/2002-07-01_0/xml/BWBR0001827_2002-07-01_0.xml',\n",
            " 'locatie_wti': 'https://repository.officiele-overheidspublicaties.nl/bwb/BWBR0001827/BWBR0001827.WTI',\n",
            " 'modified': '2024-04-27',\n",
            " 'overheidsdomein': 'Rechtspraak',\n",
            " 'rechtsgebied': 'Burgerlijk procesrecht',\n",
            " 'title': 'Wetboek van Burgerlijke Rechtsvordering (geldt in geval van '\n",
            "          'digitaal procederen)',\n",
            " 'toestand': 'http://wetten.overheid.nl/id/BWBR0001827/2002-07-01/0',\n",
            " 'type': 'wet',\n",
            " 'zichtperiode_einddatum': '2004-03-25',\n",
            " 'zichtperiode_startdatum': '2002-07-01'}\n",
            "\n",
            "***  Record 3 of 11534  ***\n",
            "{'authority': 'Veiligheid en Justitie',\n",
            " 'created': '2015-07-01',\n",
            " 'creator': 'Ministerie van Binnenlandse Zaken en Koninkrijksrelaties',\n",
            " 'geldigheidsperiode_einddatum': '2002-08-31',\n",
            " 'geldigheidsperiode_startdatum': '2002-07-01',\n",
            " 'identifier': 'BWBR0001827',\n",
            " 'language': 'nl',\n",
            " 'locatie_manifest': 'https://repository.officiele-overheidspublicaties.nl/bwb/BWBR0001827/manifest.xml',\n",
            " 'locatie_toestand': 'https://repository.officiele-overheidspublicaties.nl/bwb/BWBR0001827/2002-07-01_1/xml/BWBR0001827_2002-07-01_1.xml',\n",
            " 'locatie_wti': 'https://repository.officiele-overheidspublicaties.nl/bwb/BWBR0001827/BWBR0001827.WTI',\n",
            " 'modified': '2024-04-27',\n",
            " 'overheidsdomein': 'Rechtspraak',\n",
            " 'rechtsgebied': 'Burgerlijk procesrecht',\n",
            " 'title': 'Wetboek van Burgerlijke Rechtsvordering (geldt in geval van '\n",
            "          'digitaal procederen)',\n",
            " 'toestand': 'http://wetten.overheid.nl/id/BWBR0001827/2002-07-01/1',\n",
            " 'type': 'wet',\n",
            " 'zichtperiode_einddatum': '9999-12-31',\n",
            " 'zichtperiode_startdatum': '2004-03-26'}\n",
            "\n",
            "***  Record 4 of 11534  ***\n",
            "{'authority': 'Veiligheid en Justitie',\n",
            " 'created': '2015-07-01',\n",
            " 'creator': 'Ministerie van Binnenlandse Zaken en Koninkrijksrelaties',\n",
            " 'geldigheidsperiode_einddatum': '2002-12-31',\n",
            " 'geldigheidsperiode_startdatum': '2002-09-01',\n",
            " 'identifier': 'BWBR0001827',\n",
            " 'language': 'nl',\n",
            " 'locatie_manifest': 'https://repository.officiele-overheidspublicaties.nl/bwb/BWBR0001827/manifest.xml',\n",
            " 'locatie_toestand': 'https://repository.officiele-overheidspublicaties.nl/bwb/BWBR0001827/2002-09-01_0/xml/BWBR0001827_2002-09-01_0.xml',\n",
            " 'locatie_wti': 'https://repository.officiele-overheidspublicaties.nl/bwb/BWBR0001827/BWBR0001827.WTI',\n",
            " 'modified': '2024-04-27',\n",
            " 'overheidsdomein': 'Rechtspraak',\n",
            " 'rechtsgebied': 'Burgerlijk procesrecht',\n",
            " 'title': 'Wetboek van Burgerlijke Rechtsvordering (geldt in geval van '\n",
            "          'digitaal procederen)',\n",
            " 'toestand': 'http://wetten.overheid.nl/id/BWBR0001827/2002-09-01/0',\n",
            " 'type': 'wet',\n",
            " 'zichtperiode_einddatum': '2004-03-25',\n",
            " 'zichtperiode_startdatum': '2002-09-01'}\n",
            "\n",
            "***  Record 5 of 11534  ***\n",
            "{'authority': 'Veiligheid en Justitie',\n",
            " 'created': '2015-07-01',\n",
            " 'creator': 'Ministerie van Binnenlandse Zaken en Koninkrijksrelaties',\n",
            " 'geldigheidsperiode_einddatum': '2002-12-31',\n",
            " 'geldigheidsperiode_startdatum': '2002-09-01',\n",
            " 'identifier': 'BWBR0001827',\n",
            " 'language': 'nl',\n",
            " 'locatie_manifest': 'https://repository.officiele-overheidspublicaties.nl/bwb/BWBR0001827/manifest.xml',\n",
            " 'locatie_toestand': 'https://repository.officiele-overheidspublicaties.nl/bwb/BWBR0001827/2002-09-01_1/xml/BWBR0001827_2002-09-01_1.xml',\n",
            " 'locatie_wti': 'https://repository.officiele-overheidspublicaties.nl/bwb/BWBR0001827/BWBR0001827.WTI',\n",
            " 'modified': '2024-04-27',\n",
            " 'overheidsdomein': 'Rechtspraak',\n",
            " 'rechtsgebied': 'Burgerlijk procesrecht',\n",
            " 'title': 'Wetboek van Burgerlijke Rechtsvordering (geldt in geval van '\n",
            "          'digitaal procederen)',\n",
            " 'toestand': 'http://wetten.overheid.nl/id/BWBR0001827/2002-09-01/1',\n",
            " 'type': 'wet',\n",
            " 'zichtperiode_einddatum': '9999-12-31',\n",
            " 'zichtperiode_startdatum': '2004-03-26'}\n"
          ]
        }
      ],
      "source": [
        "first_of_this_year = wetsuite.helpers.date.date_first_day_in_year( datetime.date.today().year )\n",
        "\n",
        "query = 'dcterms.modified >= %s'%wetsuite.helpers.date.yyyy_mm_dd( first_of_this_year )\n",
        "print(query)\n",
        "print_bwb_results( sru_bwb.search_retrieve_many( query, up_to=5 ) )"
      ]
    },
    {
      "attachments": {},
      "cell_type": "markdown",
      "metadata": {
        "id": "qJtqcQk1e225"
      },
      "source": [
        "## CVDR\n",
        "The CVDR repository can be seen as the data equivalent of https://lokaleregelgeving.overheid.nl\n",
        "\n",
        "Checking what we can search:"
      ]
    },
    {
      "cell_type": "code",
      "execution_count": 19,
      "metadata": {
        "colab": {
          "base_uri": "https://localhost:8080/"
        },
        "id": "jw4kEEu1e3MM",
        "outputId": "79b231c4-87ba-46d8-cd99-4574724f7fdf"
      },
      "outputs": [
        {
          "name": "stdout",
          "output_type": "stream",
          "text": [
            "{'database/numRecs': '292130',\n",
            " 'description': 'Gemeenschappelijke zoekdienst van overheid.nl voor Centrale '\n",
            "                'Voorziening Decentrale Regelgeving',\n",
            " 'explain_url': 'http://zoekservice.overheid.nl/sru/Search?&version=1.2&x-connection=cvdr&operation=explain',\n",
            " 'extent': 'Lokale regelingen of the Dutch government',\n",
            " 'host': 'zoekservice.overheid.nl',\n",
            " 'indices': [('dcterms', 'identifier'),\n",
            "             ('dcterms', 'title'),\n",
            "             ('dcterms', 'language'),\n",
            "             ('dcterms', 'creator'),\n",
            "             ('dcterms', 'modified'),\n",
            "             ('dcterms', 'isFormatOf'),\n",
            "             ('dcterms', 'alternative'),\n",
            "             ('dcterms', 'source'),\n",
            "             ('dcterms', 'isRatifiedBy'),\n",
            "             ('dcterms', 'subject'),\n",
            "             ('dcterms', 'issued'),\n",
            "             (None, 'workid'),\n",
            "             (None, 'bronformaat'),\n",
            "             (None, 'organisatieType'),\n",
            "             (None, 'sorteerTitel'),\n",
            "             (None, 'gemeente'),\n",
            "             (None, 'provincie'),\n",
            "             (None, 'waterschap'),\n",
            "             (None, 'regionaalsamenwerkingsorgaan'),\n",
            "             (None, 'koninkrijksdeel'),\n",
            "             (None, 'nederlandseantillen'),\n",
            "             (None, 'deelgemeente'),\n",
            "             (None, 'caribischopenbaarlichaam'),\n",
            "             (None, 'anderopenbaarlichaam'),\n",
            "             (None, 'eilandgebied'),\n",
            "             (None, 'relevance'),\n",
            "             ('overheidrg', 'body'),\n",
            "             ('overheidrg', 'wti'),\n",
            "             ('overheidrg', 'keyword'),\n",
            "             ('overheidrg', 'alternatieveIdentifier'),\n",
            "             ('overheidrg', 'opvolgerVan'),\n",
            "             ('overheidrg', 'inwerkingtredingDatum'),\n",
            "             ('overheidrg', 'terugwerkendekrachtDatum'),\n",
            "             ('overheidrg', 'uitwerkingtredingDatum'),\n",
            "             ('overheidrg', 'betreft'),\n",
            "             ('overheidrg', 'kenmerk'),\n",
            "             ('overheidrg', 'onderwerp'),\n",
            "             ('overheidrg', 'redactioneleToevoeging'),\n",
            "             ('overheidrg', 'gedelegeerdeRegelgeving'),\n",
            "             ('overheidrg', 'datumGeldendOp'),\n",
            "             ('overheidrg', 'creatorTijdelijkeregeling'),\n",
            "             ('overheidrg', 'indeling'),\n",
            "             ('overheidrg', 'omgevingswet'),\n",
            "             ('overheidrg', 'postcodeCijfers'),\n",
            "             ('overheidrg', 'indexeerdatum')],\n",
            " 'port': '80',\n",
            " 'sets': [('dcterms',\n",
            "           'http://purl.org/dc/terms/',\n",
            "           'Indexes in the namespace \"http://purl.org/dc/terms/\"'),\n",
            "          ('overheidrg',\n",
            "           'http://standaarden.overheid.nl/cvdr/terms/',\n",
            "           'Indexes in the namespace '\n",
            "           '\"http://standaarden.overheid.nl/cvdr/terms/\"')],\n",
            " 'title': 'Overheid.nl search and retrieval service'}\n"
          ]
        }
      ],
      "source": [
        "sru_cvdr = wetsuite.datacollect.koop_repositories.CVDR()\n",
        "\n",
        "pprint.pprint( sru_cvdr.explain_parsed() ) # seeing which indexes are here. \n",
        "# This one has a more complex information model, so you can dig a little deeper to see what you can do with it."
      ]
    },
    {
      "attachments": {},
      "cell_type": "markdown",
      "metadata": {
        "id": "6XwCG0kqe3mt"
      },
      "source": [
        "### Damocles\n",
        "\n",
        "There is a continuation in the wetsuite-notebooks repository that builds on this to try to find implementations of the [Damocleswet](https://nl.wikipedia.org/wiki/Wet_Damocles)."
      ]
    },
    {
      "attachments": {},
      "cell_type": "markdown",
      "metadata": {
        "id": "ByJtV7w9e8JJ"
      },
      "source": [
        "## Other related code"
      ]
    },
    {
      "cell_type": "code",
      "execution_count": 20,
      "metadata": {
        "colab": {
          "base_uri": "https://localhost:8080/"
        },
        "id": "XpkzF3DWe9Pn",
        "outputId": "429c5ab7-ae87-4517-99ba-2cdc887b7643"
      },
      "outputs": [
        {
          "data": {
            "text/plain": [
              "['CVDR165982_1', 'CVDR165982_2']"
            ]
          },
          "execution_count": 20,
          "metadata": {},
          "output_type": "execute_result"
        }
      ],
      "source": [
        "# there are a bunch of helper functions to help you deal with search results (e.g. parsing metadata and identifiers) \n",
        "# ...and to some degree the documents.  One or two are used above.    \n",
        "# TODO: document, explain, demonstrate more\n",
        "\n",
        "# there are also some more specific tools, like:\n",
        "\n",
        "# \"given a CVDR work id (or specific expression ID implying the work), find all knovn expression IDs for that work ID\"\n",
        "wetsuite.helpers.koop_parse.cvdr_versions_for_work( 'CVDR165982' ) \n",
        "#   will also accept expression IDs, e.g. CVDR165982_1, which it treats as its work ID.\n",
        "#   Note that this does a search, so will not be fast to do for a large list of them."
      ]
    },
    {
      "attachments": {},
      "cell_type": "markdown",
      "metadata": {
        "id": "iwEgTt93fRU5"
      },
      "source": [
        "# Officiele publicaties\n",
        "\n",
        "There is some more technical detail in https://www.koopoverheid.nl/binaries/koop/documenten/instructies/2021/02/09/handleiding-voor-het-uitvragen-van-de-collectie-officiele-publicaties/Handleiding+SRU2.0+v1.2+28052021.pdf also touches on details"
      ]
    },
    {
      "attachments": {},
      "cell_type": "markdown",
      "metadata": {},
      "source": [
        "## PLOOI\n",
        "\n",
        "https://kia.pleio.nl/file/download/e7fad70c-b2f6-4fd3-ac85-e3b8d0cd9ead/plooi-technische-handreiking.pdf\n",
        "\n",
        "https://kia.pleio.nl/file/download/a56145c5-89be-4445-8e10-ecbc5458c895/plooi-handreiking-voor-informatie.pdf"
      ]
    },
    {
      "cell_type": "code",
      "execution_count": null,
      "metadata": {},
      "outputs": [],
      "source": [
        "sru_plooi = wetsuite.datacollect.koop_repositories.PLOOI( verbose=False )\n",
        "pprint.pprint( sru_plooi.explain_parsed() ) # seeing which indexes are here. "
      ]
    },
    {
      "cell_type": "code",
      "execution_count": null,
      "metadata": {},
      "outputs": [],
      "source": [
        "def handle_plooi_record(rec):\n",
        "    print( rec )\n",
        "\n",
        "\n",
        "#sru_plooi.search_retrieve_many( 'plooi.informatiecategorie any Wob', up_to=5, callback=handle_plooi_record )\n",
        "\n",
        "sru_plooi.search_retrieve_many( 'dcterms.type = \"beslissing op verzoek art. 3 Wob\"', up_to=5, callback=handle_plooi_record )\n",
        "\n",
        "\n",
        "# It seems that individual results are documents that can be part of a larger request, e.g. \n",
        "#  https://open.overheid.nl/Details/ronl-0347ff50b0d03b10060fe4bf242431d97d85a3ad/1\n",
        "#  https://open.overheid.nl/Details/ronl-5719be0c0a840f7c63413cf1c00d8d5eab3177c1/1\n",
        "# are part of\n",
        "#  https://open.overheid.nl/Details/ronl-6d82bce1a0afdcbc0d5640b9992bac1631d830c5/1\n",
        "\n",
        "# The inventaris also refers to the things already public.\n",
        "\n"
      ]
    }
  ],
  "metadata": {
    "colab": {
      "include_colab_link": true,
      "provenance": [],
      "toc_visible": true
    },
    "kernelspec": {
      "display_name": "Python 3",
      "name": "python3"
    },
    "language_info": {
      "codemirror_mode": {
        "name": "ipython",
        "version": 3
      },
      "file_extension": ".py",
      "mimetype": "text/x-python",
      "name": "python",
      "nbconvert_exporter": "python",
      "pygments_lexer": "ipython3",
      "version": "3.8.10"
    }
  },
  "nbformat": 4,
  "nbformat_minor": 0
}
