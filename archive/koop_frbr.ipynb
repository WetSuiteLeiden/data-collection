{
  "cells": [
    {
      "attachments": {},
      "cell_type": "markdown",
      "metadata": {
        "colab_type": "text",
        "id": "view-in-github"
      },
      "source": [
        "<a href=\"https://colab.research.google.com/github/knobs-dials/wetsuite-datacollect/blob/main/koop_frbr.ipynb\" target=\"_parent\"><img src=\"https://colab.research.google.com/assets/colab-badge.svg\" alt=\"Open In Colab\"/></a>"
      ]
    },
    {
      "attachments": {},
      "cell_type": "markdown",
      "metadata": {
        "id": "khZ8mI-weajL"
      },
      "source": [
        "### Purpose of this notebook\n",
        "\n",
        "Fetch and use the data provided at https://repository.overheid.nl/frbr/"
      ]
    },
    {
      "cell_type": "markdown",
      "metadata": {},
      "source": [
        "**WARNING: WE WOULD RECOMMEND AGAINST RUNNING THIS YOURSELF, OR MAYBE AT ALL**\n",
        "- know its limitations,\n",
        "- know thiat it is what you want and nothing else,\n",
        "- Know just how many files it is, and that it's more than most people will be interested in dealing with.\n",
        "- Know that your ISP may block you -- mine did. (presumably suspecting I had been infected by a botnet or such)\n",
        "\n",
        "<!-- -->\n",
        "\n",
        "Since you couldn't really fetch much more selectively than 'for just this year',\n",
        "you may really better off doing much selective searches in some systems that point into the same data.\n",
        "As of this writing, [POD](koop_pod.ipynb) seems to work."
      ]
    },
    {
      "cell_type": "markdown",
      "metadata": {},
      "source": [
        "For context, and an altertnative: it seems that much the same contents are provided via KOOP's Bulk Uitlever Systeem (BUS),\n",
        "an anonymous SFTP service at `bestanden.officielebekendmakingen.nl`.\n",
        "\n",
        "It's a metric ton of files and data, and not quite geared to keeping up to date, but still a better option than this.\n",
        "\n",
        "See also [koop_bulkuitleversysteem](koop_bulkuitleversysteem.ipynb) (TODO: finish and upload).\n",
        "(It may be harder to automate, though, as 'anonymous SFTP' seems a creative configuration\n",
        "and not a thing most SSH libraries understand.)\n"
      ]
    },
    {
      "cell_type": "markdown",
      "metadata": {},
      "source": [
        "### Notes on the contents\n",
        "\n",
        "\n",
        "#### File-folder nature\n",
        "\n",
        "This repository looks a lot like a frontend over oldschoold file-and-folder data (particularly when you look at the contents of things like `cga`).\n",
        "\n",
        "Note that in many repositories, the top level has a lot of pages, and levels under it do not.\n",
        "\n",
        "The code below suggests that is always true - it is not (note e.g. that in officielepublikaties, there are more pages at the second level than the first. This also breaks the progress bars).\n",
        "The distinction is useful to make to be able to dive into the details, and avoid .\n",
        "...which makes more sense when we don't cache the pagination\n",
        "\n",
        "\n",
        "##### Areas \n",
        "Distinct areas of documents include:\n",
        "- `lokalebekendmakingen`\n",
        "- `officielepublicaties`\n",
        "\n",
        "- `vd` - Verdragenbank\n",
        "- `sgd` - staten generall digitaal\n",
        "\n",
        "- `datacollecties` - (varied documents?)\n",
        "- `samenwerkendecatalogi`\n",
        "- `tuchtrecht`\n",
        "\n",
        "- `cga` - ?\n",
        "- `cvdr` (empty)\n",
        "\n",
        "Perhaps most interesting are `localebekendmakingen` and `officielepublikaties`\n",
        "\n",
        "\n"
      ]
    },
    {
      "cell_type": "markdown",
      "metadata": {},
      "source": [
        "URLs look something like:\n",
        "    https://repository.overheid.nl/frbr/sgd/1840/0000448441/\n",
        "\n",
        "which are mentioned to be:\n",
        "\n",
        "    https://repository.overheid.nl/frbr/[area]/[subarea]/[work]/\n",
        "\n",
        "....but a lot of parts seem to play relatively loose with what `[work]` means or groups, or even what `[subarea]` is, e.g. \n",
        "* https://repository.overheid.nl/frbr/officielepublicaties/ah-tk/19961997/ah-tk-19961997-100/1/html\n",
        "  * seems to be `officielepublicaties/[subarea]/[year]/[identifier]/1/[filetype]`\n",
        "\n",
        "* https://repository.overheid.nl/frbr/lokalebekendmakingen/0001e23e9094c1a01b15624d2a877073/1/html\n",
        "  * seems to be `lokalebekendmakingen/[identifier]/1/[filetype]/`\n",
        "\n",
        "* `cga/[folder]/1/[filetype]/`\n",
        "\n",
        "\n",
        "\n",
        "#### Other notes\n",
        "\n",
        "There are other systems / searches that point to resources stored here\n",
        "\n",
        "(TODO: mention which )"
      ]
    },
    {
      "cell_type": "markdown",
      "metadata": {},
      "source": [
        "## Fetching the data"
      ]
    },
    {
      "cell_type": "markdown",
      "metadata": {},
      "source": [
        "Such a browse-only interface does not allow search, \n",
        "and even complete fetches are a relatively manual task."
      ]
    },
    {
      "cell_type": "code",
      "execution_count": 2,
      "metadata": {},
      "outputs": [],
      "source": [
        "import time\n",
        "import pprint\n",
        "import collections\n",
        "import random\n",
        "from urllib.parse import urljoin\n",
        "\n",
        "import requests\n",
        "import bs4\n",
        "\n",
        "import wetsuite.helpers.localdata\n",
        "import wetsuite.helpers.net\n",
        "import wetsuite.helpers.koop_parse\n",
        "import wetsuite.helpers.notebook\n",
        "import wetsuite.datacollect.koop_repositories"
      ]
    },
    {
      "cell_type": "markdown",
      "metadata": {},
      "source": [
        "### stores"
      ]
    },
    {
      "cell_type": "code",
      "execution_count": 5,
      "metadata": {},
      "outputs": [],
      "source": [
        "frbr_fetched    = wetsuite.helpers.localdata.LocalKV('frbr_fetched.db',     key_type=str, value_type=bytes )\n",
        "temp_fol        = wetsuite.helpers.localdata.LocalKV('frbr_fetched_fol.db', key_type=str, value_type=bytes )\n",
        "\n",
        "# We can continue a scrape within a session by cache the intermediate pages, to avoid a lot of fetches.\n",
        "# Probably don't store this long-term because it is volatile state (it's already arguably to do this)\n",
        "temp_page_cache = wetsuite.helpers.localdata.LocalKV(':memory:', key_type=str, value_type=bytes )"
      ]
    },
    {
      "cell_type": "code",
      "execution_count": 4,
      "metadata": {},
      "outputs": [
        {
          "data": {
            "text/plain": [
              "{'size_bytes': 288593489920, 'size_readable': '269GiB'}"
            ]
          },
          "metadata": {},
          "output_type": "display_data"
        },
        {
          "name": "stdout",
          "output_type": "stream",
          "text": [
            "{'lokalebekendmakingen': {'bgr': 919,\n",
            "                          'gmb': 308505,\n",
            "                          'metadata.xml': 333773,\n",
            "                          'prb': 8673,\n",
            "                          'stcrt': 238,\n",
            "                          'wsb': 8557},\n",
            " 'officielepublicaties': {'ag': 204,\n",
            "                          'ag-ek': 3896,\n",
            "                          'ag-tk': 4596,\n",
            "                          'ag-vv': 120,\n",
            "                          'ah': 333,\n",
            "                          'ah-ek': 1748,\n",
            "                          'ah-tk': 334152,\n",
            "                          'bgr': 40055,\n",
            "                          'blg': 250370,\n",
            "                          'gmb': 2849061,\n",
            "                          'h': 20,\n",
            "                          'h-ek': 37926,\n",
            "                          'h-tk': 88110,\n",
            "                          'h-vv': 208,\n",
            "                          'kst': 563572,\n",
            "                          'kv': 93974,\n",
            "                          'kv-ek': 460,\n",
            "                          'kv-tk': 153632,\n",
            "                          'nds': 13234,\n",
            "                          'nds-tk': 20254,\n",
            "                          'prb': 399120,\n",
            "                          'stb': 138063,\n",
            "                          'stcrt': 1651553,\n",
            "                          'trb': 64569,\n",
            "                          'wsb': 581283}}\n",
            "7951178 items in total\n"
          ]
        }
      ],
      "source": [
        "## Summarize what we have fetched already\n",
        "# could get amount of items, size per item by handing in True, but\n",
        "display( frbr_fetched.summary() )\n",
        "\n",
        "# summary per area; what we summarize in an area varies, \n",
        "# and is roughly why some conditions are necessary to make this part more useful:\n",
        "types = collections.defaultdict( lambda: collections.defaultdict(int) )\n",
        "count = 0\n",
        "for url in frbr_fetched.keys():\n",
        "    count += 1\n",
        "    urlparts = url.split('/')\n",
        "    area, subarea = urlparts[4:6]\n",
        "    #print(area, subarea, l)\n",
        "    if area in ('officielepublicaties',):\n",
        "        types[area][subarea] +=1\n",
        "    elif area in ('lokalebekendmakingen',): # e.g. fishes 'gmb' out of URL like https://repository.overheid.nl/frbr/lokalebekendmakingen/000005650c5a5a581c37ce17fcfc5207/1/html/gmb-2022-314336.html\n",
        "        types[area][ urlparts[-1].split('-')[0] ] +=1\n",
        "    elif area in ('tuchtrecht','sgd',):\n",
        "        types[area][ subarea ] +=1 # actually year\n",
        "    elif area in ('vd',):\n",
        "        types[area][ urlparts[7] ] +=1 \n",
        "    elif area in ('samenwerkendecatalogi',):\n",
        "        types[area][ urlparts[7] ] +=1 \n",
        "    elif area in ('cga',):\n",
        "        types[area][ urlparts[5] ] +=1 \n",
        "    elif area in ('datacollecties',):\n",
        "        types[area][ subarea ] +=1 \n",
        "    else:\n",
        "        print(area, subarea, urlparts)\n",
        "\n",
        "pprint.pprint( { k:dict(v) for k,v in types.items() } )  # the syntax-fu turns defaultdict nesting to just dicts, for slightly cleaner printing\n",
        "print(f\"{count} items in total\")"
      ]
    },
    {
      "cell_type": "markdown",
      "metadata": {},
      "source": [
        "### helpers"
      ]
    },
    {
      "cell_type": "code",
      "execution_count": 4,
      "metadata": {},
      "outputs": [],
      "source": [
        "def simpler_with_progressbar(seed_page_url, estimated_pages=0, progress_prefix='', verbose=0):\n",
        "    ''' Use FRBRFetcher to recursively fetch a set of folders in one go, with a progress bar '''\n",
        "    fetcher = wetsuite.datacollect.koop_repositories.FRBRFetcher( frbr_fetched, temp_fol, verbose=verbose, waittime_sec=1.0 )\n",
        "    # CONSIDER: using estimated_pages for 'add a bunch of page seeds'\n",
        "    fetcher.add_page( seed_page_url )\n",
        "    pb = wetsuite.helpers.notebook.progress_bar(estimated_pages)\n",
        "    for _ in fetcher.work():\n",
        "        pb.value = fetcher.count_pages\n",
        "        pb.description = '%s fetches:%d / cached:%d  -  items:%d  folders:%d (skipped: %d)  pages:%d '%(\n",
        "            progress_prefix,\n",
        "            fetcher.count_fetches, fetcher.count_cacheds,    fetcher.count_items, fetcher.count_folders,fetcher.count_skipped, fetcher.count_pages )"
      ]
    },
    {
      "cell_type": "markdown",
      "metadata": {},
      "source": [
        "## Fetch cga\n",
        "\n",
        "Not entirely sure what this is intended to store, \n",
        "but it's tiny and so a good test of the fetching code."
      ]
    },
    {
      "cell_type": "code",
      "execution_count": null,
      "metadata": {},
      "outputs": [],
      "source": [
        "simpler_with_progressbar( 'https://repository.overheid.nl/frbr/cga?start=1', 6 )"
      ]
    },
    {
      "cell_type": "markdown",
      "metadata": {},
      "source": [
        "## Fetch lokalebekendmakingen"
      ]
    },
    {
      "cell_type": "markdown",
      "metadata": {},
      "source": [
        "\n",
        "The [localebekendmakingen](https://repository.overheid.nl/frbr/lokalebekendmakingen) section\n",
        "contains mostly `gmb`, `prb`, and `wsb` items (gemeente, provincie, waterschap).\n",
        "\n",
        "These items are probably also linked from elsewhere (e.g. previously KOOP SRU searches - see a different notebook).\n",
        "\n",
        "Browsing them in here presents mostly many pages of identifiers, e.g.\n",
        "\n",
        "    0000900e8da1023017290084212dad28/\n",
        "        1/\n",
        "            html/\n",
        "                gmb-2023-521695.html\n",
        "            metadata/\n",
        "                metadata.xml\n",
        "            (...each folder-like things at this level has one file)\n",
        "        (...you can download a zip with the contents at this level)\n",
        "\n",
        "HOWEVER, be aware this is on the order of 100000 pages, and the amount of fetches will be a few multiples more.\n",
        "Don't run this unless you really know you want to."
      ]
    },
    {
      "cell_type": "code",
      "execution_count": null,
      "metadata": {},
      "outputs": [],
      "source": [
        "fetcher = wetsuite.datacollect.koop_repositories.FRBRFetcher( frbr_fetched, temp_fol, verbose=0 )\n",
        "\n",
        "#fetcher.add_page( 'https://repository.overheid.nl/frbr/lokalebekendmakingen?start=1' )\n",
        "for i in range(2000):\n",
        "    fetcher.add_page( 'https://repository.overheid.nl/frbr/lokalebekendmakingen?start=%d'%random.randint(100,108000) )\n",
        "\n",
        "# the progress bar is one way to get constant feedback, while avoding a load of output in a cell\n",
        "pb = wetsuite.helpers.notebook.progress_bar( 110000 )\n",
        "for _ in fetcher.work():\n",
        "    pb.value = fetcher.count_pages\n",
        "    pb.description = 'fetches:%d / cached:%d  -  items:%d  folders:%d (skipped: %d)  pages:%d '%(\n",
        "        fetcher.count_fetches, fetcher.count_cacheds,    fetcher.count_items, fetcher.count_folders,fetcher.count_skipped, fetcher.count_pages )"
      ]
    },
    {
      "cell_type": "markdown",
      "metadata": {},
      "source": [
        "## Fetch officielepublicaties\n"
      ]
    },
    {
      "cell_type": "markdown",
      "metadata": {},
      "source": [
        "The [officielepublicaties](https://repository.overheid.nl/frbr/officielepublicaties) section is split up into subareas.\n",
        "\n",
        "The subareas are a mix.\n",
        "\n",
        "It may help us read the list to split off the non-parliament ones...\n",
        " - `gmb`   (Gemeenteblad,     approx 300K per year)\n",
        " - `stcrt` (Staatscourant,    approx 70K per year)\n",
        " - `wsb`   (Waterschapsblad,  approx 13K per year)\n",
        " - `prb`   (Provinciaal blad, approx 8000 per year)\n",
        " - `bgr`   (Blad gemeenschappelijke regeling, approx 1000 per year)\n",
        " - `stb`   (Staatsblad,       approx 500 per year)\n",
        " - `trb`   (Tractatenblad,    approx 200 per year)\n",
        " \n",
        "...from the parliament ones:\n",
        " - `ag`    (agenda)\n",
        " - `ag-ek` (...agenda eerste kamer)\n",
        " - `ag-tk` (...agenda tweede kamer)\n",
        " - `ag-vv` (...agenda verenigde vergadering)\n",
        " - `ah`    ('Aanhangsel van de Handelingen')\n",
        " - `ah-ek`\n",
        " - `ah-tk`\n",
        " - `blg`   ('Bijlage')\n",
        " - `h`     ('Handelingen')\n",
        " - `h-ek`\n",
        " - `h-tk`\n",
        " - `h-vv`\n",
        " - `kv`    (Kamervragen (zonder antwoord))\n",
        " - `kv-ek`\n",
        " - `kv-tk`\n",
        " - `kst`   (kamerstuk)\n",
        " - `nds`   (niet-dossierstuk)\n",
        " - `nds-tk`"
      ]
    },
    {
      "cell_type": "markdown",
      "metadata": {},
      "source": [
        "\n",
        "Each of these areas has nesting, that seems ad-hoc though typically looks like:\n",
        "\n",
        "    ah-tk/                       (subarea)\n",
        "        19941995/                (in most but not all subareas of officielepublicaties, this layer is the year; for dossier it seems the vergaderjaar)\n",
        "            ah-tk-19941995-100/  (identifier)\n",
        "                1/\n",
        "                    html/\n",
        "                        ...each\n",
        "                    metadata/\n",
        "                        ...with\n",
        "                    metadataowms/\n",
        "                        ...one\n",
        "                    pdf/\n",
        "                        ...file\n",
        "                    xml/\n",
        "                        ...in it,\n",
        "                    odt/\n",
        "                        ...which ones\n",
        "                    coordinaten/\n",
        "                        ...varies\n",
        "                ...though you can download a zip of all such files at this level\n",
        "\n",
        "\n",
        "Keep in mind that the available formats varies per case, and there are strong patterns per set.\n",
        "For example, it seems that `blg`, aside from metadata and metadataowms, only has pdf? (VERIFY)"
      ]
    },
    {
      "cell_type": "code",
      "execution_count": null,
      "metadata": {},
      "outputs": [],
      "source": [
        "#for subarea in ('ag', 'ag-ek', 'ag-tk', 'ag-vv',):  # agenda\n",
        "#    simpler_with_progressbar( 'https://repository.overheid.nl/frbr/officielepublicaties/%s?start=1'%subarea, verbose=0 )"
      ]
    },
    {
      "cell_type": "code",
      "execution_count": null,
      "metadata": {},
      "outputs": [],
      "source": [
        "#for subarea in ('ah', 'ah-ek', 'ah-tk',):\n",
        "#    simpler_with_progressbar( 'https://repository.overheid.nl/frbr/officielepublicaties/%s?start=1'%subarea )"
      ]
    },
    {
      "cell_type": "code",
      "execution_count": null,
      "metadata": {},
      "outputs": [],
      "source": [
        "#for subarea in ('bgr',):\n",
        "#    simpler_with_progressbar( 'https://repository.overheid.nl/frbr/officielepublicaties/%s?start=1'%subarea )"
      ]
    },
    {
      "cell_type": "code",
      "execution_count": null,
      "metadata": {},
      "outputs": [],
      "source": [
        "for subarea in ('blg',):\n",
        "    simpler_with_progressbar( 'https://repository.overheid.nl/frbr/officielepublicaties/%s?start=1'%subarea )"
      ]
    },
    {
      "cell_type": "code",
      "execution_count": null,
      "metadata": {},
      "outputs": [],
      "source": [
        "for subarea in ('gmb',):  # fairly large. Note you can do per-year by handing in something like gmb/2024\n",
        "    simpler_with_progressbar( 'https://repository.overheid.nl/frbr/officielepublicaties/%s?start=1'%subarea )"
      ]
    },
    {
      "cell_type": "code",
      "execution_count": null,
      "metadata": {},
      "outputs": [],
      "source": [
        "#for subarea in ('trb',):\n",
        "#    simpler_with_progressbar( 'https://repository.overheid.nl/frbr/officielepublicaties/%s?start=1'%subarea )   "
      ]
    },
    {
      "cell_type": "code",
      "execution_count": null,
      "metadata": {},
      "outputs": [],
      "source": [
        "for subarea in ('wsb', 'prb',):\n",
        "    simpler_with_progressbar( 'https://repository.overheid.nl/frbr/officielepublicaties/%s?start=1'%subarea )"
      ]
    },
    {
      "cell_type": "code",
      "execution_count": null,
      "metadata": {},
      "outputs": [],
      "source": [
        "for subarea in ('stb',):\n",
        "    simpler_with_progressbar( 'https://repository.overheid.nl/frbr/officielepublicaties/%s?start=1'%subarea )"
      ]
    },
    {
      "cell_type": "code",
      "execution_count": null,
      "metadata": {},
      "outputs": [],
      "source": [
        "for subarea in ('stcrt',): # fairly large\n",
        "    simpler_with_progressbar( 'https://repository.overheid.nl/frbr/officielepublicaties/%s?start=1'%subarea )"
      ]
    },
    {
      "cell_type": "code",
      "execution_count": null,
      "metadata": {},
      "outputs": [],
      "source": [
        "for subarea in ('kst',):\n",
        "    simpler_with_progressbar( 'https://repository.overheid.nl/frbr/officielepublicaties/%s?start=1'%subarea )"
      ]
    },
    {
      "cell_type": "code",
      "execution_count": null,
      "metadata": {},
      "outputs": [],
      "source": [
        "for subarea in ('kv', 'kv-ek', 'kv-tk',):\n",
        "    simpler_with_progressbar( 'https://repository.overheid.nl/frbr/officielepublicaties/%s?start=1'%subarea )"
      ]
    },
    {
      "cell_type": "code",
      "execution_count": null,
      "metadata": {},
      "outputs": [],
      "source": [
        "for subarea in ('nds', 'nds-tk',):\n",
        "    simpler_with_progressbar( 'https://repository.overheid.nl/frbr/officielepublicaties/%s?start=1'%subarea, verbose=0 )"
      ]
    },
    {
      "cell_type": "markdown",
      "metadata": {},
      "source": [
        "## Fetch sgd"
      ]
    },
    {
      "cell_type": "code",
      "execution_count": null,
      "metadata": {},
      "outputs": [],
      "source": [
        "fetcher = wetsuite.datacollect.koop_repositories.FRBRFetcher( frbr_fetched, temp_fol, verbose=0 )\n",
        "\n",
        "fetcher.add_page( 'https://repository.overheid.nl/frbr/sgd?start=1')\n",
        "\n",
        "pb = wetsuite.helpers.notebook.progress_bar(22)\n",
        "for chunk in fetcher.work():\n",
        "    pb.value = fetcher.count_pages\n",
        "    pb.description = 'fetches:%d / cached:%d  -  items:%d  folders:%d (skipped: %d)  pages:%d '%(\n",
        "        fetcher.count_fetches, fetcher.count_cacheds,    fetcher.count_items, fetcher.count_folders,fetcher.count_skipped, fetcher.count_pages )"
      ]
    },
    {
      "cell_type": "markdown",
      "metadata": {},
      "source": [
        "## Fetch verdragenbank"
      ]
    },
    {
      "cell_type": "code",
      "execution_count": null,
      "metadata": {},
      "outputs": [],
      "source": [
        "fetcher = wetsuite.datacollect.koop_repositories.FRBRFetcher( frbr_fetched, temp_fol, verbose=0 )\n",
        "\n",
        "fetcher.add_page( 'https://repository.overheid.nl/frbr/vd?start=1' )\n",
        "\n",
        "pb = wetsuite.helpers.notebook.progress_bar(858)\n",
        "for chunk in fetcher.work():\n",
        "    pb.value = fetcher.count_pages\n",
        "    pb.description = 'fetches:%d / cached:%d  -  items:%d  folders:%d (skipped: %d)  pages:%d '%(\n",
        "        fetcher.count_fetches, fetcher.count_cacheds,    fetcher.count_items, fetcher.count_folders,fetcher.count_skipped, fetcher.count_pages )"
      ]
    },
    {
      "cell_type": "markdown",
      "metadata": {},
      "source": [
        "## Fetch samenwerkendecatalogi"
      ]
    },
    {
      "cell_type": "code",
      "execution_count": null,
      "metadata": {},
      "outputs": [],
      "source": [
        "fetcher = wetsuite.datacollect.koop_repositories.FRBRFetcher( frbr_fetched, temp_fol, verbose=0 )\n",
        "\n",
        "fetcher.add_page( 'https://repository.overheid.nl/frbr/samenwerkendecatalogi?start=1' )\n",
        "\n",
        "pb = wetsuite.helpers.notebook.progress_bar(54111)\n",
        "for chunk in fetcher.work():\n",
        "    pb.value = fetcher.count_pages\n",
        "    pb.description = 'fetches:%d / cached:%d  -  items:%d  folders:%d (skipped: %d)  pages:%d '%(\n",
        "        fetcher.count_fetches, fetcher.count_cacheds,    fetcher.count_items, fetcher.count_folders,fetcher.count_skipped, fetcher.count_pages )"
      ]
    }
  ],
  "metadata": {
    "colab": {
      "include_colab_link": true,
      "provenance": []
    },
    "kernelspec": {
      "display_name": "Python 3",
      "language": "python",
      "name": "python3"
    },
    "language_info": {
      "codemirror_mode": {
        "name": "ipython",
        "version": 3
      },
      "file_extension": ".py",
      "mimetype": "text/x-python",
      "name": "python",
      "nbconvert_exporter": "python",
      "pygments_lexer": "ipython3",
      "version": "3.8.10"
    },
    "vscode": {
      "interpreter": {
        "hash": "31f2aee4e71d21fbe5cf8b01ff0e069b9275f58929596ceb00d14d90e3e16cd6"
      }
    }
  },
  "nbformat": 4,
  "nbformat_minor": 0
}
