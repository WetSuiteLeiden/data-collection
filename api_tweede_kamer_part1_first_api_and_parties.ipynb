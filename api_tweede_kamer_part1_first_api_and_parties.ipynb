{
 "cells": [
  {
   "cell_type": "markdown",
   "metadata": {},
   "source": [
    "<a href=\"https://colab.research.google.com/github/WetSuiteLeiden/data-collection/blob/master/api_tweede_kamer_part1_first_api_and_parties.ipynb\" target=\"_parent\"><img src=\"https://colab.research.google.com/assets/colab-badge.svg\" alt=\"Open In Colab\"/></a>"
   ]
  },
  {
   "cell_type": "markdown",
   "metadata": {},
   "source": [
    "## Purpose of this notebook\n",
    "\n",
    "Mainly to explore the two APIs at the [tweede kamer open data portal](https://opendata.tweedekamer.nl/),\n",
    "seeing what you might use them for.\n",
    "\n",
    "<!-- -->\n",
    "\n",
    "A note before we get intro technical details:\n",
    "\n",
    "Neither API is is a very _fast_ interface, \n",
    "nor will they be efficient when your goal is sifting through the entire collection in detailed ways it was not initially designed for.\n",
    "As with any API, it's great at the things its designers kept in mind, and not at others.\n",
    "For some purposes, instead of trying to interrogate this API, you might like to download all and figure it out later (or, if we did that already, find the resulting dataset)."
   ]
  },
  {
   "cell_type": "markdown",
   "metadata": {},
   "source": [
    "Those two interfaces are:\n",
    "- an [Atom-style API called SyncFeed](https://opendata.tweedekamer.nl/documentatie/syncfeed-api), and \n",
    "  - a little easier to interact without a whole library.\n",
    "  - speaks XML/Atom in interaction\n",
    "- an [OData API](https://opendata.tweedekamer.nl/documentatie/odata-api).\n",
    "  - takes more up-front consideration, but can be more thorough and flexible - and there _is_ a library for it\n",
    "  - speaks JSON in interaction"
   ]
  },
  {
   "cell_type": "markdown",
   "metadata": {},
   "source": [
    "Both APIs broadly adhere to the same [relational data model](https://opendata.tweedekamer.nl/documentatie/informatiemodel),\n",
    "that you should be thinking of when fishing data out of them.\n",
    "\n",
    "Relational means that one piece of data say it relates to other data by just pointing to it.\n",
    "Part of the below tries to explore how you might use such relations.\n",
    "\n",
    "...because we probably don't want to just fetch everything,\n",
    "we want to show how to figure how to get and use the parts you need for a specific purpose.\n",
    "\n",
    "<!-- -->\n",
    "\n",
    "This notebook and its compantion will end up not being interested in most of its parts,\n",
    "yet we will give at least _some_ introduction to the less trivial bits."
   ]
  },
  {
   "cell_type": "code",
   "execution_count": 1,
   "metadata": {},
   "outputs": [],
   "source": [
    "import os, random, collections\n",
    "import json, pprint\n",
    "\n",
    "import wetsuite.datacollect.tweedekamer_nl  # contains some basic code dealing with the syncfeed API\n",
    "import wetsuite.helpers.localdata\n",
    "import wetsuite.helpers.etree\n",
    "\n",
    "#from wetsuite.helpers  import etree\n",
    "#from wetsuite.helpers  import strings\n",
    "#from wetsuite.helpers  import notebook"
   ]
  },
  {
   "cell_type": "code",
   "execution_count": 2,
   "metadata": {},
   "outputs": [
    {
     "data": {
      "text/plain": [
       "('Activiteit',\n",
       " 'ActiviteitActor',\n",
       " 'Agendapunt',\n",
       " 'Besluit',\n",
       " 'Commissie',\n",
       " 'CommissieContactinformatie',\n",
       " 'CommissieZetel',\n",
       " 'CommissieZetelVastPersoon',\n",
       " 'CommissieZetelVastVacature',\n",
       " 'CommissieZetelVervangerPersoon',\n",
       " 'CommissieZetelVervangerVacature',\n",
       " 'Document',\n",
       " 'DocumentActor',\n",
       " 'DocumentVersie',\n",
       " 'Fractie',\n",
       " 'FractieAanvullendGegeven',\n",
       " 'FractieZetel',\n",
       " 'FractieZetelPersoon',\n",
       " 'FractieZetelVacature',\n",
       " 'Kamerstukdossier',\n",
       " 'Persoon',\n",
       " 'PersoonContactinformatie',\n",
       " 'PersoonGeschenk',\n",
       " 'PersoonLoopbaan',\n",
       " 'PersoonNevenfunctie',\n",
       " 'PersoonNevenfunctieInkomsten',\n",
       " 'PersoonOnderwijs',\n",
       " 'PersoonReis',\n",
       " 'Reservering',\n",
       " 'Stemming',\n",
       " 'Vergadering',\n",
       " 'Verslag',\n",
       " 'Zaak',\n",
       " 'ZaakActor',\n",
       " 'Zaal')"
      ]
     },
     "execution_count": 2,
     "metadata": {},
     "output_type": "execute_result"
    }
   ],
   "source": [
    "# for reference, these are the major entity types in that model\n",
    "wetsuite.datacollect.tweedekamer_nl.resource_types  # This is a list from our library.  We could also fetch these, but they would be the same."
   ]
  },
  {
   "cell_type": "markdown",
   "metadata": {},
   "source": [
    "## Atom/SyncFeed API\n",
    "\n",
    "Let's take a look at the Atom/SyncFeed API first."
   ]
  },
  {
   "cell_type": "markdown",
   "metadata": {},
   "source": [
    "### \"Fetch one resource type\"\n",
    "\n",
    "SyncFeed starts by interacting with an URL like:\n",
    "\n",
    "        https://gegevensmagazijn.tweedekamer.nl/SyncFeed/2.0/Feed?category=Persoon\n",
    "\n",
    "If you manage to load that in a browser, you will see an Atom XML structure mentioning the first bunch/page of them, and links to successive pages.\n",
    "\n",
    "To fetch **all** resources of the mentioned soort/category, and to then perhaps make a single list of it, \n",
    "you need something that follows and fetches those 'next page' style links until there are no more. \n",
    "Code like our `wetsuite.datacollect.tweedekamer_nl.fetch_all` does that.\n",
    "\n",
    "That said, due to the relational nature of of the data (pointing at related objects, and you often wanting to fetch a related constellation of them),\n",
    "it quickly becomes interesting to interrogate the data with **more foresight than \"just give me everything of a single thing\"** - we'll get to that soon."
   ]
  },
  {
   "cell_type": "markdown",
   "metadata": {},
   "source": [
    "Uses vary. \n",
    "- Below, we'll end up extracting who is member of what party, \n",
    "  which is a somewhat manual piecing together of 'Persoon', 'Fractie', 'FractieZetel', and 'FractieZetelPersoon'.\n",
    "\n",
    "- If you wanted a record of what gets done in an everyday way, you might care about 'Vergadering', 'Verslag', 'Stemming',\n",
    "\n",
    "- if you are more interested in documentation, then 'Document', 'Kamerstukdossier'\n",
    "\n",
    "- The 'Zaak' type lies somewhere inbetween\n",
    "\n",
    "- Kamerstukdossiers are interesting for their wocnents, relating/organizing Zaken, Documents, and more. \n",
    "  Their relations are a little more complex than they seem at first, which is why it's not our first example.\n",
    "\n",
    "For a list of types with some explanation of their relations, see [the documentation](https://opendata.tweedekamer.nl/documentatie/)."
   ]
  },
  {
   "cell_type": "markdown",
   "metadata": {},
   "source": [
    "#### Small example: Zaal\n",
    "\n",
    "This doesn't do much by itself. \n",
    "\n",
    "You would probably only do this when you want to know what Activiteiten happened where.\n",
    "\n",
    "This just serves as an example of basic interation, that doesn't have spammy output."
   ]
  },
  {
   "cell_type": "code",
   "execution_count": 3,
   "metadata": {},
   "outputs": [],
   "source": [
    "zaal_etrees = wetsuite.datacollect.tweedekamer_nl.fetch_all( 'Zaal' ) \n",
    "# The helper functions consider that this comes from separate fetches,\n",
    "#   and that in some cases you may not want to fetch all.\n",
    "# (consider that e.g. all Stemming, Zaak, Document total to hundreds of megabytes)\n",
    "\n",
    "# So fetch_all() specifically _does_ return all, as a list of etree objects, one for each page of results. \n",
    "# Chances are we want to see that as one big list...\n",
    "zaal_tree = wetsuite.datacollect.tweedekamer_nl.merge_etrees( zaal_etrees )"
   ]
  },
  {
   "cell_type": "code",
   "execution_count": 4,
   "metadata": {},
   "outputs": [],
   "source": [
    "# ...whether you want write it out into a file...\n",
    "with open('Zaal.xml', 'wb') as zaal_file:\n",
    "    zaal_file.write( wetsuite.helpers.etree.tostring( zaal_tree ) )"
   ]
  },
  {
   "cell_type": "code",
   "execution_count": 5,
   "metadata": {},
   "outputs": [
    {
     "name": "stdout",
     "output_type": "stream",
     "text": [
      "[{'category': 'zaal',\n",
      "  'content': {'bijgewerkt': '2019-08-12T12:56:35.4070000',\n",
      "              'id': '6e7dfdae-583a-4191-8818-a89a538c469f',\n",
      "              'naam': 'Z7 - Statenpassage - Petitie',\n",
      "              'refs': {},\n",
      "              'sysCode': '154',\n",
      "              'tagname': 'zaal',\n",
      "              'verwijderd': 'false'},\n",
      "  'id': 'https://gegevensmagazijn.tweedekamer.nl/SyncFeed/2.0/Entiteiten/6e7dfdae-583a-4191-8818-a89a538c469f',\n",
      "  'title': '6e7dfdae-583a-4191-8818-a89a538c469f',\n",
      "  'updated': '2019-08-15T14:45:52Z'},\n",
      " {'category': 'zaal',\n",
      "  'content': {'bijgewerkt': '2019-08-12T12:56:34.8600000',\n",
      "              'id': 'f207b9d5-434e-4cdc-aa1b-7e5a55bc1791',\n",
      "              'naam': 'Eerste Kamer',\n",
      "              'refs': {},\n",
      "              'sysCode': '101',\n",
      "              'tagname': 'zaal',\n",
      "              'verwijderd': 'false'},\n",
      "  'id': 'https://gegevensmagazijn.tweedekamer.nl/SyncFeed/2.0/Entiteiten/f207b9d5-434e-4cdc-aa1b-7e5a55bc1791',\n",
      "  'title': 'f207b9d5-434e-4cdc-aa1b-7e5a55bc1791',\n",
      "  'updated': '2019-08-15T14:45:52Z'}]\n"
     ]
    }
   ],
   "source": [
    "# ...or consume it in code. For which you probably want to use the following helpers to see that XML as python dicts...\n",
    "entry_dicts = wetsuite.datacollect.tweedekamer_nl.entry_dicts( zaal_tree )\n",
    "\n",
    "pprint.pprint( entry_dicts[:2] ) # show a few\n",
    "\n",
    "# and for reference, the XML that came from:\n",
    "#print( wetsuite.helpers.etree.debug_pretty( zaal_tree ) )"
   ]
  },
  {
   "cell_type": "code",
   "execution_count": 6,
   "metadata": {},
   "outputs": [
    {
     "name": "stdout",
     "output_type": "stream",
     "text": [
      "Z7 - Statenpassage - Petitie                2019-08-15T14:45:52Z\n",
      "Eerste Kamer                                2019-08-15T14:45:52Z\n",
      "Z6 - Plein 2 - Petitie                      2019-08-15T14:45:52Z\n",
      "Regentenkamer                               2019-08-15T14:45:51Z\n",
      "Schrijfkamer                                2019-08-15T14:45:51Z\n",
      "Statenlokaal                                2019-08-15T14:45:51Z\n",
      "Van Mierlozaal                              2019-08-15T14:45:52Z\n",
      "Z5 - Schriftelijke Inbreng                  2019-08-15T14:45:52Z\n",
      "van Someren-Downerzaal                      2019-08-15T14:45:51Z\n",
      "Rooksalon                                   2019-08-15T14:45:51Z\n",
      "Fortuynzaal                                 2019-08-15T14:45:52Z\n",
      "Koffiekamer                                 2019-08-15T14:45:52Z\n",
      "Extern                                      2019-08-15T14:45:53Z\n",
      "Z5 - (Nog) geen zaal beschikbaar            2019-08-15T14:45:53Z\n",
      "Evenementruimte 1                           2019-08-15T14:45:53Z\n",
      "Koffiekamer                                 2019-08-15T14:45:53Z\n",
      "Z4 - (Nog) geen zaal beschikbaar            2019-08-15T14:45:53Z\n",
      "Oude zaal - Rooksalon                       2019-08-15T14:45:53Z\n",
      "Rooksalon - Stadhouderskamer                2019-08-15T14:45:53Z\n",
      "Schrijfkamer - Koffiekamer                  2019-08-15T14:45:53Z\n",
      "Z3 - (Nog) geen zaal beschikbaar            2019-10-01T15:15:40Z\n",
      "Y4 - Petitie Binnenhof 1a                   2019-10-03T11:30:30Z\n",
      "Zandtkamer                                  2019-10-27T20:20:36Z\n",
      "PvdA Fractiekamer                           2019-11-12T10:19:54Z\n",
      "Donkerkamer                                 2020-01-05T20:20:01Z\n",
      "Oudkamer                                    2020-01-06T20:20:14Z\n",
      "Y5 - Petitie Plein 2                        2020-01-28T08:22:15Z\n",
      "Jongelingkamer                              2020-02-24T20:17:51Z\n",
      "Schaepmankamer                              2020-03-01T20:18:30Z\n",
      "Marcus Bakkerkamer                          2020-03-19T20:17:39Z\n",
      "Terlouwzaal                                 2020-05-14T14:09:36Z\n",
      "Plenaire zaal Tweede Kamer                  2020-07-30T19:18:06Z\n",
      "PVV Fractiekamer                            2020-09-02T11:55:10Z\n",
      "Dreeskamer                                  2020-10-01T19:19:44Z\n",
      "Enquêtezaal                                 2021-01-11T20:17:44Z\n",
      "Schoutenkamer                               2021-02-04T13:15:32Z\n",
      "Grenadierszaal                              2021-02-21T19:19:51Z\n",
      "Oude zaal                                   2021-03-12T20:19:59Z\n",
      "Kuyperkamer                                 2021-05-17T11:54:38Z\n",
      "(Nog) geen zaal beschikbaar                 2021-05-25T18:25:20Z\n",
      "Aletta Jacobszaal                           2021-05-27T13:56:00Z\n",
      "Suze Groenewegzaal                          2021-06-03T08:53:00Z\n",
      "Wttewaall van Stoetwegenzaal                2021-06-09T13:37:59Z\n",
      "Petitie Statenpassage                       2021-06-10T13:25:48Z\n",
      "Petitie Statenpassage                       2021-06-11T11:44:18Z\n",
      "Schaperkamer                                2021-06-14T13:09:52Z\n",
      "Daleszaal                                   2021-06-15T11:19:18Z\n",
      "Rommekamer                                  2021-06-17T10:24:58Z\n",
      "Den Uylzaal                                 2021-06-17T11:55:19Z\n",
      "Thorbeckezaal                               2021-06-18T08:05:47Z\n",
      "K4                                          2021-06-18T09:10:36Z\n",
      "Petitie Statenpassage                       2021-06-18T09:25:48Z\n",
      "Groen van Prinstererzaal                    2021-06-18T11:00:50Z\n",
      "Troelstrazaal                               2021-06-18T11:40:23Z\n",
      "Tilanuskamer                                2021-06-18T19:20:21Z\n",
      "Vondelingkamer                              2021-06-18T19:20:21Z\n",
      "(Nog) geen zaal beschikbaar                 2021-06-25T12:59:02Z\n",
      "Max van der Stoelzaal                       2021-06-29T08:15:20Z\n",
      "Groen van Prinstererzaal                    2021-07-08T06:42:59Z\n",
      "VVD Fractiekamer                            2021-09-03T09:47:55Z\n",
      "Klompézaal                                  2022-03-30T14:16:33Z\n",
      "Balzaal                                     2023-03-29T08:10:29Z\n"
     ]
    }
   ],
   "source": [
    "# ...where the dicts are more directly useful than the etree. An example of picking things from such dicts:\n",
    "for detail_dict in wetsuite.datacollect.tweedekamer_nl.entry_dicts( zaal_tree ):\n",
    "    print(f\"{detail_dict['content']['naam']:40s}    {detail_dict['updated']}\")"
   ]
  },
  {
   "cell_type": "markdown",
   "metadata": {},
   "source": [
    "### What about documents?\n",
    "\n",
    "The above does not mention documents part of the dossiers. \n",
    "\n",
    "So what do documents mention?"
   ]
  },
  {
   "cell_type": "code",
   "execution_count": 7,
   "metadata": {},
   "outputs": [
    {
     "name": "stdout",
     "output_type": "stream",
     "text": [
      "[{'category': 'document',\n",
      "  'content': {'bijgewerkt': '2019-07-03T15:32:12.6700000',\n",
      "              'id': 'd1bd5ec5-72fb-4702-8115-b6d24b552cdb',\n",
      "              'refs': {},\n",
      "              'tagname': 'document',\n",
      "              'verwijderd': 'true'},\n",
      "  'id': 'https://gegevensmagazijn.tweedekamer.nl/SyncFeed/2.0/Entiteiten/d1bd5ec5-72fb-4702-8115-b6d24b552cdb',\n",
      "  'title': 'd1bd5ec5-72fb-4702-8115-b6d24b552cdb',\n",
      "  'updated': '2019-07-03T13:33:10Z'},\n",
      " {'category': 'document',\n",
      "  'content': {'bijgewerkt': '2019-07-03T15:33:02.7970000',\n",
      "              'id': '3f75d7c1-379e-4241-9f82-539d244887ff',\n",
      "              'refs': {},\n",
      "              'tagname': 'document',\n",
      "              'verwijderd': 'true'},\n",
      "  'id': 'https://gegevensmagazijn.tweedekamer.nl/SyncFeed/2.0/Entiteiten/3f75d7c1-379e-4241-9f82-539d244887ff',\n",
      "  'title': '3f75d7c1-379e-4241-9f82-539d244887ff',\n",
      "  'updated': '2019-07-03T13:33:10Z'}]\n"
     ]
    }
   ],
   "source": [
    "# break_actually stops after the first page, because the full set is 700+ MByte and would easily take ten minutes to fetch\n",
    "# Note: you don't really need to run this, this is mainly here for a point we are about to make below\n",
    "firstpage = wetsuite.datacollect.tweedekamer_nl.fetch_all( 'Document', break_actually=True )[0]\n",
    "\n",
    "#print( wetsuite.helpers.etree.debug_color( firstpage.find('entry') ) ) # first entry, for reference.\n",
    "doc_dicts = wetsuite.datacollect.tweedekamer_nl.entry_dicts( firstpage )\n",
    "pprint.pprint( doc_dicts[-2:] )"
   ]
  },
  {
   "cell_type": "markdown",
   "metadata": {},
   "source": [
    "...that turns out contain nothing very useful _about_ the actual document (that we could fetch based on this). \n",
    "\n",
    "Presumably there is more useful metadata when something else points at them, e.g. when a kamerstukdossier refers to its documents.\n",
    "\n",
    "...kamerstukdossiers however turn out to be a little more complex (see part 2).\n",
    "First, we do something that requires less investigation:"
   ]
  },
  {
   "cell_type": "markdown",
   "metadata": {},
   "source": [
    "### What about parties?\n",
    "\n",
    "Our first real quest is \"make a list of who is member of what party\".\n",
    "\n",
    "This information is spread four different resource types: `Persoon`, `FractieZetelPersoon`, `FractieZetel`, and `Fractie`.\n",
    "\n",
    "You can see FractieZetelPersoon as something like a [many-to-many junction table](https://en.wikipedia.org/wiki/Many-to-many_(data_model)):\n",
    "- a reference to a FractieZetel (which itself happens to reference just a Fractie)\n",
    "- a reference to a Persoon\n",
    "\n",
    "Persoon and Fractie have no references, so are just details to each item.\n",
    "\n",
    "The below code \n",
    "- does the relational joins required to find party memberships, \n",
    "- then simplifies the results somewhat by adding those membership to the persoon details"
   ]
  },
  {
   "cell_type": "code",
   "execution_count": 3,
   "metadata": {},
   "outputs": [
    {
     "name": "stdout",
     "output_type": "stream",
     "text": [
      "Fetching Persoon\n",
      "Fetching Fractie\n",
      "Fetching FractieZetel\n",
      "Fetching FractieZetelPersoon\n"
     ]
    }
   ],
   "source": [
    "# Fetch all resources of teachhe mentioned soort\n",
    "# The combination should take no longer than a minute or two.\n",
    "print(\"Fetching Persoon\")\n",
    "data_Persoon            = wetsuite.datacollect.tweedekamer_nl.merge_etrees( wetsuite.datacollect.tweedekamer_nl.fetch_all( 'Persoon' ) )\n",
    "print(\"Fetching Fractie\")\n",
    "data_Fractie            = wetsuite.datacollect.tweedekamer_nl.merge_etrees( wetsuite.datacollect.tweedekamer_nl.fetch_all( 'Fractie' ) )\n",
    "print(\"Fetching FractieZetel\")\n",
    "data_FractieZetel       = wetsuite.datacollect.tweedekamer_nl.merge_etrees( wetsuite.datacollect.tweedekamer_nl.fetch_all( 'FractieZetel' ) )\n",
    "print(\"Fetching FractieZetelPersoon\")\n",
    "data_FractieZetelPesoon = wetsuite.datacollect.tweedekamer_nl.merge_etrees( wetsuite.datacollect.tweedekamer_nl.fetch_all( 'FractieZetelPersoon' ) )"
   ]
  },
  {
   "cell_type": "code",
   "execution_count": 10,
   "metadata": {},
   "outputs": [
    {
     "name": "stdout",
     "output_type": "stream",
     "text": [
      "<entry>\n",
      "  <title>808fcd50-a0dc-4f60-8b9d-c404a2eb5b2e</title>\n",
      "  <id>https://gegevensmagazijn.tweedekamer.nl/SyncFeed/2.0/Entiteiten/808fcd50-a0dc-4f60-8b9d-c404a2eb5b2e</id>\n",
      "  <author>\n",
      "    <name>Tweede Kamer der Staten-Generaal</name>\n",
      "  </author>\n",
      "  <updated>2023-08-29T13:23:13Z</updated>\n",
      "  <category term=\"fractieZetelPersoon\"/>\n",
      "  <link rel=\"next\" href=\"https://gegevensmagazijn.tweedekamer.nl/SyncFeed/2.0/Feed?category=FractieZetelPersoon&amp;skiptoken=16687327\"/>\n",
      "  <content type=\"application/xml\">\n",
      "    <fractieZetelPersoon id=\"808fcd50-a0dc-4f60-8b9d-c404a2eb5b2e\" bijgewerkt=\"2023-08-29T11:10:24Z\" verwijderd=\"false\">\n",
      "      <fractieZetel ref=\"ca826e72-cf57-4cca-b090-d5c444ec6c2d\"/>\n",
      "      <persoon ref=\"ec273841-069f-408b-b434-8524904ae314\"/>\n",
      "      <functie>Lid</functie>\n",
      "      <van>2002-05-23</van>\n",
      "      <totEnMet>2010-10-11</totEnMet>\n",
      "    </fractieZetelPersoon>\n",
      "  </content>\n",
      "</entry>\n",
      "\n"
     ]
    }
   ],
   "source": [
    "# For some insight/reference, the XML form of one FractieZetelPersoon entry, as xml\n",
    "print( wetsuite.helpers.etree.debug_pretty(data_FractieZetelPesoon.find('entry')) )"
   ]
  },
  {
   "cell_type": "code",
   "execution_count": 12,
   "metadata": {},
   "outputs": [
    {
     "data": {
      "text/plain": [
       "{'title': '808fcd50-a0dc-4f60-8b9d-c404a2eb5b2e',\n",
       " 'updated': '2023-08-29T13:23:13Z',\n",
       " 'category': 'fractieZetelPersoon',\n",
       " 'content': {'refs': {'fractieZetel': 'ca826e72-cf57-4cca-b090-d5c444ec6c2d',\n",
       "   'persoon': 'ec273841-069f-408b-b434-8524904ae314'},\n",
       "  'tagname': 'fractieZetelPersoon',\n",
       "  'id': '808fcd50-a0dc-4f60-8b9d-c404a2eb5b2e',\n",
       "  'bijgewerkt': '2023-08-29T11:10:24Z',\n",
       "  'verwijderd': 'false',\n",
       "  'functie': 'Lid',\n",
       "  'van': '2002-05-23',\n",
       "  'totEnMet': '2010-10-11'},\n",
       " 'id': 'https://gegevensmagazijn.tweedekamer.nl/SyncFeed/2.0/Entiteiten/808fcd50-a0dc-4f60-8b9d-c404a2eb5b2e'}"
      ]
     },
     "metadata": {},
     "output_type": "display_data"
    }
   ],
   "source": [
    "# and the way we flatten that into python dicts:\n",
    "display( wetsuite.datacollect.tweedekamer_nl.entry_dicts( data_FractieZetelPesoon ) [0] )"
   ]
  },
  {
   "cell_type": "code",
   "execution_count": 4,
   "metadata": {},
   "outputs": [],
   "source": [
    "# Since we just fetched completely separate things,\n",
    "# we need to _ourselves_ do what amounts to a manual JOIN of relational data\n",
    "\n",
    "# It happens we can make the next bit of code a little more bite-sized by by reshaping some data to assist it, \n",
    "# in particular by making it easier to fetch varied individual items by id (and by type).\n",
    "# Why we do this should become clearer in the next code block (...if you care).\n",
    "id_thing = {}   #               guid -> detailsdict\n",
    "by_type  = {}   #     soort/category -> list of all such detailsdicts\n",
    "\n",
    "for etree in (data_Persoon, data_Fractie, data_FractieZetel, data_FractieZetelPesoon):\n",
    "    for entry_dict in wetsuite.datacollect.tweedekamer_nl.entry_dicts( etree ):\n",
    "        id_thing[ entry_dict['content']['id'] ] = entry_dict\n",
    "\n",
    "        category = entry_dict['category']\n",
    "        if category not in by_type:\n",
    "            by_type[category] = []\n",
    "        by_type[ category ].append( entry_dict )"
   ]
  },
  {
   "cell_type": "code",
   "execution_count": 5,
   "metadata": {},
   "outputs": [
    {
     "name": "stdout",
     "output_type": "stream",
     "text": [
      "  FractieZetelPersoon item without FractieZetel - huh? {'title': 'd73d7f69-1235-4746-aa94-84b593909bfc', 'updated': '2023-08-29T14:00:09Z', 'category': 'fractieZetelPersoon', 'content': {'refs': {}, 'tagname': 'fractieZetelPersoon', 'id': 'd73d7f69-1235-4746-aa94-84b593909bfc', 'bijgewerkt': '2023-08-29T11:10:32Z', 'verwijderd': 'true'}, 'id': 'https://gegevensmagazijn.tweedekamer.nl/SyncFeed/2.0/Entiteiten/d73d7f69-1235-4746-aa94-84b593909bfc'}\n",
      "  FractieZetelPersoon item without FractieZetel - huh? {'title': '8cca26af-365a-46fc-b72f-c42b2a17a992', 'updated': '2023-12-06T13:48:37Z', 'category': 'fractieZetelPersoon', 'content': {'refs': {}, 'tagname': 'fractieZetelPersoon', 'id': '8cca26af-365a-46fc-b72f-c42b2a17a992', 'bijgewerkt': '2023-12-05T14:58:31Z', 'verwijderd': 'true'}, 'id': 'https://gegevensmagazijn.tweedekamer.nl/SyncFeed/2.0/Entiteiten/8cca26af-365a-46fc-b72f-c42b2a17a992'}\n",
      "  FractieZetelPersoon item without FractieZetel - huh? {'title': '6d685347-a5c8-498b-94df-b7bbb1bc1272', 'updated': '2023-12-06T13:48:37Z', 'category': 'fractieZetelPersoon', 'content': {'refs': {}, 'tagname': 'fractieZetelPersoon', 'id': '6d685347-a5c8-498b-94df-b7bbb1bc1272', 'bijgewerkt': '2023-12-05T15:00:13Z', 'verwijderd': 'true'}, 'id': 'https://gegevensmagazijn.tweedekamer.nl/SyncFeed/2.0/Entiteiten/6d685347-a5c8-498b-94df-b7bbb1bc1272'}\n"
     ]
    }
   ],
   "source": [
    "persoon_combined = {}  # which is _mostly_ still the persoon dicts, except we are adding a key that is the membership\n",
    "\n",
    "# That join-y code could look like:\n",
    "\n",
    "for fzp_dict in by_type['fractieZetelPersoon']: # go through that thing that points at fractieZetel and Persoon\n",
    "\n",
    "    # fetch the details of the FractieZetel and Persoon it's referring to\n",
    "    if 'fractieZetel' not in fzp_dict['content']['refs']: # TODO: figure out why these cases exist\n",
    "        print(\"  FractieZetelPersoon item without FractieZetel - huh? %r\"%fzp_dict)\n",
    "        continue\n",
    "    fractiezetel_id = fzp_dict['content']['refs']['fractieZetel']\n",
    "    persoon_id      = fzp_dict['content']['refs']['persoon']\n",
    "\n",
    "    fractiezetel_dict = id_thing[ fractiezetel_id ]\n",
    "    persoon_dict      = id_thing[ persoon_id ]\n",
    "\n",
    "    # similarly, fetch the Fractie from the FractieZetel\n",
    "    fractie_id = fractiezetel_dict['content']['refs']['fractie']\n",
    "    frac_dict = id_thing[ fractie_id ]\n",
    "\n",
    "\n",
    "    # now we have all the information we want - to start adding things to the Persoon details, as mentioned\n",
    "    if persoon_id not in persoon_combined:\n",
    "        persoon_combined[ persoon_id ] = persoon_dict\n",
    "        persoon_combined[ persoon_id ]['fractie_membership'] = []\n",
    "        \n",
    "    persoon_combined[ persoon_id ]['fractie_membership'].append( \n",
    "        {\n",
    "            'fractie_id':frac_dict['content']['id'], \n",
    "            'fractie_afkorting':frac_dict['content']['afkorting'], \n",
    "            # maybe more or all of frac_dict?\n",
    "            'functie':fzp_dict['content']['functie'], \n",
    "            'van':fzp_dict['content']['van'], \n",
    "            'totEnMet':fzp_dict['content']['totEnMet'],\n",
    "        } \n",
    "    )"
   ]
  },
  {
   "cell_type": "code",
   "execution_count": 6,
   "metadata": {},
   "outputs": [],
   "source": [
    "fracs = {} # id -> details, for consistency with the above and easier lookup\n",
    "for fracs_dict in by_type['fractie']:\n",
    "    fracs[ fracs_dict['id'] ] = fracs_dict"
   ]
  },
  {
   "cell_type": "markdown",
   "metadata": {},
   "source": [
    "As an indication of what we have just constructed:"
   ]
  },
  {
   "cell_type": "code",
   "execution_count": 28,
   "metadata": {},
   "outputs": [
    {
     "data": {
      "text/plain": [
       "{'title': 'd3b4d880-ef37-4ce6-99ec-4940266ac466',\n",
       " 'updated': '2023-12-06T13:48:14Z',\n",
       " 'category': 'fractie',\n",
       " 'content': {'refs': {},\n",
       "  'tagname': 'fractie',\n",
       "  'id': 'd3b4d880-ef37-4ce6-99ec-4940266ac466',\n",
       "  'bijgewerkt': '2023-12-05T14:36:07Z',\n",
       "  'verwijderd': 'false',\n",
       "  'contentType': 'image/jpeg',\n",
       "  'contentLength': '11374',\n",
       "  'nummer': '2764',\n",
       "  'afkorting': 'PvdD',\n",
       "  'naamNl': 'Partij voor de Dieren',\n",
       "  'naamEn': 'Party for the Animals',\n",
       "  'aantalZetels': '3',\n",
       "  'aantalStemmen': '235148',\n",
       "  'datumActief': '2006-11-30',\n",
       "  'datumInactief': None},\n",
       " 'id': 'https://gegevensmagazijn.tweedekamer.nl/SyncFeed/2.0/Entiteiten/d3b4d880-ef37-4ce6-99ec-4940266ac466'}"
      ]
     },
     "execution_count": 28,
     "metadata": {},
     "output_type": "execute_result"
    }
   ],
   "source": [
    "random.choice( list(fracs.values()) )"
   ]
  },
  {
   "cell_type": "code",
   "execution_count": 31,
   "metadata": {},
   "outputs": [
    {
     "data": {
      "text/plain": [
       "{'title': 'c7822b58-103f-4612-87ef-648be97192c6',\n",
       " 'updated': '2024-03-11T16:44:09Z',\n",
       " 'category': 'persoon',\n",
       " 'content': {'refs': {},\n",
       "  'tagname': 'persoon',\n",
       "  'id': 'c7822b58-103f-4612-87ef-648be97192c6',\n",
       "  'bijgewerkt': '2024-03-11T16:43:16Z',\n",
       "  'verwijderd': 'false',\n",
       "  'contentType': 'image/jpeg',\n",
       "  'contentLength': '666768',\n",
       "  'nummer': '4967',\n",
       "  'titels': None,\n",
       "  'initialen': 'E.M.',\n",
       "  'tussenvoegsel': None,\n",
       "  'achternaam': 'Westerveld',\n",
       "  'voornamen': 'Elisabeth Marij',\n",
       "  'roepnaam': 'Lisa',\n",
       "  'geslacht': 'vrouw',\n",
       "  'functie': 'Tweede Kamerlid',\n",
       "  'geboortedatum': '1981-11-16',\n",
       "  'geboorteplaats': 'Aalten',\n",
       "  'geboorteland': 'Nederland',\n",
       "  'overlijdensdatum': None,\n",
       "  'overlijdensplaats': None,\n",
       "  'woonplaats': 'Nijmegen',\n",
       "  'land': 'NL',\n",
       "  'fractielabel': None},\n",
       " 'id': 'https://gegevensmagazijn.tweedekamer.nl/SyncFeed/2.0/Entiteiten/c7822b58-103f-4612-87ef-648be97192c6',\n",
       " 'fractie_membership': [{'fractie_id': '8fd1a907-0355-4d27-8dc1-fd5a531b471e',\n",
       "   'fractie_afkorting': 'GL',\n",
       "   'functie': 'Lid',\n",
       "   'van': '2017-03-23',\n",
       "   'totEnMet': '2023-10-26'},\n",
       "  {'fractie_id': '0208097d-ef04-438a-8c29-eebb84956204',\n",
       "   'fractie_afkorting': 'GroenLinks-PvdA',\n",
       "   'functie': 'Lid',\n",
       "   'van': '2023-10-27',\n",
       "   'totEnMet': None}]}"
      ]
     },
     "execution_count": 31,
     "metadata": {},
     "output_type": "execute_result"
    }
   ],
   "source": [
    "random.choice( list(persoon_combined.values()) )"
   ]
  },
  {
   "cell_type": "code",
   "execution_count": null,
   "metadata": {},
   "outputs": [],
   "source": [
    "print(\"WRITING as JSON (tweedekamer-fracties-struc.json, tweedekamer-fractie-membership-struc.json)\")\n",
    "\n",
    "with open('tweedekamer-fracties-struc.json','wb') as jsonfile:\n",
    "    jsonfile.write( json.dumps({ \n",
    "        'description_short':''' Description of political parties/fracties. ''',\n",
    "        'description':      ''' Description of political parties/fracties.\n",
    "\n",
    "    Items look something like: \n",
    "        {'title': 'ae48391e-ce4d-47e0-86e3-ee310282f66f',\n",
    "        'updated': '2023-12-06T13:48:37Z',\n",
    "        'category': 'fractie',\n",
    "        'nummer': '50311',\n",
    "        'afkorting': 'Volt',\n",
    "        'naamNl': 'Volt',\n",
    "        'naamEn': 'Volt',\n",
    "        'aantalZetels': '2',\n",
    "        'aantalStemmen': '178802',\n",
    "        'datumActief': '2021-03-31',\n",
    "        'datumInactief': None,\n",
    "        'id': 'ae48391e-ce4d-47e0-86e3-ee310282f66f'}\n",
    "        ''',\n",
    "        'data':fracs} ).encode('ascii')\n",
    "    )\n",
    "\n",
    "with open('tweedekamer-fractie-membership-struc.json','wb') as jsonfile:\n",
    "    jsonfile.write( json.dumps({ \n",
    "        'description_short':'''Description of people, including party memberships over time.''',\n",
    "        'description':      '''Description of people, including party memberships over time (each with fractie_afkorting, functie, van, totEnMet) ''',\n",
    "        'data':persoon_combined} ).encode('ascii')\n",
    "    )"
   ]
  },
  {
   "cell_type": "code",
   "execution_count": 8,
   "metadata": {},
   "outputs": [
    {
     "name": "stdout",
     "output_type": "stream",
     "text": [
      "WRITING as dataset store (tweedekamer-fracties-struc.db, tweedekamer-fractie-membership-struc.db)\n"
     ]
    }
   ],
   "source": [
    "\n",
    "print(\"WRITING as dataset store (tweedekamer-fracties-struc.db, tweedekamer-fractie-membership-struc.db)\")\n",
    "\n",
    "with wetsuite.helpers.localdata.MsgpackKV('tweedekamer-fracties-struc.db') as fracties_db:\n",
    "    fracties_db._put_meta('description_short', '''Description of political parties/fracties.''')\n",
    "    fracties_db._put_meta('description',       '''Description of political parties/fracties.\n",
    "\n",
    "    Items look something like: \n",
    "        {'title': 'ae48391e-ce4d-47e0-86e3-ee310282f66f',\n",
    "        'updated': '2023-12-06T13:48:37Z',\n",
    "        'category': 'fractie',\n",
    "        'nummer': '50311',\n",
    "        'afkorting': 'Volt',\n",
    "        'naamNl': 'Volt',\n",
    "        'naamEn': 'Volt',\n",
    "        'aantalZetels': '2',\n",
    "        'aantalStemmen': '178802',\n",
    "        'datumActief': '2021-03-31',\n",
    "        'datumInactief': None,\n",
    "        'id': 'ae48391e-ce4d-47e0-86e3-ee310282f66f'}\n",
    "        ''')\n",
    "    for k, v in fracs.items():\n",
    "        fracties_db.put( k, v) \n",
    "\n",
    "with wetsuite.helpers.localdata.MsgpackKV('tweedekamer-fractie-membership-struc.db') as membership_db:\n",
    "    membership_db._put_meta('description_short', '''Description of people, including party memberships over time.''')\n",
    "    membership_db._put_meta('description',       '''Description of people, including party memberships over time(each with fractie_afkorting, functie, van, totEnMet)''')\n",
    "\n",
    "    for k, v in persoon_combined.items():\n",
    "        membership_db.put( k, v) "
   ]
  }
 ],
 "metadata": {
  "kernelspec": {
   "display_name": "Python 3 (ipykernel)",
   "language": "python",
   "name": "python3"
  },
  "language_info": {
   "codemirror_mode": {
    "name": "ipython",
    "version": 3
   },
   "file_extension": ".py",
   "mimetype": "text/x-python",
   "name": "python",
   "nbconvert_exporter": "python",
   "pygments_lexer": "ipython3",
   "version": "3.8.10"
  },
  "vscode": {
   "interpreter": {
    "hash": "31f2aee4e71d21fbe5cf8b01ff0e069b9275f58929596ceb00d14d90e3e16cd6"
   }
  }
 },
 "nbformat": 4,
 "nbformat_minor": 4
}
