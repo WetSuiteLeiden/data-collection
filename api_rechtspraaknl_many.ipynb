{
  "cells": [
    {
      "attachments": {},
      "cell_type": "markdown",
      "metadata": {
        "colab_type": "text",
        "id": "view-in-github"
      },
      "source": [
        "<a href=\"https://colab.research.google.com/github/WetSuiteLeiden/data-collection/blob/master/api_rechtspraaknl_many.ipynb\" target=\"_parent\"><img src=\"https://colab.research.google.com/assets/colab-badge.svg\" alt=\"Open In Colab\"/></a>"
      ]
    },
    {
      "attachments": {},
      "cell_type": "markdown",
      "metadata": {},
      "source": [
        "# Purpose of this notebook\n",
        "\n",
        "Understanding what you can get out of [rechtspraak.nl](https://www.rechtspraak.nl/).\n",
        "\n",
        "Note that this is mostly just showing our work. If the rechtspraak [dataset](../../intro/wetsuite_datasets.ipynb) we provide suits your needs,\n",
        "then running this notebook would just be a slower and more cumbersome way to get basically the same.\n",
        "\n",
        "Somewhat related: [extras_datacollect_rechtspraak_codes](extras_datacollect_rechtspraak_codes.ipynb)"
      ]
    },
    {
      "attachments": {},
      "cell_type": "markdown",
      "metadata": {},
      "source": [
        "# Website, Open data API, and some other notes\n",
        "\n",
        "You are probably familiar with the [rechtspraak.nl](https://rechtspraak.nl) website, and possibly its [search that has a number of filters](https://uitspraken.rechtspraak.nl/#!/) (and some [exta query logic for the text](https://www.rechtspraak.nl/Uitspraken/Paginas/Hulp-bij-zoeken.aspx#1ab85aa0-e737-4b56-8ad5-d7cb7954718d77a998be-3c73-40e3-90f7-541fceeb00fd3)), which gives webpage results, with text where present."
      ]
    },
    {
      "attachments": {},
      "cell_type": "markdown",
      "metadata": {},
      "source": [
        "\n",
        "There is also an [Open Data van de Rechtspraak](https://www.rechtspraak.nl/Uitspraken/Paginas/Open-Data.aspx), an API that exposes much the same in data form.\n",
        "As [its documentation](https://www.rechtspraak.nl/SiteCollectionDocuments/Technische-documentatie-Open-Data-van-de-Rechtspraak.pdf) ([this intro](https://www.rechtspraak.nl/Uitspraken/paginas/open-data.aspx) may also be useful) mentions,\n",
        "- you stick query parameters on the base URL of http://data.rechtspraak.nl/uitspraken/zoeken \n",
        "- the results mainly mention ECLIs, which you can fetch details for via e.g. https://data.rechtspraak.nl/uitspraken/content?id=ECLI:NL:PHR:2011:BP5608 (more notes below)\n",
        "\n",
        "\n",
        "Worthy of note:\n",
        "- the fields you can search mostly matches with the 'Uitgebreid zoeken' at uitspraken.rechtspraak.nl, like\n",
        "  - instantie / court code (basically that third element in the ECLI)\n",
        "  - rechtsgebied\n",
        "  - procedure\n",
        "\n",
        "- **You can't search in the body text**.  This largely limits the API to a 'keep updated with new cases' feed.\n",
        "  - Worthy of note: the website search (queried via `https://uitspraken.rechtspraak.nl/api/zoek`) does support this, and even seems like a better data API than the _actual_ data API one -- but it doesn't look like it's supposed to be used externally.\n",
        "\n",
        "- there are plenty of cases where there is no text / document.  You can filter for this in the search.\n",
        "\n",
        "- the **identifiers** used are **ECLI** (European Case Law Identifier)\n",
        "  - which in this case will be mainly Dutch ECLIs  (`ECLI:NL:`...), used since 2013 or so, and which absorbed the previously used LJN identifiers.\n",
        "  - court code XX (`ECLI:NL:XX:`...) is used for things not (yet?) assgined to a court, and/or non-Dutch ECLIs,\n",
        "    - rechtspraak.nl may later resolve such ECLIs to a different ECLI. That makes their site the most up-to-date information, that a mirror may not necessarily be aware of (yet). \n",
        "    - Example: ECLI:NL:XX:2009:BJ4574 \n",
        "      - in [XML metadata](https://data.rechtspraak.nl/uitspraken/content?id=ECLI:NL:XX:2009:BJ4574) mentions it's now (isReplacedBy) ECLI:CE:ECHR:2009:0528JUD002671305\n",
        "      - in [webpage form](https://uitspraken.rechtspraak.nl/#!/details?id=ECLI:NL:XX:2009:BJ4574) also seems to link to [a place to find it](https://hudoc.echr.coe.int/eng#%7B%22ecli%22:%5B%22ECLI:CE:ECHR:2009:0528JUD002671305%22%5D%7D) (e.g. `hudoc.echr.coe.int` or `e-justice.europa.eu`)."
      ]
    },
    {
      "cell_type": "markdown",
      "metadata": {},
      "source": [
        "For each ECLI you might consider various URLs, including\n",
        "  - XML, e.g. at https://data.rechtspraak.nl/uitspraken/content?id=ECLI:NL:PHR:2011:BP5608\n",
        "    - most interesting when you want case details as data\n",
        "    - (there is a different XML form at https://uitspraken.rechtspraak.nl/api/document/?id=ECLI:NL:PHR:2011:BP5608 but this is for the webpage view, and is less interesting as data)\n",
        "  - the case on the website\n",
        "    - is linked by the website as   https://uitspraken.rechtspraak.nl/InzienDocument?id=ECLI:NL:PHR:2011:BP5608\n",
        "    - it seems the slightly shorter https://deeplink.rechtspraak.nl/uitspraak?id=ECLI:NL:PHR:2011:BP5608 is equivalent\n",
        "    - both of the above redirect to a URL like https://uitspraken.rechtspraak.nl/#!/details?id=ECLI:NL:PHR:2011:BP5608\n",
        "      - which is a general page with scripting that picks up that identifer and then does another request to https://uitspraken.rechtspraak.nl/api/document/?id=ECLI:NL:PHR:2011:BP5608 (the webpage-view variant mentioned earlier)\n",
        "  - The website also often links to LiDo, e.g.  https://linkeddata.overheid.nl/document/ECLI:NL:PHR:2011:BP5608\n",
        "    - If you want that as data, consider http://linkeddata.overheid.nl/service/get-links?ext-id=ECLI:NL:PHR:2011:BP5608&output=xml\n",
        "    - though as https://linkeddata.overheid.nl/front/portal/services notes, this is not part of public LiDo, so you'll need to request an account first\n",
        "\n",
        "\n",
        "Because there are over three million dutch ECLIs on record, getting a lot of data from here would take a while, and they ask you to be nice to their server.\n",
        "\n",
        "There used to be a ZIP file (linked from [https://www.rechtspraak.nl/Uitspraken/paginas/open-data.aspx](https://www.rechtspraak.nl/Uitspraken/paginas/open-data.aspx) you could download to bootstrap your own copy. This seems to have been removed, as [this open data request](https://data.overheid.nl/community/datarequest/zip-bestand-alle-uitspraken) seems to confirm. It seems to imply that you should get it the hammery way.\n",
        "(As of this writing the URL to the ZIP file still works but they probably removed the link for a reason)"
      ]
    },
    {
      "cell_type": "code",
      "execution_count": 1,
      "metadata": {},
      "outputs": [],
      "source": [
        "import collections, time, random, datetime\n",
        "\n",
        "import wetsuite.datacollect.rechtspraaknl\n",
        "import wetsuite.datasets\n",
        "import wetsuite.helpers.date\n",
        "import wetsuite.helpers.etree\n",
        "import wetsuite.helpers.koop_parse\n",
        "import wetsuite.helpers.meta\n",
        "import wetsuite.helpers.net\n",
        "import wetsuite.helpers.localdata\n",
        "import wetsuite.helpers.notebook"
      ]
    },
    {
      "attachments": {},
      "cell_type": "markdown",
      "metadata": {},
      "source": [
        "## Example of API search, its results, and fetching"
      ]
    },
    {
      "cell_type": "markdown",
      "metadata": {},
      "source": [
        "### Querying \n",
        "\n",
        "The base URL for data is http://data.rechtspraak.nl/uitspraken/.\n",
        "\n",
        "Browsing to just that will link you to some identifier/value lists."
      ]
    },
    {
      "cell_type": "markdown",
      "metadata": {},
      "source": [
        "The **search** base is http://data.rechtspraak.nl/uitspraken/zoeken\n",
        "\n",
        "Search parameters include: (again, see [the documentation](https://www.rechtspraak.nl/SiteCollectionDocuments/Technische-documentatie-Open-Data-van-de-Rechtspraak.pdf))\n",
        "* `type` - `Uitspraak` or `Conclusie`\n",
        "* `return` - if you specify `return=DOC` you only get entries for which there is a document; if not you also get entries for which there is only metadata\n",
        "* `from`, `max`  (from is 0-based, max value of max is documented as 1000)\n",
        "* `sort` - default is by modification date, ascending. `DESC` lets you do descending instead.\n",
        "\n",
        "* `date` - date of this uitspraak / conclusie\n",
        "* `uitspraakdatum` - (date, or date range; optional)\n",
        "* `instantie` - as mentioned in https://data.rechtspraak.nl/Waardelijst/Instanties \n",
        "* `subject` - rechtsgebied as mentioned in https://data.rechtspraak.nl/Waardelijst/Rechtsgebieden\n",
        "* `modified` - last change of the metadata and/or text (with some subtleties, e.g. not necessarily of the uitrspraak or conclusie document)\n",
        "* `replaces` - previous ECLI, or LJN,. for this case.  Meant for backwards compatibility (of searches?).\n",
        "\n"
      ]
    },
    {
      "cell_type": "markdown",
      "metadata": {},
      "source": [
        "For example: http://data.rechtspraak.nl/uitspraken/zoeken?modified=2023-01-01&max=50\n",
        "\n",
        "The response format is [Atom](https://en.wikipedia.org/wiki/Atom_(standard)) and entries are minimal: title, date, summary (empty in the following example), and an URL pointing at the XML data  \n",
        "\n",
        "        <entry>\n",
        "            <id>ECLI:NL:RBAMS:2021:8211</id>\n",
        "            <title type=\"text\">ECLI:NL:RBAMS:2021:8211, Rechtbank Amsterdam, 29-06-2021, C/13/702999 / KG ZA 21-458</title>\n",
        "            <summary type=\"text\"/>\n",
        "            <updated>2023-01-04T15:21:26Z</updated>\n",
        "            <link rel=\"alternate\" type=\"text/html\" href=\"https://uitspraken.rechtspraak.nl/details?id=ECLI:NL:RBAMS:2021:8211\"/>\n",
        "        </entry>\n",
        "\n",
        "...but let's get our code to help:"
      ]
    },
    {
      "cell_type": "markdown",
      "metadata": {},
      "source": []
    },
    {
      "cell_type": "code",
      "execution_count": 23,
      "metadata": {},
      "outputs": [
        {
          "name": "stdout",
          "output_type": "stream",
          "text": [
            "Querying: [('from', '0'), ('max', '1000'), ('modified', '2024-07-04'), ('modified', '2024-07-11')]\n",
            "Querying: [('from', '1000'), ('max', '1000'), ('modified', '2024-07-04'), ('modified', '2024-07-11')]\n",
            "Querying: [('from', '2000'), ('max', '1000'), ('modified', '2024-07-04'), ('modified', '2024-07-11')]\n",
            "Querying: [('from', '3000'), ('max', '1000'), ('modified', '2024-07-04'), ('modified', '2024-07-11')]\n",
            "Querying: [('from', '4000'), ('max', '1000'), ('modified', '2024-07-04'), ('modified', '2024-07-11')]\n",
            "Querying: [('from', '5000'), ('max', '1000'), ('modified', '2024-07-04'), ('modified', '2024-07-11')]\n",
            "Querying: [('from', '6000'), ('max', '1000'), ('modified', '2024-07-04'), ('modified', '2024-07-11')]\n",
            "Querying: [('from', '7000'), ('max', '1000'), ('modified', '2024-07-04'), ('modified', '2024-07-11')]\n",
            "Querying: [('from', '8000'), ('max', '1000'), ('modified', '2024-07-04'), ('modified', '2024-07-11')]\n",
            "Querying: [('from', '9000'), ('max', '1000'), ('modified', '2024-07-04'), ('modified', '2024-07-11')]\n",
            "Querying: [('from', '10000'), ('max', '1000'), ('modified', '2024-07-04'), ('modified', '2024-07-11')]\n",
            "Querying: [('from', '11000'), ('max', '1000'), ('modified', '2024-07-04'), ('modified', '2024-07-11')]\n",
            "Querying: [('from', '12000'), ('max', '1000'), ('modified', '2024-07-04'), ('modified', '2024-07-11')]\n",
            "Querying: [('from', '13000'), ('max', '1000'), ('modified', '2024-07-04'), ('modified', '2024-07-11')]\n",
            "Querying: [('from', '14000'), ('max', '1000'), ('modified', '2024-07-04'), ('modified', '2024-07-11')]\n",
            "Querying: [('from', '15000'), ('max', '1000'), ('modified', '2024-07-04'), ('modified', '2024-07-11')]\n",
            "Querying: [('from', '16000'), ('max', '1000'), ('modified', '2024-07-04'), ('modified', '2024-07-11')]\n",
            "Querying: [('from', '17000'), ('max', '1000'), ('modified', '2024-07-04'), ('modified', '2024-07-11')]\n",
            "Querying: [('from', '18000'), ('max', '1000'), ('modified', '2024-07-04'), ('modified', '2024-07-11')]\n",
            "Querying: [('from', '19000'), ('max', '1000'), ('modified', '2024-07-04'), ('modified', '2024-07-11')]\n",
            "Querying: [('from', '20000'), ('max', '1000'), ('modified', '2024-07-04'), ('modified', '2024-07-11')]\n",
            "Querying: [('from', '21000'), ('max', '1000'), ('modified', '2024-07-04'), ('modified', '2024-07-11')]\n",
            "Querying: [('from', '22000'), ('max', '1000'), ('modified', '2024-07-04'), ('modified', '2024-07-11')]\n",
            "Querying: [('from', '23000'), ('max', '1000'), ('modified', '2024-07-04'), ('modified', '2024-07-11')]\n",
            "Querying: [('from', '24000'), ('max', '1000'), ('modified', '2024-07-04'), ('modified', '2024-07-11')]\n",
            "Querying: [('from', '25000'), ('max', '1000'), ('modified', '2024-07-04'), ('modified', '2024-07-11')]\n",
            "Querying: [('from', '26000'), ('max', '1000'), ('modified', '2024-07-04'), ('modified', '2024-07-11')]\n",
            "Querying: [('from', '27000'), ('max', '1000'), ('modified', '2024-07-04'), ('modified', '2024-07-11')]\n",
            "Querying: [('from', '28000'), ('max', '1000'), ('modified', '2024-07-04'), ('modified', '2024-07-11')]\n",
            "Querying: [('from', '29000'), ('max', '1000'), ('modified', '2024-07-04'), ('modified', '2024-07-11')]\n",
            "Querying: [('from', '30000'), ('max', '1000'), ('modified', '2024-07-04'), ('modified', '2024-07-11')]\n",
            "Querying: [('from', '31000'), ('max', '1000'), ('modified', '2024-07-04'), ('modified', '2024-07-11')]\n",
            "Querying: [('from', '32000'), ('max', '1000'), ('modified', '2024-07-04'), ('modified', '2024-07-11')]\n",
            "Querying: [('from', '33000'), ('max', '1000'), ('modified', '2024-07-04'), ('modified', '2024-07-11')]\n",
            "Querying: [('from', '34000'), ('max', '1000'), ('modified', '2024-07-04'), ('modified', '2024-07-11')]\n",
            "Querying: [('from', '35000'), ('max', '1000'), ('modified', '2024-07-04'), ('modified', '2024-07-11')]\n",
            "Querying: [('from', '36000'), ('max', '1000'), ('modified', '2024-07-04'), ('modified', '2024-07-11')]\n",
            "Querying: [('from', '37000'), ('max', '1000'), ('modified', '2024-07-04'), ('modified', '2024-07-11')]\n",
            "Querying: [('from', '38000'), ('max', '1000'), ('modified', '2024-07-04'), ('modified', '2024-07-11')]\n",
            "Querying: [('from', '39000'), ('max', '1000'), ('modified', '2024-07-04'), ('modified', '2024-07-11')]\n",
            "Querying: [('from', '40000'), ('max', '1000'), ('modified', '2024-07-04'), ('modified', '2024-07-11')]\n",
            "Querying: [('from', '41000'), ('max', '1000'), ('modified', '2024-07-04'), ('modified', '2024-07-11')]\n",
            "Querying: [('from', '42000'), ('max', '1000'), ('modified', '2024-07-04'), ('modified', '2024-07-11')]\n",
            "Querying: [('from', '43000'), ('max', '1000'), ('modified', '2024-07-04'), ('modified', '2024-07-11')]\n",
            "Querying: [('from', '44000'), ('max', '1000'), ('modified', '2024-07-04'), ('modified', '2024-07-11')]\n",
            "Querying: [('from', '45000'), ('max', '1000'), ('modified', '2024-07-04'), ('modified', '2024-07-11')]\n",
            "Querying: [('from', '46000'), ('max', '1000'), ('modified', '2024-07-04'), ('modified', '2024-07-11')]\n",
            "Querying: [('from', '47000'), ('max', '1000'), ('modified', '2024-07-04'), ('modified', '2024-07-11')]\n",
            "Querying: [('from', '48000'), ('max', '1000'), ('modified', '2024-07-04'), ('modified', '2024-07-11')]\n",
            "Querying: [('from', '49000'), ('max', '1000'), ('modified', '2024-07-04'), ('modified', '2024-07-11')]\n",
            "Querying: [('from', '50000'), ('max', '1000'), ('modified', '2024-07-04'), ('modified', '2024-07-11')]\n",
            "Querying: [('from', '51000'), ('max', '1000'), ('modified', '2024-07-04'), ('modified', '2024-07-11')]\n",
            "Querying: [('from', '52000'), ('max', '1000'), ('modified', '2024-07-04'), ('modified', '2024-07-11')]\n",
            "Querying: [('from', '53000'), ('max', '1000'), ('modified', '2024-07-04'), ('modified', '2024-07-11')]\n",
            "Cumulative query results: 53002\n",
            "Querying: [('from', '0'), ('max', '1000'), ('modified', '2024-07-11'), ('modified', '2024-07-18')]\n",
            "Querying: [('from', '1000'), ('max', '1000'), ('modified', '2024-07-11'), ('modified', '2024-07-18')]\n",
            "Querying: [('from', '2000'), ('max', '1000'), ('modified', '2024-07-11'), ('modified', '2024-07-18')]\n",
            "Querying: [('from', '3000'), ('max', '1000'), ('modified', '2024-07-11'), ('modified', '2024-07-18')]\n",
            "Querying: [('from', '4000'), ('max', '1000'), ('modified', '2024-07-11'), ('modified', '2024-07-18')]\n",
            "Cumulative query results: 57631\n",
            "Querying: [('from', '0'), ('max', '1000'), ('modified', '2024-07-18'), ('modified', '2024-07-25')]\n",
            "Querying: [('from', '1000'), ('max', '1000'), ('modified', '2024-07-18'), ('modified', '2024-07-25')]\n",
            "Querying: [('from', '2000'), ('max', '1000'), ('modified', '2024-07-18'), ('modified', '2024-07-25')]\n",
            "Querying: [('from', '3000'), ('max', '1000'), ('modified', '2024-07-18'), ('modified', '2024-07-25')]\n",
            "Querying: [('from', '4000'), ('max', '1000'), ('modified', '2024-07-18'), ('modified', '2024-07-25')]\n",
            "Cumulative query results: 61821\n",
            "Querying: [('from', '0'), ('max', '1000'), ('modified', '2024-07-25'), ('modified', '2024-08-01')]\n",
            "Querying: [('from', '1000'), ('max', '1000'), ('modified', '2024-07-25'), ('modified', '2024-08-01')]\n",
            "Querying: [('from', '2000'), ('max', '1000'), ('modified', '2024-07-25'), ('modified', '2024-08-01')]\n",
            "Querying: [('from', '3000'), ('max', '1000'), ('modified', '2024-07-25'), ('modified', '2024-08-01')]\n",
            "Querying: [('from', '4000'), ('max', '1000'), ('modified', '2024-07-25'), ('modified', '2024-08-01')]\n",
            "Querying: [('from', '5000'), ('max', '1000'), ('modified', '2024-07-25'), ('modified', '2024-08-01')]\n",
            "Querying: [('from', '6000'), ('max', '1000'), ('modified', '2024-07-25'), ('modified', '2024-08-01')]\n",
            "Querying: [('from', '7000'), ('max', '1000'), ('modified', '2024-07-25'), ('modified', '2024-08-01')]\n",
            "Cumulative query results: 68991\n",
            "Querying: [('from', '0'), ('max', '1000'), ('modified', '2024-08-01'), ('modified', '2024-08-08')]\n",
            "Querying: [('from', '1000'), ('max', '1000'), ('modified', '2024-08-01'), ('modified', '2024-08-08')]\n",
            "Querying: [('from', '2000'), ('max', '1000'), ('modified', '2024-08-01'), ('modified', '2024-08-08')]\n",
            "Querying: [('from', '3000'), ('max', '1000'), ('modified', '2024-08-01'), ('modified', '2024-08-08')]\n",
            "Cumulative query results: 72572\n",
            "Querying: [('from', '0'), ('max', '1000'), ('modified', '2024-08-08'), ('modified', '2024-08-15')]\n",
            "Querying: [('from', '1000'), ('max', '1000'), ('modified', '2024-08-08'), ('modified', '2024-08-15')]\n",
            "Querying: [('from', '2000'), ('max', '1000'), ('modified', '2024-08-08'), ('modified', '2024-08-15')]\n",
            "Querying: [('from', '3000'), ('max', '1000'), ('modified', '2024-08-08'), ('modified', '2024-08-15')]\n",
            "Querying: [('from', '4000'), ('max', '1000'), ('modified', '2024-08-08'), ('modified', '2024-08-15')]\n",
            "Querying: [('from', '5000'), ('max', '1000'), ('modified', '2024-08-08'), ('modified', '2024-08-15')]\n",
            "Cumulative query results: 77892\n"
          ]
        }
      ],
      "source": [
        "## First get the search result metadata\n",
        "\n",
        "overall_entries = {}\n",
        "\n",
        "# Note that given at_a_time is necessary anyway (there can be more than 1000 per day), the value of increment_days is barely relevant\n",
        "for range_from, range_to in wetsuite.helpers.date.date_ranges( from_date=wetsuite.helpers.date.date_weeks_ago(6), # or e.g. '2024-01-01',\n",
        "                                                               to_date  =wetsuite.helpers.date.date_today(),      \n",
        "                                                               increment_days=7, strftime_format=\"%Y-%m-%d\" ):\n",
        "    from_position, at_a_time = 0, 1000   # note: 'max' seems capped at 1000, so probably don't touch that;\n",
        "    # the code below does multiple fetches, which is what the while loop is for:\n",
        "    while True:\n",
        "        # You can ask for fairly specific things like:\n",
        "        #query = [\n",
        "        #    ('from', str(from_position)),  \n",
        "        #    ('max',  str(at_a_time)),     # max seems capped at 1000, so we have to do more in multiple fetches\n",
        "        #    ('creator', 'http://standaarden.overheid.nl/owms/terms/Rechtbank_Den_Haag'),   #('creator', 'http://psi.rechtspraak.nl/buitenlandseInstantie'),\n",
        "        #    ('subject', 'http://psi.rechtspraak.nl/rechtsgebied#civielRecht_intellectueeleigendomsrecht'),\n",
        "        #    ('return', 'DOC'),                                          # DOC asks for things with body text only\n",
        "        #    #('modified', '2023-12-28'),\n",
        "        #]\n",
        "\n",
        "        # This notebook is more about bulk updates, so:\n",
        "        query = [\n",
        "            ('from', str(from_position)),  \n",
        "            ('max',  str(at_a_time)),     \n",
        "        ]\n",
        "        query.extend( [('modified',range_from), ('modified',range_to)] )\n",
        "        print('Querying:', query)\n",
        "\n",
        "        search_results = wetsuite.datacollect.rechtspraaknl.search( query )\n",
        "        # search_results is a parsed etree object.\n",
        "        # We could show that relatively raw like    \n",
        "        #print( wetsuite.helpers.etree.debug_pretty(search_results) ) \n",
        "        #  yet our parsed form (each entry as a dict) is little simpler to read:\n",
        "\n",
        "        search_entries = wetsuite.datacollect.rechtspraaknl.parse_search_results( search_results )\n",
        "        # we could make overall_entries a list and just extend() it, but there would probably be a lot of overlap,\n",
        "        # so instead we use the ECLI to deduplicate\n",
        "        #print('adding %d entries'%len(search_entries))\n",
        "        for entry_dict in search_entries:\n",
        "            overall_entries[ entry_dict.get('ecli') ] = entry_dict \n",
        "\n",
        "        if len(search_results) < 1000: # last bunch?\n",
        "            break\n",
        "        # otherwise go on to fetch next page\n",
        "        from_position += at_a_time\n",
        "\n",
        "    print( \"Cumulative query results: %d\"%len(overall_entries) )"
      ]
    },
    {
      "cell_type": "markdown",
      "metadata": {},
      "source": [
        "### Fetching the documents the search refers to"
      ]
    },
    {
      "cell_type": "code",
      "execution_count": 24,
      "metadata": {},
      "outputs": [],
      "source": [
        "rechtspraak_fetched = wetsuite.helpers.localdata.LocalKV('rechtspraak_fetched.db', key_type=str, value_type=bytes)"
      ]
    },
    {
      "cell_type": "code",
      "execution_count": 25,
      "metadata": {},
      "outputs": [
        {
          "data": {
            "application/vnd.jupyter.widget-view+json": {
              "model_id": "17298c55ecbf4d7795bad3b1ff20ab05",
              "version_major": 2,
              "version_minor": 0
            },
            "text/plain": [
              "fetching... :   0%|          | 0/77892 [00:00<?, ?it/s]"
            ]
          },
          "metadata": {},
          "output_type": "display_data"
        },
        {
          "name": "stdout",
          "output_type": "stream",
          "text": [
            "Fetched:3220, cached:74672, errors:0\n",
            "\n"
          ]
        }
      ],
      "source": [
        "## Now get the text belonging to each\n",
        "paths = collections.defaultdict(int)\n",
        "count = collections.defaultdict(int)\n",
        "\n",
        "pbar = wetsuite.helpers.notebook.progress_bar( len(overall_entries), description='fetching... ')\n",
        "\n",
        "for entry in overall_entries.values():\n",
        "    pbar.description = f\"Fetched:{count['fetched']}, cached:{count['cached']}, errors:{count['error']}\"\n",
        "    pbar.value += 1\n",
        "    \n",
        "    entry_xml_url = 'https://data.rechtspraak.nl/uitspraken/content?id=%s'%entry['ecli']\n",
        "    # TODO: timeout catch\n",
        "    try:\n",
        "        xmlbytes, came_from_cache = wetsuite.helpers.localdata.cached_fetch( rechtspraak_fetched, entry_xml_url )\n",
        "        if came_from_cache:\n",
        "            count['cached'] +=1\n",
        "        else:\n",
        "            count['fetched'] += 1\n",
        "            time.sleep( 2 ) # be somewhat nice to the servers\n",
        "\n",
        "    except ValueError as ve:\n",
        "        count['error'] += 1\n",
        "        print( '%s for %r'%(ve, entry_xml_url) )\n",
        "        time.sleep( 30 ) # be somewhat nicer to the servers\n",
        "\n",
        "print( f\"Fetched:{count['fetched']}, cached:{count['cached']}, errors:{count['error']}\\n\" ) # because the progress bar doesn't update after iterating"
      ]
    },
    {
      "attachments": {},
      "cell_type": "markdown",
      "metadata": {},
      "source": [
        "Note:\n",
        "There is a [extras_diagnose_rechtspraak_docstructure (in the notebook repository)](https://github.com/knobs-dials/wetsuite-notebooks/blob/main/zextras_diagnose_rechtspraak_docstructure.ipynb), an exploration of the documents that informs some of the choices made below,\n",
        "and in particular some of the helper code in the wetsuite.datacollect.rechtspraaknl module."
      ]
    },
    {
      "attachments": {},
      "cell_type": "markdown",
      "metadata": {},
      "source": [
        "# Start making a dataset"
      ]
    },
    {
      "cell_type": "markdown",
      "metadata": {},
      "source": [
        "## Sample dataset of raw XML documents"
      ]
    },
    {
      "cell_type": "markdown",
      "metadata": {},
      "source": [
        "First something easy: a small sample of raw documents"
      ]
    },
    {
      "cell_type": "code",
      "execution_count": 7,
      "metadata": {},
      "outputs": [],
      "source": [
        "rechtspraaknl_sample_xml = wetsuite.helpers.localdata.LocalKV('rechtspraaknl-sample-xml.db', str, None)\n",
        "#rechtspraaknl_sample_xml.truncate()\n",
        "rechtspraaknl_sample_xml._put_meta('description_short', '''A small sample of the XML form available at rechtspraak.nl: documents from 2022 on''' )\n",
        "rechtspraaknl_sample_xml._put_meta('description',       '''rechtspraak.nl XML documents from 2022 on.\n",
        "The key is the URL it came from, the value is the raw XML document as a bytestring.''' )"
      ]
    },
    {
      "cell_type": "code",
      "execution_count": 8,
      "metadata": {},
      "outputs": [
        {
          "data": {
            "application/vnd.jupyter.widget-view+json": {
              "model_id": "de9574ce98cd47568c50b05c8a43a544",
              "version_major": 2,
              "version_minor": 0
            },
            "text/plain": [
              "  0%|          | 0/3315281 [00:00<?, ?it/s]"
            ]
          },
          "metadata": {},
          "output_type": "display_data"
        },
        {
          "data": {
            "text/plain": [
              "{'size_bytes': 4292186112,\n",
              " 'size_readable': '4GiB',\n",
              " 'num_items': 150821,\n",
              " 'avgsize_bytes': 28459,\n",
              " 'avgsize_readable': '28KiB'}"
            ]
          },
          "execution_count": 8,
          "metadata": {},
          "output_type": "execute_result"
        }
      ],
      "source": [
        "# \n",
        "for url in wetsuite.helpers.notebook.ProgressBar( rechtspraak_fetched.keys() ):\n",
        "    if ':2022:' in url  or  ':2023:' in url   or  ':2024:' in url: # cheaper than parsing\n",
        "        xmlbytes = rechtspraak_fetched.get( url )\n",
        "        if b'<conclusie' in xmlbytes or b'<uitspraak' in xmlbytes: # cheaper than parsing\n",
        "            rechtspraaknl_sample_xml.put( url, xmlbytes, commit=False ) # the commit thing and the next line makes the writing faster\n",
        "rechtspraaknl_sample_xml.commit()\n",
        "\n",
        "rechtspraaknl_sample_xml.summary(True)"
      ]
    },
    {
      "cell_type": "markdown",
      "metadata": {},
      "source": [
        "## Fuller dataset, more parsed"
      ]
    },
    {
      "cell_type": "code",
      "execution_count": 42,
      "metadata": {},
      "outputs": [],
      "source": [
        "rechtspraaknl_struc = wetsuite.helpers.localdata.MsgpackKV('rechtspraaknl-struc.db', str, None) # 12GByte uncompressed right now\n",
        "#rechtspraaknl_struc.truncate()\n",
        "rechtspraaknl_struc._put_meta('description_short', '''Cases from rechtspraak.nl, in a more pre-parsed form.''' )\n",
        "rechtspraaknl_struc._put_meta('description',       '''Cases from rechtspraak.nl, in a more pre-parsed form.\n",
        "\n",
        "A key is an URL like\n",
        "    'https://data.rechtspraak.nl/uitspraken/content?id=ECLI:NL:RBAMS:2012:BY7448'\n",
        "\n",
        "And the values (with [...] cutting off longer text fields)\n",
        "    {'identifier': 'ECLI:NL:RBAMS:2012:BY7448',\n",
        "    'issued': '2013-04-05',\n",
        "    'publisher': 'Raad voor de Rechtspraak',\n",
        "    'replaces': 'ECLI:NL:RBAMS:2012:6574',\n",
        "    'date': '2012-11-07',\n",
        "    'type': 'Uitspraak',\n",
        "    'modified': '2022-03-10T09:10:56',\n",
        "    'zaaknummer': '1320690 \\\\ HA EXPL  12-35',\n",
        "    'creator': 'Rechtbank Amsterdam',\n",
        "    'subject': 'Civiel recht',\n",
        "    'inhoudsindicatie': '\\nHet vragen van een persoonlijke garantstelling door een advocaat van een bestuurder voor openstaande [...]',\n",
        "    'bodytext': \"\\nvonnis\\nRECHTBANK  AMSTERDAM\\n\\nSector kanton\\nlocatie: Amsterdam\\n\\nZaaknummer en rolnummer: 1320690 \\\\ HA EXPL  12-35\\nUitspraak: [...]\"}\n",
        "\n",
        "'''+wetsuite.datasets.generated_today_text() )"
      ]
    },
    {
      "cell_type": "markdown",
      "metadata": {},
      "source": [
        "### Efficiently skipping the majority we want to skip"
      ]
    },
    {
      "cell_type": "markdown",
      "metadata": {},
      "source": [
        "A `len(rechtspraak_fetched)` would show us that we've fetched 3.3 million things. \n",
        "\n",
        "It turns out that the majority contain only metadata, no text,\n",
        "and let's assume we want to include only cases with text.\n",
        "\n",
        "That would mean two million parses would be done just to figure out we won't use that parse.\n",
        "So we create a store that remembers that, so we can look it up and skip parsing.\n",
        "\n",
        "(Note that we are not currently sure that, when cases are fetched, they may add text later,\n",
        "if cases change like that _and_ the fetching actually updates that, that update should _remove_ knowledge from the following store.)"
      ]
    },
    {
      "cell_type": "code",
      "execution_count": 28,
      "metadata": {},
      "outputs": [],
      "source": [
        "rechtspraaknl_knownnotext = wetsuite.helpers.localdata.LocalKV('rechtspraaknl_knownnotext.db', str, None)"
      ]
    },
    {
      "cell_type": "code",
      "execution_count": 39,
      "metadata": {},
      "outputs": [
        {
          "data": {
            "application/vnd.jupyter.widget-view+json": {
              "model_id": "91a5673dd83846398d056626c7c8b0ad",
              "version_major": 2,
              "version_minor": 0
            },
            "text/plain": [
              "  0%|          | 0/3318501 [00:00<?, ?it/s]"
            ]
          },
          "metadata": {},
          "output_type": "display_data"
        }
      ],
      "source": [
        "# This updates that 'does it contain text?' store before we actually start parsing.\n",
        "#   This could go at 10K/s for known cases (so a few minutes total)\n",
        "#                   ~100/s for things we check (so hours the first time) -- which is why we do it.\n",
        "testset = set(rechtspraaknl_knownnotext.keys()) # set for faster lookups\n",
        "\n",
        "for url in wetsuite.helpers.notebook.ProgressBar( rechtspraak_fetched.keys() ):\n",
        "    if url in testset: #rechtspraaknl_knownnotext:\n",
        "        continue\n",
        "    else:\n",
        "        xmlbytes = rechtspraak_fetched.get( url )\n",
        "        # it's a case we didn't previously check\n",
        "        if b'<conclusie' not in xmlbytes and b'<uitspraak' not in xmlbytes: # cheaper than parsing before deciding based on the parse?\n",
        "            rechtspraaknl_knownnotext.put(url, 'y')\n",
        "        #else:\n",
        "        #    rechtspraaknl_knownnotext.put(url, 'n')"
      ]
    },
    {
      "cell_type": "markdown",
      "metadata": {},
      "source": [
        "### (incremental) parsing and storing"
      ]
    },
    {
      "cell_type": "code",
      "execution_count": 41,
      "metadata": {},
      "outputs": [
        {
          "data": {
            "application/vnd.jupyter.widget-view+json": {
              "model_id": "dc7d2d67715d478ba27c6374ecae7040",
              "version_major": 2,
              "version_minor": 0
            },
            "text/plain": [
              "parsing...:   0%|          | 0/3318501 [00:00<?, ?it/s]"
            ]
          },
          "metadata": {},
          "output_type": "display_data"
        }
      ],
      "source": [
        "# From scratch, expect this to take two hours or more.  Updates are usually minutes.\n",
        "\n",
        "# these are used in the update section.\n",
        "known_notext_urls      = set( rechtspraaknl_knownnotext.keys() )  # put those into a set, not list, so that the 'in' test is fast.\n",
        "already_extracted_urls = set( rechtspraaknl_struc.keys() )        # assuming you didn't just truncate(), we can skip the things we have and only update\n",
        "\n",
        "len(known_notext_urls), len(already_extracted_urls)\n",
        "\n",
        "\n",
        "count = collections.defaultdict(int)\n",
        "\n",
        "#selected_keys = random.sample( selected_keys, 5000 ) # uncomment during debug, if you want to get just a subset, faster\n",
        "selected_keys = list(rechtspraak_fetched.keys()) # all keys, the real version\n",
        "pbar = wetsuite.helpers.notebook.progress_bar( len(selected_keys), description='parsing...')\n",
        "\n",
        "for url in selected_keys:\n",
        "    pbar.value += 1\n",
        "\n",
        "    pbar.description = f\"{count['conclusies']} new conclusies, {count['uitspraken']} new uitspraken, {count['notext']} notext, {count['present']} already present \" \n",
        "\n",
        "    if url in known_notext_urls: # we previously figured it had no text, no sense trying to parse it\n",
        "        count['notext'] += 1\n",
        "        continue\n",
        "\n",
        "    if url in already_extracted_urls:  # we previously extracted text (won't update). This is most of the speed increase, probably\n",
        "        count['present'] += 1\n",
        "        continue\n",
        "\n",
        "\n",
        "    ## Load and parse\n",
        "    xmlbytes = rechtspraak_fetched.get(url)\n",
        "    # skip parse if we think it's not worth it -- this test is a little chaper than parsing before deciding based on the parse?\n",
        "    if b'<conclusie' not in xmlbytes and b'<uitspraak' not in xmlbytes: \n",
        "        count['notext'] += 1\n",
        "        print(\"missed ealier check?\", url) # (or have fetched new things we haven't run through that yet)\n",
        "        continue\n",
        "\n",
        "    # actually parse XML\n",
        "    tree = wetsuite.helpers.etree.fromstring( xmlbytes )\n",
        "    tree = wetsuite.helpers.etree.strip_namespace( tree )\n",
        "\n",
        "    cont = wetsuite.datacollect.rechtspraaknl.parse_content( tree )\n",
        "\n",
        "    rechtspraaknl_struc.put(url, cont )\n",
        "\n",
        "    if tree.find('uitspraak') is not None:\n",
        "        count['uitspraken'] += 1\n",
        "    elif tree.find('conclusie') is not None:\n",
        "        count['conclusies'] += 1\n",
        "    else: # actually shouldn't happen, in that the above should have caught that\n",
        "        print(\"PROBLEM\", url)\n",
        "        count['notext'] += 1\n",
        "\n",
        "\n",
        "#print(f\"{count_conclusies} conclusies and {count_uitspraken} uitspraken   (and {count_neither} that have no text)\")       "
      ]
    },
    {
      "cell_type": "markdown",
      "metadata": {},
      "source": [
        "## Some debug"
      ]
    },
    {
      "cell_type": "code",
      "execution_count": 34,
      "metadata": {},
      "outputs": [
        {
          "data": {
            "text/plain": [
              "{'size_bytes': 13714952192,\n",
              " 'size_readable': '12.8GiB',\n",
              " 'num_items': 770551,\n",
              " 'avgsize_bytes': 17799,\n",
              " 'avgsize_readable': '17KiB'}"
            ]
          },
          "metadata": {},
          "output_type": "display_data"
        },
        {
          "data": {
            "text/plain": [
              "[('https://data.rechtspraak.nl/uitspraken/content?id=ECLI:NL:HR:2008:BG1816',\n",
              "  {'identifier': 'ECLI:NL:HR:2008:BG1816',\n",
              "   'issued': '2013-04-05',\n",
              "   'publisher': 'Raad voor de Rechtspraak',\n",
              "   'replaces': 'BG1816',\n",
              "   'date': '2008-12-19',\n",
              "   'type': 'Uitspraak',\n",
              "   'modified': '2021-11-28T11:49:28',\n",
              "   'zaaknummer': 'C07/137HR',\n",
              "   'creator': 'Hoge Raad',\n",
              "   'subject': 'Civiel recht',\n",
              "   'inhoudsindicatie': 'Invordering; executoriaal beslag van ontvanger op onroerende zaken die in eigendom toebehoren van belastingschuldige en zijn echtgenote tezamen; beslag op aandeel van deelgenoot, uitwerking van HR 30 maart 2001, nr. C99/184, NJ 2002, 380.',\n",
              "   'bodytext': '\\n19 december 2008\\nEerste Kamer\\nNr. C07/137HR\\nEV/TT\\n\\nHoge Raad der Nederlanden\\n\\nArrest\\n\\nin de zaak van:\\n\\n1. [Eiser 1],\\n2. [Eiseres 2],\\nbeiden wonende te [woonplaats],\\nEISERS tot cassatie, \\nadvocaat: mr. M. de Boorder,\\n\\nt e g e n\\n\\nDE ONTVANGER VAN DE BELASTINGDIENST RIJNMOND,\\nkantoorhoudende te Rotterdam,\\nVERWEERDER in cassatie, \\nadvocaat: mr. J.W.H. van Wijk.\\n\\nDe eisers tot cassatie zullen hierna tezamen ook worden aangeduid als [eisers] en afzonderlijk als [eiser 1], resp. [eiseres 2], verweerder in cassatie als de Ontvanger.\\n\\n1. Het geding in feitelijke in [eisers] hebben bij exploot van 2 februari 2006 de Ontvanger in kort geding gedagvaard voor de rechtbank Rotterdam en voor zover thans nog van belang gevorderd, kort gezegd, dat de voorzieningenrechter; \\n* alle door de Ontvanger gelegde beslagen in verband met de voorlopige aanslagen IB over 2002 en 2003 ten name van [eiser 1] zal opheffen, althans de Ontvanger zal veroordelen om de beslagen op te heffen en doen doorhalen in de registers,\\n* de Ontvanger zal verbieden invorderingsmaatregelen te treffen ter zake van de voorlopige aanslagen dan wel ter zake van opgelegde of nog op te leggen (definitieve) aanslagen ten name van [eiser 1] zolang deze aanslagen niet onherroepelijk vaststaan,\\n* de Ontvanger zal veroordelen om binnen drie dagen na betekening van het vonnis schriftelijk aan de hypotheekhoudster te berichten dat de executoriale beslagen ter zake van de voorlopige aanslagen IB 2002 en 2003 onjuist waren,\\n* de Ontvanger zal veroordelen om de verplichtingen ingevolge art. 505 Rv in acht te nemen, voor zover hij beoogt beslag te leggen op onroerend goed dat aan de echtgenote in mede-eigendom toebehoort, een en ander telkens op straffe van verbeurte van een dwangsom.\\n\\nDe Ontvanger heeft de vorderingen bestreden. \\nDe voorzieningenrechter heeft bij vonnis van 3 maart 2006 de vorderingen van [eisers] afgewezen.\\nTegen dit vonnis hebben [eisers] hoger beroep ingesteld bij het gerechtshof te \\'s-Gravenhage.\\nHet hof heeft, na tussenarrest van 19 oktober 2006 waarbij een comparitie van partijen is gelast, bij eindarrest van 8 februari 2007 het vonnis van de voorzieningenrechter van 3 maart 2006 bekrachtigd.\\nDe arresten van het hof zijn aan dit arrest gehecht.\\n\\n2. Het geding in cassatie\\n\\nTegen de arresten van het hof hebben [eisers] beroep in cassatie ingesteld. De cassatiedagvaarding is aan dit arrest gehecht en maakt daarvan deel uit.\\nDe Ontvanger heeft geconcludeerd tot verwerping van het beroep.\\nDe zaak is voor partijen toegelicht door hun advocaten en voor de Ontvanger mede door mr. A.L. Kruijmer, advocaat bij de Hoge Raad.\\nDe conclusie van de Advocaat-Generaal F.F. Langemeijer strekt tot vernietiging van het bestreden arrest en tot verwijzing van de zaak naar een ander gerechtshof.\\nDe advocat van [eisers] heeft op 7 november 2008 schriftelijk op die conclusie gereageerd.\\n\\n3.  Beoordeling van het middel\\n\\n3.1 De Ontvanger heeft ter zake van belastingschulden van [eiser 1] beslag gelegd op een aantal onroerende zaken waarvan [eiser 1] eigenaar is, alsmede op een tweetal onroerende zaken waarvan [eiser 1] eigenaar is tezamen met zijn echtgenote [eiseres 2].\\nMet betrekking tot het beslag op laatstgenoemde zaken heeft het hof in het tussenarrest overwogen:\\n5.Grief XI strekt ten betoge dat het beslag op de panden waarvan [eiseres 2] mede-eigenares is, geen doel treft omdat de Ontvanger slechts beslag had mogen leggen op het aandeel van [eisers] Ook deze grief is vergeefs voorgesteld. Het is evident dat de ontvanger in casu slechts het aandeel van [eiser 1] in beslag kon nemen en in beslag heeft genomen. Dat niet expliciet in het beslagexploot is vermeld dat [eiser 1] voor 1/2e deel eigenaar van de litigieuze onroerende zaken is, betekent niet dat [eisers] stellen, het desbetreffende beslag per ommegaande opgeheven, dan wel nietig verklaard dient te worden.\\n(...)\\n9. Grief XV strekt ten betoge dat de rechter ten onrechte, want in strijd met het bepaalde in artikel 505 Rv, geoordeeld heeft dat tijdige betekening aan [eiseres 2] (van afschriften) van het proces-verbaal van inbeslagneming van de twee onroerende zaken waarvan zij mede-eigenares is, geen nietigheid van de beslagen op die onroerende zaken tot gevolg heeft gehad. Hieromtrent wordt als volgt overwogen.\\n9.1 De grief faalt. Zoals in rechtsoverweging 5 reeds is overwogen, heeft de Belastingdienst, nu in casu slechts [eiser 1] (en niet [eiseres 2]) de belastingschuldige is, slechts het aandeel van [eiser 1] (en niet het aandeel van [eiseres 2]) in de eigendom van de litigieuze twee panden in beslag kunnen nemen (en genomen). Nu voorts de strekking van de regeling van artikel 505 Rv is bewerkstelliging van externe werking van het gelegde beslag en bescherming van de beslaglegger tegen rechtshandelingen van de beslagschuldenaar ([eiser 1]), valt niet in te zien waarom betekening ook aan [eiseres 2], wier aandeel in de eigendom niet in beslag is genomen en (derhalve) door executie (zonder haar medewerking) niet aan haar kan worden ontnomen, op straffe van nietigheid ook had behoren plaats te vinden.\"\\n\\nTegen deze overwegingen komen [eisers] op in de onderdelen I en III van het middel.\\n\\n3.2.1 Blijkens het desbetreffende door [eiser 1] in het geding gebrachte proces-verbaal van executoriaal beslag op onroerende zaken is ten laste van [eiser 1] beslag gelegd op\\n\"Huis, garage, tuin en terras gelegen in [plaats], plaatselijk bekend [a-straat 1], kadastraal bekend [plaats], sectie [A] nummer [001], grootte 2 are en 24 centiare.\\n\\nBoerderij en weiland gelegen in [plaats], plaatselijk bekend [b-straat 1], kadastraal bekend [plaats], sectie [B], nummer [002], grootte 82 are en 70 centiare.\"\\n\\n3.2.2 Ook voor een executoriaal beslag als het onderhavige geldt hetgeen de Hoge Raad in zijn arrest van 30 maart 2001, nr. C99/184, NJ 2002, 380, heeft overwogen ten aanzien van het daar aan de orde zijnde conservatoir beslag, te weten:\\n\"(...)Het aandeel van een deelgenoot in een gemeenschap is een vermogensrecht van andere aard dan de eigendom van tot de gemeenschap behorende zaken.\\n(...)\\nUitgangspunt moet zijn dat bij het leggen van het beslag wordt gespecificeerd op welk vermogensrecht het wordt gelegd. Bij de executie zal het daarbij te verkopen goed immers moeten zijn gespecificeerd. Het proces-verbaal van beslaglegging dient mede ertoe vast te leggen welk goed van de schuldenaar uiteindelijk zal worden verkocht. Niet kan worden aanvaard dat een beslag, dat blijkens het proces-verbaal is gelegd op een niet aan de schuldenaar toebehorend recht op een goed, zou kunnen worden gewijzigd in beslag op een wel aan de schuldenaar toebehorend recht op dat goed.\"\\n\\n3.2.3 Onderdeel I, dat gericht is tegen rov. 5 van het hof, slaagt, omdat het oordeel van het hof dat de Ontvanger slechts het aandeel van [eiser 1] in beslag heeft genomen, hetzij blijk geeft van een onjuiste rechtsopvatting, hetzij niet begrijpelijk is gemotiveerd. Het eerste is het geval indien dat oordeel berust op een miskenning van hetgeen hiervóór in 3.2.2 is overwogen. Indien het hof dat niet heeft miskend, is het bedoelde oordeel zonder nadere, door het hof niet gegeven, toelichting niet begrijpelijk in het licht van de inhoud van het proces-verbaal van beslaglegging.\\n\\n3.3 Onderdeel III is gericht tegen rov. 9.1.\\nVoorzover het onderdeel is gegrond op het uitgangspunt dat het beslag mede op het aandeel van [eiseres 2] in de betrokken onroerende zaken is gelegd, mist het feitelijke grondslag, omdat het bestreden oordeel berust op het uitgangspunt dat slechts op het aandeel van [eiser 1] beslag is gelegd.\\nVoorzover het onderdeel van dit laatste uitgaat, faalt het eveneens, omdat het hof met juistheid heeft geoordeeld dat art. 505 Rv. slechts betekening (van een afschrift van het proces-verbaal van inbeslagneming) aan de geëxecuteerde voorschrijft en dit niet meebrengt dat, indien beslag is gelegd op het aandeel van de geëxecuteerde in een onroerende zaak, tevens betekening moet geschieden aan de medeëigena(a)r(en) daarvan.\\n\\n3.4 De overige klachten van het middel kunnen evenmin tot cassatie leiden. Zulks behoeft, gezien art. 81 RO, geen nadere motivering nu de klachten niet nopen tot beantwoording van rechtsvragen in het belang van de rechtseenheid of de rechtsontwikkeling.\\n\\n4. Beslissing\\n\\nDe Hoge Raad:\\nvernietigt de arresten van het gerechtshof te \\'s-Gravenhage van 19 oktober 2006 en 8 februari 2007;\\nverwijst het geding naar het gerechtshof te Amsterdam ter verdere behandeling en beslissing;\\nveroordeelt de Ontvanger in de kosten van het geding in cassatie, tot op deze uitspraak aan de zijde van [eisers] begroot op € 452,03 aan verschotten en € 2.600,-- voor salaris.\\n\\nDit arrest is gewezen door de vice-president J.B. Fleers als voorzitter en de raadsheren O. de Savornin Lohman, A.M.J. van Buchem-Spapens, A. Hammerstein en W.D.H. Asser, en in het openbaar uitgesproken door de raadsheer E.J. Numann op \\n19 december 2008.\\n'}),\n",
              " ('https://data.rechtspraak.nl/uitspraken/content?id=ECLI:NL:RBAMS:2012:BY7448',\n",
              "  {'identifier': 'ECLI:NL:RBAMS:2012:BY7448',\n",
              "   'issued': '2013-04-05',\n",
              "   'publisher': 'Raad voor de Rechtspraak',\n",
              "   'replaces': 'ECLI:NL:RBAMS:2012:6574',\n",
              "   'date': '2012-11-07',\n",
              "   'type': 'Uitspraak',\n",
              "   'modified': '2022-03-10T09:10:56',\n",
              "   'zaaknummer': '1320690 \\\\ HA EXPL  12-35',\n",
              "   'creator': 'Rechtbank Amsterdam',\n",
              "   'subject': 'Civiel recht',\n",
              "   'inhoudsindicatie': '\\nHet vragen van een persoonlijke garantstelling door een advocaat van een bestuurder voor openstaande facturen van de BV is in stijd met artikel 28 van de Gedragsregels van Advocaten, nu geen overleg met de Deken heeft plaatsgevonden en niet is gebleken van bijzondere omstandigheden.\\nBeroep op misbruik van omstandigheden slaagt: afhankelijke relatie advocaat-cliënt, die cliënt heeft bewogen tot de persoonlijke garantstelling. De advocaat had cliënt van persoonlijke garantstelling moeten weerhouden omdat hij wist (of behoorde te weten) dat de persoonlijke garantstelling i.c. strijdig was met de gedragsregels. Voor bevorderen in de zin van art 3:44, vierde lid, BW is voldoende dat de advocaat de persoonlijke garantstelling heeft geaccepteerd. Niet is vereist dat het initiatief daartoe van hem is uitgegaan.\\n',\n",
              "   'bodytext': \"\\nvonnis\\nRECHTBANK  AMSTERDAM\\n\\nSector kanton\\nlocatie: Amsterdam\\n\\nZaaknummer en rolnummer: 1320690 \\\\ HA EXPL  12-35\\nUitspraak: 7 november 2012\\n\\nVonnis van de kantonrechter\\nin de zaak van:\\n\\nde besloten vennootschap met beperkte aansprakelijkheid\\n[eiseres] B.V.,\\ngevestigd te Den Haag,\\neiseres,\\nnader te noemen [eiseres],\\ngemachtigde  mr. C.M. Malipaard,\\n\\nt e g e n \\n\\nde besloten vennootschap met beperkte aansprakelijkheid\\n1. Most Communicative B.V.,\\ngevestigd te Hilversum,\\nnader te noemen Most Communicative,\\nop verzoek van [eiseres], bij brief van 28 september 2012, is de procedure tegen Most Communicative, gelet op haar faillissement, geroyeerd op de rolzitting van 24 oktober 2012, \\n2. [gedaagde],\\nwonende te [--],\\nnader te noemen [gedaagde],\\ngedaagde,\\n\\nVERLOOP VAN DE PROCEDURE\\n\\nDe volgende processtukken zijn ingediend:\\n\\n-\\tde dagvaarding van 10 januari 2012 inhoudende de vordering van [eiseres], met bijbehorende producties;\\n-\\tde conclusie van antwoord van Most Communicative.\\n\\nIngevolge het ambtshalve gewezen tussenvonnis van 18 april 2012 heeft een bijeenkomst van partijen plaatsgevonden. Het proces-verbaal hiervan en de daarin genoemde andere stukken bevinden zich bij de stukken.  \\n\\nDaarna is vonnis bepaald.\\n\\nGRONDEN VAN DE BESLISSING\\n\\nFeiten en omstandigheden\\n\\n1.\\tAls gesteld en niet (voldoende) weersproken staan de volgende feiten en omstandigheden vast:\\n\\n1.1\\tOp 9 februari 2011 heeft Most Communicative aan [eiseres] opdracht gegeven tot het verlenen van juridische diensten ten behoeve van CCM. CCM is een handelsnaam van Most Communicative.\\n\\n1.2\\tDe openstaande facturen zien op juridische werkzaamheden verricht in opdracht van Most Communicative (CCM) in de periode van 7 maart 2011 tot en met 1 november 2011.\\n\\n1.3\\tIn een e-mail bericht van 5 oktober 2011 schrijft mr. [A] van [eiseres] aan  [gedaagde] onder meer:\\n\\n“ (…) Je gaf aan dat je zeker wilt dat ik je volgende week donderdag op de zitting voor de rechtbank Amsterdam vertegenwoordig als advocaat (...) Er staat nog steeds 13k open. Die moet vrijdag a.s. (7-10) betaald zijn (het maakt mij niet uit waar je het geld vandaan haalt), anders trek ik mij terug en bericht ik de rechtbank. Je hebt dan bovendien een groot probleem met mij”\\n\\nIn vervolg daarop schrijft mr. [A] [gedaagde] in een e-mail van 10 oktober 2011 onder meer het volgende: \\n\\n“Vrijdag 7 oktober jl. belde je mij naar aanleiding van mijn onderstaande email. Je kwam met de volgende toezeggingen:\\n1. Te betaalt mij deze week (dinsdag of woensdag a.s.) € 6.600.\\n2. De rest (± € 6.600) betaal je mij uiterlijk eind volgende week.\\n3. Je staat persoonlijk garant voor nakoming van hetgeen je aan [eiseres] verschuldigd bent en zult worden. \\nOp die voorwaarden heb ik aangegeven je donderdag 13 oktober a.s. naar de zitting in Amsterdam te willen en zullen begeleiden. Wel heb ik je gevraagd een en ander per email aan mij te bevestigen. (…) Graag ontvang ik per omgaande de bevestiging van bovenstaande.”\\n\\nIn reactie daarop heeft [gedaagde] dezelfde dag per e-mail onder meer het volgende aan mr. [A] meegedeeld:\\n\\n“ Ik sta persoonlijk garant voor het geld dat open staat en wat aan [eiseres] betaald moeten worden.”\\n\\nVordering en verweer\\n\\n2.\\t[eiseres] vordert dat [gedaagde] bij uitvoerbaar bij voorraad te verklaren vonnis zal worden veroordeeld tot betaling van:\\na. € 14.468,48 aan hoofdsom, te vermeerderen met de wettelijke rente, vanaf de vervaldatum van de facturen tot de dag van volledige voldoening;\\nb. € 2.170,27 aan buitengerechtelijke incassokosten, te vermeerderen met de wettelijke rente, vanaf 10 januari 2012 tot de dag van volledige voldoening;\\nc. de proceskosten van [eiseres].\\n\\n3.\\t[eiseres] stelt kort gezegd dat [gedaagde] is gehouden de openstaande facturen te voldoen omdat hij zich persoonlijk garant heeft gesteld voor nakoming van de ten name van Most Communicative openstaande bedragen.\\n\\n4.\\t[gedaagde] voert verweer tegen de vordering en voert daartoe aan dat hij de garantstelling heeft gegeven uit hoofde van zijn functie als bestuurder van Most Communicative. Daarnaast stelt hij dat het hoogst ongebruikelijk is voor een advocaat om een garantstelling van een statutair bestuurder in privé te vragen en dat daarvoor is vereist dat de Deken daarin wordt betrokken. [gedaagde] doet een beroep op misbruik van omstandigheden en verwijst daarbij naar een uitspraak van het Hof \\n's-Hertogenbosch van 29 mei 2012 (LJN BW7211). Mr. [A] heeft misbruik gemaakt van zijn positie als advocaat terwijl [gedaagde] onwetend was en afhankelijk van hem was, aldus [gedaagde].\\n\\nBeoordeling\\n\\n5.\\t[eiseres] vordert in deze zaak nakoming van de persoonlijke garantstelling van [gedaagde]. Uit de stellingen van [gedaagde] wordt afgeleid dat hij een beroep doet op vernietiging van de persoonlijke garantstelling wegens misbruik van omstandigheden door [eiseres]. [gedaagde] wordt in zijn verweer gevolgd en daartoe wordt het volgende overwogen. \\n\\n6.\\tVan misbruik van omstandigheden in de zin van artikel 3:44, vierde lid, van het Burgerlijk Wetboek (BW) is sprake wanneer iemand die weet of moet begrijpen dat de ander door bijzondere omstandigheden zoals (onder meer) afhankelijkheid wordt bewogen tot het verrichten van een rechtshandeling, het tot stand komen van die rechtshandeling bevordert, ofschoon hetgeen hij weet of moet begrijpen hem daarvan zou behoren te weerhouden. Aan deze vereisten is in het onderhavige geval voldaan. \\n\\n7.\\tAllereerst wordt geoordeeld dat [gedaagde] zich in een afhankelijke positie bevond ten opzichte van mr. [A] en dat deze afhankelijke positie hem ertoe heeft bewogen de persoonlijke garantstelling te geven. De afhankelijkheid van [gedaagde] ten opzichte van mr. [A] is eigen aan de relatie tussen een advocaat en zijn cliënt, mede gelet op het belang dat een cliënt heeft om zich gelet op de (in dit geval) jarenlange samenwerking tussen de cliënt en zijn advocaat, en de betrokkenheid van zijn advocaat bij de lopende zaak, door zijn advocaat te laten bijstaan bij (in dit geval) een op handen zijnde comparitie. En in die afhankelijke situatie heeft [eiseres] bevorderd dat [gedaagde] de persoonlijk garantstelling heeft gegeven. Immers heeft mr. [A] [gedaagde] gezegd dat hij de openstaande facturen moet voldoen omdat hij zich anders als advocaat zal terugtrekken en hem niet zal bijstaan bij de comparitie één week later en heeft hij uiteindelijk toegezegd [gedaagde] als advocaat te zullen bijstaan bij de comparitie onder (onder meer) de voorwaarde van de persoonlijke garantstelling door [gedaagde] voor alles wat [eiseres] te vorderen heeft en te vorderen zal hebben. Voor het bevorderen door [eiseres] van de totstandkoming van de persoonlijke garantstelling in de zin van artikel 3:44, vierde lid, BW is voldoende dat [eiseres] de persoonlijke garantstelling heeft geaccepteerd. Niet is vereist dat het initiatief daartoe ook is uitgegaan van [eiseres].\\n\\n8.\\tIn regel 28, eerste lid, van de Gedragsregels voor Advocaten (hierna: de gedragsregels) is het volgende bepaald: “Het is de advocaat niet geoorloofd voor de betaling van zijn declaratie andere zekerheid te aanvaarden dan een voorschot in geld, behoudens in bijzondere gevallen en dan slechts na overleg met de deken.” [eiseres] wist of behoorde te weten dat zij op grond van de gedragsregels geen persoonlijke garantstelling als zekerheid van [gedaagde] had mogen vragen of aanvaarden, tenzij het een bijzonder geval betrof en dan na overleg met de Deken. Niet is gesteld of gebleken dat de situatie tussen [eiseres] en Most Communicative, danwel [gedaagde], een dergelijk bijzonder geval was. Uit de stelling van [eiseres] dat in dit geval geen overleg met de Deken was vereist, wordt afgeleid dat een dergelijk overleg met de Deken niet heeft plaatsgevonden. [eiseres] heeft dit overigens ook niet gesteld. Gelet op het bovenstaande was het [eiseres] in dit geval niet toegestaan om de persoonlijke garantstelling van [gedaagde] te vragen en/of te aanvaarden en had [eiseres] [gedaagde] ook daarvan behoren te weerhouden, omdat zij wist (of had moeten weten) dat dit in strijd was met de gedragsregels. \\n\\n9.\\tHet standpunt van [eiseres] dat het beroep op misbruik van omstandigheden niet opgaat omdat het [gedaagde] vrij stond om op het moment dat de garantstelling werd gevraagd, daaraan niet te voldoen, wordt niet gevolgd. [gedaagde] wist destijds niet van het bestaan van de gedragsregels en van het feit dat [eiseres] niet een garantstelling mocht accepteren (tenzij in bijzondere omstandigheden en na overleg met de Deken), terwijl [eiseres] daarvan wel op de hoogte was (of behoorde te zijn). In die omstandigheden gaat het er niet om of [gedaagde] vrij was om wel of niet een persoonlijke garantstelling aan te gaan, maar had [eiseres] [gedaagde], mede gelet op de afhankelijke en ongelijkwaardige positie van hem ten opzichte van zijn advocaat, daarvan hoe dan ook behoren te weerhouden. \\n\\n10.\\tNu aan alle vereisten van artikel 3:44, vierde lid, BW is voldaan, slaagt het verweer van [gedaagde] en wordt de persoonlijke garantstelling vernietigd. De vordering zal dan ook worden afgewezen.\\n\\n11.\\t[eiseres] zal niet worden veroordeeld in de proceskosten aan de zijde van [gedaagde], nu [gedaagde] geen verletkosten of reiskosten heeft gevorderd.\\n\\nBESLISSING\\n\\nDe kantonrechter:\\n\\nI.\\twijst de vorderingen af.\\n\\nAldus gewezen door mr. J.A.W. Jansen, kantonrechter, en uitgesproken ter openbare terechtzitting van 7 november 2012 in tegenwoordigheid van de griffier.\\n\\nDe griffier\\t\\t\\t\\t\\t\\t\\tDe kantonrechter\"}),\n",
              " ('https://data.rechtspraak.nl/uitspraken/content?id=ECLI:NL:HR:2012:BW4106',\n",
              "  {'identifier': 'ECLI:NL:HR:2012:BW4106',\n",
              "   'issued': '2013-04-05',\n",
              "   'publisher': 'Raad voor de Rechtspraak',\n",
              "   'replaces': 'BW4106',\n",
              "   'date': '2012-04-27',\n",
              "   'type': 'Uitspraak',\n",
              "   'modified': '2013-04-05T10:05:10',\n",
              "   'zaaknummer': '10/04041',\n",
              "   'creator': 'Hoge Raad',\n",
              "   'subject': 'Bestuursrecht; Belastingrecht',\n",
              "   'inhoudsindicatie': 'De Hoge Raad heeft het beroep in cassatie gegrond verklaard, zie ook onderdeel 3.3.2 van het arrest 09/04280, LJN BR4486.',\n",
              "   'bodytext': 'gewezen op het beroep in cassatie van de Gemeente Nijkerk tegen de uitspraak van het Gerechtshof te Arnhem van 8 juni 2010, nrs. 09/00318 tot en met 09/00323, betreffende een naheffingsaanslag in de omzetbelasting.'}),\n",
              " ('https://data.rechtspraak.nl/uitspraken/content?id=ECLI:NL:RBHAA:2005:BD6022',\n",
              "  {'identifier': 'ECLI:NL:RBHAA:2005:BD6022',\n",
              "   'issued': '2013-04-05',\n",
              "   'publisher': 'Raad voor de Rechtspraak',\n",
              "   'replaces': 'BD6022',\n",
              "   'date': '2005-07-19',\n",
              "   'type': 'Uitspraak',\n",
              "   'modified': '2015-11-10T18:47:09',\n",
              "   'zaaknummer': '15/500699-05',\n",
              "   'creator': 'Rechtbank Haarlem',\n",
              "   'subject': 'Strafrecht',\n",
              "   'inhoudsindicatie': 'Medeplegen invoer cocaïne. Verweren: 1. Geen medeplegen, ontbreken nauwe en bewuste samenwerking; 2. Opzet op invoer 2 kg cocaïne, niet op het meerdere. Rechtbank verwerpt alle verweren. 1. Gezien feiten en omstandigheden en geloofwaardige verklaring wel sprake van medeplegen; 2. Door na te laten de inhoud van de pakketten in de bagage te controleren heeft verdachte zich willens en wetens blootgesteld aan de aanmerkelijke kans dat hij een grotere hoeveelheid zou vervoeren (voorwaardelijk opzet). Zie voor medeverdachte LJN: BD5994.',\n",
              "   'bodytext': '\\nRECHTBANK HAARLEM\\nVESTIGING SCHIPHOL\\nSECTOR STRAFRECHT\\n\\nMEERVOUDIGE STRAFKAMER \\n\\nParketnummer: 15/500699-05 \\nUitspraakdatum: 19 juli 2005\\nTegenspraak \\n\\nVERKORT STRAFVONNIS (art. 138b Sv) \\n\\nDit vonnis is gewezen naar aanleiding van het onderzoek op de openbare terechtzitting van 5 juli 2005 in de zaak tegen:\\n\\n[verdachte], \\ngeboren op [geboortedatum] 1985 te [geboorteplaats] (Suriname),\\nwonende te [woonplaats],\\nthans gedetineerd in Detentiecentrum Roermond, te Roermond.\\n\\n1. Tenlastelegging \\nAan verdachte is tenlastegelegd dat hij op of omstreeks 17 april 2005 te Schiphol, gemeente Haarlemmermeer, tezamen en in vereniging met een ander of anderen, althans alleen, opzettelijk binnen het grondgebied van Nederland heeft gebracht ongeveer 6.296,2 gram, in elk geval 3.036,1 gram, in elk geval een hoeveelheid van een materiaal bevattende cocaïne, zijnde cocaïne een middel als bedoeld in de bij de Opiumwet behorende lijst I, dan wel aangewezen krachtens het vijfde lid van artikel 3a van die wet.\\n\\n2. Voorvragen\\nDe rechtbank heeft vastgesteld dat de dagvaarding geldig is, dat zijzelf bevoegd is tot kennisneming van de zaak, dat het openbaar ministerie ontvankelijk is in zijn vervolging en dat er geen redenen zijn voor schorsing van de vervolging.\\n\\n3. De vordering van de officier van justitie\\nDe officier van justitie heeft - zakelijk weergegeven - tot het navolgende gerekwireerd:\\n- bewezenverklaring van het tenlastegelegde feit;\\n- oplegging van een onvoorwaardelijke gevangenisstraf voor de duur van dertig maanden met aftrek van de tijd die verdachte in verzekering en/of voorlopige hechtenis heeft doorgebracht, waarvan tien maanden voorwaardelijk met een proeftijd van twee jaar;\\n- oplegging van een werkstraf voor de duur van 240 uren bij het niet naar behoren verrichten  te vervangen door 120 dagen hechtenis en \\n- verbeurdverklaring van de onder verdachte inbeslaggenomen telefoon en de daarin aangetroffen SIM-kaart (in tel 91846) en retour verdachte van de overige SIM-kaarten (los 16200, 78056 en 67206). \\n\\n4. Bewijsbeslissingen\\n\\n4.1 Medeplegen\\nVerdachte heeft ter terechtzitting aangevoerd dat hij het hem tenlastegelegde drugstransport alleen heeft ondernomen, dat hij niet op de hoogte was van het feit dat zijn medeverdachte [medeverdachte] eveneens verdovende middelen bij zich heeft gehad toen zij werden aangehouden op de luchthaven Schiphol en hij derhalve niet voor het totale bij hem en zijn medeverdachte [medeverdachte] aangetroffen gewicht cocaïne verantwoordelijk is. \\n\\nDe rechtbank verwerpt dit verweer en overweegt het navolgende.\\nDe rechtbank gaat ten aanzien van het bewijs voor medeplegen uit van de volgende feiten en omstandigheden. Uit het proces-verbaal met dossiernummer PL278C/05-002418, opgemaakt door de verbalisanten [verbalisanten], blijkt dat de vliegtickets van verdachte en diens medeverdachte [medeverdachte] opeenvolgend genummerd zijn en op dezelfde dag bij [a-tours] in Amsterdam zijn gekocht, dat de paspoorten van beide verdachten op 27 januari 2005 zijn afgegeven door de gemeente Almere en dat de aangetroffen pakketten met cocaïne op nagenoeg identieke wijze waren verstopt in nagenoeg identieke koffers. Uit de door verdachte en voornoemde [medeverdachte] afgelegde verklaringen bij de Koninklijke Marechaussee, de rechter-commissaris en ter terechtzitting blijkt voorts dat zij beiden door [betrokkene] in Almere zijn benaderd voor het onderhavige drugstransport. Verdachten kenden elkaar overigens vanuit school. Voornoemde [betrokkene] zou alles voor hen geregeld hebben, zoals de aanschaf van de tickets, de aanvraag van nieuwe paspoorten en de gang van zaken omtrent het transport in Suriname, zoals het krijgen van een SIM-kaart waarop verdachten zouden worden gebeld voor nadere instructies. Voorts zijn verdachten op de heenreis samen door de moeder van verdachte  naar het vliegveld gebracht. Daarbij hebben verdachten op de heen- en terugreis naast elkaar gezeten. Beide verdachten hebben verklaard niet met elkaar te hebben gepraat, omdat dit hen door [betrokkene] was opgedragen en dat zij in Suriname wel contact met elkaar hebben gehad, onder meer toen verdachte van [medeverdachte] een telefoon te leen kreeg. Tot slot hebben verdachten aanvankelijk zeer wisselend verklaard over de aanschaf van de tickets, de aanschaf van de paspoorten en het meereizen. \\n\\nOp grond van bovenstaande feiten en omstandigheden, in onderlinge samenhang bezien, in combinatie met  voornoemde wisselende verklaringen, acht de rechtbank de verklaring van verdachte dat hij niet samen met medeverdachte [medeverdachte] het onderhavige cocaïnetransport heeft ondernomen en uitgevoerd onaannemelijk. Deze verklaring kan dan ook niet anders worden opgevat dan dat deze is afgelegd om de waarheid te bemantelen, namelijk dat verdachte en zijn medeverdachte bewust samen voor het onderhavige cocaïnetransport op reis zijn gegaan en daartoe hebben samengewerkt. De rechtbank acht het tenlastegelegde bestanddeel medeplegen dan ook bewezen.   \\n\\n4.2 Opzet\\nVerdachte heeft ter terechtzitting bepleit dat hij bij het plegen van het tenlastegelegde feit slechts opzet had op het met de opdrachtgevers afgesproken gewicht van twee en een halve kilo cocaïne en niet op het meerdere. \\n\\nDe rechtbank verwerpt dit verweer en overweegt het navolgende. \\nDoor tezamen en in vereniging opzettelijk over te gaan tot het transport van het afgesproken gewicht aan cocaïne en na te laten de inhoud van de pakketten in de bagage van hemzelf en zijn medeverdachte [medeverdachte]   - waarin de cocaïne zat verstopt - te controleren, heeft verdachte zich willens en wetens blootgesteld aan de aanmerkelijke kans dat in de pakketten in zijn koffer meer dan de overeengekomen hoeveelheid zou worden verpakt, zoals ook inderdaad het geval bleek te zijn. Hetzelfde geldt voor de in de koffer van [medeverdachte] aangetroffen cocaïne betreft. Aldus heeft de verdachte, naast het met opzet binnen het grondgebied van Nederland brengen van een overeengekomen gewicht van twee en een halve kilo cocaïne, het voorwaardelijk opzet gehad op het binnen het grondgebied van Nederland brengen van het overige gewicht van de cocaïne, dat in pakketten in de bagage van verdachte en diens medeverdachte is aangetroffen.\\n\\n4.3 Bewezenverklaring\\nDe rechtbank acht wettig en overtuigend bewezen dat verdachte het tenlastegelegde feit heeft begaan in dier voege dat hij op 17 april 2005 te Schiphol, gemeente Haarlemmermeer, tezamen en in vereniging met anderen, opzettelijk binnen het grondgebied van Nederland heeft gebracht ongeveer 6.296,2 gram van een materiaal bevattende cocaïne, zijnde cocaïne een middel als bedoeld in de bij de Opiumwet behorende lijst I.\\n\\nVoorzover in de bewezenverklaarde tenlastelegging taal- en/of schrijffouten voorkomen, zijn deze verbeterd. Blijkens het verhandelde op de terechtzitting is de verdachte daardoor niet geschaad in zijn verdediging.\\n\\nHetgeen aan verdachte meer of anders is tenlastegelegd dan hier als bewezen is aangenomen, is niet bewezen. De verdachte moet hiervan worden vrijgesproken.\\n\\n5. Strafbaarheid van het feit\\nHet bewezenverklaarde levert op:\\nMedeplegen van opzettelijk handelen in strijd met een in artikel 2, onder A, van de Opiumwet gegeven verbod.\\n\\n6. Strafbaarheid van verdachte\\nEr is geen omstandigheid aannemelijk geworden die de strafbaarheid van verdachte uitsluit. Verdachte is dus strafbaar.\\n\\n7. Motivering van sancties\\n\\n7.1 Hoofdstraf\\nBij de beslissing over de straf die aan verdachte moet worden opgelegd, heeft de rechtbank zich laten leiden door de aard en de ernst van het feit en de omstandigheden waaronder dit is begaan, alsmede de persoon van verdachte zoals van een en ander uit het onderzoek ter terechtzitting  en uit de bespreking aldaar van het door de Reclassering Nederland, Regio Alkmaar-Haarlem, Arrondissement Haarlem uitgebrachte rapport van 13 juni 2005 is gebleken.  \\n\\nIn het bijzonder heeft de rechtbank het navolgende in aanmerking genomen. \\nVerdachte heeft zich samen met anderen schuldig gemaakt aan de invoer van ongeveer 6.296,2 gram van een materiaal bevattende cocaïne. Dit is een voor de gezondheid van personen schadelijke stof. De ingevoerde hoeveelheid was van dien aard, dat deze bestemd moet zijn geweest voor verdere verspreiding en handel. De verspreiding van en handel in cocaïne gaan gepaard met vele andere vormen van criminaliteit, waaronder de door gebruikers gepleegde strafbare feiten ter financiering van hun behoefte aan deze stof.\\n\\nIn de persoonlijke omstandigheden van verdachte, met name zijn jonge leeftijd, ziet de rechtbank aanleiding af te wijken van de straf die in vergelijkbare gevallen pleegt te worden opgelegd.\\n\\nOp grond van het vorenoverwogene is de rechtbank van oordeel dat een vrijheidsbenemende straf en een werkstraf van na te noemen duur moet worden opgelegd. De rechtbank zal bepalen dat een gedeelte van de vrijheidsbenemende straf vooralsnog niet ten uitvoer zal worden gelegd, opdat de verdachte er in de toekomst van wordt weerhouden strafbare feiten te begaan.\\n\\n7.2 Verbeurdverklaring\\nDe rechtbank is van oordeel dat het onder verdachte inbeslaggenomen en niet teruggegeven voorwerp, te weten een mobiele telefoon en een SIM-kaart, dienen te worden verbeurd verklaard. Uit het onderzoek op de terechtzitting is gebleken dat het bewezenverklaarde feit met behulp van dit voorwerp dat aan verdachte toebehoort, is begaan of voorbereid.\\n\\n8. Toepasselijke wettelijke voorschriften\\nDe volgende wetsartikelen zijn van toepassing:\\n14a, 14b, 14c, 22c, 22d, 33, 33a, 47 van het Wetboek van Strafrecht.\\n2, 10 van de Opiumwet.\\n\\n9. Beslissing\\nDe rechtbank:\\n\\nVerklaart bewezen dat verdachte het tenlastegelegde feit heeft begaan zoals hiervoor onder 4.3 vermeld.\\n\\nVerklaart niet bewezen wat aan verdachte meer of anders is tenlastegelegd dan hierboven als bewezen is aangenomen en spreekt verdachte daarvan vrij.\\n\\nBepaalt dat het bewezenverklaarde feit het hierboven onder 5. vermelde strafbare feit oplevert.  \\n\\nVerklaart verdachte hiervoor strafbaar.\\n\\nVeroordeelt verdachte wegens dit feit tot een gevangenisstraf voor de duur van DERTIG (30) MAANDEN.\\n\\nBeveelt dat van deze gevangenisstraf een gedeelte, groot tien (10) maanden, niet ten uitvoer zal worden gelegd. De rechtbank stelt daarbij een proeftijd vast van twee jaar. \\nBepaalt dat de tenuitvoerlegging van dit voorwaardelijke gedeelte kan worden gelast indien verdachte zich voor het einde van de proeftijd schuldig maakt aan een strafbaar feit. \\n\\nBepaalt dat de tijd die verdachte vóór de tenuitvoerlegging van dit vonnis in verzekering en voorlopige hechtenis heeft doorgebracht, bij de tenuitvoerlegging van het onvoorwaardelijk gedeelte van de thans opgelegde gevangenisstraf in mindering wordt gebracht, voorzover die tijd niet reeds op een andere vrijheidsstraf in mindering is gebracht.\\n\\nVeroordeelt verdachte tot het verrichten van tweehonderd veertig (240) uren taakstraf in de vorm van een werkstraf, zijnde het verrichten van onbetaalde arbeid, bij het niet naar behoren verrichten  te vervangen door 120 dagen hechtenis. \\n\\nVerklaart verbeurd:\\n– 1 SAMSUNG SGH E800 telefoontoestel \\n– 1 in de SAMSUNG SGH E800 telefoontoestel aangetroffen SIM-kaart met nummer 91846.\\n\\nGelast de teruggave aan verdachte van:\\n– 3 STK losse SIM-kaarten met de nummers 16200, 78056 en 67206. \\n\\n \\n\\n10. Samenstelling rechtbank en uitspraakdatum\\nDit vonnis is gewezen door\\nmr. Janse van Mantgem, voorzitter,\\nmrs. Van Dijk en A.C. van den Boogaard, rechters,\\nin tegenwoordigheid van de griffier mr. Venselaar,\\nen uitgesproken op de openbare terechtzitting van 19 juli 2005.\\n'}),\n",
              " ('https://data.rechtspraak.nl/uitspraken/content?id=ECLI:NL:RBOBR:2017:2702',\n",
              "  {'identifier': 'ECLI:NL:RBOBR:2017:2702',\n",
              "   'issued': '2017-05-15',\n",
              "   'publisher': 'Raad voor de Rechtspraak',\n",
              "   'date': '2017-05-09',\n",
              "   'type': 'Uitspraak',\n",
              "   'modified': '2022-03-09T21:28:52',\n",
              "   'zaaknummer': '5765762',\n",
              "   'creator': 'Rechtbank Oost-Brabant',\n",
              "   'subject': 'Civiel recht; Arbeidsrecht',\n",
              "   'spatial': 'Eindhoven',\n",
              "   'inhoudsindicatie': 'De ontbindende voorwaarde in de arbeidsovereenkomst is niet rechtsgeldig. De ontbindende voorwaarde doet afbreuk aan de voor de werknemer geldende ontslagbescherming. Voor zover er geen werk bij werkgever of één van haar opdrachtgevers voor handen is, dient dit voor rekening en risico van werkgever te komen die zich bedient van een dergelijk beding.',\n",
              "   'bodytext': '\\n\\n1\\nHet procesverloop\\n\\n1.1.\\nHet verloop van de procedure blijkt uit:\\n\\nhet verzoekschrift met producties, ingekomen op 1 maart 2017;\\n\\nhet verweerschrift met producties, ingekomen op 5 april 2017 \\n\\nde mondelinge behandeling van 18 april 2017 waarvan de griffier aantekeningen heeft gemaakt van het verhandelde en waarbij de gemachtigden zich hebben bediend van pleitnotities. \\n\\n1.2.\\nTen slotte is beschikking bepaald. \\n\\n2\\nDe feiten\\n\\n2.1.\\n\\n        [werknemer] , geboren op [geboortedatum] 1968, is op 20 september 2016 op basis van een arbeidsovereenkomst voor bepaalde tijd in dienst getreden bij Reef in de functie van Project Buyer. Reef is een organisatie die zakelijke dienstverlening biedt ten aanzien van arbeidsbemiddeling en projectmanagement voor verschillende opdrachtgevers en zodoende is [werknemer] door Reef per 20 september 2016 op een project bij opdrachtgever Sioux Assembly B.V. te werk gesteld (hierna Sioux). \\n\\n2.2.\\n\\nIn de arbeidsovereenkomst staat, voor zover relevant, het volgende:\\n\\n“1. Functie en dienstbetrekking\\n\\n(..)\\n\\nb. De overeenkomst is aangegaan voor het verrichten van werkzaamheden met betrekking tot het project bij Sioux Assembly B.V. (hierna: opdrachtgever) met projectnummer P01657. De werkzaamheden kunnen worden omschreven als: “Het inkopen van low volume producten voor de High Tech industrie”. De werknemer start met ingang van 20 september 2016 als Supply Chain Manager/Technical Purchasing. De einddatum van dit project is 20 september 2017. De werkzaamheden vinden plaats te Eindhoven.\\n\\nc. De overeenkomst wordt aangegaan voor bepaalde tijd, te weten voor de duur van het in deze overeenkomst genoemde project. De overeenkomst eindigt derhalve van rechtswege op het moment dat het in deze overeenkomst genoemde project is voltooid of door de opdrachtgever wordt beëindigd. De arbeidsovereenkomst eindigt dientengevolge zonder opzegging of zonder dat daartoe toestemming van het UWV Werkbedrijf vereist zal zijn, op de laatste dag waarop werkzaamheden ter uitvoering van het bovengenoemde project dienen te worden verricht.\\n\\nd. Ingeval de opdrachtgever, alwaar de werknemer zijn werkzaamheden in het kader van deze overeenkomst verricht, tijdens de looptijd van de overeenkomst vervanging van de werknemer eist op grond van gebleken ongeschiktheid, onprofessioneel gedrag en/of anderszins persoonlijk gedrag en/of het project tussentijds wordt beëindigd op grond van een objectief vastgestelde gebeurtenis, onafhankelijk van een doen of nalaten van de werkgever, dan eindigt de arbeidsovereenkomst van rechtswege tussen de werkgever en de werknemer.\\n(..)”\\n\\n2.3.\\nReef, in de persoon van [functionaris X] , heeft [werknemer] op 13 december 2016 medegedeeld dat het project bij Sioux per 1 januari 2017 afgerond zou zijn ten gevolge waarvan de arbeidsovereenkomst van [werknemer] bij Reef per die datum zou eindigen. Dit is vervolgens door Reef per e-mail van 14 december 2016 aan [werknemer] bevestigd.  \\n\\n2.4.\\n\\n        [werknemer] , dan wel diens gemachtigde, heeft bij brief van 3 januari 2017 bezwaar gemaakt tegen het door Reef gestelde einde van de arbeidsovereenkomst per 1 januari 2017. \\n\\n3\\nHet verzoek\\n\\nin de hoofdzaak\\n\\n3.1.\\n\\n        [werknemer] verzoekt om bij beschikking, voor zover mogelijk uitvoerbaar bij voorraad:\\na. de opzegging door Reef van 13/14 december 2016 te vernietigen dan wel voor recht te verklaren dat de arbeidsovereenkomst tussen Reef en [werknemer] niet met ingang van 1 januari 2017 van rechtswege is geëindigd;\\nb. te bepalen dat Reef [werknemer] te werk moet stellen in zijn functie van Project Buyer bij Sioux binnen uiterlijk twee dagen na dagtekening van de beschikking, op straffe van een dwangsom van € 250,-- per dag of deel daarvan Reef na betekening van deze beschikking hieraan niet voldoet;\\nc. veroordeling van Reef om binnen vijf dagen na datum van de beschikking aan [werknemer] te betalen het verschuldigde loon van € 3.969,-- bruto per 4 weken vermeerderd met alle emolumenten, waaronder vakantietoeslag, vanaf 1 januari 2017 tot de dag dat de arbeidsovereenkomst rechtsgeldig beëindigd zal zijn, te vermeerderen met de (maximale) wettelijke verhoging en de wettelijke rente; alles onder overlegging binnen 5 dagen na datum beschikking van deugdelijke specificatie(s) onder verbeurte van een dwangsom van    500,-- per dag dat Reef hiermee in gebreke blijft. \\n\\nin het incident\\n\\n3.2.\\n\\n        [werknemer] verzoekt om bij beschikking, voor zover mogelijk uitvoerbaar bij voorraad, voor de duur van de periode: \\na. te bepalen dat Reef [werknemer] binnen 2 dagen na datum beschikking te werk moet stellen in zijn functie van Project Buyer bij Sioux, op straffe van een dwangsom;\\nb. veroordeling van Reef om binnen vijf dagen na datum van de beschikking aan [werknemer] te betalen het verschuldigde loon van € 3.969,-- bruto per 4 weken vermeerderd met alle emolumenten, waaronder vakantietoeslag, vanaf 1 januari 2017 tot de dag dat de arbeidsovereenkomst rechtsgeldig beëindigd zal zijn, te vermeerderen met de (maximale) wettelijke verhoging en de wettelijke rente; alles onder overlegging binnen 5 dagen na datum beschikking van deugdelijke specificatie(s) onder verbeurte van een dwangsom van   € 500,-- per dag dat Reef hiermee in gebreke blijft. \\n\\nin de hoofdzaak en in het incident\\n\\n3.3.\\n\\n        [werknemer] verzoekt om bij beschikking, voor zover mogelijk uitvoerbaar bij voorraad, Reef te veroordelen tot betaling van de buitengerechtelijke incassokosten ad € 771,90 inclusief BTW met veroordeling van Reef in de proceskosten vermeerderd met rente. \\n\\n3.4.\\n\\n        [werknemer] legt aan zijn verzoeken, samengevat, ten grondslag dat geen sprake is van een rechtsgeldig einde van de arbeidsovereenkomst per 1 januari 2017.  \\n\\nEr is sprake van een arbeidsovereenkomst voor bepaalde tijd, te weten voor de duur van een jaar, die niet tussentijds kan worden beëindigd. Dit is uitdrukkelijk bij aanvang van de overeenkomst afgesproken. De arbeidsovereenkomst duurt derhalve voort tot (in ieder geval) 20 september 2017. \\n\\nDe ontbindende voorwaarde die in de arbeidsovereenkomst is opgenomen (zie weergegeven onder overweging 2.2.) is niet rechtsgeldig. Er is sprake van een onduidelijke omschrijving van het project waardoor het einde van de arbeidsovereenkomst niet objectief bepaalbaar is. Hij merkt in dit kader op dat hij bij Sioux werkzaam was op drie verschillende projecten en hij betwist dat sprake is van een einde van een project.  \\n\\nDe arbeidsovereenkomst is ook niet op een andere rechtsgeldige wijze geëindigd. Zo is de arbeidsovereenkomst niet overeenkomstig artikel 7:671 BW met toestemming van het UWV  dan wel met zijn instemming opgezegd en is evenmin sprake van een dringende reden. \\n\\nNu [werknemer] zijn vaste lasten niet dan wel nauwelijks meer kan betalen, heeft hij er belang bij tevens bij wijze van voorlopige voorziening doorbetaling van loon te vorderen.   \\n\\n4\\nHet verweer\\n\\n4.1.\\n\\nReef verweert zich tegen het verzoek. Zij voert, samengevat, aan dat de arbeidsovereenkomst op rechtsgeldige wijze per 1 januari 2017 is geëindigd nu de ontbindende voorwaarde zoals opgenomen in artikel 1 onder c en d van de arbeidsovereenkomst (zie onder 2.2.) is ingetreden. Sioux heeft namelijk, buiten de invloedsfeer van Reef, besloten het project te beëindigen, zodat daarmee ook de arbeidsovereenkomst van [werknemer] met Reef van rechtswege is geëindigd. \\n\\n          [werknemer] is tijdens de onderhandelingen bij het aangaan van de arbeidsovereenkomst geïnformeerd over de ontbindende voorwaarde en heeft daarmee ingestemd. Reef verwijst naar arresten van de Hoge Raad waaruit blijkt dat het opnemen van een ontbindende voorwaarde onder strikte voorwaarden is toegestaan. \\n\\nZij betwist dat het project niet duidelijk zou zijn omschreven. Voor zover [werknemer] stelt dat het project niet is geëindigd, merkt zij op dat dit ter beoordeling van de opdrachtgever is. Sioux heeft aan Reef aangegeven dat het project is gestopt en Reef kan geen invloed uitoefenen op de interne besluitvorming van de opdrachtgever. \\n\\nDe verzoeken dienen dan ook te worden afgewezen. Het verzoek om binnen 48 uur de arbeidsovereenkomst met [werknemer] te herstellen dient bovendien afgewezen te worden omdat de opzegging van het project door Sioux ertoe leidt dat de tussen partijen overeengekomen arbeidsovereenkomst bij herstel inhoudsloos is en Reef geen passende of gelijkwaardige functie ter beschikking heeft. Zij maakt bezwaar tegen de verzochte vergoeding wegens buitengerechtelijke incassokosten.     \\n\\n5\\nDe beoordeling\\n\\nin de hoofdzaak\\n\\n5.1.\\nTussen partijen is in geschil of de arbeidsovereenkomst op 1 januari 2017 op rechtsgeldige wijze is geëindigd. Volgens Reef is de ontbindende voorwaarde, zoals opgenomen in artikel 1 onder c en d van de arbeidsovereenkomst (zie onder 2.2), ingetreden zodat de arbeidsovereenkomst daardoor volgens haar van rechtswege is geëindigd. [werknemer] betwist dat sprake is van een rechtsgeldige ontbindende voorwaarde en voor zover wel sprake is van een rechtsgeldige ontbindende voorwaarde, is die volgens haar niet ingetreden.  \\n\\n5.2.\\n\\nDe eerste vraag is derhalve of hier sprake is van een rechtsgeldige ontbindende voorwaarde. \\nDe Hoge Raad heeft bij de beoordeling hiervan vooropgesteld dat de voor de arbeidsovereenkomst kenmerkende bescherming van de werknemer, die onder meer tot uiting komt in het wettelijk stelsel van het ontslagrecht, meebrengt dat de geldigheid van een ontbindende voorwaarde in een arbeidsovereenkomst slechts bij uitzondering kan worden aanvaard. Een voorwaarde die redelijkerwijs niet met dat wettelijk stelsel is te verenigen, zal niet tot een beëindiging van rechtswege van de arbeidsovereenkomst kunnen leiden. Van geval tot geval moet worden bezien of een voorwaarde als vorenbedoeld is te verenigen met dat wettelijk stelsel. Daarbij komt het mede aan op de aard, inhoud en context van de voorwaarde (HR 2 november 2012, ECLI:NL:HR:2012:BX0348). \\n\\n5.3.\\nDe kantonrechter is, met inachtneming van het voorgaande, van oordeel dat de ontbindende voorwaarde niet rechtsgeldig is. Hij overweegt daartoe als volgt. \\n\\n5.4.\\nTer zitting is gebleken dat beide partijen een andere opvatting hebben over wat exact onder de opdracht (of te wel het woord ‘project’) moet worden verstaan. Het project betreft volgens Reef kennelijk de inzet van [werknemer] als zodanig waaraan ook een projectnummer is gekoppeld en waarbij zijn werkzaamheden zijn omschreven als “\\n\\nhet inkopen van low volume producten voor de High Tech industrie”\\n. [werknemer] is er daarentegen vanuit gegaan dat met het project wordt bedoeld de werkzaamheden die hij zou gaan doen. Hij heeft aangevoerd dat hij niet op de hoogte is van de betekenis van het projectnummer en dat nummer ook niet in zijn werk herkent.\\n\\n5.5.\\n\\nDe ontbindende voorwaarde is naar het oordeel van de kantonrechter te ruim en onduidelijk geformuleerd. De wijze waarop de ontbindende voorwaarde is opgesteld (en door Reef is bedoeld) maakt dat het van de subjectieve waardering van de ‘inlener’ afhangt of en wanneer de voorwaarde in vervulling gaat. De ontbindende voorwaarde, waarbij het “project” betreft de inzet van [werknemer] en derhalve niet een activiteit die op enig moment eindigt, lijkt op een uitzendbeding, terwijl die zelfs verstrekkender gevolgen heeft dan een uitzendovereenkomst waarbij een werknemer na 26 weken arbeid te hebben verricht wel rechtsbescherming toekomt. \\nDe ontbindende voorwaarde doet naar het oordeel van de kantonrechter afbreuk aan de voor de werknemer geldende ontslagbescherming en is derhalve niet rechtsgeldig (vgl Hof ’s-Hertogenbosch 18 april 2017, ECLI:NL:GHSHE:2017:1694). Voor zover er geen ander werk voor [werknemer] bij Reef of een van haar opdrachtgevers voor handen is, dient dit voor rekening en risico van Reef te komen die zich bedient van een dergelijk beding.  \\n\\n5.6.\\nDit betekent dat de arbeidsovereenkomst niet van rechtswege is geëindigd op grond van de – niet-rechtsgeldige – ontbindende voorwaarde. De gevorderde verklaring voor recht dat de arbeidsovereenkomst tussen Reef en [werknemer] niet per 1 januari 2017 is geëindigd wordt derhalve toegewezen. Eveneens worden de vorderingen tot betaling van loon vanaf januari 2017 vermeerderd met wettelijke verhoging en wettelijke rente en de gevorderde specificaties toegewezen, met dien verstande dat de termijn voor het verschaffen van deugdelijke specificaties redelijkerwijs op tien dagen na betekening van de beschikking wordt gesteld en de dwangsom wordt gematigd tot € 250,-- per dag. \\n\\n5.7.\\n\\n        [werknemer] vordert wedertewerkstelling in zijn functie van Project Buyer bij Sioux. Wegens het ontbreken van een contractuele band van [werknemer] met Sioux kan hij naar het oordeel van de kantonrechter geen wedertewerkstelling bij de opdrachtgever van zijn werkgever afdwingen. De vordering op dit punt wordt derhalve afgewezen. \\n\\n5.8.\\nHet is niet dan wel onvoldoende gebleken dat incassowerkzaamheden zijn verricht die voor vergoeding in aanmerking dienen te komen. De gevorderde vergoeding voor buitengerechtelijke incassokosten wordt derhalve afgewezen. \\n\\n5.9.\\nReef wordt als de in het ongelijk gestelde partij veroordeeld in de proceskosten. De wettelijke rente wordt toegewezen vanaf veertien dagen nadat Reef schriftelijk tot betaling van deze kosten is aangemaand. \\n\\nIn het incident\\n\\n5.10.\\nNu in deze beschikking al een beslissing wordt gegeven over het verzoek van [werknemer] , is er geen reden meer om met toepassing van artikel 223 Rv nog een voorlopige voorziening te treffen. Een voorlopige voorziening op grond van dat artikel kan immers alleen worden getroffen voor de duur van het geding en het geding eindigt met deze beschikking. Het incidentele verzoek wordt daarom afgewezen. \\n\\n5.11.\\nDe kantonrechter ziet aanleiding om de proceskosten in het incident te compenseren, in die zin dat elke partij de eigen kosten draagt. \\n\\n6\\nDe beslissing\\n\\nDe kantonrechter:\\n\\nin de hoofdzaak\\n\\nverklaart voor recht dat de arbeidsovereenkomst tussen Reef en [werknemer] niet met ingang van 1 januari 2017 is geëindigd;\\n\\nveroordeelt Reef om binnen vijf dagen na betekening van de beschikking aan [werknemer] te betalen:\\n\\n- een bedrag van € 3.969,-- bruto per vier weken te vermeerderen met alle emolumenten waaronder vakantietoeslag, vanaf 1 januari 2017 tot aan de dag dat de arbeidsovereenkomst rechtsgeldig zal zijn beëindigd;\\n- de wettelijke verhoging ex artikel 7:625 BW over het achterstallige salaris;\\n- de wettelijke rente over het salaris en de wettelijke verhoging vanaf het tijdstip van opeisbaarheid van de respectieve bedragen tot de dag van voldoening. \\n\\nveroordeelt Reef om binnen tien dagen na betekening van de beschikking deugdelijke specificaties aan [werknemer] te verschaffen, op straffe van verbeurte van een dwangsom van            € 250,-- per dag dat Reef hiermee in gebreke blijft;\\n\\nveroordeelt Reef tot betaling van de proceskosten, die de kantonrechter aan de kant van [werknemer] tot en met vandaag vaststelt op € 623,--, te weten:\\ngriffierecht\\t€\\t223,00\\nsalaris gemachtigde\\t€ \\t400,--;\\nmet de wettelijke rente hierover vanaf veertien dagen nadat Reef schriftelijk tot betaling van deze kosten is aangemaand;\\n\\nverklaart deze beschikking uitvoerbaar bij voorraad.\\n\\nwijst het meer of anders gevorderde dan wel verzochte af;\\n\\nin het incident\\n\\nwijst het verzoek af;\\n\\ncompenseert de kosten, in die zin dat elke partij de eigen kosten draagt. \\n\\nDeze beschikking is gewezen door mr. J.M.J. Godrie, kantonrechter, en op 9 mei 2017 in het openbaar uitgesproken in aanwezigheid van de griffier. \\n\\n'}),\n",
              " ('https://data.rechtspraak.nl/uitspraken/content?id=ECLI:NL:HR:2022:1112',\n",
              "  {'identifier': 'ECLI:NL:HR:2022:1112',\n",
              "   'issued': '2022-07-14',\n",
              "   'publisher': 'Raad voor de Rechtspraak',\n",
              "   'date': '2022-07-15',\n",
              "   'type': 'Uitspraak',\n",
              "   'modified': '2022-07-16T00:07:32',\n",
              "   'zaaknummer': '21/02591',\n",
              "   'creator': 'Hoge Raad',\n",
              "   'subject': 'Civiel recht; Burgerlijk procesrecht',\n",
              "   'inhoudsindicatie': 'Procesrecht. Verzoek voorlopig getuigenverhoor, art. 186 Rv, maatstaf en motivering; art. 3:303 BW, belang.',\n",
              "   'bodytext': '\\n HOGE RAAD DER NEDERLANDEN\\n\\nCIVIELE KAMER\\n\\nNummer\\n21/02591\\n\\nDatum\\n15 juli 2022\\n\\nBESCHIKKING\\n\\nIn de zaak van\\n\\n[verzoeker],\\n\\nVERZOEKER tot cassatie,\\nhierna: [verzoeker],\\nadvocaat: S.M. Kingma,\\n\\ntegen\\n\\nCREDIT EUROPE BANK N.V.,\\n\\nVERWEERSTER in cassatie,\\nhierna: CEB,\\nadvocaat: R.L.M.M. Tan.\\n\\n1.\\tProcesverloop\\n\\nVoor het verloop van het geding in feitelijke instanties verwijst de Hoge Raad naar: \\n\\nde beschikkingen in de zaak C/13/657754/HA RK 18-380 van de rechtbank Amsterdam van 29 maart 2018 en 23 mei 2019;\\n\\nde beschikking in de zaak 200.261.894/01 van het gerechtshof Amsterdam van 13 april 2021.\\n\\n      [verzoeker] heeft tegen de beschikking van het hof beroep in cassatie ingesteld. De procesinleiding is aan deze beschikking gehecht en maakt daarvan deel uit. \\nCEB heeft verzocht het beroep te verwerpen.\\nDe conclusie van de Advocaat-Generaal E.M. Wesseling-van Gent strekt tot vernietiging van de beschikking van het gerechtshof Amsterdam van 13 april 2021 en tot verwijzing.\\nDe advocaat van CEB heeft schriftelijk op die conclusie gereageerd.\\n\\n2\\nUitgangspunten en feiten\\n\\n2.1\\nIn cassatie kan van het volgende worden uitgegaan.\\n\\n(i) Tussen partijen heeft in ieder geval vanaf 1999 een meerjarige zakelijke relatie bestaan. In dit verband is [verzoeker], een zakenman met ervaring in de scheepvaartsector, op verzoek van CEB als aandeelhouder, bestuurder en/of adviseur betrokken geweest bij verschillende andere bedrijven.\\n(ii) Na daarvan eerder adviseur te zijn geweest is [verzoeker] in 2005 bestuurder en enig aandeelhouder geworden van de vennootschap naar Turks recht MMZ A.S. (hierna: MMZ). CEB heeft op enig moment een geldlening aan MMZ verstrekt, onder meer ten behoeve van de aankoop van een staalfabriek.\\n(iii) CEB heeft haar vordering uit hoofde van bovenbedoelde lening in 2010 verkocht en overgedragen aan een derde. Op zijn beurt heeft [verzoeker] zijn aandelen in MMZ in 2011 overgedragen aan vijf anderen. Hij heeft zijn functie als bestuurder neergelegd.\\n(iv) [verzoeker] is voorts enig aandeelhouder geweest van vier vennootschappen naar Maltees recht. Deze hebben in 2005 vier zeeschepen gekocht van Palmali Shipping A.S. (hierna: Palmali), een vennootschap naar Turks recht die een rederij voert. CEB heeft hypothecaire leningen verstrekt ten behoeve van de aankoop van die schepen.\\n(v) De zeeschepen zijn vervolgens door Palmali gehuurd en in haar bedrijf gebruikt. CEB heeft Palmali in 2008 verzocht de schepen terug te kopen. Dit is na verloop van tijd gebeurd. Na aanvankelijke weigering heeft [verzoeker] aan de verkoop en teruglevering meegewerkt.\\n(vi) Op 24 maart 2010 heeft een bespreking plaatsgevonden tussen enerzijds [verzoeker] en twee leden van de raad van commissarissen van CEB. Van dat gesprek heeft een van de commissarissen handgeschreven, in de Turkse taal gestelde, aantekeningen gemaakt.\\n\\n2.2.1\\n\\n          [verzoeker] heeft in deze procedure bij de rechtbank een bevel tot het houden van een voorlopig getuigenverhoor verzocht. Daaraan heeft [verzoeker] ten grondslag gelegd dat tussen partijen een overeenkomst tot stand is gekomen waarbij CEB zich heeft verplicht aan hem kredieten van USD 42.500.000,--  te verstrekken voor de aankoop van twee schepen en vergoedingen van USD 75.000,-- en USD € 45.000,-- per maand te betalen tot het moment waarop hij inkomsten uit de exploitatie van de door hem te kopen schepen zou ontvangen. [verzoeker] heeft zich volgens zijn stellingen verplicht tot overdracht van de hiervoor in 2.1 onder (ii) en (iii) genoemde aandelen in MMZ en tot verkoop en teruglevering van de hiervoor in 2.1 onder (iv) en (v) genoemde zeeschepen. [verzoeker] stelt dat hij zijn verplichtingen uit de overeenkomst wel is nagekomen, en dat CEB haar verplichtingen niet is nagekomen, en dat hij daarom recht heeft op schadevergoeding van CEB. Met het voorlopig getuigenverhoor wil [verzoeker] de gestelde overeenkomst bewijzen. De rechtbank heeft het verzoek afgewezen.\\n\\n2.2.2\\n\\nHet hof\\n\\nheeft de beschikking van de rechtbank bekrachtigd. Daaraan heeft het hof het volgende ten grondslag gelegd.\\nVoor toewijzing van een verzoek tot een voorlopig getuigenverhoor is op grond van art. 186, eerste lid, Rv in verbinding met art. 166, eerste lid, Rv allereerst vereist dat de verzoeker feiten heeft gesteld en te bewijzen heeft aangeboden die door de wederpartij zijn betwist en dat die feiten kunnen leiden tot de beslissing van een eventuele bodemzaak met betrekking tot de vordering die de verzoeker meent te hebben. In het nu voorliggende geval moet het gaan om feiten die kunnen leiden tot het bewijs van de totstandkoming van de door [verzoeker] gestelde overeenkomst tussen partijen, aangezien [verzoeker] aan de niet-nakoming daarvan door CEB een vordering tot schadevergoeding wil ontlenen. [verzoeker] beroept zich voor de totstandkoming van die overeenkomst in het bijzonder op de (hiervoor in 2.1 onder (vi) genoemde) bespreking op 24 maart 2010 en op de handgeschreven aantekeningen van deze bespreking. Van die aantekeningen is zowel een kopie van het origineel als een Engelstalige vertaling overgelegd. Deze laatste maakt melding van een eerste schip “\\n\\nto be performed with 15% equity between $ 15 - $ 17\\n”, een tweede schip “\\nwith approximately $ 25 - 27,5 credit limit\\n”, alsmede (verbeterd gelezen:) “\\nMMZ to be transferred after this second credit is used\\n”. Er staat verder, onder meer: “\\nOnce the first vessel is completed, the money owed to [verzoeker] will reduce from $ 75 thousand monthly to $ 45 thousand. After the second vessel is completed, monthly allowance will be cancelled out. (...) A cap will be set as for how long to pay $ 45 monthly.\\n” (rov. 3.4)\\nDe bespreking op 24 maart 2010 waarop [verzoeker] zich beroept, de echtheid van de overgelegde aantekeningen van deze bespreking, en de juistheid van hetgeen daarin is vermeld, heeft CEB niet betwist. Die feiten behoeven dus niet te worden bewezen in een voorlopig getuigenverhoor. Wel betwist CEB de daaruit door [verzoeker] gemaakte gevolgtrekking dat tussen partijen een overeenkomst tot stand is gekomen met een inhoud zoals hiervoor in 2.2.1 omschreven. Of de door [verzoeker] gestelde, onbetwiste, feiten de gevolgtrekking wettigen dat een zodanige overeenkomst tot stand is gekomen, is een vraag die door waardering en beoordeling van die feiten in het licht van de verdere omstandigheden van het geval moet worden beantwoord. Een voorlopig getuigenverhoor is voor een dergelijk doel niet bestemd. [verzoeker] heeft geen voldoende andere feiten gesteld die door CEB zijn betwist en die, al of niet in samenhang met de hiervoor genoemde feiten, het bewijs van de totstandkoming van de overeenkomst kunnen opleveren. [verzoeker] heeft weliswaar gesteld dat de bespreking de bevestiging was van mondelinge afspraken die eerder waren gemaakt, maar die afspraken, wat daarvan verder zij, hielden volgens hem niets anders in dan hetgeen over de bespreking is vastgelegd en laten de vraag onbeantwoord of tussen partijen een overeenkomst is tot stand gekomen zoals hiervoor in 2.2.1 vermeld. (rov. 3.5)\\nHetzelfde geldt met betrekking tot de uiteenzetting van [verzoeker] over de zakelijke verhoudingen tussen partijen in de loop van de tijd en hetgeen, volgens hem, tussen partijen is voorgevallen in verband met MMZ, de van Palmali gekochte zeeschepen en de verschillende geldleningen die CEB in dat kader heeft verstrekt. De daarin gestelde feiten, voor zover door CEB betwist, kunnen niet het bewijs van de gestelde overeenkomst opleveren en kunnen dus evenmin leiden tot de beslissing van een eventuele bodemzaak over de vordering die [verzoeker] aan die overeenkomst wil ontlenen. Het gaat bij die uiteenzetting hoogstens om omstandigheden die in een eventuele bodemzaak van belang zouden kunnen zijn bij de duiding van hetgeen partijen op 24 maart 2010 volgens de aantekeningen hebben besproken, niet om feiten waarin het bewijs van de door [verzoeker] aangenomen overeenkomst is of kan zijn gelegen. Dit laatste geldt ook voor de kredietvoorwaarden, waaronder looptijd, rente en aflossing, die volgens [verzoeker] op de door CEB aan hem te verstrekken kredieten van toepassing zouden zijn, alleen al omdat de aantekeningen daarover niets vermelden en [verzoeker] geen andere feiten heeft gesteld waaruit volgt dat partijen de genoemde voorwaarden daadwerkelijk zijn overeengekomen. (rov. 3.6)\\n\\tOverweging verdient verder nog dat CEB al in eerste aanleg heeft aangevoerd dat de leden van de raad van commissarissen waarmee [verzoeker] heeft gesproken niet bevoegd waren namens CEB een overeenkomst aan te gaan. Het had op de weg van [verzoeker] gelegen te stellen en aannemelijk te maken dat en op welke grond de commissarissen ondanks de daarvoor geldende regels bevoegd waren namens CEB de door hem gestelde overeenkomst aan te gaan, althans dat CEB desondanks aan die gestelde overeenkomst is gebonden is. Dit heeft [verzoeker] nagelaten. De vordering die [verzoeker] meent te hebben, gaat uit van gebondenheid van CEB aan die overeenkomst. Ook op dit punt heeft [verzoeker] daarom onvoldoende feiten gesteld die kunnen leiden tot het bewijs van de overeenkomst waaraan hij een vordering wil ontlenen. Bij gebrek aan voldoende gestelde feiten waaruit gebondenheid van CEB daaraan kan volgen, valt evenmin in te zien dat [verzoeker] bij het verzoek tot een voorlopig getuigenverhoor voldoende belang heeft, zoals vereist door art. 3:303 BW, zodat het verzoek ook hierop afstuit. (rov. 3.7)\\n\\n3\\nBeoordeling van het middel\\n\\n3.1\\nOnderdeel 1 van het middel bevat de kernklacht dat het hof in rov. 3.3-3.7 een onjuiste maatstaf heeft aangelegd bij de beoordeling van het verzoek van [verzoeker] tot het houden van een voorlopig getuigenverhoor, of zijn afwijzing van dat verzoek onvoldoende heeft gemotiveerd.\\n\\n3.2.1\\nBij het beoordelen van deze klacht dient op grond van vaste rechtspraak van de Hoge Raad\\n\\nhet volgende (3.2.2-3.2.4) tot uitgangspunt.\\n\\n3.2.2\\nEen voorlopig getuigenverhoor strekt onder meer ertoe belanghebbenden bij een eventueel naderhand bij de burgerlijke rechter aanhangig te maken geding de gelegenheid te bieden vooraf opheldering te verkrijgen omtrent de feiten, teneinde hen in staat te stellen hun positie beter te beoordelen, met name ook ten aanzien van de vraag tegen wie het geding moet worden aangespannen.\\n\\n3.2.3\\nDe verzoeker tot een voorlopig getuigenverhoor dient ingevolge art. 187 lid 3, aanhef en onder a en b, Rv in zijn verzoekschrift de aard en het beloop van de vordering te vermelden, alsmede de feiten of rechten die hij wil bewijzen. Dit dient hij te doen op zodanige wijze dat voor de rechter die op het verzoek moet beslissen, voor de rechter voor wie het verhoor zal worden gehouden, alsmede voor de wederpartij voldoende duidelijk is op welk feitelijk gebeuren het verhoor betrekking zal hebben. Niet is vereist dat de verzoeker al in het verzoekschrift nauwkeurig aangeeft welke feiten en stellingen hij aan zijn voorgenomen vordering ten grondslag wil leggen en omtrent welke feiten hij getuigen wil doen horen. Evenmin hoeft de verzoeker zich uit te laten over de precieze aard van de in te stellen vordering en, in voorkomend geval, de omvang van de geleden schade. Een voorlopig getuigenverhoor kan juist mede ertoe dienen degene die daarom verzoekt, in staat te stellen te beoordelen of het zinvol is een voorgenomen vordering in te stellen.\\n\\nIn de procedure tot het houden van een voorlopig getuigenverhoor ligt dan ook niet de toewijsbaarheid van de in het verzoekschrift aangeduide vordering ter toetsing voor.\\n\\n3.2.4\\nEen verzoek tot het houden van een voorlopig getuigenverhoor kan, als het overigens aan de eisen voor toewijzing daarvan voldoet, worden afgewezen op de grond dat van de bevoegdheid tot het bezigen van dit middel misbruik wordt gemaakt (art. 3:13 BW), op de grond dat het verzoek strijdig is met een goede procesorde, en op de grond dat het verzoek afstuit op een ander, door de rechter zwaarwichtig geoordeeld bezwaar. Voorts bestaat geen bevoegdheid tot het verzoeken van een voorlopig getuigenverhoor indien de verzoeker bij toewijzing daarvan onvoldoende belang heeft (art. 3:303 BW).\\n\\n3.3\\nHet oordeel van het hof geeft blijk van een onjuiste rechtsopvatting. In de eerste plaats verdient opmerking dat de omstandigheid dat feiten voorafgaand aan of in de procedure over het voorlopig getuigenverhoor niet betwist zijn, op zichzelf niet meebrengt dat de verzoeker geen belang heeft bij een getuigenverhoor over deze feiten. De feiten zouden immers in de regel alsnog betwist kunnen worden. In de tweede plaats heeft het hof ook overigens aan de inhoud van het verzoek van [verzoeker] te strenge eisen gesteld. [verzoeker] heeft aan zijn verzoek mede ten grondslag gelegd dat tussen hem en de belanghebbenden bij en bestuurders van CEB een nauwe relatie bestond waarin gewerkt werd in vertrouwen, dat hij nog een beloning zou ontvangen omdat hij aan CEB vermogensbestanddelen heeft overgedragen, en dat die beloning is geconcretiseerd in de afspraken zoals die – later – zijn vastgelegd in de aantekeningen van de bespreking op 24 maart 2010. Een voorlopig getuigenverhoor kan er mede toe dienen deze context van de volgens [verzoeker] gemaakte afspraken te onderzoeken. Ook het oordeel van het hof dat [verzoeker] zijn stellingen op het punt van de gebondenheid van CEB aan de afspraken nader had moeten concretiseren, miskent dat een voorlopig getuigenverhoor dat voorafgaat aan een mogelijk geding mede ertoe strekt [verzoeker] de gelegenheid te bieden opheldering te verkrijgen omtrent de feiten, teneinde hem in staat te stellen zijn positie beter te beoordelen. Uit het voorgaande volgt dat ook ontoereikend is gemotiveerd het oordeel van het hof dat [verzoeker] geen voldoende belang heeft bij zijn verzoek bij gebrek aan voldoende gestelde feiten waaruit gebondenheid van CEB aan de overeenkomst kan volgen. Onderdeel 1 slaagt dus, evenals onderdeel 3 voor zover het op onderdeel 1 voortbouwt\\n\\n3.4\\nDe overige klachten van het middel kunnen niet tot cassatie leiden. De Hoge Raad hoeft niet te motiveren waarom hij tot dit oordeel is gekomen. Bij de beoordeling van deze klachten is het namelijk niet nodig om antwoord te geven op vragen die van belang zijn voor de eenheid of de ontwikkeling van het recht (zie art. 81 lid 1 RO).\\n\\n4\\nBeslissing\\nDe Hoge Raad:\\n\\nvernietigt de beschikking van het gerechtshof Amsterdam van 13 april 2021;\\n\\nverwijst het geding naar het gerechtshof Den Haag ter verdere behandeling en beslissing;\\n\\nveroordeelt CEB in de kosten van het geding in cassatie, tot op deze uitspraak aan de zijde van [verzoeker] begroot op € 418,07 aan verschotten en € 2.200,-- voor salaris, vermeerderd met de wettelijke rente over deze kosten indien CEB deze niet binnen veertien dagen na heden heeft voldaan.\\n\\nDeze beschikking is gegeven door de raadsheren C.E. du Perron, als voorzitter, C.H. Sieburgh en S.J. Schaafsma, en in het openbaar uitgesproken door de raadsheer H.M. Wattendorff op\\n\\n15 juli 2022\\n.\\n\\nGerechtshof Amsterdam 13 april 2021, ECLI:NL:GHAMS:2021:1025.\\n\\nZie HR 22 december 2017, ECLI:NL:HR:2017:3250, rov. 4.2.1-4.2.3  met verdere verwijzingen.\\n\\nHR 22 december 2017, ECLI:NL:HR:2017:3250, rov. 4.2.2.\\n'}),\n",
              " ('https://data.rechtspraak.nl/uitspraken/content?id=ECLI:NL:RBDHA:2022:10504',\n",
              "  {'identifier': 'ECLI:NL:RBDHA:2022:10504',\n",
              "   'issued': '2022-10-13',\n",
              "   'publisher': 'Raad voor de Rechtspraak',\n",
              "   'date': '2022-10-07',\n",
              "   'type': 'Uitspraak',\n",
              "   'modified': '2022-10-13T09:55:58',\n",
              "   'zaaknummer': 'NL22.13274',\n",
              "   'creator': 'Rechtbank Den Haag',\n",
              "   'subject': 'Bestuursrecht; Vreemdelingenrecht',\n",
              "   'spatial': 'Middelburg',\n",
              "   'inhoudsindicatie': 'statushouder Italie, artikel 3 en 8 van het EVRM',\n",
              "   'bodytext': '\\n\\nBij besluit van 6 juli 2022 (het bestreden besluit) heeft verweerder de aanvraag van eiser tot het verlenen van een verblijfsvergunning asiel voor bepaalde tijd niet-ontvankelijk verklaard. \\n\\nEiser heeft tegen het bestreden besluit beroep ingesteld.\\n\\nDe rechtbank heeft het beroep, samen met de zaak NL22.13275, op 15 september 2022 op zitting behandeld. Partijen hebben zich laten vertegenwoordigen door hun gemachtigde.\\n\\nOverwegingen\\n\\n1. Eiser stelt te zijn geboren op [Geboortedatum] en de Somalische nationaliteit te hebben. Hij heeft op 14 juni 2022 in Nederland een asielaanvraag ingediend. Eisers echtgenote en minderjarig kind verblijven ook in Nederland en zijn per 5 februari 2021 in het bezit gesteld van een verblijfsvergunning asiel voor bepaalde tijd.\\n\\n2. Bij het bestreden besluit heeft verweerder de asielaanvraag van eiser op grond van artikel 30a, eerste lid, aanhef en onder a, van de Vreemdelingenwet 2000 (Vw) niet-ontvankelijk verklaard, omdat de Italiaanse autoriteiten hem met ingang van 15 februari 2015 internationale bescherming hebben verleend. Eiser is opgedragen zich onmiddellijk naar het grondgebied van Italië te begeven. In reactie op de zienswijze dat eiser in Nederland wenst te worden herenigd met zijn echtgenote en kind, heeft verweerder overwogen dat eiser daarvoor een afzonderlijke aanvraag moet indienen. Feiten en omstandigheden waarmee de vreemdeling een beroep doet op reguliere verblijfsaanspraken zijn volgens verweerder niet relevant voor de toepassing van artikel 30a van de Vw en 3.106a van het Vb. Eiser komt niet in aanmerking voor inwilliging van zijn aanvraag op grond van de nareisregeling, omdat zijn aanvraag niet is gedaan binnen drie maanden na verlening van de asielvergunning aan zijn echtgenote en kind. Toetsing aan  artikel 8 van het EVRM\\n\\nis niet aan de orde, omdat de asielaanvraag van eiser niet inhoudelijk is behandeld.\\n\\n3. Eiser voert aan dat verweerder niet overeenkomstig artikel 3.106a, tweede lid, van het Vreemdelingenbesluit 2000 (Vb) aan de hand van alle relevante feiten en omstandigheden heeft onderzocht of het redelijk is om van hem te verlangen dat hij naar Italië terugkeert. Eiser meent dat dit in zijn geval niet redelijk is. Daarnaast stelt hij dat het van onevenredige hardheid getuigt dat verweerder niet afziet van zijn bevoegdheid tot het niet-ontvankelijk verklaren van de asielaanvraag. Hij wijst erop dat hij in Italië nare ervaringen heeft gehad en als dakloze op straat aan het bedelen was. Het lukte hem niet om bescherming te vragen bij de Italiaanse autoriteiten. Verder is met name van belang dat zijn gezin in Nederland woont en dat eiser met hen wil worden herenigd. Eiser beroept zich in dit verband op de  uitspraak van deze rechtbank, zittingsplaats ’s-Hertogenbosch, van 24 maart 2022\\n\\n. Daaruit volgt volgens eiser dat verweerder bij de vraag naar de toepassing van zijn bevoegdheid om de asielaanvraag niet-ontvankelijk te verklaren reguliere argumenten moet betrekken en op kenbare wijze rekening moet houden met de belangen van het kind.\\n\\nDe rechtbank oordeelt als volgt.\\n\\n4. Op grond van artikel 30a, eerste lid, aanhef en onder a, van de Vw kan een asielaanvraag niet-ontvankelijk worden verklaard in de zin van artikel 33 van de Procedurerichtlijn\\n\\nals de vreemdeling in een andere lidstaat van de Europese Unie internationale bescherming geniet. Daarvoor wordt beoordeeld of de vreemdeling een zodanige band heeft met deze andere lidstaat dat het redelijk is om van hem te verlangen dat hij naar die lidstaat reist. Bij die beoordeling worden alle relevante feiten en omstandigheden betrokken, waaronder begrepen de aard, duur en omstandigheden van het eerder verblijf.\\n\\n5. Vaststaat dat aan eiser in Italië een asielstatus is verleend. Niet is gebleken dat hij daar niet langer internationale bescherming geniet. Alleen al hierom wordt aangenomen dat eiser met Italië een zodanige band heeft dat het in beginsel redelijk is om van hem te verlangen dat hij daarnaar terugkeert. Voor zover eiser heeft aangevoerd dat hij in Italië op straat heeft geleefd en heeft moeten bedelen, heeft hij daarmee niet aannemelijk gemaakt dat de situatie in Italië voor statushouders in het algemeen of voor hem in het bijzonder zo slecht is dat deze in strijd komt met artikel 3 van het EVRM of artikel 4 van het Handvest.\\n\\nVerweerder heeft in dat verband voldoende gemotiveerd dat eiser als statushouder in Italië dezelfde rechten geniet als een Italiaans staatsburger en dat het aan eiser is om die rechten te verwezenlijken. Niet is gebleken van bijzondere kwetsbaarheid. Eiser heeft de door hem gestelde leefomstandigheden in Italië niet verder gestaafd. Verweerder heeft terecht opgemerkt dat uit eisers verklaringen niet blijkt dat hij voldoende geprobeerd heeft om zijn situatie in Italië te verbeteren.\\n\\n6. Verweerder stelt ook terecht dat de aanwezigheid van eisers echtgenote en kind in Nederland en eisers wens om bij hen in Nederland te verblijven geen betekenis hebben bij de toepassing van artikel 30a van de Vw en artikel 3.106a van het Vb. Zoals ook is overwogen in de door eiser genoemde uitspraak van zittingsplaats ’s-Hertogenbosch van 24 maart 2022, heeft het Hof van Justitie van de Europese Unie in het arrest XXXX tegen België geoordeeld dat lidstaten een verzoek om internationale bescherming niet-ontvankelijk mogen verklaren zoals bedoeld in artikel 33, tweede lid, onder a, van de Procedurerichtlijn, zelfs als sprake is van een schending van het recht op eerbiediging van het gezinsleven of de rechten van het kind. Deze uitleg is namelijk nodig om eerbiediging te verzekeren van het beginsel van wederzijds vertrouwen waarop het Europees asielstelsel is gebaseerd.\\n\\n7. De formulering van artikel 30a, eerste lid aanhef en onder a, van de Vw laat zoals eiser terecht stelt ruimte om geen gebruik te maken van de daarin opgenomen bevoegdheid. Het is echter praktijk dat de asielaanvraag als uitgangspunt niet-ontvankelijk wordt verklaard indien de voorwaarde zoals genoemd in deze bepaling zijn vervuld. Daartoe kan nog worden gewezen op de tekst van paragraaf C2/6 van de Vreemdelingencirculaire 2000 waarin de bescherming van de vreemdeling in een andere EU-lidstaat wordt beschouwd als een omstandigheid op grond waarvan de aanvraag niet ontvankelijk\\n\\nis\\n. Niet is gebleken dat dit uitgangspunt kennelijk onredelijk is. Door eiser zijn ook geen feiten of omstandigheden gesteld op grond waarvan de toepassing van verweerders bevoegdheid in dit geval als onredelijk of onevenredig moet worden beschouwd.\\n\\n8. Voor zover het gaat om de mogelijkheid van gezinshereniging is in beroep niet bestreden dat eiser niet in aanmerking komt voor een asielvergunning op grond van de nareisregeling\\n\\n, zodat een nationaalrechtelijke asielvergunning op die grondslag evenmin aan de orde is.\\n\\n9. De aanvraag is dan ook terecht niet-ontvankelijk verklaard met toepassing van artikel 30a, eerste lid, aanhef en onder a, van de Vw.\\n\\n10. Voor zover eiser stelt dat verweerder ambtshalve het recht op eerbiediging van eisers gezinsleven met zijn echtgenote en kind had moeten beoordelen, faalt het beroep eveneens. Het recht op verblijf op grond van gezinsleven is hier niet aan de orde. Pas bij de inhoudelijke behandeling van een asielaanvraag verricht de staatssecretaris ambtshalve een toets aan artikel 8 van het EVRM.\\n\\n11. Het beroep zal ongegrond worden verklaard. Er is geen aanleiding voor een proceskostenveroordeling.\\n\\nBeslissing\\n\\nDe rechtbank verklaart het beroep ongegrond.\\n\\nDeze uitspraak is gedaan door mr. J.F.I. Sinack, rechter, in aanwezigheid van mr. M.Ch. Grazell, griffier, en openbaar gemaakt door middel van geanonimiseerde publicatie op www.rechtspraak.nl.\\n\\nDe uitspraak is bekendgemaakt op:\\n\\nBent u het niet eens met deze uitspraak?\\n\\nAls u het niet eens bent met deze uitspraak, kunt u een brief sturen naar de Afdeling bestuursrechtspraak van de Raad van State waarin u uitlegt waarom u het er niet mee eens bent. Dit heet een beroepschrift. U moet dit beroepschrift indienen binnen een week na de dag waarop deze uitspraak is verzonden. U ziet deze datum hierboven.\\n\\nVerdrag tot bescherming van de rechten van de mens en de fundamentele vrijheden\\n\\nECLI:NL:RBDHA:2022:2586\\n\\nRichtlijn 2013/32/EU\\n\\nArtikel 3.106a, tweede en derde lid, van het Vb\\n\\nHandvest van de grondrechten van de Europese Unie.\\n\\nZie het arrest van het HvJ EU van 22 februari 2022 (XXXX tegen België, C-483/20), ECLI:EU:C:2022:103, punt 36 en 37.\\n\\nArtikel 29, tweede lid, van de Vw.\\n\\nZie de uitspraken van de AbRS van 21 januari 2021, ECLI:NL:RVS:2021:122 en van de Voorzitter van de ABRS van 22 augustus 2022, ECLI:NL:RVS:2022:2421\\n'}),\n",
              " ('https://data.rechtspraak.nl/uitspraken/content?id=ECLI:NL:RBDOR:2011:BU9148',\n",
              "  {'identifier': 'ECLI:NL:RBDOR:2011:BU9148',\n",
              "   'issued': '2013-04-05',\n",
              "   'publisher': 'Raad voor de Rechtspraak',\n",
              "   'replaces': 'BU9148',\n",
              "   'date': '2011-12-22',\n",
              "   'type': 'Uitspraak',\n",
              "   'modified': '2015-11-12T08:18:16',\n",
              "   'zaaknummer': '95623 KG ZA 11-204',\n",
              "   'creator': 'Rechtbank Dordrecht',\n",
              "   'subject': 'Civiel recht',\n",
              "   'inhoudsindicatie': '\\nExecutiegeschil: eiseres vordert opheffing van de executie door gedaagde van een arrest van het hof Den Haag. Eiseres beroept zich op verrekening ter zake een (toevallig ongeveer even groot) bedrag (teruggave aan haar door belastingdienst) wat gedaagde in oktober 2003 ten onrechte op een bij een activatransactie van eiseres mee overgenomen bankrekening heeft ontvangen.  \\nGedaagde erkent dat het bedrag niet voor haar bestemd was, maar voert in 2011 voor het eerst aan dat het buiten haar macht is geraakt, doordat de bankrekening al in oktober 2003 aan een andere B.V. (binnen haar concern) was overgedragen. Niet is komen vast te staan dat ten tijde van de betaling door de Belastingdienst de bankrekening ook al op naam van die andere B.V. stond. Gedaagde heeft bankafschriften overgelegd over 2004, een periode die ruim nà het tijdstip van de teruggave van de Belastingdienst ligt. Er zal dus voorshands van worden uitgegaan dat gedaagde dit bedrag nog onder zich heeft en aangezien ook vaststaat door erkenning dat gedaagde niet de rechthebbende op dat bedrag is, zal verrekening mogen plaats vinden. Eiseres kan zich dus op verrekening beroepen, ter voorkoming van nogmaals de betaling van een vrijwel gelijk bedrag, terwijl er, ook door erkenning van gedaagde, een groot restitutierisico bestaat. Er is dus voor gedaagde geen rechtens te respecteren belang om de executie voort te zetten.\\n',\n",
              "   'bodytext': '\\nRECHTBANK DORDRECHT\\nSector civiel recht\\n\\nzaaknummer: 95623 KG ZA 11-204\\n\\nvonnis in kort geding van 22 december 2011 \\n\\nin de zaak van\\n\\nde besloten vennootschap met beperkte aansprakelijkheid SHOPEX ENGINEERING B.V.,\\nstatutair gevestigd te ’s-Hertogenbosch,\\neiseres,\\nadvocaat: mr. P.J. den Boef, \\n\\ntegen\\n\\nde besloten vennootschap met beperkte aansprakelijkheid BATU TRUST B.V.,\\nstatutair gevestigd te Dordrecht, feitelijk gevestigd te 2931 AA Krimpen aan de Lek, Admiraal de Ruijterstraat 9,\\ngedaagde,\\nadvocaat: mr. drs. S.O. Voogt.\\n\\nPartijen worden hieronder aangeduid als Shopex respectievelijk Batu Trust.\\n\\n1.\\tDe procedure\\nHet verloop van de procedure blijkt uit:\\n- de dagvaarding van 24 november 2011;\\n- de mondelinge behandeling ter openbare zitting van 15 december 2011, \\n- de pleitnota’s van partijen;\\n- de door beide partijen overgelegde producties.\\n\\n2.\\tDe feiten\\n2.1\\tShopex is de rechtsopvolgster van de vennootschap Thema Media B.V. (hierna: Thema Media) en heeft voorheen ook nog de statutaire naam WNS Den Bosch B.V. en WMS Den Bosch B.V gevoerd.\\n\\n2.2\\tOp 1 september 2000 zijn Thema Media en Batu Trust een overnameovereenkomst strekkende tot koop door Batu Trust van de uitgeverijactiviteiten aangegaan. In artikel 1 lid 5 van deze overeenkomst is vermeld dat de aan Thema Media verbonden bank- en girorekeningen per datum overdracht eveneens aan Batu Trust worden overgedragen.\\n\\n2.3\\tThema Media heeft onder meer de ABN-AMRO rekening met nummer [xx.xx.xx.xxx] aan Batu Trust overgedragen. \\n\\n2.4\\tNa het sluiten van de overnameovereenkomst op 1 september 2000 is tussen partijen een geschil over onder meer de hoogte van de koopprijs gerezen. \\n\\n2.5\\tOp 19 juli 2011 heeft het gerechtshof ’s-Gravenhage eindarrest gewezen, een vonnis van de rechtbank Rotterdam vernietigd en Batu Trust veroordeeld om aan WNS Den Bosch B.V. een bedrag van € 6.533,55 te betalen en WNS Den Bosch B.V. veroordeeld om aan Batu Trust een bedrag van € 34.351,16 te betalen. \\n\\n2.6\\tIn oktober 2003 heeft de Belastingdienst een bedrag van € 35.949,-- overgemaakt op de ABN-AMRO-rekening met het nummer [xx.xx.xx.xxx] ter zake een teruggaaf loonbelasting/ premie volksverzekering 2002 ten behoeve van Shopex.\\n\\n2.7\\tBij brief van 27 september 2004 heeft de advocaat van Shopex Batu Trust gesommeerd om het bedrag van € 35.949,-- vermeerderd met wettelijke rente terug te betalen. \\n\\n2.8\\tBij brief van 2 september 2011 heeft de advocaat van Batu Trust aan de advocaat van Shopex medegedeeld dat de teruggaaf van de Belastingdienst aan Initialmedia B.V. (hierna: Initialmedia) ten goede is gekomen. Initialmedia behoort tot het concern van Batu Trust.\\n\\n2.9\\tBij brief van 24 oktober 2011 heeft Initialmedia aan de advocaat van Shopex medegedeeld dat aan het verzoek tot terugbetaling van het bedrag van de Belastingdienst om bedrijfseconomische redenen niet kan worden voldaan.\\n\\n2.10\\tOp 14 november 2011 heeft Batu Trust de grosse van het arrest van19 juli 2011 aan Shopex betekend met het doel om de executie in gang te zetten.\\n\\n3.\\tDe vordering\\n3.1\\tShopex vordert dat het Batu Trust bij vonnis, uitvoerbaar bij voorraad, wordt verboden het arrest van 19 juli 2011 van het gerechtshof te ’s-Gravenhage met zaaknummer 105.002.835/01 (verder) ten uitvoer te leggen, althans subsidiair de executie van het arrest op te schorten totdat bij in kracht van gewijsde gegane beslissing definitief en volledig is beslist omtrent de vraag of de ten onrechte door Batu Trust ontvangen teruggaaf van de Belastingdienst mag/moet worden verrekend met de vordering van Batu Trust op Shopex, zulks op straffe van verbeurte van een dwangsom van € 1.000,-- per dag dat Batu Trust niet aan deze veroordeling voldoet, met veroordeling van Batu Trust in de kosten van de procedure. \\n\\n3.2\\tShopex stelt hiertoe het volgende. \\nBatu Trust maakt misbruik van bevoegdheid om het arrest ten uitvoer te leggen. Batu Trust is door de betaling van de Belastingdienst die abusievelijk op de door haar overgenomen rekening heeft plaatsgevonden ongerechtvaardigd verrijkt. Deze vordering van Shopex dient dan ook met de vordering die Batu Trust uit hoofde van het arrest op Shopex heeft, verrekend te worden. De betaling van de Belastingdienst heeft geen onderwerp uitgemaakt van de procedures bij de rechtbank Rotterdam en het gerechtshof ’s-Gravenhage. Aan de vereisten voor verrekening is voldaan. Batu Trust wist ten tijde van het ontvangen van het bedrag dat Shopex rechthebbende op het bedrag was. Bij de betaling is het aanslagnummer vermeld dat op naam van Shopex staat. Op het moment van het ontstaan van de vordering met betrekking tot de teruggaaf van de Belastingdienst was Shopex schuldeiser en Batu Trust schuldenaar. De heer Smeele, directeur van Batu Trust, heeft de teruggaaf willens en wetens gebruikt binnen zijn concern en weigert het bedrag aan Shopex terug te betalen. Er is sprake van vereenzelviging en het op deze wijze executeren van het arrest is onrechtmatig. Per saldo dient Shopex nog een bedrag van Batu Trust te ontvangen. Door betaling van het op grond van het arrest verschuldigde bedrag aan Batu Trust zal bij Shopex een noodtoestand ontstaan omdat zij dit bedrag niet kan betalen. Daarnaast is sprake van een niet gering restitutierisico. \\n\\n3.3\\tHet verweer\\nBatu Trust heeft de vordering gemotiveerd weersproken. De inhoud van haar verweer zal hierna voor zover nodig nader worden omschreven.\\n\\n4.\\tDe beoordeling\\n4.1\\tHet spoedeisend belang van Shopex vloeit voort uit de aard van de vorderingen.\\n\\n4.2\\tShopex vordert primair een verbod tot executie van de in kracht van gewijsde gegane rechterlijke uitspraak van het gerechtshof ’s-Gravenhage van 19 juli 2011 en subsidiair de opschorting daarvan. \\n\\n4.3\\tDe voorzieningenrechter kan in een executiegeschil de tenuitvoerlegging van een rechterlijke uitspraak slechts staken, indien hij van oordeel is dat de executant - mede gelet op de belangen aan de zijde van de geëxecuteerde die door de executie zullen worden geschaad - geen in redelijkheid te respecteren belang heeft bij gebruikmaking van zijn bevoegdheid tot tenuitvoerlegging over te gaan. Dat zal het geval kunnen zijn indien de te executeren uitspraak klaarblijkelijk op een juridische of feitelijke misslag berust of indien de tenuitvoerlegging op grond van na deze uitspraak voorgevallen of aan het licht gekomen feiten klaarblijkelijk aan de zijde van de geëxecuteerde een noodtoestand zal doen ontstaan, waardoor een onverwijlde tenuitvoerlegging niet kan worden aanvaard. \\n\\n4.4\\tShopex doet primair een beroep op verrekening. Voor verrekening is vereist dat de schuldenaar die zich op verrekening beroept een prestatie te vorderen heeft die beantwoordt aan zijn schuld jegens dezelfde wederpartij. Batu Trust heeft erkend dat de betaling van de Belastingdienst op de bewuste ABN-AMRO rekening heeft plaatsgevonden. Batu Trust heeft echter betwist dat de betreffende betaling bij haar terecht is gekomen, aangezien Initialmedia toen de rechthebbende van de bankrekening was geworden. Batu Trust heeft dit echter niet aan de hand van deugdelijke bescheiden onderbouwd. Ter zitting heeft zij slechts bankafschriften van de betreffende bankrekening op naam van Initialmedia over het jaar 2004 getoond en niet, wat gelet op haar stelling voor de hand zou hebben gelegen, van het tijdstip van de betaling door de Belastingdienst in oktober 2003. \\n\\n4.5\\tHet is daarom alleszins aannemelijk dat deze ABN-AMRO rekening ten tijde van de betaling door de Belastingdienst nog ten name van Batu Trust heeft gestaan. Verder heeft Batu Trust niet betwist dat de kwestie omtrent de betaling van de Belastingdienst door partijen tijdelijk is geparkeerd en om die reden niet in de procedures bij de rechtbank en het gerechtshof is meegenomen. Het is naar het oordeel van de voorzieningenrechter dan ook niet onaannemelijk dat Batu Trust ongerechtvaardigd is verrijkt zodat Shopex een recht op verrekening heeft. \\n\\n4.6\\tHet komt er dus op neer dat voorshands moet worden aangenomen dat Batu Trust ten onrechte gelden van Shopex onder zich heeft, die voor verrekening vatbaar zijn. Hier komt bij dat er sprake is van een aanzienlijk restitutierisico voor Shopex aangezien Batu Trust heeft aangevoerd dat zij op dit moment uitsluitend schulden heeft van totaal € 90.000,-- en dat zij haar werkzaamheden heeft moeten staken. \\n\\n4.7\\tBatu Trust zou bij een executie aanspraak maken op betaling van bedragen die zij reeds heeft ontvangen. Het vorenstaande leidt tot de conclusie dat Batu Trust bij uitvoering van de executie geen rechtens te respecteren belang heeft. Op grond van het voorgaande zal de primaire vordering van Shopex worden toegewezen. De gevorderde dwangsom zal eveneens worden toegewezen, met dien verstande dat deze wordt gemaximeerd tot een bedrag van € 75.000,--.\\n\\n4.8\\tBatu Trust wordt als de in het ongelijk gestelde partij in de proceskosten veroordeeld. De kosten aan de zijde van Shopex worden begroot op:\\n- vast recht\\t\\t€       560,00\\n- salaris gemachtigde \\t€       816,00\\nTotaal\\t\\t\\t€     1376,00\\n\\n5.\\tDe beslissing in kort geding\\n\\nDe voorzieningenrechter:\\n\\nverbiedt Batu Trust om het arrest van 19 juli 2011 van het gerechtshof te ’s-Gravenhage met zaaknummer 105.002.835/01 (verder) ten uitvoer te leggen, zulks op straffe van verbeurte van een dwangsom van € 1.000,-- per dag dat Batu Trust niet aan deze veroordeling voldoet en zulks met een maximum van € 75.000,--;\\n\\nveroordeelt Batu Trust in de kosten van het geding, tot op heden aan de zijde van Shopex vastgesteld op € 1.376,--;\\n\\nverklaart dit vonnis uitvoerbaar bij voorraad;\\n\\nDit vonnis is gewezen door mr. E.D. Rentema en uitgesproken ter openbare terechtzitting van 22 december 2011 in aanwezigheid van de griffier.'}),\n",
              " ('https://data.rechtspraak.nl/uitspraken/content?id=ECLI:NL:RVS:2024:3020',\n",
              "  {'identifier': 'ECLI:NL:RVS:2024:3020',\n",
              "   'issued': '2024-07-24',\n",
              "   'publisher': 'Raad voor de Rechtspraak',\n",
              "   'date': '2024-07-24',\n",
              "   'type': 'Uitspraak',\n",
              "   'modified': '2024-07-24T10:32:09',\n",
              "   'zaaknummer': '202304826/1/R1',\n",
              "   'creator': 'Raad van State',\n",
              "   'subject': 'Bestuursrecht',\n",
              "   'inhoudsindicatie': 'Bij besluit van 28 juni 2023 heeft de raad  van de gemeente Heerlen het bestemmingsplan \"Cityplan Heerlen reparatieplan Looierstraat perceel L 420\" vastgesteld. Het bestemmingsplan voorziet in een appartementencomplex aan de Looierstraat op het perceel kadastraal bekend als L 420. Comox MBC en andere is initiatiefnemer en wenst ruimere bouwmogelijkheden dan waarin het plan voorziet. AvS Belo is eigenaar van het naastgelegen pand aan de Looierstraat 15 en richt zich in beroep tegen de komst van het appartementencomplex. Zij wenst dat aan de betrokken gronden een groenbestemming wordt toegekend. De zaak is een vervolg op de uitspraak van de Afdeling van 22 februari 2023, ECLI:NL:RVS:2023:717. Comox MBC en andere zijn eigenaar van het perceel aan de Looierstraat  Dit perceel ligt braak. Zij willen op dit perceel een appartementencomplex ontwikkelen. Comox MBC en andere betogen dat het plan in een te klein aantal appartementen voorziet. Dat komt door de beperkingen in de bouwhoogte, de omvang van het bouwvlak en de situering van de balkons.AvS Belo betoogt dat nauwelijks behoefte bestaat aan nieuwe woningen, vanwege de oplopende vergrijzing.',\n",
              "   'bodytext': '\\n202304826/1/R1\\nDatum uitspraak: 24 juli 2024\\nAFDELING\\nBESTUURSRECHTSPRAAK\\nUitspraak in het geding tussen:\\n1.\\xa0\\xa0\\xa0\\xa0\\xa0\\xa0 AvS Belo B.V., gevestigd te Amsterdam,\\n2.\\xa0\\xa0\\xa0\\xa0\\xa0\\xa0 Comox MBC B.V., gevestigd te Heerlen, en andere (hierna: Comox MBC en andere),\\nappellanten,\\nen\\nde raad van de gemeente Heerlen,\\nverweerder.\\nProcesverloop\\nBij besluit van 28 juni 2023 heeft de raad het bestemmingsplan \"Cityplan Heerlen reparatieplan Looierstraat perceel L 420\" vastgesteld.\\nTegen dit besluit hebben AvS Belo en Comox MBC en andere beroep ingesteld.\\nDe raad heeft een verweerschrift ingediend.\\nComox MBC en andere hebben een nader stuk ingediend.\\nDe Afdeling heeft de zaak op een zitting behandeld op 22 mei 2024, waar Comox MBC en andere, vertegenwoordigd door [gemachtigden], en de raad, vertegenwoordigd door mr. H.H.M.F. Notermans en M.R. Francotte, zijn verschenen.\\nOverwegingen\\nOvergangsrecht inwerkingtreding Omgevingswet\\n1.\\xa0\\xa0\\xa0\\xa0\\xa0\\xa0 Op 1 januari 2024 zijn de Omgevingswet en de Invoeringswet Omgevingswet in werking getreden. Op grond van artikel 4.6, derde lid, van de Invoeringswet Omgevingswet blijft op een beroep tegen een besluit tot vaststelling van een bestemmingsplan waarvan het ontwerp vóór het tijdstip van inwerkingtreding van de Omgevingswet ter inzage is gelegd het recht zoals dat gold onmiddellijk vóór dat tijdstip van toepassing tot het bestemmingsplan onherroepelijk is.\\nHet ontwerpplan is op 21 mei 2021 ter inzage gelegd. Dat betekent dat op deze beroepsprocedure het recht, waaronder de Wet ruimtelijke ordening (hierna: Wro), zoals dat gold vóór 1 januari 2024 van toepassing blijft.\\nToetsingskader\\n2.\\xa0\\xa0\\xa0\\xa0\\xa0\\xa0 Bij de vaststelling van een bestemmingsplan moet de raad bestemmingen aanwijzen en regels geven die de raad uit het oogpunt van een goede ruimtelijke ordening nodig acht. De raad heeft daarbij beleidsruimte en moet de betrokken belangen afwegen. De Afdeling oordeelt niet zelf of het plan in overeenstemming is met een goede ruimtelijke ordening. De Afdeling beoordeelt aan de hand van de beroepsgronden of het besluit tot vaststelling van het bestemmingsplan in overeenstemming is met het recht. Daarbij kan aan de orde komen of de nadelige gevolgen van het plan onevenredig zijn in verhouding tot de met het plan te dienen doelen.\\nInleiding\\n3.\\xa0\\xa0\\xa0\\xa0\\xa0\\xa0 Het in deze zaak voorliggende bestemmingsplan voorziet in een appartementencomplex aan de Looierstraat op het perceel kadastraal bekend als L 420. Comox MBC en andere is initiatiefnemer en wenst ruimere bouwmogelijkheden dan waarin het plan voorziet. AvS Belo is eigenaar van het naastgelegen pand aan de Looierstraat 15 en richt zich in beroep tegen de komst van het appartementencomplex. Zij wenst dat aan de betrokken gronden een groenbestemming wordt toegekend. De zaak is een vervolg op de uitspraak van de Afdeling van 22 februari 2023, ECLI:NL:RVS:2023:717.\\nHet beroep van Comox MBC en andere\\nVoorgeschiedenis\\n4.\\xa0\\xa0\\xa0\\xa0\\xa0\\xa0 Comox MBC en andere voeren diverse beroepsgronden aan die sterk verweven zijn met de achtergrond en de voorgeschiedenis. Daarom zal de Afdeling eerst die achtergrond en voorgeschiedenis schetsen.\\n4.1.\\xa0\\xa0\\xa0 Comox MBC en andere zijn eigenaar van het perceel aan de Looierstraat dat kadastraal bekend staat als L 420. Dit perceel ligt braak. Zij willen op dit perceel een appartementencomplex ontwikkelen.\\nHet bestemmingsplan \"Het Loon 1987\" maakte op het perceel onder meer woningen mogelijk met een bouwhoogte van 25 m. Een principeverzoek van Comox MBC en andere van 16 januari 2020 voor een omgevingsvergunning voor woningbouw op grond van dat plan heeft niet geleid tot een omgevingsvergunning voordat de mogelijkheid tot woningbouw werd wegbestemd met het bestemmingsplan \"Cityplan Heerlen\".\\nBij besluit van 15 december 2021 heeft de raad het bestemmingsplan \"Cityplan Heerlen\" vastgesteld. Dat was een bestemmingsplan met verbrede reikwijdte als bedoeld in artikel 7c van het Besluit uitvoering Crisis- en herstelwet (hierna: Besluit uitvoering Chw). Dat plan voorzag voor het perceel in de bestemming \"Groen\". Dit plandeel is door de Afdeling vernietigd bij eerdergenoemde uitspraak van 22 februari 2023.\\nIn die uitspraak overwoog de Afdeling onder 17 en 18 dat de raad op zichzelf een deugdelijke reden had om geen woningbouw toe te staan op het perceel van Comox MBC en andere. De raad had zich naar het oordeel van de Afdeling op het standpunt mogen stellen dat het plan voor woningbouw geen maatschappelijke meerwaarde als bedoeld in het toepasselijke beleid had omdat het perceel onbebouwd is. Er is dus geen sprake is van transformatie van leegstaande panden.\\nOnder 19 overwoog de Afdeling echter dat de raad de belangen van Comox MBC en andere onvoldoende had meegewogen. Daarbij speelde een rol dat, zoals de raad op de zitting had erkend, het gemeentebestuur niet met de vereiste zorgvuldigheid heeft gehandeld door onvoldoende in overleg te treden met initiatiefnemer over het principeverzoek van 16 januari 2020. Ook speelde een rol dat de weigeringsgrond te maken had met een lijn op de geluidkaart van het bestemmingsplan \"Het Loon 1987\", maar dat de raad destijds aan Comox MBC en andere en ook op de zitting niet duidelijk kon maken waar die lijn precies lag. Tot slot speelde een rol dat toepassing was gegeven aan artikel 7c van het Besluit uitvoering Chw, zodat geen planschade hoefde te worden vergoed omdat het wegbestemmen van de onbenutte bouw- en gebruiksmogelijkheid geacht werd voorzienbaar te zijn.\\nOm deze redenen vernietigde de Afdeling het plan voor het perceel vanwege strijd met de artikelen 3:2 (zorgvuldigheid) en 3:4 (belangenafweging) van de Algemene wet bestuursrecht (hierna: Awb). De raad werd opgedragen om binnen 16 weken een nieuw besluit te nemen.\\nHierop is de gemeente met de Comox MBC en andere in gesprek gegaan. Daarbij hebben Comox MBC en andere, om met de gemeente tot overeenstemming te komen, hun bouwplan tweemaal verkleind ten opzichte van bovenstaand principeverzoek van 16 januari 2020. Dat principeverzoek had betrekking op 37 appartementen, waarbij het gebouw 25 m hoog was en een plat dak had. Comox MBC en andere presenteerden bij een derde gesprek op 19 april 2023 een bouwplan voor 32 appartementen met een goot- en bouwhoogte van 17 m en 19,5 m. Dit bouwplan is met ambtenaren van de gemeente besproken waarbij is afgesproken dat een afspraak met de betrokken wethouders zou worden gemaakt.\\nHet gesprek met de wethouders heeft niet plaatsgevonden, ondanks herhaalde pogingen tot contact vanuit Comox MBC en andere. Op 12 mei 2023 zijn vanuit de gemeente nieuwe kaders opgesteld waaraan het bouwplan moest voldoen. Volgens Comox MBC en andere was dat onverwacht en zonder nader overleg. Die kaders hadden een goot- en bouwhoogte van 15 m en 18 m en een kleiner bouwvlak. Deze kaders werden op 24 mei 2023 aan Comox MBC en andere medegedeeld. In geschil is of die kaders ook bij een gesprek op 10 mei 2023 waren medegedeeld.\\nOp 29 mei 2023 berichtten Comox MBC en andere aan de betrokken gemeenteambtenaren dat bouwen binnen de nieuwe kaders financieel niet haalbaar is. Er zou één bouwlaag te weinig zijn en er dreigden te kleine appartementen gerealiseerd te moeten worden. Comox MBC en andere stelden een verdere verkleining van hun bouwplan voor ten opzichte van het voorstel van 19 april 2023, maar vroegen wel om een goot- en bouwhoogte van 15 m en 19,5 en dus 1,5 meter extra in de bouwhoogte. Ook stuurden zij een verbeelding mee met een bouwvlak dat groter is dan in de nieuwe kaders staat met balkons buiten het bouwvlak.\\nUiteindelijk heeft de raad besloten in het nu voorliggende (reparatie)plan in een woonbestemming te voorzien, maar met een goot- en bouwhoogte van 15 m en 18 m. Ook de vergroting van het bouwvlak is niet meegenomen. Verder zijn volgens Comox BMC en andere geen balkons buiten het bouwvlak toegestaan. Daarmee is niet voorzien in de uitbreidingen waar Comox MBC en andere op 29 mei 2023 om hadden gevraagd. Het bestemmingsplan maakt volgens Comox MBC en andere maar 25 appartementen mogelijk. Daarmee is dit bouwplan volgens hen te klein geworden en daarom financieel niet haalbaar.\\nDat het bouwplan volgens Comox MBC en andere te klein en daarom financieel niet haalbaar is, staat niet in het raadsvoorstel. Daarin staat dat er geen tegenargumenten en risico\\'s zijn voor het reparatieplan en dat in beginsel tot overeenstemming met de eigenaar en de beoogde ontwikkelaar over de toekenning van een woonbestemming was gekomen. De raad heeft volgens Comox MBC en andere de gewenste uitbreidingen zonder nader overleg afgewezen.\\nHet aantal voorziene appartementen\\n5.\\xa0\\xa0\\xa0\\xa0\\xa0\\xa0 Comox MBC en andere betogen dat het plan in een te klein aantal appartementen voorziet. Dat komt door de beperkingen in de bouwhoogte, de omvang van het bouwvlak en de situering van de balkons.\\n5.1.\\xa0\\xa0\\xa0 Bij deze beroepsgrond van Comox MBC en andere is het verweer van de raad bij het beroep van AvS Belo relevant. Daar stelt de raad zich op het standpunt dat de voorziene woningen op grond van de planregels alleen kunnen worden vergund als dat past binnen de geldende beleidskaders.\\n5.2.\\xa0\\xa0\\xa0 Artikel 5.1.1, aanhef en onder a, van de planregels luidt:\\n\"5.1 Bestemmingsomschrijving\\n5.1.1 Doeleinden\\nDe voor \\'Wonen\\' aangewezen gronden zijn bestemd voor:\\na. wonen, met dien verstande dat het aantal woningen niet mag toenemen ten opzichte van het aantal legale woningen dat bestond of op grond van een onherroepelijke omgevingsvergunning kon worden gerealiseerd op het tijdstip van inwerkingtreding van dit bestemmingsplan;\".\\nArtikel 5.4.1 luidt:\\n\"5.4.1 Woningaantallen\\nHet bevoegd gezag kan via een omgevingsvergunning afwijken van het bepaalde in 5.1 ten behoeve van het toevoegen van woningen. Een omgevingsvergunning kan slechts worden verleend indien vaststaat dat:\\na. de toe te voegen woningen voldoen aan de Structuurvisie Wonen Zuid Limburg (vastgesteld d.d 23 november 2016) of het structuurvisiebesluit Beleidsregel Ruim baan voor goede woningbouwplannen 2021 (vastgesteld d.d. 27 januari 2021) of diens rechtsopvolger, en\\nb. zijn of, gelet op het bepaalde in de in het eerste lid genoemde regionale structuurvisie en structuurvisiebesluit of diens rechtsopvolger, kunnen worden opgenomen op de regionale woningmarktprogrammering, en\\nc. de aanvrager door middel van onderzoek aantoont dat:\\n1. de bodemgesteldheid geschikt is voor wonen;\\n2. geen sprake is van significante negatieve ecologische effecten;\".\\n5.3.\\xa0\\xa0\\xa0 Deze planregeling komt erop neer dat het plan bij recht in nul woningen voorziet. In het plangebied zijn geen woningen en er is ook geen onherroepelijke omgevingsvergunning om woningen te realiseren. Zonder omgevingsvergunning om af te wijken van het bepaalde in artikel 5.1 mag het aantal woningen niet toenemen.\\nIn het stelsel van de Wet ruimtelijke ordening is een bestemmingsplan het ruimtelijke instrument waarin de wenselijke toekomstige ontwikkeling van een gebied wordt neergelegd. De raad dient bij de vaststelling van een bestemmingsplan rekening te houden met een initiatief voor een bouwplan, voor zover dat initiatief voldoende concreet is, tijdig kenbaar is gemaakt en ten tijde van de vaststelling van het plan op basis van de op dat moment bekende gegevens de ruimtelijke aanvaardbaarheid daarvan kan worden beoordeeld. Daarvan is in dit geval sprake. Door bij recht in nul woningen te voorzien is naar het oordeel van de Afdeling sprake van een verkapte weigering om te voorzien in het door Comox MBC en andere gewenste appartementencomplex. De raad was gehouden om met de vaststelling van het bestemmingsplan te beoordelen of hij het ruimtelijk initiatief van Comox MBC en andere planologisch aanvaardbaar vindt en of hij dit initiatief in het bestemmingsplan mogelijk wil maken. De raad mocht die keuze niet volledig doorschuiven naar de procedure van de omgevingsvergunning om van het plan af te wijken.\\nHet plan is in strijd met een goede ruimtelijke ordening als bedoeld in artikel 3.1 van de Wro.\\n5.4.\\xa0\\xa0\\xa0 Het betoog slaagt.\\nOmvang van de bouwmogelijkheden\\n6.\\xa0\\xa0\\xa0\\xa0\\xa0\\xa0 Comox MBC en andere betogen dat het plan in een te kleine bouwmassa voorziet. Comox MBC en andere wensen een goot- en bouwhoogte van 15 m en 19,5 in plaats van een goot- en bouwhoogte van 15 m en 18 m. Daarnaast wensen zij een groter bouwvlak conform de tekening van 29 mei 2023. Verder wensen zij dat balkons buiten het bouwvlak worden toegelaten. Doordat het plan hier niet in voorziet zijn te weinig appartementen mogelijk en worden de appartementen te klein. Dat brengt volgens hen met zich dat het plan niet financieel haalbaar is. Om dat aan te tonen hebben zij een financiële ‘quickscan‘ ingebracht.\\n6.1.\\xa0\\xa0\\xa0 Zoals onder het kopje ‘Voorgeschiedenis’ is overwogen, betrof het principeverzoek van 16 januari 2020 een bouwhoogte van 25 m en was die bouwhoogte toegestaan op grond van het bestemmingsplan \"Het Loon 1987\". Ook is door de Afdeling geoordeeld dat het gemeentebestuur bij de afhandeling van dat verzoek niet met de vereiste zorgvuldigheid had gehandeld door onvoldoende in overleg te treden met initiatiefnemer. Gelet hierop kan de Afdeling de raad niet volgen in zijn standpunt op de zitting dat de bouwhoogte al is verhoogd van 17 m naar 18 m. In plaats daarvan is de bouwhoogte verlaagd van 25 m met een plat dak naar een goot- en bouwhoogte van 15 m en 18 m.\\nOp zichzelf heeft de raad voldoende gemotiveerd waarom een bouwhoogte van 25 m met een plat dak niet langer gewenst is. Weliswaar zijn er in de omgeving gebouwen aanwezig van 25 tot 36 m hoog, maar de raad wenst voor het nieuwe appartementencomplex aan te sluiten bij de kleinschalige bebouwing van het binnengebied rondom het plangebied en de wijk ‘Eikenderveld’ ertegenover.\\nNaar het oordeel van de Afdeling heeft de raad echter onvoldoende gemotiveerd waarom een goot- en bouwhoogte van 15 m en 19,5 m ruimtelijk onaanvaardbaar is.\\n6.2.\\xa0\\xa0\\xa0 Wat betreft de omvang van het bouwvlak is op de zitting gebleken dat Comox MBC en andere een verruiming willen van 2 m aan de voorzijde. De raad heeft toegelicht dat de voorzijde van het appartementencomplex dan te dicht bij de ventweg zou komen. Echter, de afstand tussen de ventweg en het huidige bouwvlak is ongeveer 5 m. De raad heeft niet nader onderbouwd waarom onvoldoende ruimte bestaat voor een uitbreiding van het bouwvlak.\\nOok hier is naar het oordeel van de Afdeling van belang dat Comox MBC en andere op grond van het bestemmingsplan \"Het Loon 1987\" grotere bouwmogelijkheden hadden. In het overleg met ambtenaren van de gemeente op 19 april 2023 is een bouwplan met een groter bouwvlak besproken. Daarna heeft de raad de bouwmogelijkheden zonder nader overleg met initiatiefnemer over de financiële haalbaarheid verkleind.\\nGelet op het vorenstaande heeft de raad onvoldoende gemotiveerd dat geen ruimte bestaat om het bouwvlak aan de voorzijde met 2 m te vergroten.\\n6.3.\\xa0\\xa0\\xa0 Wat betreft de balkons heeft de raad zich op het standpunt gesteld dat het plan balkons buiten het bouwvlak mogelijk maakt. Gebleken is echter dat dit geen betekenis heeft.\\nOp grond van artikel 2.7 van de planregels mogen balkons de bouwgrens met 1,5 m overschrijden. Ingevolge artikel 1.17 wordt onder bouwgrens verstaan de grens van een bouwvlak. In dit geval is het bouwvlak echter even groot als het plandeel met de bestemming \"Wonen\". Er is dus geen gedeelte van de bestemming \"Wonen\" buiten het bouwvlak waar de balkons kunnen komen. Gelet hierop heeft de raad in het plan niet geregeld wat hij heeft beoogd. In zoverre is het plan onzorgvuldig vastgesteld.\\n6.4.\\xa0\\xa0\\xa0 Ook is niet gebleken dat de raad bij de vaststelling van de bouwhoogte, de omvang van het bouwvlak en de situering van de balkons de belangen van Comox MBC en andere bij een financieel haalbaar bouwplan heeft meegewogen.\\n6.5.\\xa0\\xa0\\xa0 Gelet op het vorenstaande berust het plan niet op een toereikende motivering en belangenafweging als bedoeld in artikel 3:46 en 3:4 van de Awb en is het plan in strijd met een goede ruimtelijke ordening als bedoeld in artikel 3.1 van de Wro.\\n6.6.\\xa0\\xa0\\xa0 Het betoog slaagt.\\nOverige beroepsgronden\\n7.\\xa0\\xa0\\xa0\\xa0\\xa0\\xa0 Omdat bovenstaande beroepsgronden slagen, behoeven de overige beroepsgronden geen bespreking meer.\\nHet beroep van AvS Belo\\nBehoefte\\n8.\\xa0\\xa0\\xa0\\xa0\\xa0\\xa0 AvS Belo betoogt dat nauwelijks behoefte bestaat aan nieuwe woningen, vanwege de oplopende vergrijzing.\\n8.1.\\xa0\\xa0\\xa0 De raad stelt zich op het standpunt dat de voorziene woningen op grond van de planregels alleen kunnen worden vergund als dat past binnen de geldende beleidskaders.\\n8.2.\\xa0\\xa0\\xa0 Gelet op het overwogene onder 5.3 is de gekozen planregeling vastgesteld in strijd met een goede ruimtelijke ordening als bedoeld in artikel 3.1 van de Wro omdat het een verkapte weigering is om te voorzien in het door Comox MBC en andere gewenste appartementencomplex. Gelet hierop behoeft het betoog van AvS Belo over de behoefte geen verdere bespreking.\\nRisico op verzakken zijgevel\\n9.\\xa0\\xa0\\xa0\\xa0\\xa0\\xa0 AvS Belo vreest dat de bouw van het appartementencomplex op het perceel L 420 dan wel de aanleg van de afrit naar de ondergrondse parkeergarage leidt tot verzakking van de zijgevel van het gebouw aan de Looierstraat 15 (hierna: het gebouw van AvS Belo). Hierbij voert zij aan dat haar gebouw ondersteund wordt door het oude fundament van de autogarage die voorheen op de naastgelegen gronden stond.\\n9.1.\\xa0\\xa0\\xa0 De afstand tussen het bouwvlak en de zijgevel van het gebouw van AvS Belo bedraagt ongeveer 8 m. Deze gronden zijn voorzien van de bestemming \"Tuin\". Op grond van artikel 3.1.1, onder c, van de planregels is daar een ontsluiting ten behoeve van het ondergronds parkeren toegestaan.\\nAppellant heeft niet gesteld dat de afstand van ongeveer 8 m onvoldoende is om het oude fundament ongemoeid te laten. Bovendien laten de planregels ook ruimte voor een invulling waarbij geen ondergrondse parkeergarage wordt gerealiseerd. Het betoog van appellant geeft daarom geen aanleiding voor het oordeel dat de raad het plan niet heeft kunnen vaststellen.\\nHet betoog slaagt niet.\\nSchaduwwerking op zonnepanelen\\n10.\\xa0\\xa0\\xa0\\xa0 AvS Belo betoogt dat het nieuwe appartementencomplex zal leiden tot schaduw op haar zonnepanelen. Bij een gebouw van 18 m hoog zal haar dak het merendeel van de dag in de schaduw komen te liggen. Om die reden wenst zij dat het plangebied wordt voorzien van de bestemming \"Groen\".\\n10.1.\\xa0 Uit het schaduwonderzoek volgt dat in het voorjaar en najaar (20 maart en 23 september) de schaduw in het begin van de middag valt op de lage uitbouw van AvS Belo. Het hoofdgebouw met zadeldak bevindt zich dan nog in de zon. In de zomer (21 juni) is er tot het einde van de middag zon op het dak. In de winter (22 december) tegen de middag komt het dak in de schaduw te liggen.\\nHieruit blijkt dat het plan slechts leidt tot een beperkte schaduwhinder op het dak van AvS Belo.\\n10.2.\\xa0 Het plangebied ligt in een stedelijke omgeving. In een dergelijke omgeving is het gebruikelijk dat de bebouwing dicht bij elkaar staat en daarbij schaduwwerking optreedt. In een dergelijke omgeving is schaduwwerking eerder aanvaardbaar dan in een niet-stedelijke omgeving. Gelet hierop en nu uit het schaduwonderzoek volgt dat het plan slechts leidt tot een beperkte schaduwhinder op het dak van AvS Belo, heeft de raad zich op het standpunt kunnen stellen dat de in het plan voorziene bebouwing niet leidt tot een onaanvaardbare schaduwhinder op het gebouw van AvS Belo.\\nHet betoog slaagt niet.\\nGezondheidsrisico’s\\n11.\\xa0\\xa0\\xa0\\xa0 AvS Belo betoogt dat de slechte luchtkwaliteit rondom het plangebied gezondheidsrisico’s met zich brengt voor de toekomstige bewoners van het appartementencomplex.\\n11.1.\\xa0 Artikel 8:69a van de Awb luidt:\\n\"De bestuursrechter vernietigt een besluit niet op de grond dat het in strijd is met een geschreven of ongeschreven rechtsregel of een algemeen rechtsbeginsel, indien deze regel of dit beginsel kennelijk niet strekt tot bescherming van de belangen van degene die zich daarop beroept.\"\\nUit de geschiedenis van de totstandkoming van de Wet aanpassing bestuursprocesrecht (Kamerstukken II, 2009/10, 32 450, nr. 3, blz. 18-20) blijkt dat de wetgever met artikel 8:69a van de Awb de eis heeft willen stellen dat er een verband is tussen een beroepsgrond en het belang waarin de appellant door het bestreden besluit dreigt te worden geschaad. De bestuursrechter mag een besluit niet vernietigen wegens schending van een rechtsregel die kennelijk niet strekt tot bescherming van het belang van degene die in (hoger) beroep komt.\\n11.2.\\xa0 De Afdeling overweegt dat artikel 8:69a van de Awb zich verzet tegen vernietiging van het bestemmingsplan naar aanleiding van het betoog van AvS Belo. De Afdeling licht dit als volgt toe.\\nAvS Belo beroept zich met haar betoog op normen die strekken tot de bescherming van het belang van een goed woon- en leefklimaat voor de toekomstige bewoners van de woningen die met het plan mogelijk worden gemaakt. Deze normen strekken kennelijk niet tot de bescherming van haar eigen belangen.\\nDaarom hoeft niet te worden beoordeeld of de door AvS Belo ingeroepen norm, die kennelijk niet strekt ter bescherming van haar belangen, is geschonden. De Afdeling zal het betoog dus niet inhoudelijk bespreken.\\nConclusie\\n12.\\xa0\\xa0\\xa0\\xa0 Gelet op wat Comox MBC en andere hebben aangevoerd ziet de Afdeling aanleiding voor het oordeel dat het bestreden besluit niet berust op een toereikende motivering en belangenafweging als bedoeld in artikel 3:46 en 3:4 van de Awb en is vastgesteld in strijd met een goede ruimtelijke ordening als bedoeld in artikel 3.1 van de Wro. De beroepen zijn gegrond, zodat het bestreden besluit moet worden vernietigd.\\n13.\\xa0\\xa0\\xa0\\xa0 De Afdeling ziet aanleiding om de raad met toepassing van artikel 8:72 van de Awb op te dragen om binnen 39 weken na verzending van deze uitspraak een nieuw besluit te nemen en dit besluit vervolgens op de wettelijk voorgeschreven wijze bekend te maken.\\nOm in de tussentijd onomkeerbare gevolgen te voorkomen, zal de Afdeling een voorlopige voorziening treffen dat het plan blijft gelden tot 4 weken na bekendmaking van het nieuwe besluit. Daarbij geldt dat als binnen deze termijn tegen het nieuw te nemen besluit beroep wordt ingesteld en tijdens de beroepstermijn een verzoek om voorlopige voorziening wordt ingediend, dan blijft de voorziening gelden totdat de voorzieningenrechter uitspraak heeft gedaan op dat verzoek.\\n14.\\xa0\\xa0\\xa0\\xa0 Zoals de Afdeling heeft overwogen in haar uitspraak van 27 maart 2024, ECLI:NL:RVS:2024:1174, zijn op een nieuw te nemen besluit de Omgevingswet en de daarbij behorende omgevingsrechtelijke regels van toepassing. Dat houdt onder meer in dat niet meer kan worden teruggevallen op het vóór 1 januari 2024 ter inzage gelegde ontwerpbestemmingsplan, omdat in het ontwerpbestemmingsplan geen regels zijn gesteld met het oog op een evenwichtige toedeling van functies aan locaties.\\n15.\\xa0\\xa0\\xa0\\xa0 De proceskosten hoeven niet te worden vergoed omdat niet is gebleken van kosten die daarvoor in aanmerking komen.\\nBeslissing\\nDe Afdeling bestuursrechtspraak van de Raad van State:\\nI.\\xa0\\xa0\\xa0\\xa0\\xa0\\xa0\\xa0 verklaart de beroepen gegrond;\\nII.\\xa0\\xa0\\xa0\\xa0\\xa0\\xa0 vernietigt het besluit van de raad van de gemeente Heerlen van 28 juni 2023 tot vaststelling van het bestemmingsplan \"Cityplan Heerlen reparatieplan Looierstraat perceel L 420\";\\nIII.\\xa0\\xa0\\xa0\\xa0\\xa0 draagt de raad van de gemeente Heerlen op om binnen 39 weken na verzending van deze uitspraak een nieuw besluit te nemen en dit vervolgens op de wettelijk voorgeschreven wijze bekend te maken;\\nIV.\\xa0\\xa0\\xa0\\xa0\\xa0 treft de voorlopige voorziening dat het bestemmingsplan \"Cityplan Heerlen reparatieplan Looierstraat perceel L 420\" blijft gelden tot 4 weken na bekendmaking van het nieuwe besluit, met dien verstande dat als binnen deze termijn tegen het nieuw te nemen besluit beroep wordt ingesteld en tijdens de beroepstermijn een verzoek om voorlopige voorziening wordt ingediend, de voorziening blijft gelden totdat de voorzieningenrechter uitspraak heeft gedaan op dat verzoek;\\nV.\\xa0\\xa0\\xa0\\xa0\\xa0\\xa0 gelast dat de raad van de gemeente Heerlen aan de hierna vermelde appellanten het door hen voor de behandeling van het beroep betaalde griffierecht vergoedt ten bedrage van:\\n€ 365,00 aan AvS Belo B.V.;\\n€ 365,00 aan Comox MBC B.V. en andere, met dien verstande dat bij betaling van genoemd bedrag aan een van hen het bestuursorgaan aan zijn betalingsverplichting heeft voldaan.\\nAldus vastgesteld door mr. G.T.J.M. Jurgens, lid van de enkelvoudige kamer, in tegenwoordigheid van mr. J.S.S. Hupkes, griffier.\\nw.g. Jurgens\\nlid van de enkelvoudige kamer\\nw.g. Hupkes\\ngriffier\\nUitgesproken in het openbaar op 24 juli 2024\\n635\\n'}),\n",
              " ('https://data.rechtspraak.nl/uitspraken/content?id=ECLI:NL:GHLEE:2008:BH0019',\n",
              "  {'identifier': 'ECLI:NL:GHLEE:2008:BH0019',\n",
              "   'issued': '2013-04-05',\n",
              "   'publisher': 'Raad voor de Rechtspraak',\n",
              "   'replaces': 'BH0019',\n",
              "   'date': '2008-12-23',\n",
              "   'type': 'Uitspraak',\n",
              "   'modified': '2015-11-12T08:59:21',\n",
              "   'zaaknummer': '107.001.719/01',\n",
              "   'creator': 'Gerechtshof Leeuwarden',\n",
              "   'subject': 'Civiel recht',\n",
              "   'inhoudsindicatie': 'Huurvordering. Niet voldaan aan dwingend rechtelijke verplichtingen van de artikelen 7:252 onder e en 7:259 BW.',\n",
              "   'bodytext': \"\\nArrest d.d. 23 december 2008\\nZaaknummer 107.001.719/01\\n\\nHET GERECHTSHOF TE LEEUWARDEN\\n\\nArrest van de eerste kamer voor burgerlijke zaken in de zaak van:\\n\\n[appellant],\\nwonende te [woonplaats appellant],\\nappellant,\\nin eerste aanleg: gedaagde,\\nhierna te noemen: [appellant],\\ntoevoeging,\\nadvocaat: mr. E. van Wolde, kantoorhoudende te Groningen,\\ndie ook heeft gepleit, \\n\\ntegen\\n\\n[geïntimeerde],\\nwonende te [woonplaats geïntimeerde],\\ngeïntimeerde,\\nin eerste aanleg: eiser,\\nhierna te noemen: [geïntimeerde],\\nadvocaat: mr. R.A. Schütz, kantoorhoudende te Leeuwarden,\\ndie ook heeft gepleit.\\n\\nHet geding in eerste instantie\\nIn eerste aanleg is geprocedeerd en beslist zoals weergegeven in het vonnis uitgesproken op 5 januari 2007 door de rechtbank Leeuwarden, sector kanton, locatie Leeuwarden (hierna: de kantonrechter).\\n\\nHet geding in hoger beroep\\nBij exploot van 4 april 2007 is door [appellant] hoger beroep ingesteld van genoemd vonnis met dagvaarding van [geïntimeerde] tegen de zitting van 18 april 2007.\\n\\nBij de memorie van grieven zijn producties overgelegd. De conclusie van deze memorie luidt:\\n\\n''bij arrest, uitvoerbaar bij voorraad, het vonnis van de rechtbank Leeuwarden, sector kanton, locatie Leeuwarden d.d. 5 januari 2007 (rolnummer: 16426/ CV EXPL 05-453) gewezen tussen appellant als gedaagde en geïntimeerde als eiser te vernietigen en opnieuw rechtdoende de vordering van de oorspronkelijke eiser af te wijzen met veroordeling van de geïntimeerde in de kosten van de procedure zowel in eerste aanleg als hoger beroep.''\\n\\nBij memorie van antwoord is door [geïntimeerde] verweer gevoerd met als conclusie:\\n\\n''bij arrest, uitvoerbaar bij voorraad, het vonnis van de Rechtbank te bekrachtigen alsmede daarnaast [appellant] te veroordelen aan [geïntimeerde] op grond van de vermeerderde eis terzake de nutskosten de somma van Euro 4.120,92 te voldoen, te vermeerderen met de wettelijke rente vanaf 3 maart 2006 tot aan de dag der algehele voldoening, toe te wijzen, met veroordeling van [appellant] in de kosten van het geding in hoger beroep.''\\n\\nVervolgens hebben partijen hun zaak doen bepleiten door hun advocaten, [appellant] onder overlegging van een pleitnota.\\n\\nTenslotte hebben partijen arrest gevraagd en heeft het hof een dag bepaald waarop arrest zal worden gewezen.\\n\\nDe grieven\\n[appellant] heeft vijf grieven opgeworpen.\\n\\nDe beoordeling\\n1. Als gesteld en niet betwist, dan wel op grond van de niet bestreden inhoud der overgelegde producties, staat het volgende tussen partijen vast:\\n* [appellant] heeft in of omstreeks maart 1991 van [geïntimeerde] woonruimte gehuurd aan de [adres].\\n* De huurprijs bedroeg bij aanvang van de huur Hfl. 550,-- per maand.\\n* [appellant] diende vooraf maandelijks een bedrag aan servicekosten te voldoen (voor gebruik gas en elektra), aanvankelijk van Hfl. 100,-- per maand.\\n* [appellant] is (na invoering van de euro) uitgegaan van een huurprijs van     € 218,-- per maand.\\n* [geïntimeerde] heeft in ieder geval tot 1 januari 2004 aan [appellant] toekomende huursubsidie rechtstreeks ontvangen van het ministerie van VROM. \\n\\n2. Stellend dat de huurprijs per 1 januari 2003 en per 1 januari 2004 op rechtmatige wijze is verhoogd en dat [appellant] met regelmaat geen of te weinig huur en servicekosten heeft betaald, vorderde [geïntimeerde] in eerste aanleg bij dagvaarding betaling van een bedrag groot € 4.262,53 van [appellant], te vermeerderen met de sinds 1 januari 2005 verschuldigde huurpenningen, alsmede ontbinding van de huurovereenkomst en ontruiming van het gehuurde. Bij conclusie van repliek heeft [geïntimeerde] aangegeven dat op gemeld bedrag € 1.308,-- in mindering dient te strekken. Nadien heeft [geïntimeerde] (bij akte d.d. 3 maart 2006) zijn vordering vermeerderd tot € 6.772,88. De kantonrechter heeft het verzet tegen die vermeerdering van eis gegrond verklaard en bij eindvonnis, waarvan beroep, [appellant] - onder meer - veroordeeld tot betaling van een bedrag groot € 6.572,90 ter zake van huurachterstand.\\n\\n3. In hoger beroep heeft [geïntimeerde] zijn vordering vermeerderd met een bedrag groot    € 4.120,92 ter zake van servicekosten (gas en elektra).\\n\\nMet betrekking tot de vermeerdering van eis:\\n4. [appellant] verzet zich tegen de vermeerdering van eis, deels op formele gronden ([geïntimeerde] zou appel hebben dienen in te stellen tegen de afwijzing ter zake in eerste aanleg) en deels op materiële gronden (de vordering is verjaard en onvoldoende gespecificeerd).\\n\\n5. [appellant] ziet voorbij aan het bepaalde in lid 2 van artikel 130 Rv., waarin is bepaald dat tegen de beslissing van de kantonrechter om de eiswijziging niet toe te staan geen hogere voorziening openstaat.\\n\\n6. Nu de bezwaren die [appellant] overigens tegen de vermeerdering van eis heeft inhoudelijk van aard zijn en niet inhouden dat die eis in strijd is met de goede procesorde en het hof ook ambtshalve geen bezwaren aanwezig acht om die vermeerdering toe te staan, zal recht worden gedaan op de vermeerderde eis.\\n\\nMet betrekking tot grief I:\\n7. De grief komt op tegen het oordeel van de kantonrechter dat er in de jaren 2003 en 2004 een rechtsgeldige huurverhoging heeft plaatsgevonden.\\n\\n8. De grief is gegrond. Wat er ook zij van hetgeen de kantonrechter heeft overwogen en beslist omtrent het tijdig in kennis stellen van [appellant] door [geïntimeerde] voor wat betreft de huurverhogingen, uit de ter zake overgelegde producties (bij de conclusie van repliek) blijkt dat de betreffende aanzeggingen niet voldoen aan het dwingend rechtelijk bepaalde in artikel 7:252 onder e BW (het voorstel tot huurverhoging vermeldt de wijze waarop en het tijdstip waarbinnen de huurder, wanneer hij bezwaren heeft tegen het voorstel, daarvan kan doen blijken, en de gevolgen die onderafdeling 2 paragraaf 1 afdeling 5, Titel 4 van Boek 7 BW daaraan verbindt).\\nVan een rechtsgeldige huurprijswijziging per 1 januari 2003 en per 1 april 2004 is derhalve geen sprake geweest.\\n\\nMet betrekking tot grief 5:\\n9. De grief richt zich tegen de door de kantonrechter toegewezen servicekosten en stellen de vraag aan de orde of de in rekening gebrachte servicekosten realistisch zijn.\\n\\n10. Het hof constateert dat gesteld noch gebleken is dat [geïntimeerde] op enig moment heeft voldaan aan het bepaalde in artikel 7:259 BW. Voor wat betreft de door [geïntimeerde] in rekening gebrachte verhogingen van de servicekosten heeft bovendien te gelden dat niet is gesteld of gebleken dat is voldaan aan het bepaalde in lid 1 van artikel 7:261 BW. Nu ook deze bepalingen van dwingend rechtelijke aard zijn, kan [geïntimeerde] in ieder geval geen aanspraak kan maken op een hoger bedrag aan servicekosten dan hetwelk bij de aanvang van de huurovereenkomst was overeengekomen (Hfl 100,--).\\n\\n11. De grief treft doel.\\n\\nMet betrekking tot de grieven 1 en 5, alsmede de overige grieven en het in hoger beroep door [appellant] gedane beroep op verjaring:. \\n12. [appellant] heeft zich in hoger beroep op het standpunt gesteld dat hetgeen [geïntimeerde] na eisvermeerdering heeft gevorderd in ieder geval is verjaard voor zover het betrekking heeft  op de periode voor (9) januari 2003. Nu niet is gesteld of gebleken dat de verjaring (tijdig) is gestuit en daartegen ook overigens geen verweer is gevoerd, dient het beroep op verjaring te worden gehonoreerd.\\n\\n   \\n13. Het hof moet, mede gelet op hetgeen hiervoor is overwogen, vaststellen dat de vordering van [geïntimeerde] voor wat betreft de huurachterstand volstrekt onvoldoende is onderbouwd om voor toewijzing (tot welke bedrag dan ook) in aanmerking te kunnen komen. Ontbrak ook reeds in eerste aanleg een deugdelijke specificatie, in hoger beroep heeft [geïntimeerde] zijn vordering niet nader gespecificeerd, ook niet nadat het hof ten pleidooie de raadsman van [geïntimeerde] heeft geconfronteerd met hetgeen hiervoor ten aanzien van de grieven 1 en 5 is overwogen.\\n\\n14. De grieven treffen derhalve - wat daar verder ook van zij - ten volle doel, zodat het vonnis waarvan beroep dient te worden vernietigd en de vordering inzake de achterstand van huur- en servicekosten van [geïntimeerde] alsnog volledig dient te worden afgewezen, hetgeen tevens meebrengt dat ook de daarmee samenhangende vorderingen alsnog dienen te worden afgewezen. \\n\\nDe slotsom\\n15. Het vonnis d.d. 5 januari 2007 waarvan beroep dient te worden vernietigd. \\nDe vorderingen van [geïntimeerde] dienen alsnog te worden afgewezen.\\n[geïntimeerde] zal als de in het ongelijk te stellen partij worden veroordeeld in de kosten van het geding in beide instanties (in hoger beroep voor salaris advocaat: 3 punten tarief II).\\n\\nDe beslissing\\nHet gerechtshof:\\n\\nvernietigt het vonnis d.d. 5 januari 2007, waarvan beroep;\\n\\nen opnieuw rechtdoende:\\n\\nwijst de vorderingen van [geïntimeerde] af;\\n\\nveroordeelt [geïntimeerde] in de kosten van het geding in beide instanties en begroot die tot aan deze uitspraak aan de zijde van [appellant]:\\nin eerste aanleg op nihil aan verschotten en € 1.125,-- aan geliquideerd salaris voor de gemachtigde, \\nin hoger beroep op € 335,31 aan verschotten en € 2.682,-- aan geliquideerd salaris voor de advocaat, \\n\\nbepaalt dat van voormelde bedragen aan de griffier dient te worden voldaan                      € 188,25 aan verschotten en € 3.807,-- voor geliquideerd salaris voor de advocaat die daarmee zal handelen overeenkomstig het bepaalde in artikel 243 Rv.\\n\\n\\tverklaart dit arrest voor wat de kostenveroordeling betreft uitvoerbaar bij voorraad;\\n \\nAldus gewezen door mr. Mollema, voorzitter en mrs. Verschuur en Kuiper, radenen uitgesproken door de rolraadsheer ter openbare terechtzitting van dit hof van dinsdag 23 december 2008 in bijzijn van de griffier.\"})]"
            ]
          },
          "execution_count": 34,
          "metadata": {},
          "output_type": "execute_result"
        }
      ],
      "source": [
        "display( rechtspraaknl_struc.summary(True) )\n",
        "\n",
        "rechtspraaknl_struc.random_sample(10)"
      ]
    }
  ],
  "metadata": {
    "colab": {
      "include_colab_link": true,
      "provenance": []
    },
    "kernelspec": {
      "display_name": "Python 3",
      "language": "python",
      "name": "python3"
    },
    "language_info": {
      "codemirror_mode": {
        "name": "ipython",
        "version": 3
      },
      "file_extension": ".py",
      "mimetype": "text/x-python",
      "name": "python",
      "nbconvert_exporter": "python",
      "pygments_lexer": "ipython3",
      "version": "3.8.10"
    },
    "vscode": {
      "interpreter": {
        "hash": "31f2aee4e71d21fbe5cf8b01ff0e069b9275f58929596ceb00d14d90e3e16cd6"
      }
    }
  },
  "nbformat": 4,
  "nbformat_minor": 0
}
