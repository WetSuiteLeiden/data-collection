{
 "cells": [
  {
   "attachments": {},
   "cell_type": "markdown",
   "metadata": {
    "colab_type": "text",
    "id": "view-in-github"
   },
   "source": [
    "<a href=\"https://colab.research.google.com/github/WetSuiteLeiden/data-collection/blob/master/api_rechtspraaknl_many.ipynb\" target=\"_parent\"><img src=\"https://colab.research.google.com/assets/colab-badge.svg\" alt=\"Open In Colab\"/></a>"
   ]
  },
  {
   "attachments": {},
   "cell_type": "markdown",
   "metadata": {},
   "source": [
    "# Purpose of this notebook\n",
    "\n",
    "Understanding what you can get out of [rechtspraak.nl](https://www.rechtspraak.nl/).\n",
    "\n",
    "Note that this is mostly just showing our work. If the rechtspraak [dataset](../../intro/wetsuite_datasets.ipynb) we provide suits your needs,\n",
    "then running this notebook would just be a slower and more cumbersome way to get basically the same.\n",
    "\n",
    "Somewhat related: [extras_datacollect_rechtspraak_codes](extras_datacollect_rechtspraak_codes.ipynb)"
   ]
  },
  {
   "attachments": {},
   "cell_type": "markdown",
   "metadata": {},
   "source": [
    "# Website, Open data API, and some other notes\n",
    "\n",
    "You are probably familiar with the [rechtspraak.nl](https://rechtspraak.nl) website, and possibly its [search that has a number of filters](https://uitspraken.rechtspraak.nl/#!/) (and some [exta query logic for the text](https://www.rechtspraak.nl/Uitspraken/Paginas/Hulp-bij-zoeken.aspx#1ab85aa0-e737-4b56-8ad5-d7cb7954718d77a998be-3c73-40e3-90f7-541fceeb00fd3)), which gives webpage results, with text where present."
   ]
  },
  {
   "attachments": {},
   "cell_type": "markdown",
   "metadata": {},
   "source": [
    "\n",
    "There is also an [Open Data van de Rechtspraak](https://www.rechtspraak.nl/Uitspraken/Paginas/Open-Data.aspx), an API that exposes much the same in data form.\n",
    "\n",
    "As [its documentation](https://www.rechtspraak.nl/SiteCollectionDocuments/Technische-documentatie-Open-Data-van-de-Rechtspraak.pdf) ([this intro](https://www.rechtspraak.nl/Uitspraken/paginas/open-data.aspx) may also be useful) mentions,\n",
    "- you stick query parameters on the base URL of http://data.rechtspraak.nl/uitspraken/zoeken \n",
    "- the results mainly mention ECLIs, which you can fetch details for via e.g. https://data.rechtspraak.nl/uitspraken/content?id=ECLI:NL:PHR:2011:BP5608 (more notes below)\n",
    "\n",
    "\n",
    "Worthy of note:\n",
    "- the fields you can search mostly matches with the 'Uitgebreid zoeken' at [uitspraken.rechtspraak.nl](https://uitspraken.rechtspraak.nl), such as:\n",
    "  - instantie / court code (basically that third element in the ECLI)\n",
    "  - rechtsgebied\n",
    "  - procedure\n",
    "\n",
    "- **You can't search in the body text**.  In a practical sense that largely limits the API to a 'keep updated with new cases' feed, specific to your interests, or generally.\n",
    "  - Worthy of note: the website search (queried via `https://uitspraken.rechtspraak.nl/api/zoek`) does support this, and even seems like a better data API than the _actual_ data API one -- but it doesn't look like it's supposed to be used externally.\n",
    "\n",
    "- there are plenty of cases where there is no text / document.  You can filter for this in the search.\n",
    "\n",
    "- the **identifiers** used are **ECLI** (European Case Law Identifier)\n",
    "  - which in this case will be mainly Dutch ECLIs  (`ECLI:NL:`...), used since 2013 or so, and which absorbed the previously used LJN identifiers.\n",
    "  - court code XX (`ECLI:NL:XX:`...) is used for things not (yet?) assgined to a court, and/or non-Dutch ECLIs,\n",
    "    - rechtspraak.nl may later resolve such ECLIs to a different ECLI. That makes their site the most up-to-date information, that a mirror may not necessarily be aware of (yet). \n",
    "    - Example: ECLI:NL:XX:2009:BJ4574 \n",
    "      - in [XML metadata](https://data.rechtspraak.nl/uitspraken/content?id=ECLI:NL:XX:2009:BJ4574) mentions it's now (isReplacedBy) ECLI:CE:ECHR:2009:0528JUD002671305\n",
    "      - in [webpage form](https://uitspraken.rechtspraak.nl/#!/details?id=ECLI:NL:XX:2009:BJ4574) also seems to link to [a place to find it](https://hudoc.echr.coe.int/eng#%7B%22ecli%22:%5B%22ECLI:CE:ECHR:2009:0528JUD002671305%22%5D%7D) (e.g. `hudoc.echr.coe.int` or `e-justice.europa.eu`)."
   ]
  },
  {
   "cell_type": "markdown",
   "metadata": {},
   "source": [
    "For each ECLI you might consider various URLs, including\n",
    "  - XML, e.g. at https://data.rechtspraak.nl/uitspraken/content?id=ECLI:NL:PHR:2011:BP5608\n",
    "    - most interesting when you want case details as data\n",
    "    - (there is a different XML form at https://uitspraken.rechtspraak.nl/api/document/?id=ECLI:NL:PHR:2011:BP5608 but this is for the webpage view, and is less interesting as data)\n",
    "  - the case on the website\n",
    "    - is linked by the website as   https://uitspraken.rechtspraak.nl/InzienDocument?id=ECLI:NL:PHR:2011:BP5608\n",
    "    - it seems the slightly shorter https://deeplink.rechtspraak.nl/uitspraak?id=ECLI:NL:PHR:2011:BP5608 is equivalent\n",
    "    - both of the above redirect to a URL like https://uitspraken.rechtspraak.nl/#!/details?id=ECLI:NL:PHR:2011:BP5608\n",
    "      - which is a general page with scripting that picks up that identifer and then does another request to https://uitspraken.rechtspraak.nl/api/document/?id=ECLI:NL:PHR:2011:BP5608 (the webpage-view variant mentioned earlier)\n",
    "  - The website also often links to LiDo, e.g.  https://linkeddata.overheid.nl/document/ECLI:NL:PHR:2011:BP5608\n",
    "    - If you want that as data, consider http://linkeddata.overheid.nl/service/get-links?ext-id=ECLI:NL:PHR:2011:BP5608&output=xml\n",
    "    - though as https://linkeddata.overheid.nl/front/portal/services notes, this is not part of public LiDo, so you'll need to request an account first\n",
    "\n",
    "\n",
    "Because there are over three million dutch ECLIs on record, getting a lot of data from here would take a while, and they ask you to be nice to their server.\n",
    "\n",
    "There used to be a ZIP file (linked from [https://www.rechtspraak.nl/Uitspraken/paginas/open-data.aspx](https://www.rechtspraak.nl/Uitspraken/paginas/open-data.aspx) you could download to bootstrap your own copy. This seems to have been removed, as [this open data request](https://data.overheid.nl/community/datarequest/zip-bestand-alle-uitspraken) seems to confirm. It seems to imply that you should get it the hammery way.\n",
    "(As of this writing the URL to the ZIP file still works but they probably removed the link for a reason)"
   ]
  },
  {
   "cell_type": "code",
   "execution_count": 1,
   "metadata": {},
   "outputs": [],
   "source": [
    "import collections, time, random, datetime\n",
    "\n",
    "import wetsuite.datacollect.rechtspraaknl\n",
    "import wetsuite.datasets\n",
    "import wetsuite.helpers.date\n",
    "import wetsuite.helpers.etree\n",
    "import wetsuite.helpers.koop_parse\n",
    "import wetsuite.helpers.meta\n",
    "import wetsuite.helpers.net\n",
    "import wetsuite.helpers.localdata\n",
    "import wetsuite.helpers.notebook"
   ]
  },
  {
   "attachments": {},
   "cell_type": "markdown",
   "metadata": {},
   "source": [
    "## Example of API search, its results, and fetching"
   ]
  },
  {
   "cell_type": "markdown",
   "metadata": {},
   "source": [
    "### Querying \n",
    "\n",
    "The base URL for data is http://data.rechtspraak.nl/uitspraken/.\n",
    "\n",
    "Browsing to just that will link you to some identifier/value lists."
   ]
  },
  {
   "cell_type": "markdown",
   "metadata": {},
   "source": [
    "The **search** base is http://data.rechtspraak.nl/uitspraken/zoeken\n",
    "\n",
    "Search parameters include: (again, see [the documentation](https://www.rechtspraak.nl/SiteCollectionDocuments/Technische-documentatie-Open-Data-van-de-Rechtspraak.pdf))\n",
    "* `type` - `Uitspraak` or `Conclusie`\n",
    "* `return` - if you specify `return=DOC` you only get entries for which there is a document; if not you also get entries for which there is only metadata\n",
    "* `from`, `max`  (from is 0-based, max value of max is documented as 1000)\n",
    "* `sort` - default is by modification date, ascending. `DESC` lets you do descending instead.\n",
    "\n",
    "* `date` - date of this uitspraak / conclusie\n",
    "* `uitspraakdatum` - (date, or date range; optional)\n",
    "* `instantie` - as mentioned in https://data.rechtspraak.nl/Waardelijst/Instanties \n",
    "* `subject` - rechtsgebied as mentioned in https://data.rechtspraak.nl/Waardelijst/Rechtsgebieden\n",
    "* `modified` - last change of the metadata and/or text (with some subtleties, e.g. not necessarily of the uitrspraak or conclusie document)\n",
    "* `replaces` - previous ECLI, or LJN,. for this case.  Meant for backwards compatibility (of searches?)."
   ]
  },
  {
   "cell_type": "markdown",
   "metadata": {},
   "source": [
    "For example: http://data.rechtspraak.nl/uitspraken/zoeken?modified=2023-01-01&max=50\n",
    "\n",
    "The response format is [Atom](https://en.wikipedia.org/wiki/Atom_(standard)) and entries are minimal: title, date, summary (empty in the following example), and an URL pointing at the XML data  \n",
    "\n",
    "        <entry>\n",
    "            <id>ECLI:NL:RBAMS:2021:8211</id>\n",
    "            <title type=\"text\">ECLI:NL:RBAMS:2021:8211, Rechtbank Amsterdam, 29-06-2021, C/13/702999 / KG ZA 21-458</title>\n",
    "            <summary type=\"text\"/>\n",
    "            <updated>2023-01-04T15:21:26Z</updated>\n",
    "            <link rel=\"alternate\" type=\"text/html\" href=\"https://uitspraken.rechtspraak.nl/details?id=ECLI:NL:RBAMS:2021:8211\"/>\n",
    "        </entry>\n",
    "\n",
    "...but let's get code to help:"
   ]
  },
  {
   "cell_type": "code",
   "execution_count": null,
   "metadata": {},
   "outputs": [],
   "source": [
    "## First get the search-result metadata\n",
    "\n",
    "search_result_entries = {}\n",
    "\n",
    "# Note that given at_a_time is necessary anyway (there can be more than 1000 per day), the value of increment_days is barely relevant\n",
    "for range_from, range_to in wetsuite.helpers.date.date_ranges( from_date=wetsuite.helpers.date.date_weeks_ago(6), # or e.g. '2024-01-01',\n",
    "                                                               to_date  =wetsuite.helpers.date.date_today(),      \n",
    "                                                               increment_days=7, strftime_format=\"%Y-%m-%d\" ):\n",
    "    from_position, at_a_time = 0, 1000   # note: 'max' seems capped at 1000, so probably don't touch that;\n",
    "    \n",
    "    while True: # the code below does multiple fetches until we've fetched that range.\n",
    "\n",
    "        ## The query\n",
    "        # You can ask for fairly specific things like...\n",
    "        #query = [\n",
    "        #    ('from', str(from_position)),  \n",
    "        #    ('max',  str(at_a_time)),     # max seems capped at 1000, so we have to do more in multiple fetches\n",
    "        #    ('creator', 'http://standaarden.overheid.nl/owms/terms/Rechtbank_Den_Haag'),   #('creator', 'http://psi.rechtspraak.nl/buitenlandseInstantie'),\n",
    "        #    ('subject', 'http://psi.rechtspraak.nl/rechtsgebied#civielRecht_intellectueeleigendomsrecht'),\n",
    "        #    ('return', 'DOC'),                                          # DOC asks for things with body text only\n",
    "        #    #('modified', '2023-12-28'),\n",
    "        #]\n",
    "        #\n",
    "        # ...but this notebook happens to be more about updating in bulk, so:\n",
    "        query = []\n",
    "        query.extend( [('modified',range_from), ('modified',range_to)] )\n",
    "\n",
    "        ## Fetch more than the first hits\n",
    "        # We are only allowed to fetch 1000 search results at a time -- fair enough -- so when we do want all, we needto do some extra queries.\n",
    "        # the following fragment, the while above and the break below that stops it, are the way we do that here.\n",
    "        query.extend( [ \n",
    "            ('from', str(from_position)),\n",
    "            ('max',  str(at_a_time)    ),\n",
    "        ] )\n",
    "        print('Querying:', query)\n",
    "\n",
    "        search_results = wetsuite.datacollect.rechtspraaknl.search( query )\n",
    "        # That functiuon returns a parsed etree object. We could show that relatively raw like...\n",
    "        #print( wetsuite.helpers.etree.debug_pretty(search_results) ) \n",
    "        # ...yet our parsed form (each entry as a dict) is little simpler to read:\n",
    "\n",
    "        search_entries = wetsuite.datacollect.rechtspraaknl.parse_search_results( search_results )\n",
    "        # we could make overall_entries a list and just extend() it, but there would probably be a lot of overlap,\n",
    "        # so instead we use the ECLI to deduplicate\n",
    "        #print('adding %d entries'%len(search_entries))\n",
    "        for entry_dict in search_entries:\n",
    "            search_result_entries[ entry_dict.get('ecli') ] = entry_dict \n",
    "\n",
    "        if len(search_results) < 1000: # last bunch?\n",
    "            break\n",
    "        # otherwise go on to fetch next page\n",
    "        from_position += at_a_time\n",
    "        time.sleep(2)\n",
    "\n",
    "    print( \"Cumulative query results: %d\"%len(search_result_entries) )"
   ]
  },
  {
   "cell_type": "markdown",
   "metadata": {},
   "source": [
    "### Fetching the documents the search refers to"
   ]
  },
  {
   "cell_type": "code",
   "execution_count": 4,
   "metadata": {},
   "outputs": [],
   "source": [
    "rechtspraak_fetched = wetsuite.helpers.localdata.LocalKV('rechtspraak_fetched.db', key_type=str, value_type=bytes)"
   ]
  },
  {
   "cell_type": "code",
   "execution_count": null,
   "metadata": {},
   "outputs": [],
   "source": [
    "## Now get the text belonging to each\n",
    "paths            = collections.defaultdict(int)\n",
    "count_variations = collections.defaultdict(int)\n",
    "\n",
    "pbar = wetsuite.helpers.notebook.progress_bar( len(search_result_entries) )\n",
    "\n",
    "for entry in search_result_entries.values():\n",
    "    pbar.description = f\"Fetched:{count_variations['fetched']}, cached:{count_variations['cached']}, errors:{count_variations['error']}\"\n",
    "    pbar.value += 1\n",
    "    \n",
    "    entry_xml_url = 'https://data.rechtspraak.nl/uitspraken/content?id=%s'%entry['ecli']\n",
    "    # TODO: timeout catch\n",
    "    try:\n",
    "        xmlbytes, came_from_cache = wetsuite.helpers.localdata.cached_fetch( rechtspraak_fetched, entry_xml_url )\n",
    "        if came_from_cache:\n",
    "            count_variations['cached']  +=1\n",
    "        else:\n",
    "            count_variations['fetched'] += 1\n",
    "            time.sleep( 2 ) # be somewhat nice to the servers\n",
    "\n",
    "    except ValueError as ve:\n",
    "        count_variations['error'] += 1\n",
    "        print( '%s for %r'%(ve, entry_xml_url) )\n",
    "        time.sleep( 30 ) # be somewhat nicer to the servers\n",
    "\n",
    "print( f\"Fetched:{count_variations['fetched']}, cached:{count_variations['cached']}, errors:{count_variations['error']}\\n\" ) # because the progress bar doesn't update after iterating"
   ]
  },
  {
   "attachments": {},
   "cell_type": "markdown",
   "metadata": {},
   "source": [
    "Note:\n",
    "There is a [extras_diagnose_rechtspraak_docstructure (in the notebook repository)](https://github.com/WetsuiteLeiden/example-notebooks/blob/main/specific-experiments/investigate-document-structures/rechtspraak_docstructure.ipynb), an exploration of the documents that informs some of the choices made below,\n",
    "and in particular some of the helper code in the `wetsuite.datacollect.rechtspraaknl` module."
   ]
  },
  {
   "attachments": {},
   "cell_type": "markdown",
   "metadata": {},
   "source": [
    "# Start making a dataset"
   ]
  },
  {
   "cell_type": "markdown",
   "metadata": {},
   "source": [
    "## Sample dataset of raw XML documents"
   ]
  },
  {
   "cell_type": "markdown",
   "metadata": {},
   "source": [
    "First something easy: a small sample of raw documents"
   ]
  },
  {
   "cell_type": "code",
   "execution_count": 7,
   "metadata": {},
   "outputs": [],
   "source": [
    "rechtspraaknl_sample_xml = wetsuite.helpers.localdata.LocalKV('rechtspraaknl-sample-xml.db', str, None)\n",
    "#rechtspraaknl_sample_xml.truncate()\n",
    "rechtspraaknl_sample_xml._put_meta('description_short', '''A small sample of the XML form available at rechtspraak.nl: documents from 2022 on''' )\n",
    "rechtspraaknl_sample_xml._put_meta('description',       '''rechtspraak.nl XML documents from 2022 on.\n",
    "The key is the URL it came from, the value is the raw XML document as a bytestring.''' )"
   ]
  },
  {
   "cell_type": "code",
   "execution_count": null,
   "metadata": {},
   "outputs": [],
   "source": [
    "# \n",
    "for url in wetsuite.helpers.notebook.ProgressBar( rechtspraak_fetched.keys() ):\n",
    "    if ':2022:' in url  or  ':2023:' in url   or  ':2024:' in url: # cheaper than parsing\n",
    "        xmlbytes = rechtspraak_fetched.get( url )\n",
    "        if b'<conclusie' in xmlbytes or b'<uitspraak' in xmlbytes: # cheaper than parsing\n",
    "            rechtspraaknl_sample_xml.put( url, xmlbytes, commit=False ) # the commit thing and the next line makes the writing faster\n",
    "rechtspraaknl_sample_xml.commit()\n",
    "\n",
    "rechtspraaknl_sample_xml.summary(True)"
   ]
  },
  {
   "cell_type": "markdown",
   "metadata": {},
   "source": [
    "## Fuller dataset, more parsed"
   ]
  },
  {
   "cell_type": "code",
   "execution_count": 10,
   "metadata": {},
   "outputs": [],
   "source": [
    "rechtspraaknl_struc = wetsuite.helpers.localdata.MsgpackKV('rechtspraaknl-struc.db', str, None) # 12GByte uncompressed right now\n",
    "#rechtspraaknl_struc.truncate()\n",
    "rechtspraaknl_struc._put_meta('description_short', '''Cases from rechtspraak.nl, in a more pre-parsed form.''' )\n",
    "rechtspraaknl_struc._put_meta('description',       '''Cases from rechtspraak.nl, in a more pre-parsed form.\n",
    "\n",
    "A key is an URL like\n",
    "    'https://data.rechtspraak.nl/uitspraken/content?id=ECLI:NL:RBAMS:2012:BY7448'\n",
    "\n",
    "And the values (with [...] cutting off longer text fields)\n",
    "    {'identifier': 'ECLI:NL:RBAMS:2012:BY7448',\n",
    "    'issued': '2013-04-05',\n",
    "    'publisher': 'Raad voor de Rechtspraak',\n",
    "    'replaces': 'ECLI:NL:RBAMS:2012:6574',\n",
    "    'date': '2012-11-07',\n",
    "    'type': 'Uitspraak',\n",
    "    'modified': '2022-03-10T09:10:56',\n",
    "    'zaaknummer': '1320690 \\\\ HA EXPL  12-35',\n",
    "    'creator': 'Rechtbank Amsterdam',\n",
    "    'subject': 'Civiel recht',\n",
    "    'inhoudsindicatie': '\\nHet vragen van een persoonlijke garantstelling door een advocaat van een bestuurder voor openstaande [...]',\n",
    "    'bodytext': \"\\nvonnis\\nRECHTBANK  AMSTERDAM\\n\\nSector kanton\\nlocatie: Amsterdam\\n\\nZaaknummer en rolnummer: 1320690 \\\\ HA EXPL  12-35\\nUitspraak: [...]\"}\n",
    "\n",
    "'''+wetsuite.datasets.generated_today_text() )"
   ]
  },
  {
   "cell_type": "markdown",
   "metadata": {},
   "source": [
    "### Efficiently skipping the majority we want to skip"
   ]
  },
  {
   "cell_type": "markdown",
   "metadata": {},
   "source": [
    "A `len(rechtspraak_fetched)` would show us that we've fetched 3.3 million things. \n",
    "\n",
    "It turns out that the majority contain only metadata and no text. \n",
    "Our interest is only cases with text.\n",
    "\n",
    "That would mean two million parses would be done _only_ to figure out we won't use that parse.\n",
    "So we create a store that remembers that, so we can look it up and skip parsing.\n",
    "- This could go at 10000 items per second when skipping cases we know have no text (so a few minutes total)\n",
    "- and may be at ~100/s if we check everything (so hours the first time)\n",
    "That difference is why we spend time on this optimization.\n",
    "\n",
    "(Note that we are currently not sure that, when cases are fetched, they may add text later,\n",
    "if cases change like that _and_ the fetching actually updates that, that update should _remove_ knowledge from the following store.)"
   ]
  },
  {
   "cell_type": "code",
   "execution_count": 5,
   "metadata": {},
   "outputs": [],
   "source": [
    "rechtspraaknl_knownnotext = wetsuite.helpers.localdata.LocalKV('rechtspraaknl_knownnotext.db', str, None)"
   ]
  },
  {
   "cell_type": "code",
   "execution_count": 7,
   "metadata": {},
   "outputs": [
    {
     "data": {
      "application/vnd.jupyter.widget-view+json": {
       "model_id": "74bb1507f001439786a8a5d8bba0f76f",
       "version_major": 2,
       "version_minor": 0
      },
      "text/plain": [
       "  0%|          | 0/3345186 [00:00<?, ?it/s]"
      ]
     },
     "metadata": {},
     "output_type": "display_data"
    }
   ],
   "source": [
    "# This updates that 'does it contain text?' store before we actually start parsing.\n",
    "# should take a few minutes -- except the first time you run this\n",
    "known_notext_test = set(rechtspraaknl_knownnotext.keys()) # fetches out and placed into a set for somewhat faster lookups\n",
    "\n",
    "for url in wetsuite.helpers.notebook.ProgressBar( rechtspraak_fetched.keys() ):\n",
    "    if url in known_notext_test: #rechtspraaknl_knownnotext:\n",
    "        continue\n",
    "    else:\n",
    "        xmlbytes = rechtspraak_fetched.get( url )\n",
    "        # it's a case we didn't previously check\n",
    "        if b'<conclusie' not in xmlbytes and b'<uitspraak' not in xmlbytes: # cheaper than parsing before deciding based on the parse?\n",
    "            rechtspraaknl_knownnotext.put(url, 'y')\n",
    "        #else:\n",
    "        #    rechtspraaknl_knownnotext.put(url, 'n')"
   ]
  },
  {
   "cell_type": "markdown",
   "metadata": {},
   "source": [
    "### (incremental) parsing and storing"
   ]
  },
  {
   "cell_type": "code",
   "execution_count": 12,
   "metadata": {},
   "outputs": [
    {
     "name": "stdout",
     "output_type": "stream",
     "text": [
      "Known to have no text: 2564616;   already extracted: 771860\n"
     ]
    }
   ],
   "source": [
    "# these are used in the update section.\n",
    "known_notext_urls      = set( rechtspraaknl_knownnotext.keys() )  # put those into a set, not list, so that the 'in' test is fast.\n",
    "already_extracted_urls = set( rechtspraaknl_struc.keys() )        # assuming you didn't just truncate(), we can skip the things we have and only update\n",
    "\n",
    "print( f'Known to have no text: {len(known_notext_urls)};   already extracted: {len(already_extracted_urls)}' )"
   ]
  },
  {
   "cell_type": "code",
   "execution_count": 13,
   "metadata": {},
   "outputs": [
    {
     "data": {
      "application/vnd.jupyter.widget-view+json": {
       "model_id": "7f9519cda9e84d90a1eaa46d408fc412",
       "version_major": 2,
       "version_minor": 0
      },
      "text/plain": [
       "parsing...:   0%|          | 0/3345186 [00:00<?, ?it/s]"
      ]
     },
     "metadata": {},
     "output_type": "display_data"
    }
   ],
   "source": [
    "# When updating just a few hundred items, this may take only a minute\n",
    "\n",
    "count_variations = collections.defaultdict(int)\n",
    "\n",
    "selected_keys = list(rechtspraak_fetched.keys()) # all keys, the real version. You might do a  random.sample( selected_keys, 5000 )  while debugging this\n",
    "pbar = wetsuite.helpers.notebook.progress_bar( len(selected_keys), description='parsing...')\n",
    "\n",
    "for url in selected_keys:\n",
    "    pbar.value += 1\n",
    "\n",
    "    pbar.description = f\"{count_variations['conclusies']} new conclusies, {count_variations['uitspraken']} new uitspraken, {count_variations['notext']} notext, {count_variations['present']} already present \" \n",
    "\n",
    "    if url in known_notext_urls: # we previously figured it had no text, no sense trying to parse it\n",
    "        count_variations['notext'] += 1\n",
    "        continue\n",
    "\n",
    "    if url in already_extracted_urls:  # we previously extracted text (won't update). This is most of the speed increase, probably\n",
    "        count_variations['present'] += 1\n",
    "        continue\n",
    "\n",
    "\n",
    "    ## Load and parse\n",
    "    xmlbytes = rechtspraak_fetched.get(url)\n",
    "    # skip parse if we think it's not worth it -- this test is a little chaper than parsing before deciding based on the parse?\n",
    "    if b'<conclusie' not in xmlbytes and b'<uitspraak' not in xmlbytes: \n",
    "        count_variations['notext'] += 1\n",
    "        print(\"missed ealier check?\", url) # (or have fetched new things we haven't run through that yet)\n",
    "        continue\n",
    "\n",
    "    # actually parse XML\n",
    "    tree = wetsuite.helpers.etree.fromstring( xmlbytes )\n",
    "    tree = wetsuite.helpers.etree.strip_namespace( tree )\n",
    "\n",
    "    content = wetsuite.datacollect.rechtspraaknl.parse_content( tree )\n",
    "\n",
    "    rechtspraaknl_struc.put(url, content )\n",
    "\n",
    "    if tree.find('uitspraak') is not None:\n",
    "        count_variations['uitspraken'] += 1\n",
    "    elif tree.find('conclusie') is not None:\n",
    "        count_variations['conclusies'] += 1\n",
    "    else: # actually shouldn't happen, in that the above should have caught that\n",
    "        print(\"PROBLEM\", url)\n",
    "        count_variations['notext'] += 1\n",
    "\n",
    "#print(f\"{count_conclusies} conclusies and {count_uitspraken} uitspraken   (and {count_neither} that have no text)\")       "
   ]
  },
  {
   "cell_type": "markdown",
   "metadata": {},
   "source": [
    "## Some debug"
   ]
  },
  {
   "cell_type": "code",
   "execution_count": 16,
   "metadata": {},
   "outputs": [
    {
     "data": {
      "text/plain": [
       "{'size_bytes': 13874950144,\n",
       " 'size_readable': '12.9GiB',\n",
       " 'num_items': 780570,\n",
       " 'avgsize_bytes': 17775,\n",
       " 'avgsize_readable': '17KiB'}"
      ]
     },
     "metadata": {},
     "output_type": "display_data"
    }
   ],
   "source": [
    "display( rechtspraaknl_struc.summary(True) )\n",
    "\n",
    "#rechtspraaknl_struc.random_sample(2)"
   ]
  }
 ],
 "metadata": {
  "colab": {
   "include_colab_link": true,
   "provenance": []
  },
  "kernelspec": {
   "display_name": "Python 3",
   "language": "python",
   "name": "python3"
  },
  "language_info": {
   "codemirror_mode": {
    "name": "ipython",
    "version": 3
   },
   "file_extension": ".py",
   "mimetype": "text/x-python",
   "name": "python",
   "nbconvert_exporter": "python",
   "pygments_lexer": "ipython3",
   "version": "3.8.10"
  },
  "vscode": {
   "interpreter": {
    "hash": "31f2aee4e71d21fbe5cf8b01ff0e069b9275f58929596ceb00d14d90e3e16cd6"
   }
  }
 },
 "nbformat": 4,
 "nbformat_minor": 0
}
