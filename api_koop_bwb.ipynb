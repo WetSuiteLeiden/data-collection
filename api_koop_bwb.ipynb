{
 "cells": [
  {
   "cell_type": "markdown",
   "metadata": {},
   "source": [
    "<a href=\"https://colab.research.google.com/github/WetSuiteLeiden/data-collection/blob/master/api_koop_bwb.ipynb\" target=\"_parent\"><img src=\"https://colab.research.google.com/assets/colab-badge.svg\" alt=\"Open In Colab\"/></a>"
   ]
  },
  {
   "attachments": {},
   "cell_type": "markdown",
   "metadata": {},
   "source": [
    "## Purpose of this notebook\n",
    "\n",
    "Show how we fetch data from the BWB repository to be used to create our corresponding datasets\n",
    "\n",
    "TODO: finish, this is a copy-paste from a script"
   ]
  },
  {
   "cell_type": "markdown",
   "metadata": {},
   "source": [
    "\n",
    "## some API notes (you can skip this)\n",
    "\n",
    "entry types (`soort` attribute in the toestand) include:\n",
    "- `ministeriele-regeling` (~18k), \n",
    "- `AMvB` (~3k), \n",
    "- `zbo` (~3k), \n",
    "- `beleidsregel` (~3k) (rijksdienst), \n",
    "- `wet` (~3k), \n",
    "- `pbo` (~2k), \n",
    "- `ministeriele-regeling-archiefselectielijst` (~1k)\n",
    "- `KB` (~800), \n",
    "- `circulaire` (~500) (rijksdienst), \n",
    "- `ministeriele-regeling-BES` (~300), \n",
    "- `AMvB-BES` (~200), \n",
    "- `wet-BES` (~150), \n",
    "- `rijkswet` (~100), \n",
    "- `rijksKB` (~80), \n",
    "- `reglement` (~40) (van de Staten-Generaal), \n",
    "- `beleidsregel-BES`(~30), \n",
    "- `circulaire-BES`(~4), \n",
    "- `rijksAMvB`(~1)\n",
    "\n",
    "#### BWB search results\n",
    "\n",
    "Keep in mind that a BWB number refers to _all versions_ of a law, not a specific version of it (so is not technically an identifier)\n",
    "\n",
    "\n",
    "This is why a [jci](#glossary_j) reference will typically be more specific, adding a date, e.g. `jci1.3:c:BWBR0045754&z=2022-08-01&g=2022-08-01` where\n",
    ": `g` for geldigheidsdatum (validity)\n",
    ": `z` for zichtdatum\n",
    "\n",
    "Validity is useful to search for a specific version, and also to refer to a specific consolidation/version -- except in the cases of retroactively applying things, where you may technically have two that apply at the same time.\n",
    "\n",
    "That last detail is why zichtdatum was added in jci 1.3 - see [page 4 of this](https://standaarden.overheid.nl/bwb/doc/Juriconnect-Standaard-BWB-1.3.pdf) but also the note in [Traceerbaarheid voor regelbeheersing bij uitvoeringsorganisaties](http://www.knowbility.nl/wp-content/uploads/BoekjeTraceerbaarheidDefPubv2.pdf) that suggests this isn't strictly followed.\n",
    "\n",
    "\n",
    "\n",
    "The 'BWB refers to all versions/consolidations' is also part of why for each BWB there is \n",
    "* one **manifest** listing all consolidations/versions\n",
    "  * [schema](https://repository.officiele-overheidspublicaties.nl/bwb/_manifest.xsd)\n",
    "\n",
    "* one **wti**, wettechnische informatie, listing relations\n",
    "  * e.g. related laws, when changes were posted in the Staatsblad  (VERIFY)\n",
    "  * [schema](https://repository.officiele-overheidspublicaties.nl/Schema/BWB-WTI/2015-2/xsd/wti_2015-2.xsd)\n",
    "\n",
    "* one or more **toestand** files that are law text, the most recent one being the most relevant\n",
    "  * [schema](https://repository.officiele-overheidspublicaties.nl/Schema/BWB-toestand/2015-2/xsd/toestand_2015-2.xsd)\n",
    "\n",
    "\n",
    "\n",
    "\n",
    "SRU searches give one result record for each toestand/revision\n",
    "- for which the manifest and wti are identical (VERIFY)\n",
    "- which in terms of _metadata_ only really vary in when it is valid\n",
    "\n",
    "For example, [BWBR0045754 (Wet open overheid, Woo)](http://zoekservice.overheid.nl/sru/Search?operation=searchRetrieve&version=1.2&x-connection=BWB&query=dcterms.identifier%20==%20BWBR0045754) gives two results, the same variants reflected in [its manifest](https://repository.officiele-overheidspublicaties.nl/bwb/BWBR0045754/manifest.xml), whereas [BWBR0035917 (Wet langdurige zorg) has over twenty revisions](https://repository.officiele-overheidspublicaties.nl/bwb/BWBR0035917/manifest.xml) and [BWBR0005290 (Book 7 of the civil code) has over a hundred and sixty](https://repository.officiele-overheidspublicaties.nl/bwb/BWBR0005290/manifest.xml).\n",
    "\n",
    "Note also that the manifest or WTI do not give an URL for the toestand XML - the search results themselves do.\n",
    "\n",
    "\n",
    "For a sense of size\n",
    "- Most manifests are on the order of a few hundred KByte at most\n",
    "- Simple WTIs are 10KB, the more complex are mostly up to 3MB, with a few in the tens of MByte\n",
    "- Most toestand files are under 100 or 200KB, with a few at a megabyte or two or ten\n",
    "As total collection, this amounts to \n",
    "- 2.5GByte in _current_ toestand XMLs, about 47GByte in old versions of toestand XMLs (VERIFY).\n",
    "- 3.5Gbyte in WTI XMLs\n",
    "- 100MByte in XML manifests"
   ]
  },
  {
   "cell_type": "markdown",
   "metadata": {},
   "source": [
    "#### BWB XML notes\n",
    "\n",
    "* `algemene-informatie`\n",
    "  * citeertitel, <!--afkorting,-->\n",
    "  * rechtsgebied(en) (e.g. _Ruimtelijke ordening en milieu - Milieurecht_), overheidsdomein (e.g. _Landbouw, natuur en voedsel_)\n",
    "  * soort regeling (bijv. 'wet'), identificatienummer (BWB)\n",
    "\n",
    "* `wijzigingen`\n",
    "\n",
    "* `gerelateerde-regelgeving`\n",
    "  * bijv. regelgeving die op deze regeling is gebaseerd (gedelegeerde regelgeving)\n",
    "\n",
    "* `owms` (Overheid.nl Web Metadata Standaard)\n",
    "  * https://standaarden.overheid.nl/owms/terms\n",
    "  * mostly dublin core?\n",
    "\n",
    "voorbeeld (data): https://repository.officiele-overheidspublicaties.nl/bwb/BWBR0035917/BWBR0035917.WTI\n",
    "\n",
    "voorbeeld (geformatteerd): https://wetten.overheid.nl/BWBR0035917/2022-07-01/0/informatie\n"
   ]
  },
  {
   "cell_type": "markdown",
   "metadata": {},
   "source": [
    "#### Manifest XML notes\n",
    "\n",
    "TODO"
   ]
  },
  {
   "cell_type": "markdown",
   "metadata": {},
   "source": [
    "#### Toestand  XML notes \n",
    "\n",
    "The consistent-enough wrapping is (see also the schema):\n",
    "**toestand**\n",
    "* _attributes_\n",
    "  * inwerkingtreding (optional)\n",
    "  * bwb-id\n",
    "  * bwb-ng-vast-deel\n",
    "* subelements\n",
    "  * bwb-inputbestand (required but may be empty)\n",
    "  * bwb-wijzigingen (required but may be empty)\n",
    "  * redactionele-correcties (optional)\n",
    "  * **wetgeving** \n",
    "    * intitule\n",
    "    * citeertitel\n",
    "    * **(general content root)**\n",
    "    * meta-data\n",
    "\n",
    "Notes:\n",
    "* intitule tends to be more descriptive, citeertitel more succinct\n",
    "\n",
    "\n",
    "**The actual contents are more varied**\n",
    "* The name of that general content root tag mentioned above is not always the same - usually `wet-besluit`, but also `regeling` or `circulaire` due to context\n",
    "  Some of them basically set by `soort`, others correlating more loosely (e.g. rijksKB seems to exist with both wet-besluit and regeling)\n",
    "\n",
    "* The structure under that is also varied - the content text is mostly in `artikel` tags, but the levels between the content root and artikel tags may apparently be any of at least\n",
    "\n",
    "        wet-besluit/wettekst\n",
    "        wet-besluit/wettekst/paragraaf\n",
    "        wet-besluit/wettekst/hoofdstuk/titeldeel\n",
    "        wet-besluit/wettekst/afdeling\n",
    "        wet-besluit/wettekst/titeldeel\n",
    "        wet-besluit/wettekst/afdeling/paragraaf\n",
    "        wet-besluit/wettekst/hoofdstuk \n",
    "        wet-besluit/wettekst/hoofdstuk/titeldeel\n",
    "        wet-besluit/wettekst/hoofdstuk/paragraaf\n",
    "        wet-besluit/wettekst/regeling/regeling-tekst\n",
    "        wet-besluit/wettekst/deel/hoofdstuk/afdeling\n",
    "        wet-besluit/wettekst/deel/hoofdstuk/afdeling/paragraaf\n",
    ": ...again with only moderate correlation to `soort`\n",
    "\n",
    "\n"
   ]
  },
  {
   "cell_type": "markdown",
   "metadata": {},
   "source": [
    "#### Small entries\n",
    "\n",
    "There are a good amount of entries (mostly in wet, AMvB, also in KB, regeling, reglement) that are not very contentful. \n",
    "Many are also not standalone, because AFAICT there is no consolidated content in these repositories.\n",
    "\n",
    "* most common are modifications of laws - [https://nl.wikipedia.org/wiki/Wijzigingswet wijzigingswet] or practical variant of the concept\n",
    ": often with a name (intitule) including wijzigingswet, veegwet, herzieningswet, aanpassingswet, intrekkingswet, verzamelwet, etc. (doesn't seem mentioned in the metadata? at least not explicitly (VERIFY))\n",
    ": these may have very little text, other than mentioning _that_ they modify another - and may not mention what final form that other law takes. As such, the laws they modify will often get a new consolidated version of its text (VERIFY)\n",
    ": and depending on your goals, these modifying ones can be seen as a formality rather than useful content\n",
    ": they may not have a citeertitel (VERIFY)\n",
    ": e.g. [BWBR0012984](https://wetten.overheid.nl/BWBR0012984/), [BWBR0013009](https://wetten.overheid.nl/BWBR0013009/)\n",
    "\n",
    "* there are some other very short laws, e.g. to settle something more precisely, add exceptions - and these seem to be considered standalone augmentations, _not_ things to be consolidated into the law they augment (VERIFY)\n",
    ": e.g. [BWBR0016470](https://wetten.overheid.nl/BWBR0016470/), [BWBR0017076](https://wetten.overheid.nl/BWBR0017076/), [BWBR0017533](https://wetten.overheid.nl/BWBR0017533/)\n",
    ": or e.g. [BWBR0014295](https://wetten.overheid.nl/BWBR0014295/) which seems to just say \"permits as meant by BWBR0013889 should be done via a form, and look in the Staatscourant for the actual form we're talking about\"\n",
    "\n",
    "* and some things that are arguably inbetween, like Goedkeuringsbesluiten \n",
    ": e.g. [BWBR0017028](https://wetten.overheid.nl/BWBR0017028/), [BWBR0017276](https://wetten.overheid.nl/BWBR0017276/)"
   ]
  },
  {
   "cell_type": "markdown",
   "metadata": {},
   "source": [
    "## Fetching"
   ]
  },
  {
   "cell_type": "code",
   "execution_count": 1,
   "metadata": {},
   "outputs": [],
   "source": [
    "import re, collections, datetime, pprint, random\n",
    "\n",
    "import wetsuite.helpers.etree\n",
    "import wetsuite.helpers.notebook\n",
    "import wetsuite.helpers.date\n",
    "import wetsuite.helpers.localdata\n",
    "import wetsuite.helpers.koop_parse\n",
    "import wetsuite.datacollect.koop_sru \n",
    "import wetsuite.datasets"
   ]
  },
  {
   "cell_type": "code",
   "execution_count": 2,
   "metadata": {},
   "outputs": [],
   "source": [
    "# contains toestand, manifest, and wti downloads\n",
    "bwb_fetched = wetsuite.helpers.localdata.LocalKV( 'bwb_fetched.db', str, bytes )"
   ]
  },
  {
   "cell_type": "code",
   "execution_count": 3,
   "metadata": {},
   "outputs": [],
   "source": [
    "def bwb_search_callback( search_record_node ):\n",
    "    ''' Takes a single XML search record node, does something useful with it.\n",
    "        Specifically:\n",
    "        - fetches the toestand XML it refers to if we didn't have it already\n",
    "        - if we fetched a new toestand, also re-fetches the manifest and WTI (it would be updated too)\n",
    "\n",
    "        Notes\n",
    "        - BWB records follow http://standaarden.overheid.nl/sru/gzd.xsd\n",
    "          Right now we merge all the parts of a record into one dict, \n",
    "            which throws away some structure (on top of the already removed namespaces)\n",
    "            but is easier to deal with.\n",
    "    '''\n",
    "    #display( wetsuite.helpers.etree.debug_color( search_record_node ) ) # debug line for later reference, if you want to extract more out of these search records\n",
    "    meta_dict = wetsuite.helpers.koop_parse.bwb_searchresult_meta( search_record_node )\n",
    "\n",
    "    # fetch toestand XML, if we don't have it already\n",
    "    _, toestand_came_from_cache = wetsuite.helpers.localdata.cached_fetch( bwb_fetched,  meta_dict['locatie_toestand'],  force_refetch=False )\n",
    "\n",
    "    # If we got a toestand we didn't previously have, assume their manifest and WTI probably changed, so need to be re-fetched\n",
    "    #   (note: this implementation would overdo it, in that if we see _multiple_ new versions, we force this refetch each time. TODO: be cleverer than that)\n",
    "    force_refetch_meta = (not toestand_came_from_cache)\n",
    "    _, man_cached = wetsuite.helpers.localdata.cached_fetch( bwb_fetched,  meta_dict['locatie_manifest'],  force_refetch=force_refetch_meta )\n",
    "    _, wti_cached = wetsuite.helpers.localdata.cached_fetch( bwb_fetched,  meta_dict['locatie_wti'],       force_refetch=force_refetch_meta )\n",
    "\n",
    "    if (not toestand_came_from_cache or not man_cached or not wti_cached): # fetched anything new? Mention that.\n",
    "        print( \"FETCHED new data for %s - %r\"%( meta_dict['identifier'], meta_dict ) )"
   ]
  },
  {
   "cell_type": "code",
   "execution_count": 4,
   "metadata": {},
   "outputs": [],
   "source": [
    "# This is intended as a \"update with recent changes\"  (we previously did a lot more fetching)\n",
    "sru_bwb       = wetsuite.datacollect.koop_sru.BWB(  )\n",
    "some_time_ago = wetsuite.helpers.date.date_weeks_ago(10)\n",
    "_ = sru_bwb.search_retrieve_many('dcterms.modified >= %s'%( some_time_ago.strftime('%Y-%m-%d') ), up_to=20000, at_a_time=500, callback=bwb_search_callback)"
   ]
  },
  {
   "cell_type": "markdown",
   "metadata": {},
   "source": [
    "## Take that downloaded store, extract useful things into datasets\n",
    "\n",
    "CONSIDER: smaller subset to start with, e.g. just 2023"
   ]
  },
  {
   "cell_type": "code",
   "execution_count": 5,
   "metadata": {},
   "outputs": [
    {
     "name": "stdout",
     "output_type": "stream",
     "text": [
      "Grouping relevant URLs\n"
     ]
    },
    {
     "data": {
      "application/vnd.jupyter.widget-view+json": {
       "model_id": "a9f14009791240578e7b457fa2ae85f3",
       "version_major": 2,
       "version_minor": 0
      },
      "text/plain": [
       "  0%|          | 0/212330 [00:00<?, ?it/s]"
      ]
     },
     "metadata": {},
     "output_type": "display_data"
    },
    {
     "name": "stdout",
     "output_type": "stream",
     "text": [
      "We have 38513 Unique BWB-id groups\n",
      "Finding latest versions of each\n"
     ]
    },
    {
     "data": {
      "application/vnd.jupyter.widget-view+json": {
       "model_id": "6a50d54fa49c4e2eb0705c04ce38c53a",
       "version_major": 2,
       "version_minor": 0
      },
      "text/plain": [
       "  0%|          | 0/38513 [00:00<?, ?it/s]"
      ]
     },
     "metadata": {},
     "output_type": "display_data"
    }
   ],
   "source": [
    "# go through all fetched URLS and group  \n",
    "# - manifest\n",
    "# - wti\n",
    "# - all toestanden\n",
    "# ...per BWB-id.\n",
    "# We assume URL structure is consistent, which they seem to be.\n",
    "\n",
    "bwbr_groups = collections.defaultdict(dict)  #  bwbr -> { toestanden:   latest_toestand:    wti:    manifest:  }\n",
    "\n",
    "print(\"Grouping relevant URLs\")\n",
    "\n",
    "for url in wetsuite.helpers.notebook.ProgressBar( bwb_fetched.keys() ):\n",
    "\n",
    "    # both filters for basic URLs we care about at all (in case other things got dropped in),\n",
    "    # and filters for URLs with BWBR  - which implies skipping BWBV (verdragen/treaties), BWBW (?)\n",
    "    # (the matching here and below is a little hacky, though, clean up?)\n",
    "    bwbr = re.search('/bwb/(BWBR[0-9]{7})', url)\n",
    "    if bwbr is not None:\n",
    "        bwbr = bwbr.groups()[0] # the BWBR-and-number text\n",
    "\n",
    "        if url.endswith('manifest.xml'): # e.g. https://repository.officiele-overheidspublicaties.nl/bwb/BWBR0019805/manifest.xml\n",
    "            bwbr_groups[bwbr]['manifest_url'] = url\n",
    "            continue\n",
    "\n",
    "        if url.endswith('.WTI'):         # e.g.  https://repository.officiele-overheidspublicaties.nl/bwb/BWBR0016700/BWBR0016700.WTI\n",
    "            bwbr_groups[bwbr]['wti_url'] = url\n",
    "            continue\n",
    "\n",
    "        toestand_match =  re.search('/bwb/(BWBR[0-9]{7})(/[0-9].*[.]xml)', url) \n",
    "        if toestand_match is not None: # e.g. #https://repository.officiele-overheidspublicaties.nl/bwb/BWBR0001840/2002-03-21_0/xml/BWBR0001840_2002-03-21_0.xml\n",
    "            _, sortname = toestand_match.groups() # assume that date is lexically sortable\n",
    "            # those will be something like 'BWBR0001821'  and  '/1998-01-01_0/xml/BWBR0001821_1998-01-01_0.xml'\n",
    "            if 'toestanden' not in bwbr_groups[bwbr]:\n",
    "                bwbr_groups[bwbr]['toestanden'] = []\n",
    "            bwbr_groups[bwbr]['toestanden'].append( (sortname,url) )\n",
    "            continue\n",
    "        \n",
    "        print( \"SKIP / LOOKAT   %s\"%url )\n",
    "\n",
    "\n",
    "print( 'We have %d Unique BWB-id groups'%len(bwbr_groups) )\n",
    "\n",
    "print( \"Finding latest versions of each\" )\n",
    "for bwbr, details in wetsuite.helpers.notebook.ProgressBar( list( bwbr_groups.items() ) ): # within each BWB-id\n",
    "    for key, url in sorted( details['toestanden'], reverse=True ): # latest first, then use only the first\n",
    "        bwbr_groups[bwbr]['latest_toestand_url'] = url\n",
    "        break"
   ]
  },
  {
   "cell_type": "code",
   "execution_count": 6,
   "metadata": {},
   "outputs": [
    {
     "name": "stdout",
     "output_type": "stream",
     "text": [
      "Writing latest-toestand-XML dataset\n"
     ]
    },
    {
     "data": {
      "application/json": {
       "ascii": false,
       "bar_format": null,
       "colour": null,
       "elapsed": 0.009778022766113281,
       "initial": 0,
       "n": 0,
       "ncols": null,
       "nrows": null,
       "postfix": null,
       "prefix": "",
       "rate": null,
       "total": 38097,
       "unit": "it",
       "unit_divisor": 1000,
       "unit_scale": false
      },
      "application/vnd.jupyter.widget-view+json": {
       "model_id": "58eb070277184de3a3cde305ef8f623a",
       "version_major": 2,
       "version_minor": 0
      },
      "text/plain": [
       "  0%|          | 0/38097 [00:00<?, ?it/s]"
      ]
     },
     "metadata": {},
     "output_type": "display_data"
    },
    {
     "name": "stdout",
     "output_type": "stream",
     "text": [
      "Parsing further metadata, writing meta and text datasets\n"
     ]
    },
    {
     "data": {
      "application/json": {
       "ascii": false,
       "bar_format": null,
       "colour": null,
       "elapsed": 0.009505987167358398,
       "initial": 0,
       "n": 0,
       "ncols": null,
       "nrows": null,
       "postfix": null,
       "prefix": "",
       "rate": null,
       "total": 38097,
       "unit": "it",
       "unit_divisor": 1000,
       "unit_scale": false
      },
      "application/vnd.jupyter.widget-view+json": {
       "model_id": "7037affa19c84325bf9886c15f045b4c",
       "version_major": 2,
       "version_minor": 0
      },
      "text/plain": [
       "  0%|          | 0/38097 [00:00<?, ?it/s]"
      ]
     },
     "metadata": {},
     "output_type": "display_data"
    }
   ],
   "source": [
    "# Now do some extraction and also make that datasets\n",
    "# ...keep mind mind that all the extraction could use some refinement.\n",
    "\n",
    "bwb_latestonly_xml = wetsuite.helpers.localdata.LocalKV( 'bwb-mostrecent-xml.db', str, bytes ) # bwbr -> xmlbytes\n",
    "bwb_latestonly_xml._put_meta('description_short',\n",
    "                             'Raw XML for the latest revision from each BWB-id')\n",
    "bwb_latestonly_xml._put_meta('description','''\n",
    "Maps from the BWB-id to the XML file as a bytestring, e.g. \n",
    "\n",
    "'BWBR0019090' -> b'<?xml version=\"1.0\" encoding=\"UTF-8\"?><toestand xmlns...'\n",
    "\n",
    "'''+wetsuite.datasets.generated_today_text())\n",
    "\n",
    "bwb_latestonly_text = wetsuite.helpers.localdata.LocalKV( 'bwb-mostrecent-text.db', str, str )\n",
    "bwb_latestonly_text._put_meta('description_short',\n",
    "                             'Plain text for the latest revision from each BWB-id')\n",
    "bwb_latestonly_text._put_meta('description','''\n",
    "Maps from the BWB-id to plain text without any of the structure.\n",
    "                               \n",
    "'BWBR0025942': 'De bij dit besluit gevoegde ‘ selectielijst voor de neerslag...'\n",
    "                              \n",
    "'''+wetsuite.datasets.generated_today_text())\n",
    "\n",
    "bwb_latestonly_meta = wetsuite.helpers.localdata.MsgpackKV( 'bwb-mostrecent-meta-struc.db', str, None )\n",
    "bwb_latestonly_meta._put_meta('description_short',\n",
    "                             'Metadata structure text for the latest revision from each BWB-id')\n",
    "bwb_latestonly_meta._put_meta('description','''\n",
    "Maps from the BWB-id to metadata,\n",
    "where that metadata comes from the toestand itself, from the manifest file, and from the Wetstechnische informatie (WTI) file. \n",
    "\n",
    "For example:                              \n",
    "                              \n",
    "'BWBR0017744':{\n",
    "  'bwb-id': 'BWBR0017744',\n",
    "  'intitule': 'Regeling inzake de bijdragen van de gebruikers in de kosten van de landelijk raadpleegbare deelverzameling GBA (Bijdragenregeling LRD)',\n",
    "  'citeertitel': 'Bijdragenregeling LRD ',\n",
    "  'soort': 'ministeriele-regeling',\n",
    "  'inwerkingtredingsdatum': '2005-01-01',\n",
    "  'latest_toestand_url': 'https://repository.officiele-overheidspublicaties.nl/bwb/BWBR0017744/2005-01-01_0/xml/BWBR0017744_2005-01-01_0.xml',\n",
    "  'wti_url': 'https://repository.officiele-overheidspublicaties.nl/bwb/BWBR0017744/BWBR0017744.WTI',\n",
    "  'wti': {'algemene_informatie': {'citeertitels_withdate': [['2005-01-01',\n",
    "      '9999-12-31',\n",
    "      'Bijdragenregeling LRD ']],\n",
    "    'citeertitels_distinct': ['Bijdragenregeling LRD '],\n",
    "    'eerstverantwoordelijke': 'Binnenlandse Zaken en Koninkrijksrelaties',\n",
    "    'identificatienummer': 'BWBR0017744',\n",
    "    'rechtsgebieden': [['Openbare orde en veiligheidsrecht', None]],\n",
    "    'overheidsdomeinen': ['Openbare orde en veiligheid']},\n",
    "   'related': [['grondslagen',\n",
    "     'BWBR0006933',\n",
    "     'jci1.3:c:BWBR0006933&artikel=6',\n",
    "     'Artikel 6, achtste lid'],\n",
    "  ...\n",
    "\n",
    "'''+wetsuite.datasets.generated_today_text())\n",
    "\n",
    "\n",
    "print(\"Writing latest-toestand-XML dataset\")\n",
    "\n",
    "for bwbr, details in wetsuite.helpers.notebook.ProgressBar( bwbr_groups.items() ): # within each BWB-id\n",
    "    bwb_latestonly_xml.put(bwbr, bwb_fetched.get( details['latest_toestand_url'] ), commit=False) # postponed commit makes this much faster\n",
    "bwb_latestonly_xml.commit()\n",
    "\n",
    "\n",
    "print(\"Parsing further metadata, writing meta and text datasets\")\n",
    "\n",
    "#for bwbr, details in wetsuite.helpers.notebook.ProgressBar( random.sample( list(bwbr_groups.items()), 100) ): # debug: test on a few\n",
    "for bwbr, details in wetsuite.helpers.notebook.ProgressBar( bwbr_groups.items() ): # within each BWB-id\n",
    "\n",
    "    toestand_tree = wetsuite.helpers.etree.fromstring( bwb_fetched.get( details['latest_toestand_url'] ) )\n",
    "    text          = wetsuite.helpers.koop_parse.bwb_toestand_text(toestand_tree)\n",
    "\n",
    "    meta_dict     = wetsuite.helpers.koop_parse.bwb_toestand_usefuls(toestand_tree)\n",
    "\n",
    "    meta_dict['latest_toestand_url'] = details['latest_toestand_url']\n",
    "\n",
    "    wti_url       = details['wti_url']\n",
    "    if wti_url is not None:\n",
    "        meta_dict['wti_url']       = wti_url\n",
    "        wti_tree                   = wetsuite.helpers.etree.fromstring( bwb_fetched.get( wti_url ) )\n",
    "        meta_dict['wti']           = wetsuite.helpers.koop_parse.bwb_wti_usefuls(wti_tree)\n",
    "\n",
    "    manifest_url  = details['manifest_url']\n",
    "    if manifest_url is not None:\n",
    "        meta_dict['manifest_url']  = manifest_url\n",
    "        manifest_tree              = wetsuite.helpers.etree.fromstring( bwb_fetched.get( manifest_url ) )\n",
    "        meta_dict['manifest']      = wetsuite.helpers.koop_parse.bwb_manifest_usefuls(manifest_tree)\n",
    "\n",
    "        # redundant, but sometimes nice to have more accessible\n",
    "        version_dates = list()\n",
    "        for expression in manifest_tree.findall('expression'):\n",
    "            version_dates.append( expression.find('metadata/datum_inwerkingtreding').text )\n",
    "            meta_dict['version_dates'] = version_dates\n",
    "\n",
    "    bwb_latestonly_text.put( bwbr, text      )\n",
    "    bwb_latestonly_meta.put( bwbr, meta_dict )"
   ]
  }
 ],
 "metadata": {
  "kernelspec": {
   "display_name": "Python 3 (ipykernel)",
   "language": "python",
   "name": "python3"
  },
  "language_info": {
   "codemirror_mode": {
    "name": "ipython",
    "version": 3
   },
   "file_extension": ".py",
   "mimetype": "text/x-python",
   "name": "python",
   "nbconvert_exporter": "python",
   "pygments_lexer": "ipython3",
   "version": "3.8.10"
  },
  "vscode": {
   "interpreter": {
    "hash": "31f2aee4e71d21fbe5cf8b01ff0e069b9275f58929596ceb00d14d90e3e16cd6"
   }
  }
 },
 "nbformat": 4,
 "nbformat_minor": 4
}
