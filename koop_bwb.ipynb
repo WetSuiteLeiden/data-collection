{
 "cells": [
  {
   "cell_type": "markdown",
   "metadata": {},
   "source": [
    "<a href=\"https://colab.research.google.com/github/knobs-dials/wetsuite-datacollect/blob/main/koop_bwb.ipynb\" target=\"_parent\"><img src=\"https://colab.research.google.com/assets/colab-badge.svg\" alt=\"Open In Colab\"/></a>"
   ]
  },
  {
   "attachments": {},
   "cell_type": "markdown",
   "metadata": {},
   "source": [
    "# Purpose of this notebook\n",
    "\n",
    "Show how we fetch data from the BWB repository to be used to create our corresponding datasets\n",
    "\n",
    "TODO: finish, this is a copy-paste from a script"
   ]
  },
  {
   "cell_type": "markdown",
   "metadata": {},
   "source": [
    "## Fetching"
   ]
  },
  {
   "cell_type": "code",
   "execution_count": 1,
   "metadata": {},
   "outputs": [],
   "source": [
    "import re\n",
    "import collections\n",
    "import datetime\n",
    "import pprint\n",
    "import random\n",
    "\n",
    "import wetsuite.helpers.etree\n",
    "import wetsuite.helpers.notebook\n",
    "import wetsuite.helpers.date\n",
    "import wetsuite.helpers.localdata\n",
    "import wetsuite.helpers.koop_parse\n",
    "import wetsuite.datacollect.koop_repositories \n",
    "import wetsuite.datasets"
   ]
  },
  {
   "cell_type": "code",
   "execution_count": 2,
   "metadata": {},
   "outputs": [],
   "source": [
    "# contains toestand, manifest, and wti downloads\n",
    "bwb_fetched = wetsuite.helpers.localdata.LocalKV( 'bwb_fetched.db', str, bytes )"
   ]
  },
  {
   "cell_type": "code",
   "execution_count": 3,
   "metadata": {},
   "outputs": [],
   "source": [
    "def bwb_search_callback( search_record_node ):\n",
    "    ''' BWB records follow http://standaarden.overheid.nl/sru/gzd.xsd\n",
    "        \n",
    "        Right now we merge all the parts of a record into one dict, \n",
    "            which throws away some structure (on top of the already removed namespaces)\n",
    "            but is easier to deal with.\n",
    "    '''\n",
    "    #print( wetsuite.helpers.etree.debug_pretty( record ) ) # for later reference, if you want to extract more out of these search records\n",
    "    meta_dict = wetsuite.helpers.koop_parse.bwb_searchresult_meta( search_record_node )\n",
    "\n",
    "    # toestand XML\n",
    "    _, toestand_came_from_cache = wetsuite.helpers.localdata.cached_fetch( bwb_fetched,  meta_dict['locatie_toestand'],  force_refetch=False )\n",
    "\n",
    "    # manifest and WTI - assume these probably changed (so need to be refetched) if we got a toestand we didn't previously have\n",
    "    force_refetch_meta = (not toestand_came_from_cache)     \n",
    "    _, man_cached = wetsuite.helpers.localdata.cached_fetch( bwb_fetched,  meta_dict['locatie_manifest'],  force_refetch=force_refetch_meta )\n",
    "    _, wti_cached = wetsuite.helpers.localdata.cached_fetch( bwb_fetched,  meta_dict['locatie_wti'],       force_refetch=force_refetch_meta )\n",
    "\n",
    "    if (not toestand_came_from_cache or not man_cached or not wti_cached): # fetched anything new? Mention that.\n",
    "        print( \"FETCHED new data for %s - %r\"%( meta_dict['identifier'], meta_dict ) )"
   ]
  },
  {
   "cell_type": "code",
   "execution_count": 4,
   "metadata": {},
   "outputs": [
    {
     "name": "stdout",
     "output_type": "stream",
     "text": [
      "[SRU searchRetrieve] fetching 'http://zoekservice.overheid.nl/sru/Search?&version=1.2&x-connection=BWB&operation=searchRetrieve&startRecord=1&maximumRecords=500&query=dcterms.modified%20%3E%3D%202024-03-16'\n",
      "[SRU searchRetrieve] fetching 'http://zoekservice.overheid.nl/sru/Search?&version=1.2&x-connection=BWB&operation=searchRetrieve&startRecord=501&maximumRecords=500&query=dcterms.modified%20%3E%3D%202024-03-16'\n",
      "[SRU searchRetrieve] fetching 'http://zoekservice.overheid.nl/sru/Search?&version=1.2&x-connection=BWB&operation=searchRetrieve&startRecord=1001&maximumRecords=500&query=dcterms.modified%20%3E%3D%202024-03-16'\n",
      "[SRU searchRetrieve] fetching 'http://zoekservice.overheid.nl/sru/Search?&version=1.2&x-connection=BWB&operation=searchRetrieve&startRecord=1501&maximumRecords=500&query=dcterms.modified%20%3E%3D%202024-03-16'\n",
      "FETCHED new data for BWBR0012288 - {'identifier': 'BWBR0012288', 'title': 'Vreemdelingencirculaire 2000 (C)', 'type': 'circulaire', 'language': 'nl', 'authority': 'Veiligheid en Justitie', 'creator': 'Ministerie van Binnenlandse Zaken en Koninkrijksrelaties', 'modified': '2024-04-27', 'created': '2024-04-27', 'toestand': 'http://wetten.overheid.nl/id/BWBR0012288/2024-04-25/0', 'rechtsgebied': 'Vreemdelingenrecht', 'overheidsdomein': 'Immigratie, integratie en inburgering', 'geldigheidsperiode_startdatum': '2024-04-25', 'geldigheidsperiode_einddatum': '9999-12-31', 'zichtperiode_startdatum': '2024-04-25', 'zichtperiode_einddatum': '9999-12-31', 'locatie_toestand': 'https://repository.officiele-overheidspublicaties.nl/bwb/BWBR0012288/2024-04-25_0/xml/BWBR0012288_2024-04-25_0.xml', 'locatie_wti': 'https://repository.officiele-overheidspublicaties.nl/bwb/BWBR0012288/BWBR0012288.WTI', 'locatie_manifest': 'https://repository.officiele-overheidspublicaties.nl/bwb/BWBR0012288/manifest.xml'}\n",
      "FETCHED new data for BWBR0024758 - {'identifier': 'BWBR0024758', 'title': 'Regeling publieke gezondheid', 'type': 'ministeriele-regeling', 'language': 'nl', 'authority': 'Volksgezondheid, Welzijn en Sport', 'creator': 'Ministerie van Binnenlandse Zaken en Koninkrijksrelaties', 'modified': '2024-04-27', 'created': '2024-04-27', 'toestand': 'http://wetten.overheid.nl/id/BWBR0024758/2024-04-25/0', 'rechtsgebied': 'Gezondheidsrecht en farmaceutisch recht', 'overheidsdomein': 'Gezondheid en zorg', 'geldigheidsperiode_startdatum': '2024-04-25', 'geldigheidsperiode_einddatum': '9999-12-31', 'zichtperiode_startdatum': '2024-04-25', 'zichtperiode_einddatum': '9999-12-31', 'locatie_toestand': 'https://repository.officiele-overheidspublicaties.nl/bwb/BWBR0024758/2024-04-25_0/xml/BWBR0024758_2024-04-25_0.xml', 'locatie_wti': 'https://repository.officiele-overheidspublicaties.nl/bwb/BWBR0024758/BWBR0024758.WTI', 'locatie_manifest': 'https://repository.officiele-overheidspublicaties.nl/bwb/BWBR0024758/manifest.xml'}\n",
      "FETCHED new data for BWBR0038456 - {'identifier': 'BWBR0038456', 'title': 'Besluit energieprestatievergoeding huur', 'type': 'AMvB', 'language': 'nl', 'authority': 'Binnenlandse Zaken en Koninkrijksrelaties', 'creator': 'Ministerie van Binnenlandse Zaken en Koninkrijksrelaties', 'modified': '2024-04-27', 'created': '2024-04-27', 'toestand': 'http://wetten.overheid.nl/id/BWBR0038456/2024-04-26/0', 'rechtsgebied': 'Huurrecht', 'overheidsdomein': 'Bouwen, wonen en leefomgeving', 'geldigheidsperiode_startdatum': '2024-04-26', 'geldigheidsperiode_einddatum': '9999-12-31', 'zichtperiode_startdatum': '2024-04-26', 'zichtperiode_einddatum': '9999-12-31', 'locatie_toestand': 'https://repository.officiele-overheidspublicaties.nl/bwb/BWBR0038456/2024-04-26_0/xml/BWBR0038456_2024-04-26_0.xml', 'locatie_wti': 'https://repository.officiele-overheidspublicaties.nl/bwb/BWBR0038456/BWBR0038456.WTI', 'locatie_manifest': 'https://repository.officiele-overheidspublicaties.nl/bwb/BWBR0038456/manifest.xml'}\n",
      "FETCHED new data for BWBR0044267 - {'identifier': 'BWBR0044267', 'title': 'Aanwijzingsbesluit vervanging SG BZK', 'type': 'ministeriele-regeling', 'language': 'nl', 'authority': 'Binnenlandse Zaken en Koninkrijksrelaties', 'creator': 'Ministerie van Binnenlandse Zaken en Koninkrijksrelaties', 'modified': '2024-04-27', 'created': '2024-04-27', 'toestand': 'http://wetten.overheid.nl/id/BWBR0044267/2023-09-02/0', 'rechtsgebied': 'Staatsrecht', 'overheidsdomein': 'Overheid, bestuur en koninkrijk', 'geldigheidsperiode_startdatum': '2023-09-02', 'geldigheidsperiode_einddatum': '2024-04-24', 'zichtperiode_startdatum': '2020-10-30', 'zichtperiode_einddatum': '2024-04-24', 'locatie_toestand': 'https://repository.officiele-overheidspublicaties.nl/bwb/BWBR0044267/2023-09-02_0/xml/BWBR0044267_2023-09-02_0.xml', 'locatie_wti': 'https://repository.officiele-overheidspublicaties.nl/bwb/BWBR0044267/BWBR0044267.WTI', 'locatie_manifest': 'https://repository.officiele-overheidspublicaties.nl/bwb/BWBR0044267/manifest.xml'}\n",
      "[SRU searchRetrieve] fetching 'http://zoekservice.overheid.nl/sru/Search?&version=1.2&x-connection=BWB&operation=searchRetrieve&startRecord=2001&maximumRecords=500&query=dcterms.modified%20%3E%3D%202024-03-16'\n",
      "FETCHED new data for BWBR0046981 - {'identifier': 'BWBR0046981', 'title': 'Procedure en werkwijze van het Instituut Mijnbouwschade Groningen 2022', 'type': 'zbo', 'language': 'nl', 'authority': 'Instituut Mijnbouwschade Groningen', 'creator': 'Ministerie van Binnenlandse Zaken en Koninkrijksrelaties', 'modified': '2024-04-25', 'created': '2024-04-25', 'toestand': 'http://wetten.overheid.nl/id/BWBR0046981/2023-01-01/2', 'rechtsgebied': 'Wonen, onroerend goed, bouwrecht', 'overheidsdomein': 'Subsidies, uitkeringen en toeslagen', 'geldigheidsperiode_startdatum': '2023-01-01', 'geldigheidsperiode_einddatum': '2023-05-14', 'zichtperiode_startdatum': '2024-04-23', 'zichtperiode_einddatum': '9999-12-31', 'locatie_toestand': 'https://repository.officiele-overheidspublicaties.nl/bwb/BWBR0046981/2023-01-01_2/xml/BWBR0046981_2023-01-01_2.xml', 'locatie_wti': 'https://repository.officiele-overheidspublicaties.nl/bwb/BWBR0046981/BWBR0046981.WTI', 'locatie_manifest': 'https://repository.officiele-overheidspublicaties.nl/bwb/BWBR0046981/manifest.xml'}\n",
      "FETCHED new data for BWBR0046981 - {'identifier': 'BWBR0046981', 'title': 'Procedure en werkwijze van het Instituut Mijnbouwschade Groningen 2022', 'type': 'zbo', 'language': 'nl', 'authority': 'Instituut Mijnbouwschade Groningen', 'creator': 'Ministerie van Binnenlandse Zaken en Koninkrijksrelaties', 'modified': '2024-04-25', 'created': '2024-04-25', 'toestand': 'http://wetten.overheid.nl/id/BWBR0046981/2023-05-15/2', 'rechtsgebied': 'Wonen, onroerend goed, bouwrecht', 'overheidsdomein': 'Subsidies, uitkeringen en toeslagen', 'geldigheidsperiode_startdatum': '2023-05-15', 'geldigheidsperiode_einddatum': '2023-06-30', 'zichtperiode_startdatum': '2024-04-23', 'zichtperiode_einddatum': '9999-12-31', 'locatie_toestand': 'https://repository.officiele-overheidspublicaties.nl/bwb/BWBR0046981/2023-05-15_2/xml/BWBR0046981_2023-05-15_2.xml', 'locatie_wti': 'https://repository.officiele-overheidspublicaties.nl/bwb/BWBR0046981/BWBR0046981.WTI', 'locatie_manifest': 'https://repository.officiele-overheidspublicaties.nl/bwb/BWBR0046981/manifest.xml'}\n",
      "FETCHED new data for BWBR0046981 - {'identifier': 'BWBR0046981', 'title': 'Procedure en werkwijze van het Instituut Mijnbouwschade Groningen 2022', 'type': 'zbo', 'language': 'nl', 'authority': 'Instituut Mijnbouwschade Groningen', 'creator': 'Ministerie van Binnenlandse Zaken en Koninkrijksrelaties', 'modified': '2024-04-25', 'created': '2024-04-25', 'toestand': 'http://wetten.overheid.nl/id/BWBR0046981/2023-07-01/3', 'rechtsgebied': 'Wonen, onroerend goed, bouwrecht', 'overheidsdomein': 'Subsidies, uitkeringen en toeslagen', 'geldigheidsperiode_startdatum': '2023-07-01', 'geldigheidsperiode_einddatum': '2023-10-02', 'zichtperiode_startdatum': '2024-04-23', 'zichtperiode_einddatum': '9999-12-31', 'locatie_toestand': 'https://repository.officiele-overheidspublicaties.nl/bwb/BWBR0046981/2023-07-01_3/xml/BWBR0046981_2023-07-01_3.xml', 'locatie_wti': 'https://repository.officiele-overheidspublicaties.nl/bwb/BWBR0046981/BWBR0046981.WTI', 'locatie_manifest': 'https://repository.officiele-overheidspublicaties.nl/bwb/BWBR0046981/manifest.xml'}\n",
      "FETCHED new data for BWBR0046981 - {'identifier': 'BWBR0046981', 'title': 'Procedure en werkwijze van het Instituut Mijnbouwschade Groningen 2022', 'type': 'zbo', 'language': 'nl', 'authority': 'Instituut Mijnbouwschade Groningen', 'creator': 'Ministerie van Binnenlandse Zaken en Koninkrijksrelaties', 'modified': '2024-04-25', 'created': '2024-04-25', 'toestand': 'http://wetten.overheid.nl/id/BWBR0046981/2023-10-03/0', 'rechtsgebied': 'Wonen, onroerend goed, bouwrecht', 'overheidsdomein': 'Subsidies, uitkeringen en toeslagen', 'geldigheidsperiode_startdatum': '2023-10-03', 'geldigheidsperiode_einddatum': '2023-10-22', 'zichtperiode_startdatum': '2023-07-01', 'zichtperiode_einddatum': '2023-10-27', 'locatie_toestand': 'https://repository.officiele-overheidspublicaties.nl/bwb/BWBR0046981/2023-10-03_0/xml/BWBR0046981_2023-10-03_0.xml', 'locatie_wti': 'https://repository.officiele-overheidspublicaties.nl/bwb/BWBR0046981/BWBR0046981.WTI', 'locatie_manifest': 'https://repository.officiele-overheidspublicaties.nl/bwb/BWBR0046981/manifest.xml'}\n",
      "FETCHED new data for BWBR0046981 - {'identifier': 'BWBR0046981', 'title': 'Procedure en werkwijze van het Instituut Mijnbouwschade Groningen 2022', 'type': 'zbo', 'language': 'nl', 'authority': 'Instituut Mijnbouwschade Groningen', 'creator': 'Ministerie van Binnenlandse Zaken en Koninkrijksrelaties', 'modified': '2024-04-25', 'created': '2024-04-25', 'toestand': 'http://wetten.overheid.nl/id/BWBR0046981/2023-10-23/0', 'rechtsgebied': 'Wonen, onroerend goed, bouwrecht', 'overheidsdomein': 'Subsidies, uitkeringen en toeslagen', 'geldigheidsperiode_startdatum': '2023-10-23', 'geldigheidsperiode_einddatum': '2023-10-27', 'zichtperiode_startdatum': '2023-07-01', 'zichtperiode_einddatum': '2023-10-27', 'locatie_toestand': 'https://repository.officiele-overheidspublicaties.nl/bwb/BWBR0046981/2023-10-23_0/xml/BWBR0046981_2023-10-23_0.xml', 'locatie_wti': 'https://repository.officiele-overheidspublicaties.nl/bwb/BWBR0046981/BWBR0046981.WTI', 'locatie_manifest': 'https://repository.officiele-overheidspublicaties.nl/bwb/BWBR0046981/manifest.xml'}\n",
      "FETCHED new data for BWBR0046981 - {'identifier': 'BWBR0046981', 'title': 'Procedure en werkwijze van het Instituut Mijnbouwschade Groningen 2022', 'type': 'zbo', 'language': 'nl', 'authority': 'Instituut Mijnbouwschade Groningen', 'creator': 'Ministerie van Binnenlandse Zaken en Koninkrijksrelaties', 'modified': '2024-04-26', 'created': '2024-04-26', 'toestand': 'http://wetten.overheid.nl/id/BWBR0046981/2023-10-23/1', 'rechtsgebied': 'Wonen, onroerend goed, bouwrecht', 'overheidsdomein': 'Subsidies, uitkeringen en toeslagen', 'geldigheidsperiode_startdatum': '2023-10-23', 'geldigheidsperiode_einddatum': '2023-10-27', 'zichtperiode_startdatum': '2023-10-28', 'zichtperiode_einddatum': '2024-02-08', 'locatie_toestand': 'https://repository.officiele-overheidspublicaties.nl/bwb/BWBR0046981/2023-10-23_1/xml/BWBR0046981_2023-10-23_1.xml', 'locatie_wti': 'https://repository.officiele-overheidspublicaties.nl/bwb/BWBR0046981/BWBR0046981.WTI', 'locatie_manifest': 'https://repository.officiele-overheidspublicaties.nl/bwb/BWBR0046981/manifest.xml'}\n",
      "FETCHED new data for BWBR0046981 - {'identifier': 'BWBR0046981', 'title': 'Procedure en werkwijze van het Instituut Mijnbouwschade Groningen 2022', 'type': 'zbo', 'language': 'nl', 'authority': 'Instituut Mijnbouwschade Groningen', 'creator': 'Ministerie van Binnenlandse Zaken en Koninkrijksrelaties', 'modified': '2024-04-26', 'created': '2024-04-26', 'toestand': 'http://wetten.overheid.nl/id/BWBR0046981/2023-10-23/2', 'rechtsgebied': 'Wonen, onroerend goed, bouwrecht', 'overheidsdomein': 'Subsidies, uitkeringen en toeslagen', 'geldigheidsperiode_startdatum': '2023-10-23', 'geldigheidsperiode_einddatum': '2023-10-27', 'zichtperiode_startdatum': '2024-02-09', 'zichtperiode_einddatum': '2024-04-22', 'locatie_toestand': 'https://repository.officiele-overheidspublicaties.nl/bwb/BWBR0046981/2023-10-23_2/xml/BWBR0046981_2023-10-23_2.xml', 'locatie_wti': 'https://repository.officiele-overheidspublicaties.nl/bwb/BWBR0046981/BWBR0046981.WTI', 'locatie_manifest': 'https://repository.officiele-overheidspublicaties.nl/bwb/BWBR0046981/manifest.xml'}\n",
      "FETCHED new data for BWBR0046981 - {'identifier': 'BWBR0046981', 'title': 'Procedure en werkwijze van het Instituut Mijnbouwschade Groningen 2022', 'type': 'zbo', 'language': 'nl', 'authority': 'Instituut Mijnbouwschade Groningen', 'creator': 'Ministerie van Binnenlandse Zaken en Koninkrijksrelaties', 'modified': '2024-04-26', 'created': '2024-04-26', 'toestand': 'http://wetten.overheid.nl/id/BWBR0046981/2023-10-23/3', 'rechtsgebied': 'Wonen, onroerend goed, bouwrecht', 'overheidsdomein': 'Subsidies, uitkeringen en toeslagen', 'geldigheidsperiode_startdatum': '2023-10-23', 'geldigheidsperiode_einddatum': '2023-10-27', 'zichtperiode_startdatum': '2024-04-23', 'zichtperiode_einddatum': '9999-12-31', 'locatie_toestand': 'https://repository.officiele-overheidspublicaties.nl/bwb/BWBR0046981/2023-10-23_3/xml/BWBR0046981_2023-10-23_3.xml', 'locatie_wti': 'https://repository.officiele-overheidspublicaties.nl/bwb/BWBR0046981/BWBR0046981.WTI', 'locatie_manifest': 'https://repository.officiele-overheidspublicaties.nl/bwb/BWBR0046981/manifest.xml'}\n",
      "FETCHED new data for BWBR0046981 - {'identifier': 'BWBR0046981', 'title': 'Procedure en werkwijze van het Instituut Mijnbouwschade Groningen 2022', 'type': 'zbo', 'language': 'nl', 'authority': 'Instituut Mijnbouwschade Groningen', 'creator': 'Ministerie van Binnenlandse Zaken en Koninkrijksrelaties', 'modified': '2024-04-26', 'created': '2024-04-26', 'toestand': 'http://wetten.overheid.nl/id/BWBR0046981/2024-02-09/2', 'rechtsgebied': 'Wonen, onroerend goed, bouwrecht', 'overheidsdomein': 'Subsidies, uitkeringen en toeslagen', 'geldigheidsperiode_startdatum': '2024-02-09', 'geldigheidsperiode_einddatum': '2024-02-22', 'zichtperiode_startdatum': '2024-04-23', 'zichtperiode_einddatum': '9999-12-31', 'locatie_toestand': 'https://repository.officiele-overheidspublicaties.nl/bwb/BWBR0046981/2024-02-09_2/xml/BWBR0046981_2024-02-09_2.xml', 'locatie_wti': 'https://repository.officiele-overheidspublicaties.nl/bwb/BWBR0046981/BWBR0046981.WTI', 'locatie_manifest': 'https://repository.officiele-overheidspublicaties.nl/bwb/BWBR0046981/manifest.xml'}\n",
      "FETCHED new data for BWBR0046981 - {'identifier': 'BWBR0046981', 'title': 'Procedure en werkwijze van het Instituut Mijnbouwschade Groningen 2022', 'type': 'zbo', 'language': 'nl', 'authority': 'Instituut Mijnbouwschade Groningen', 'creator': 'Ministerie van Binnenlandse Zaken en Koninkrijksrelaties', 'modified': '2024-04-26', 'created': '2024-04-26', 'toestand': 'http://wetten.overheid.nl/id/BWBR0046981/2024-02-23/1', 'rechtsgebied': 'Wonen, onroerend goed, bouwrecht', 'overheidsdomein': 'Subsidies, uitkeringen en toeslagen', 'geldigheidsperiode_startdatum': '2024-02-23', 'geldigheidsperiode_einddatum': '2024-04-22', 'zichtperiode_startdatum': '2024-04-23', 'zichtperiode_einddatum': '9999-12-31', 'locatie_toestand': 'https://repository.officiele-overheidspublicaties.nl/bwb/BWBR0046981/2024-02-23_1/xml/BWBR0046981_2024-02-23_1.xml', 'locatie_wti': 'https://repository.officiele-overheidspublicaties.nl/bwb/BWBR0046981/BWBR0046981.WTI', 'locatie_manifest': 'https://repository.officiele-overheidspublicaties.nl/bwb/BWBR0046981/manifest.xml'}\n",
      "FETCHED new data for BWBR0046981 - {'identifier': 'BWBR0046981', 'title': 'Procedure en werkwijze van het Instituut Mijnbouwschade Groningen 2022', 'type': 'zbo', 'language': 'nl', 'authority': 'Instituut Mijnbouwschade Groningen', 'creator': 'Ministerie van Binnenlandse Zaken en Koninkrijksrelaties', 'modified': '2024-04-25', 'created': '2024-04-25', 'toestand': 'http://wetten.overheid.nl/id/BWBR0046981/2024-04-23/0', 'rechtsgebied': 'Wonen, onroerend goed, bouwrecht', 'overheidsdomein': 'Subsidies, uitkeringen en toeslagen', 'geldigheidsperiode_startdatum': '2024-04-23', 'geldigheidsperiode_einddatum': '9999-12-31', 'zichtperiode_startdatum': '2024-04-23', 'zichtperiode_einddatum': '9999-12-31', 'locatie_toestand': 'https://repository.officiele-overheidspublicaties.nl/bwb/BWBR0046981/2024-04-23_0/xml/BWBR0046981_2024-04-23_0.xml', 'locatie_wti': 'https://repository.officiele-overheidspublicaties.nl/bwb/BWBR0046981/BWBR0046981.WTI', 'locatie_manifest': 'https://repository.officiele-overheidspublicaties.nl/bwb/BWBR0046981/manifest.xml'}\n",
      "FETCHED new data for BWBR0048593 - {'identifier': 'BWBR0048593', 'title': 'Mandaatbesluit BZK 2023', 'type': 'ministeriele-regeling', 'language': 'nl', 'authority': 'Binnenlandse Zaken en Koninkrijksrelaties', 'creator': 'Ministerie van Binnenlandse Zaken en Koninkrijksrelaties', 'modified': '2024-04-27', 'created': '2024-04-27', 'toestand': 'http://wetten.overheid.nl/id/BWBR0048593/2022-03-24/1', 'rechtsgebied': 'Staatsrecht', 'overheidsdomein': 'Overheid, bestuur en koninkrijk', 'geldigheidsperiode_startdatum': '2022-03-24', 'geldigheidsperiode_einddatum': '2023-01-01', 'zichtperiode_startdatum': '2023-09-02', 'zichtperiode_einddatum': '2024-04-24', 'locatie_toestand': 'https://repository.officiele-overheidspublicaties.nl/bwb/BWBR0048593/2022-03-24_1/xml/BWBR0048593_2022-03-24_1.xml', 'locatie_wti': 'https://repository.officiele-overheidspublicaties.nl/bwb/BWBR0048593/BWBR0048593.WTI', 'locatie_manifest': 'https://repository.officiele-overheidspublicaties.nl/bwb/BWBR0048593/manifest.xml'}\n",
      "FETCHED new data for BWBR0048593 - {'identifier': 'BWBR0048593', 'title': 'Mandaatbesluit BZK 2023', 'type': 'ministeriele-regeling', 'language': 'nl', 'authority': 'Binnenlandse Zaken en Koninkrijksrelaties', 'creator': 'Ministerie van Binnenlandse Zaken en Koninkrijksrelaties', 'modified': '2024-04-27', 'created': '2024-04-27', 'toestand': 'http://wetten.overheid.nl/id/BWBR0048593/2022-03-24/2', 'rechtsgebied': 'Staatsrecht', 'overheidsdomein': 'Overheid, bestuur en koninkrijk', 'geldigheidsperiode_startdatum': '2022-03-24', 'geldigheidsperiode_einddatum': '2023-01-01', 'zichtperiode_startdatum': '2024-04-25', 'zichtperiode_einddatum': '9999-12-31', 'locatie_toestand': 'https://repository.officiele-overheidspublicaties.nl/bwb/BWBR0048593/2022-03-24_2/xml/BWBR0048593_2022-03-24_2.xml', 'locatie_wti': 'https://repository.officiele-overheidspublicaties.nl/bwb/BWBR0048593/BWBR0048593.WTI', 'locatie_manifest': 'https://repository.officiele-overheidspublicaties.nl/bwb/BWBR0048593/manifest.xml'}\n",
      "FETCHED new data for BWBR0048593 - {'identifier': 'BWBR0048593', 'title': 'Mandaatbesluit BZK 2023', 'type': 'ministeriele-regeling', 'language': 'nl', 'authority': 'Binnenlandse Zaken en Koninkrijksrelaties', 'creator': 'Ministerie van Binnenlandse Zaken en Koninkrijksrelaties', 'modified': '2024-04-27', 'created': '2024-04-27', 'toestand': 'http://wetten.overheid.nl/id/BWBR0048593/2023-01-02/1', 'rechtsgebied': 'Staatsrecht', 'overheidsdomein': 'Overheid, bestuur en koninkrijk', 'geldigheidsperiode_startdatum': '2023-01-02', 'geldigheidsperiode_einddatum': '2023-03-19', 'zichtperiode_startdatum': '2023-09-02', 'zichtperiode_einddatum': '2024-04-24', 'locatie_toestand': 'https://repository.officiele-overheidspublicaties.nl/bwb/BWBR0048593/2023-01-02_1/xml/BWBR0048593_2023-01-02_1.xml', 'locatie_wti': 'https://repository.officiele-overheidspublicaties.nl/bwb/BWBR0048593/BWBR0048593.WTI', 'locatie_manifest': 'https://repository.officiele-overheidspublicaties.nl/bwb/BWBR0048593/manifest.xml'}\n",
      "FETCHED new data for BWBR0048593 - {'identifier': 'BWBR0048593', 'title': 'Mandaatbesluit BZK 2023', 'type': 'ministeriele-regeling', 'language': 'nl', 'authority': 'Binnenlandse Zaken en Koninkrijksrelaties', 'creator': 'Ministerie van Binnenlandse Zaken en Koninkrijksrelaties', 'modified': '2024-04-27', 'created': '2024-04-27', 'toestand': 'http://wetten.overheid.nl/id/BWBR0048593/2023-01-02/2', 'rechtsgebied': 'Staatsrecht', 'overheidsdomein': 'Overheid, bestuur en koninkrijk', 'geldigheidsperiode_startdatum': '2023-01-02', 'geldigheidsperiode_einddatum': '2023-03-19', 'zichtperiode_startdatum': '2024-04-25', 'zichtperiode_einddatum': '9999-12-31', 'locatie_toestand': 'https://repository.officiele-overheidspublicaties.nl/bwb/BWBR0048593/2023-01-02_2/xml/BWBR0048593_2023-01-02_2.xml', 'locatie_wti': 'https://repository.officiele-overheidspublicaties.nl/bwb/BWBR0048593/BWBR0048593.WTI', 'locatie_manifest': 'https://repository.officiele-overheidspublicaties.nl/bwb/BWBR0048593/manifest.xml'}\n",
      "FETCHED new data for BWBR0048593 - {'identifier': 'BWBR0048593', 'title': 'Mandaatbesluit BZK 2023', 'type': 'ministeriele-regeling', 'language': 'nl', 'authority': 'Binnenlandse Zaken en Koninkrijksrelaties', 'creator': 'Ministerie van Binnenlandse Zaken en Koninkrijksrelaties', 'modified': '2024-04-27', 'created': '2024-04-27', 'toestand': 'http://wetten.overheid.nl/id/BWBR0048593/2023-03-20/2', 'rechtsgebied': 'Staatsrecht', 'overheidsdomein': 'Overheid, bestuur en koninkrijk', 'geldigheidsperiode_startdatum': '2023-03-20', 'geldigheidsperiode_einddatum': '2023-04-01', 'zichtperiode_startdatum': '2024-04-25', 'zichtperiode_einddatum': '9999-12-31', 'locatie_toestand': 'https://repository.officiele-overheidspublicaties.nl/bwb/BWBR0048593/2023-03-20_2/xml/BWBR0048593_2023-03-20_2.xml', 'locatie_wti': 'https://repository.officiele-overheidspublicaties.nl/bwb/BWBR0048593/BWBR0048593.WTI', 'locatie_manifest': 'https://repository.officiele-overheidspublicaties.nl/bwb/BWBR0048593/manifest.xml'}\n",
      "FETCHED new data for BWBR0048593 - {'identifier': 'BWBR0048593', 'title': 'Mandaatbesluit BZK 2023', 'type': 'ministeriele-regeling', 'language': 'nl', 'authority': 'Binnenlandse Zaken en Koninkrijksrelaties', 'creator': 'Ministerie van Binnenlandse Zaken en Koninkrijksrelaties', 'modified': '2024-04-27', 'created': '2024-04-27', 'toestand': 'http://wetten.overheid.nl/id/BWBR0048593/2023-04-02/1', 'rechtsgebied': 'Staatsrecht', 'overheidsdomein': 'Overheid, bestuur en koninkrijk', 'geldigheidsperiode_startdatum': '2023-04-02', 'geldigheidsperiode_einddatum': '2023-05-01', 'zichtperiode_startdatum': '2023-09-02', 'zichtperiode_einddatum': '2024-04-24', 'locatie_toestand': 'https://repository.officiele-overheidspublicaties.nl/bwb/BWBR0048593/2023-04-02_1/xml/BWBR0048593_2023-04-02_1.xml', 'locatie_wti': 'https://repository.officiele-overheidspublicaties.nl/bwb/BWBR0048593/BWBR0048593.WTI', 'locatie_manifest': 'https://repository.officiele-overheidspublicaties.nl/bwb/BWBR0048593/manifest.xml'}\n",
      "FETCHED new data for BWBR0048593 - {'identifier': 'BWBR0048593', 'title': 'Mandaatbesluit BZK 2023', 'type': 'ministeriele-regeling', 'language': 'nl', 'authority': 'Binnenlandse Zaken en Koninkrijksrelaties', 'creator': 'Ministerie van Binnenlandse Zaken en Koninkrijksrelaties', 'modified': '2024-04-27', 'created': '2024-04-27', 'toestand': 'http://wetten.overheid.nl/id/BWBR0048593/2023-04-02/2', 'rechtsgebied': 'Staatsrecht', 'overheidsdomein': 'Overheid, bestuur en koninkrijk', 'geldigheidsperiode_startdatum': '2023-04-02', 'geldigheidsperiode_einddatum': '2023-05-01', 'zichtperiode_startdatum': '2024-04-25', 'zichtperiode_einddatum': '9999-12-31', 'locatie_toestand': 'https://repository.officiele-overheidspublicaties.nl/bwb/BWBR0048593/2023-04-02_2/xml/BWBR0048593_2023-04-02_2.xml', 'locatie_wti': 'https://repository.officiele-overheidspublicaties.nl/bwb/BWBR0048593/BWBR0048593.WTI', 'locatie_manifest': 'https://repository.officiele-overheidspublicaties.nl/bwb/BWBR0048593/manifest.xml'}\n",
      "FETCHED new data for BWBR0048593 - {'identifier': 'BWBR0048593', 'title': 'Mandaatbesluit BZK 2023', 'type': 'ministeriele-regeling', 'language': 'nl', 'authority': 'Binnenlandse Zaken en Koninkrijksrelaties', 'creator': 'Ministerie van Binnenlandse Zaken en Koninkrijksrelaties', 'modified': '2024-04-27', 'created': '2024-04-27', 'toestand': 'http://wetten.overheid.nl/id/BWBR0048593/2023-05-02/1', 'rechtsgebied': 'Staatsrecht', 'overheidsdomein': 'Overheid, bestuur en koninkrijk', 'geldigheidsperiode_startdatum': '2023-05-02', 'geldigheidsperiode_einddatum': '2023-06-01', 'zichtperiode_startdatum': '2023-09-02', 'zichtperiode_einddatum': '2024-04-24', 'locatie_toestand': 'https://repository.officiele-overheidspublicaties.nl/bwb/BWBR0048593/2023-05-02_1/xml/BWBR0048593_2023-05-02_1.xml', 'locatie_wti': 'https://repository.officiele-overheidspublicaties.nl/bwb/BWBR0048593/BWBR0048593.WTI', 'locatie_manifest': 'https://repository.officiele-overheidspublicaties.nl/bwb/BWBR0048593/manifest.xml'}\n",
      "FETCHED new data for BWBR0048593 - {'identifier': 'BWBR0048593', 'title': 'Mandaatbesluit BZK 2023', 'type': 'ministeriele-regeling', 'language': 'nl', 'authority': 'Binnenlandse Zaken en Koninkrijksrelaties', 'creator': 'Ministerie van Binnenlandse Zaken en Koninkrijksrelaties', 'modified': '2024-04-27', 'created': '2024-04-27', 'toestand': 'http://wetten.overheid.nl/id/BWBR0048593/2023-05-02/2', 'rechtsgebied': 'Staatsrecht', 'overheidsdomein': 'Overheid, bestuur en koninkrijk', 'geldigheidsperiode_startdatum': '2023-05-02', 'geldigheidsperiode_einddatum': '2023-06-01', 'zichtperiode_startdatum': '2024-04-25', 'zichtperiode_einddatum': '9999-12-31', 'locatie_toestand': 'https://repository.officiele-overheidspublicaties.nl/bwb/BWBR0048593/2023-05-02_2/xml/BWBR0048593_2023-05-02_2.xml', 'locatie_wti': 'https://repository.officiele-overheidspublicaties.nl/bwb/BWBR0048593/BWBR0048593.WTI', 'locatie_manifest': 'https://repository.officiele-overheidspublicaties.nl/bwb/BWBR0048593/manifest.xml'}\n",
      "FETCHED new data for BWBR0048593 - {'identifier': 'BWBR0048593', 'title': 'Mandaatbesluit BZK 2023', 'type': 'ministeriele-regeling', 'language': 'nl', 'authority': 'Binnenlandse Zaken en Koninkrijksrelaties', 'creator': 'Ministerie van Binnenlandse Zaken en Koninkrijksrelaties', 'modified': '2024-04-27', 'created': '2024-04-27', 'toestand': 'http://wetten.overheid.nl/id/BWBR0048593/2023-06-02/1', 'rechtsgebied': 'Staatsrecht', 'overheidsdomein': 'Overheid, bestuur en koninkrijk', 'geldigheidsperiode_startdatum': '2023-06-02', 'geldigheidsperiode_einddatum': '2023-09-01', 'zichtperiode_startdatum': '2023-09-02', 'zichtperiode_einddatum': '2024-04-24', 'locatie_toestand': 'https://repository.officiele-overheidspublicaties.nl/bwb/BWBR0048593/2023-06-02_1/xml/BWBR0048593_2023-06-02_1.xml', 'locatie_wti': 'https://repository.officiele-overheidspublicaties.nl/bwb/BWBR0048593/BWBR0048593.WTI', 'locatie_manifest': 'https://repository.officiele-overheidspublicaties.nl/bwb/BWBR0048593/manifest.xml'}\n",
      "FETCHED new data for BWBR0048593 - {'identifier': 'BWBR0048593', 'title': 'Mandaatbesluit BZK 2023', 'type': 'ministeriele-regeling', 'language': 'nl', 'authority': 'Binnenlandse Zaken en Koninkrijksrelaties', 'creator': 'Ministerie van Binnenlandse Zaken en Koninkrijksrelaties', 'modified': '2024-04-27', 'created': '2024-04-27', 'toestand': 'http://wetten.overheid.nl/id/BWBR0048593/2023-06-02/2', 'rechtsgebied': 'Staatsrecht', 'overheidsdomein': 'Overheid, bestuur en koninkrijk', 'geldigheidsperiode_startdatum': '2023-06-02', 'geldigheidsperiode_einddatum': '2023-09-01', 'zichtperiode_startdatum': '2024-04-25', 'zichtperiode_einddatum': '9999-12-31', 'locatie_toestand': 'https://repository.officiele-overheidspublicaties.nl/bwb/BWBR0048593/2023-06-02_2/xml/BWBR0048593_2023-06-02_2.xml', 'locatie_wti': 'https://repository.officiele-overheidspublicaties.nl/bwb/BWBR0048593/BWBR0048593.WTI', 'locatie_manifest': 'https://repository.officiele-overheidspublicaties.nl/bwb/BWBR0048593/manifest.xml'}\n",
      "FETCHED new data for BWBR0048593 - {'identifier': 'BWBR0048593', 'title': 'Mandaatbesluit BZK 2023', 'type': 'ministeriele-regeling', 'language': 'nl', 'authority': 'Binnenlandse Zaken en Koninkrijksrelaties', 'creator': 'Ministerie van Binnenlandse Zaken en Koninkrijksrelaties', 'modified': '2024-04-27', 'created': '2024-04-27', 'toestand': 'http://wetten.overheid.nl/id/BWBR0048593/2023-09-02/1', 'rechtsgebied': 'Staatsrecht', 'overheidsdomein': 'Overheid, bestuur en koninkrijk', 'geldigheidsperiode_startdatum': '2023-09-02', 'geldigheidsperiode_einddatum': '2023-10-06', 'zichtperiode_startdatum': '2024-04-25', 'zichtperiode_einddatum': '9999-12-31', 'locatie_toestand': 'https://repository.officiele-overheidspublicaties.nl/bwb/BWBR0048593/2023-09-02_1/xml/BWBR0048593_2023-09-02_1.xml', 'locatie_wti': 'https://repository.officiele-overheidspublicaties.nl/bwb/BWBR0048593/BWBR0048593.WTI', 'locatie_manifest': 'https://repository.officiele-overheidspublicaties.nl/bwb/BWBR0048593/manifest.xml'}\n",
      "FETCHED new data for BWBR0048593 - {'identifier': 'BWBR0048593', 'title': 'Mandaatbesluit BZK 2023', 'type': 'ministeriele-regeling', 'language': 'nl', 'authority': 'Binnenlandse Zaken en Koninkrijksrelaties', 'creator': 'Ministerie van Binnenlandse Zaken en Koninkrijksrelaties', 'modified': '2024-04-27', 'created': '2024-04-27', 'toestand': 'http://wetten.overheid.nl/id/BWBR0048593/2023-10-07/0', 'rechtsgebied': 'Staatsrecht', 'overheidsdomein': 'Overheid, bestuur en koninkrijk', 'geldigheidsperiode_startdatum': '2023-10-07', 'geldigheidsperiode_einddatum': '2024-01-01', 'zichtperiode_startdatum': '2023-09-02', 'zichtperiode_einddatum': '2024-04-24', 'locatie_toestand': 'https://repository.officiele-overheidspublicaties.nl/bwb/BWBR0048593/2023-10-07_0/xml/BWBR0048593_2023-10-07_0.xml', 'locatie_wti': 'https://repository.officiele-overheidspublicaties.nl/bwb/BWBR0048593/BWBR0048593.WTI', 'locatie_manifest': 'https://repository.officiele-overheidspublicaties.nl/bwb/BWBR0048593/manifest.xml'}\n",
      "FETCHED new data for BWBR0048593 - {'identifier': 'BWBR0048593', 'title': 'Mandaatbesluit BZK 2023', 'type': 'ministeriele-regeling', 'language': 'nl', 'authority': 'Binnenlandse Zaken en Koninkrijksrelaties', 'creator': 'Ministerie van Binnenlandse Zaken en Koninkrijksrelaties', 'modified': '2024-04-27', 'created': '2024-04-27', 'toestand': 'http://wetten.overheid.nl/id/BWBR0048593/2023-10-07/1', 'rechtsgebied': 'Staatsrecht', 'overheidsdomein': 'Overheid, bestuur en koninkrijk', 'geldigheidsperiode_startdatum': '2023-10-07', 'geldigheidsperiode_einddatum': '2024-01-01', 'zichtperiode_startdatum': '2024-04-25', 'zichtperiode_einddatum': '9999-12-31', 'locatie_toestand': 'https://repository.officiele-overheidspublicaties.nl/bwb/BWBR0048593/2023-10-07_1/xml/BWBR0048593_2023-10-07_1.xml', 'locatie_wti': 'https://repository.officiele-overheidspublicaties.nl/bwb/BWBR0048593/BWBR0048593.WTI', 'locatie_manifest': 'https://repository.officiele-overheidspublicaties.nl/bwb/BWBR0048593/manifest.xml'}\n",
      "FETCHED new data for BWBR0048593 - {'identifier': 'BWBR0048593', 'title': 'Mandaatbesluit BZK 2023', 'type': 'ministeriele-regeling', 'language': 'nl', 'authority': 'Binnenlandse Zaken en Koninkrijksrelaties', 'creator': 'Ministerie van Binnenlandse Zaken en Koninkrijksrelaties', 'modified': '2024-04-27', 'created': '2024-04-27', 'toestand': 'http://wetten.overheid.nl/id/BWBR0048593/2024-01-02/0', 'rechtsgebied': 'Staatsrecht', 'overheidsdomein': 'Overheid, bestuur en koninkrijk', 'geldigheidsperiode_startdatum': '2024-01-02', 'geldigheidsperiode_einddatum': '2024-04-24', 'zichtperiode_startdatum': '2023-09-02', 'zichtperiode_einddatum': '2024-04-24', 'locatie_toestand': 'https://repository.officiele-overheidspublicaties.nl/bwb/BWBR0048593/2024-01-02_0/xml/BWBR0048593_2024-01-02_0.xml', 'locatie_wti': 'https://repository.officiele-overheidspublicaties.nl/bwb/BWBR0048593/BWBR0048593.WTI', 'locatie_manifest': 'https://repository.officiele-overheidspublicaties.nl/bwb/BWBR0048593/manifest.xml'}\n",
      "FETCHED new data for BWBR0048593 - {'identifier': 'BWBR0048593', 'title': 'Mandaatbesluit BZK 2023', 'type': 'ministeriele-regeling', 'language': 'nl', 'authority': 'Binnenlandse Zaken en Koninkrijksrelaties', 'creator': 'Ministerie van Binnenlandse Zaken en Koninkrijksrelaties', 'modified': '2024-04-27', 'created': '2024-04-27', 'toestand': 'http://wetten.overheid.nl/id/BWBR0048593/2024-01-02/1', 'rechtsgebied': 'Staatsrecht', 'overheidsdomein': 'Overheid, bestuur en koninkrijk', 'geldigheidsperiode_startdatum': '2024-01-02', 'geldigheidsperiode_einddatum': '2024-04-24', 'zichtperiode_startdatum': '2024-04-25', 'zichtperiode_einddatum': '9999-12-31', 'locatie_toestand': 'https://repository.officiele-overheidspublicaties.nl/bwb/BWBR0048593/2024-01-02_1/xml/BWBR0048593_2024-01-02_1.xml', 'locatie_wti': 'https://repository.officiele-overheidspublicaties.nl/bwb/BWBR0048593/BWBR0048593.WTI', 'locatie_manifest': 'https://repository.officiele-overheidspublicaties.nl/bwb/BWBR0048593/manifest.xml'}\n",
      "FETCHED new data for BWBR0048593 - {'identifier': 'BWBR0048593', 'title': 'Mandaatbesluit BZK 2023', 'type': 'ministeriele-regeling', 'language': 'nl', 'authority': 'Binnenlandse Zaken en Koninkrijksrelaties', 'creator': 'Ministerie van Binnenlandse Zaken en Koninkrijksrelaties', 'modified': '2024-04-27', 'created': '2024-04-27', 'toestand': 'http://wetten.overheid.nl/id/BWBR0048593/2024-04-25/0', 'rechtsgebied': 'Staatsrecht', 'overheidsdomein': 'Overheid, bestuur en koninkrijk', 'geldigheidsperiode_startdatum': '2024-04-25', 'geldigheidsperiode_einddatum': '9999-12-31', 'zichtperiode_startdatum': '2024-04-25', 'zichtperiode_einddatum': '9999-12-31', 'locatie_toestand': 'https://repository.officiele-overheidspublicaties.nl/bwb/BWBR0048593/2024-04-25_0/xml/BWBR0048593_2024-04-25_0.xml', 'locatie_wti': 'https://repository.officiele-overheidspublicaties.nl/bwb/BWBR0048593/BWBR0048593.WTI', 'locatie_manifest': 'https://repository.officiele-overheidspublicaties.nl/bwb/BWBR0048593/manifest.xml'}\n",
      "FETCHED new data for BWBR0049605 - {'identifier': 'BWBR0049605', 'title': 'Circulaire uitreisverbod personen ex Tijdelijke wet bestuurlijke maatregelen terrorismebestrijding', 'type': 'circulaire', 'language': 'nl', 'authority': 'Binnenlandse Zaken en Koninkrijksrelaties', 'creator': 'Ministerie van Binnenlandse Zaken en Koninkrijksrelaties', 'modified': '2024-04-27', 'created': '2024-04-27', 'toestand': 'http://wetten.overheid.nl/id/BWBR0049605/2024-03-01/1', 'rechtsgebied': 'Openbare orde en veiligheidsrecht', 'overheidsdomein': 'Openbare orde en veiligheid', 'geldigheidsperiode_startdatum': '2024-03-01', 'geldigheidsperiode_einddatum': '2024-04-23', 'zichtperiode_startdatum': '2024-04-24', 'zichtperiode_einddatum': '9999-12-31', 'locatie_toestand': 'https://repository.officiele-overheidspublicaties.nl/bwb/BWBR0049605/2024-03-01_1/xml/BWBR0049605_2024-03-01_1.xml', 'locatie_wti': 'https://repository.officiele-overheidspublicaties.nl/bwb/BWBR0049605/BWBR0049605.WTI', 'locatie_manifest': 'https://repository.officiele-overheidspublicaties.nl/bwb/BWBR0049605/manifest.xml'}\n",
      "FETCHED new data for BWBR0049605 - {'identifier': 'BWBR0049605', 'title': 'Circulaire uitreisverbod personen ex Tijdelijke wet bestuurlijke maatregelen terrorismebestrijding', 'type': 'circulaire', 'language': 'nl', 'authority': 'Binnenlandse Zaken en Koninkrijksrelaties', 'creator': 'Ministerie van Binnenlandse Zaken en Koninkrijksrelaties', 'modified': '2024-04-27', 'created': '2024-04-27', 'toestand': 'http://wetten.overheid.nl/id/BWBR0049605/2024-04-24/0', 'rechtsgebied': 'Openbare orde en veiligheidsrecht', 'overheidsdomein': 'Openbare orde en veiligheid', 'geldigheidsperiode_startdatum': '2024-04-24', 'geldigheidsperiode_einddatum': '9999-12-31', 'zichtperiode_startdatum': '2024-04-24', 'zichtperiode_einddatum': '9999-12-31', 'locatie_toestand': 'https://repository.officiele-overheidspublicaties.nl/bwb/BWBR0049605/2024-04-24_0/xml/BWBR0049605_2024-04-24_0.xml', 'locatie_wti': 'https://repository.officiele-overheidspublicaties.nl/bwb/BWBR0049605/BWBR0049605.WTI', 'locatie_manifest': 'https://repository.officiele-overheidspublicaties.nl/bwb/BWBR0049605/manifest.xml'}\n",
      "FETCHED new data for BWBR0049613 - {'identifier': 'BWBR0049613', 'title': 'Subsidieregeling Ontwikkelkracht 2024/2025', 'type': 'ministeriele-regeling', 'language': 'nl', 'authority': 'Onderwijs, Cultuur en Wetenschap', 'creator': 'Ministerie van Binnenlandse Zaken en Koninkrijksrelaties', 'modified': '2024-04-27', 'created': '2024-04-27', 'toestand': 'http://wetten.overheid.nl/id/BWBR0049613/2024-04-25/0', 'rechtsgebied': 'Onderwijsrecht', 'overheidsdomein': 'Onderwijs en wetenschap', 'geldigheidsperiode_startdatum': '2024-04-25', 'geldigheidsperiode_einddatum': '9999-12-31', 'zichtperiode_startdatum': '2024-04-25', 'zichtperiode_einddatum': '9999-12-31', 'locatie_toestand': 'https://repository.officiele-overheidspublicaties.nl/bwb/BWBR0049613/2024-04-25_0/xml/BWBR0049613_2024-04-25_0.xml', 'locatie_wti': 'https://repository.officiele-overheidspublicaties.nl/bwb/BWBR0049613/BWBR0049613.WTI', 'locatie_manifest': 'https://repository.officiele-overheidspublicaties.nl/bwb/BWBR0049613/manifest.xml'}\n"
     ]
    }
   ],
   "source": [
    "# This is intended as a \"update with recent changes\"  (we previously did a lot more fetching)\n",
    "sru_bwb = wetsuite.datacollect.koop_repositories.BWB( verbose=True )\n",
    "_ = sru_bwb.search_retrieve_many('dcterms.modified >= %s'%( wetsuite.helpers.date.date_weeks_ago(6).strftime('%Y-%m-%d') ),\n",
    "                                 up_to=20000, at_a_time=500, callback=bwb_search_callback)"
   ]
  },
  {
   "cell_type": "markdown",
   "metadata": {},
   "source": [
    "## Take that downloaded store, extract useful things into datasets\n",
    "\n",
    "CONSIDER: smaller subset to start with, e.g. just 2023"
   ]
  },
  {
   "cell_type": "code",
   "execution_count": 4,
   "metadata": {},
   "outputs": [
    {
     "name": "stdout",
     "output_type": "stream",
     "text": [
      "Grouping relevant URLs\n"
     ]
    },
    {
     "data": {
      "application/json": {
       "ascii": false,
       "bar_format": null,
       "colour": null,
       "elapsed": 0.012752532958984375,
       "initial": 0,
       "n": 0,
       "ncols": null,
       "nrows": null,
       "postfix": null,
       "prefix": "",
       "rate": null,
       "total": 208791,
       "unit": "it",
       "unit_divisor": 1000,
       "unit_scale": false
      },
      "application/vnd.jupyter.widget-view+json": {
       "model_id": "a17503aeba0944469f929442dd4e95f3",
       "version_major": 2,
       "version_minor": 0
      },
      "text/plain": [
       "  0%|          | 0/208791 [00:00<?, ?it/s]"
      ]
     },
     "metadata": {},
     "output_type": "display_data"
    },
    {
     "name": "stdout",
     "output_type": "stream",
     "text": [
      "We have 38024 Unique BWB-id groups\n",
      "Finding latest versions of each\n"
     ]
    },
    {
     "data": {
      "application/json": {
       "ascii": false,
       "bar_format": null,
       "colour": null,
       "elapsed": 0.009902238845825195,
       "initial": 0,
       "n": 0,
       "ncols": null,
       "nrows": null,
       "postfix": null,
       "prefix": "",
       "rate": null,
       "total": 38024,
       "unit": "it",
       "unit_divisor": 1000,
       "unit_scale": false
      },
      "application/vnd.jupyter.widget-view+json": {
       "model_id": "caf802c26cb44f3890ebc158777f6cc4",
       "version_major": 2,
       "version_minor": 0
      },
      "text/plain": [
       "  0%|          | 0/38024 [00:00<?, ?it/s]"
      ]
     },
     "metadata": {},
     "output_type": "display_data"
    }
   ],
   "source": [
    "# go through all fetched URLS and group  \n",
    "# - manifest\n",
    "# - wti\n",
    "# - all toestanden\n",
    "# ...per BWB-id.\n",
    "# We assume URL structure is consistent, which they seem to be.\n",
    "\n",
    "bwbr_groups = collections.defaultdict(dict)  #  bwbr -> { toestanden:   latest_toestand:    wti:    manifest:  }\n",
    "\n",
    "print(\"Grouping relevant URLs\")\n",
    "\n",
    "for url in wetsuite.helpers.notebook.ProgressBar( bwb_fetched.keys() ):\n",
    "\n",
    "    # both filters for basic URLs we care about at all (in case other things got dropped in),\n",
    "    # and filters for URLs with BWBR  - which implies skipping BWBV (verdragen/treaties), BWBW (?)\n",
    "    # (the matching here and below is a little hacky, though, clean up?)\n",
    "    bwbr = re.search('/bwb/(BWBR[0-9]{7})', url)\n",
    "    if bwbr is not None:\n",
    "        bwbr = bwbr.groups()[0] # the BWBR-and-number text\n",
    "\n",
    "        if url.endswith('manifest.xml'): # e.g. https://repository.officiele-overheidspublicaties.nl/bwb/BWBR0019805/manifest.xml\n",
    "            bwbr_groups[bwbr]['manifest_url'] = url\n",
    "            continue\n",
    "\n",
    "        if url.endswith('.WTI'):         # e.g.  https://repository.officiele-overheidspublicaties.nl/bwb/BWBR0016700/BWBR0016700.WTI\n",
    "            bwbr_groups[bwbr]['wti_url'] = url\n",
    "            continue\n",
    "\n",
    "        toestand_match =  re.search('/bwb/(BWBR[0-9]{7})(/[0-9].*[.]xml)', url) \n",
    "        if toestand_match is not None: # e.g. #https://repository.officiele-overheidspublicaties.nl/bwb/BWBR0001840/2002-03-21_0/xml/BWBR0001840_2002-03-21_0.xml\n",
    "            _, sortname = toestand_match.groups() # assume that date is lexically sortable\n",
    "            # those will be something like 'BWBR0001821'  and  '/1998-01-01_0/xml/BWBR0001821_1998-01-01_0.xml'\n",
    "            if 'toestanden' not in bwbr_groups[bwbr]:\n",
    "                bwbr_groups[bwbr]['toestanden'] = []\n",
    "            bwbr_groups[bwbr]['toestanden'].append( (sortname,url) )\n",
    "            continue\n",
    "        \n",
    "        print( \"SKIP / LOOKAT   %s\"%url )\n",
    "\n",
    "\n",
    "print( 'We have %d Unique BWB-id groups'%len(bwbr_groups) )\n",
    "\n",
    "\n",
    "print( \"Finding latest versions of each\" )\n",
    "for bwbr, details in wetsuite.helpers.notebook.ProgressBar( list( bwbr_groups.items() ) ): # within each BWB-id\n",
    "    for key, url in sorted( details['toestanden'], reverse=True ): # latest first, then use only the first\n",
    "        bwbr_groups[bwbr]['latest_toestand_url'] = url\n",
    "        break"
   ]
  },
  {
   "cell_type": "code",
   "execution_count": 5,
   "metadata": {},
   "outputs": [
    {
     "name": "stdout",
     "output_type": "stream",
     "text": [
      "Writing latest-toestand-XML dataset\n"
     ]
    },
    {
     "data": {
      "application/json": {
       "ascii": false,
       "bar_format": null,
       "colour": null,
       "elapsed": 0.010739803314208984,
       "initial": 0,
       "n": 0,
       "ncols": null,
       "nrows": null,
       "postfix": null,
       "prefix": "",
       "rate": null,
       "total": 38024,
       "unit": "it",
       "unit_divisor": 1000,
       "unit_scale": false
      },
      "application/vnd.jupyter.widget-view+json": {
       "model_id": "fd385785a2364d019f6830b85b133667",
       "version_major": 2,
       "version_minor": 0
      },
      "text/plain": [
       "  0%|          | 0/38024 [00:00<?, ?it/s]"
      ]
     },
     "metadata": {},
     "output_type": "display_data"
    },
    {
     "name": "stdout",
     "output_type": "stream",
     "text": [
      "Parsing further metadata, writing meta and text datasets\n"
     ]
    },
    {
     "data": {
      "application/json": {
       "ascii": false,
       "bar_format": null,
       "colour": null,
       "elapsed": 0.01075887680053711,
       "initial": 0,
       "n": 0,
       "ncols": null,
       "nrows": null,
       "postfix": null,
       "prefix": "",
       "rate": null,
       "total": 38024,
       "unit": "it",
       "unit_divisor": 1000,
       "unit_scale": false
      },
      "application/vnd.jupyter.widget-view+json": {
       "model_id": "6a62fa8a5e0d49d3820ef283359f41a8",
       "version_major": 2,
       "version_minor": 0
      },
      "text/plain": [
       "  0%|          | 0/38024 [00:00<?, ?it/s]"
      ]
     },
     "metadata": {},
     "output_type": "display_data"
    }
   ],
   "source": [
    "# Now do some extraction and also make that datasets\n",
    "# ...keep mind mind that all the extraction could use some refinement.\n",
    "\n",
    "bwb_latestonly_xml = wetsuite.helpers.localdata.LocalKV( 'bwb-mostrecent-xml.db', str, bytes ) # bwbr -> xmlbytes\n",
    "bwb_latestonly_xml._put_meta('description_short',\n",
    "                             'Raw XML for the latest revision from each BWB-id')\n",
    "bwb_latestonly_xml._put_meta('description','''\n",
    "Maps from the BWB-id to the XML file as a bytestring, e.g. \n",
    "\n",
    "'BWBR0019090' -> b'<?xml version=\"1.0\" encoding=\"UTF-8\"?><toestand xmlns...'\n",
    "\n",
    "'''+wetsuite.datasets.generated_today_text())\n",
    "\n",
    "bwb_latestonly_text = wetsuite.helpers.localdata.LocalKV( 'bwb-mostrecent-text.db', str, str )\n",
    "bwb_latestonly_text._put_meta('description_short',\n",
    "                             'Plain text for the latest revision from each BWB-id')\n",
    "bwb_latestonly_text._put_meta('description','''\n",
    "Maps from the BWB-id to plain text without any of the structure.\n",
    "                               \n",
    "'BWBR0025942': 'De bij dit besluit gevoegde ‘ selectielijst voor de neerslag...'\n",
    "                              \n",
    "'''+wetsuite.datasets.generated_today_text())\n",
    "\n",
    "bwb_latestonly_meta = wetsuite.helpers.localdata.MsgpackKV( 'bwb-mostrecent-meta-struc.db', str, None )\n",
    "bwb_latestonly_meta._put_meta('description_short',\n",
    "                             'Metadata structure text for the latest revision from each BWB-id')\n",
    "bwb_latestonly_meta._put_meta('description','''\n",
    "Maps from the BWB-id to metadata,\n",
    "where that metadata comes from the toestand itself, from the manifest file, and from the Wetstechnische informatie (WTI) file. \n",
    "\n",
    "For example:                              \n",
    "                              \n",
    "'BWBR0017744':{\n",
    "  'bwb-id': 'BWBR0017744',\n",
    "  'intitule': 'Regeling inzake de bijdragen van de gebruikers in de kosten van de landelijk raadpleegbare deelverzameling GBA (Bijdragenregeling LRD)',\n",
    "  'citeertitel': 'Bijdragenregeling LRD ',\n",
    "  'soort': 'ministeriele-regeling',\n",
    "  'inwerkingtredingsdatum': '2005-01-01',\n",
    "  'latest_toestand_url': 'https://repository.officiele-overheidspublicaties.nl/bwb/BWBR0017744/2005-01-01_0/xml/BWBR0017744_2005-01-01_0.xml',\n",
    "  'wti_url': 'https://repository.officiele-overheidspublicaties.nl/bwb/BWBR0017744/BWBR0017744.WTI',\n",
    "  'wti': {'algemene_informatie': {'citeertitels_withdate': [['2005-01-01',\n",
    "      '9999-12-31',\n",
    "      'Bijdragenregeling LRD ']],\n",
    "    'citeertitels_distinct': ['Bijdragenregeling LRD '],\n",
    "    'eerstverantwoordelijke': 'Binnenlandse Zaken en Koninkrijksrelaties',\n",
    "    'identificatienummer': 'BWBR0017744',\n",
    "    'rechtsgebieden': [['Openbare orde en veiligheidsrecht', None]],\n",
    "    'overheidsdomeinen': ['Openbare orde en veiligheid']},\n",
    "   'related': [['grondslagen',\n",
    "     'BWBR0006933',\n",
    "     'jci1.3:c:BWBR0006933&artikel=6',\n",
    "     'Artikel 6, achtste lid'],\n",
    "  ...\n",
    "\n",
    "'''+wetsuite.datasets.generated_today_text())\n",
    "\n",
    "\n",
    "print(\"Writing latest-toestand-XML dataset\")\n",
    "\n",
    "for bwbr, details in wetsuite.helpers.notebook.ProgressBar( bwbr_groups.items() ): # within each BWB-id\n",
    "    bwb_latestonly_xml.put(bwbr, bwb_fetched.get( details['latest_toestand_url'] ), commit=False) # postponed commit makes this much faster\n",
    "bwb_latestonly_xml.commit()\n",
    "\n",
    "\n",
    "print(\"Parsing further metadata, writing meta and text datasets\")\n",
    "\n",
    "#for bwbr, details in wetsuite.helpers.notebook.ProgressBar( random.sample( list(bwbr_groups.items()), 100) ): # debug: test on a few\n",
    "for bwbr, details in wetsuite.helpers.notebook.ProgressBar( bwbr_groups.items() ): # within each BWB-id\n",
    "\n",
    "    toestand_tree = wetsuite.helpers.etree.fromstring( bwb_fetched.get( details['latest_toestand_url'] ) )\n",
    "    text          = wetsuite.helpers.koop_parse.bwb_toestand_text(toestand_tree)\n",
    "\n",
    "    meta_dict     = wetsuite.helpers.koop_parse.bwb_toestand_usefuls(toestand_tree)\n",
    "\n",
    "    meta_dict['latest_toestand_url'] = details['latest_toestand_url']\n",
    "\n",
    "    wti_url       = details['wti_url']\n",
    "    if wti_url is not None:\n",
    "        meta_dict['wti_url']       = wti_url\n",
    "        wti_tree                   = wetsuite.helpers.etree.fromstring( bwb_fetched.get( wti_url ) )\n",
    "        meta_dict['wti']           = wetsuite.helpers.koop_parse.bwb_wti_usefuls(wti_tree)\n",
    "\n",
    "    manifest_url  = details['manifest_url']\n",
    "    if manifest_url is not None:\n",
    "        meta_dict['manifest_url']  = manifest_url\n",
    "        manifest_tree              = wetsuite.helpers.etree.fromstring( bwb_fetched.get( manifest_url ) )\n",
    "        meta_dict['manifest']      = wetsuite.helpers.koop_parse.bwb_manifest_usefuls(manifest_tree)\n",
    "\n",
    "        # redundant, but sometimes nice to have more accessible\n",
    "        version_dates = list()\n",
    "        for expression in manifest_tree.findall('expression'):\n",
    "            version_dates.append( expression.find('metadata/datum_inwerkingtreding').text )\n",
    "            meta_dict['version_dates'] = version_dates\n",
    "\n",
    "    bwb_latestonly_text.put( bwbr, text      )\n",
    "    bwb_latestonly_meta.put( bwbr, meta_dict )"
   ]
  }
 ],
 "metadata": {
  "kernelspec": {
   "display_name": "Python 3 (ipykernel)",
   "language": "python",
   "name": "python3"
  },
  "language_info": {
   "codemirror_mode": {
    "name": "ipython",
    "version": 3
   },
   "file_extension": ".py",
   "mimetype": "text/x-python",
   "name": "python",
   "nbconvert_exporter": "python",
   "pygments_lexer": "ipython3",
   "version": "3.8.10"
  },
  "vscode": {
   "interpreter": {
    "hash": "31f2aee4e71d21fbe5cf8b01ff0e069b9275f58929596ceb00d14d90e3e16cd6"
   }
  }
 },
 "nbformat": 4,
 "nbformat_minor": 4
}
